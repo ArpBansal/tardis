{
 "cells": [
  {
   "attachments": {},
   "cell_type": "markdown",
   "metadata": {
    "raw_mimetype": "text/restructuredtext"
   },
   "source": [
    "# Storing Simulations to HDF\n",
    "\n",
    "You can ask TARDIS to store the state of each iteration of the simulation you are running. We show examples of how this is done:"
   ]
  },
  {
   "attachments": {},
   "cell_type": "markdown",
   "metadata": {},
   "source": [
    "Initialize the simulation with the `tardis_example.yml` configuration file."
   ]
  },
  {
   "cell_type": "code",
   "execution_count": 1,
   "metadata": {
    "execution": {
     "iopub.execute_input": "2023-11-29T22:03:10.828025Z",
     "iopub.status.busy": "2023-11-29T22:03:10.827644Z",
     "iopub.status.idle": "2023-11-29T22:04:25.138208Z",
     "shell.execute_reply": "2023-11-29T22:04:25.137680Z"
    }
   },
   "outputs": [
    {
     "name": "stderr",
     "output_type": "stream",
     "text": [
      "/usr/share/miniconda3/envs/tardis/lib/python3.11/site-packages/setuptools_scm/git.py:162: UserWarning: \"/home/runner/work/tardis/tardis\" is shallow and may cause errors\n",
      "  warnings.warn(f'\"{wd.path}\" is shallow and may cause errors')\n"
     ]
    },
    {
     "data": {
      "application/vnd.jupyter.widget-view+json": {
       "model_id": "14b951dff0d54b1dae379e9b39fb460f",
       "version_major": 2,
       "version_minor": 0
      },
      "text/plain": [
       "Iterations:          0/? [00:00<?, ?it/s]"
      ]
     },
     "metadata": {},
     "output_type": "display_data"
    },
    {
     "data": {
      "application/vnd.jupyter.widget-view+json": {
       "model_id": "3bca1466fb3644eaaf9a40ee3d8a6781",
       "version_major": 2,
       "version_minor": 0
      },
      "text/plain": [
       "Packets:             0/? [00:00<?, ?it/s]"
      ]
     },
     "metadata": {},
     "output_type": "display_data"
    },
    {
     "name": "stderr",
     "output_type": "stream",
     "text": [
      "Atomic Data kurucz_cd23_chianti_H_He already exists in /home/runner/Downloads/tardis-data/kurucz_cd23_chianti_H_He.h5. Will not download - override with force_download=True.\n"
     ]
    },
    {
     "name": "stdout",
     "output_type": "stream",
     "text": [
      "[\u001b[1mtardis.model.parse_input\u001b[0m][\u001b[1;33mWARNING\u001b[0m]  \n",
      "\tNumber of density points larger than number of shells. Assuming inner point irrelevant (\u001b[1mparse_input.py\u001b[0m:59)\n"
     ]
    },
    {
     "name": "stdout",
     "output_type": "stream",
     "text": [
      "[\u001b[1mtardis.plasma.standard_plasmas\u001b[0m][\u001b[1;37mINFO\u001b[0m   ]  \n",
      "\t\n",
      "\tReading Atomic Data from kurucz_cd23_chianti_H_He.h5 (\u001b[1mstandard_plasmas.py\u001b[0m:100)\n"
     ]
    },
    {
     "name": "stdout",
     "output_type": "stream",
     "text": [
      "[\u001b[1mtardis.io.atom_data.util\u001b[0m][\u001b[1;37mINFO\u001b[0m   ]  \n",
      "\t\n",
      "\tAtom Data kurucz_cd23_chianti_H_He.h5 not found in local path.\n",
      "\tExists in TARDIS Data repo /home/runner/Downloads/tardis-data/kurucz_cd23_chianti_H_He.h5 (\u001b[1mutil.py\u001b[0m:33)\n"
     ]
    },
    {
     "name": "stdout",
     "output_type": "stream",
     "text": [
      "[\u001b[1mtardis.io.atom_data.base\u001b[0m][\u001b[1;37mINFO\u001b[0m   ]  \n",
      "\tReading Atom Data with: UUID = 6f7b09e887a311e7a06b246e96350010 MD5  = 864f1753714343c41f99cb065710cace  (\u001b[1mbase.py\u001b[0m:258)\n"
     ]
    },
    {
     "name": "stdout",
     "output_type": "stream",
     "text": [
      "[\u001b[1mtardis.io.atom_data.base\u001b[0m][\u001b[1;37mINFO\u001b[0m   ]  \n",
      "\tNon provided Atomic Data: synpp_refs, photoionization_data, yg_data, two_photon_data, linelist (\u001b[1mbase.py\u001b[0m:262)\n"
     ]
    },
    {
     "name": "stdout",
     "output_type": "stream",
     "text": [
      "[\u001b[1mpy.warnings         \u001b[0m][\u001b[1;33mWARNING\u001b[0m]  \n",
      "\t/home/runner/work/tardis/tardis/tardis/plasma/properties/radiative_properties.py:93: RuntimeWarning: invalid value encountered in divide\n",
      "  (g_lower * n_upper) / (g_upper * n_lower)\n",
      " (\u001b[1mwarnings.py\u001b[0m:109)\n"
     ]
    },
    {
     "name": "stdout",
     "output_type": "stream",
     "text": [
      "[\u001b[1mpy.warnings         \u001b[0m][\u001b[1;33mWARNING\u001b[0m]  \n",
      "\t/home/runner/work/tardis/tardis/tardis/plasma/properties/radiative_properties.py:93: RuntimeWarning: invalid value encountered in divide\n",
      "  (g_lower * n_upper) / (g_upper * n_lower)\n",
      " (\u001b[1mwarnings.py\u001b[0m:109)\n"
     ]
    },
    {
     "name": "stdout",
     "output_type": "stream",
     "text": [
      "[\u001b[1mtardis.simulation.base\u001b[0m][\u001b[1;37mINFO\u001b[0m   ]  \n",
      "\t\n",
      "\tStarting iteration 1 of 20 (\u001b[1mbase.py\u001b[0m:382)\n"
     ]
    },
    {
     "data": {
      "application/vnd.jupyter.widget-view+json": {
       "model_id": "b17aac4658c84d3382e151be72b34985",
       "version_major": 2,
       "version_minor": 0
      },
      "text/plain": [
       "TqdmHBox(children=(HTML(value='Iterations:', layout=Layout(width='6%')), FloatProgress(value=0.0, layout=Layou…"
      ]
     },
     "metadata": {},
     "output_type": "display_data"
    },
    {
     "data": {
      "application/vnd.jupyter.widget-view+json": {
       "model_id": "e46e4fa8421f454e8f7c5e36caa51e93",
       "version_major": 2,
       "version_minor": 0
      },
      "text/plain": [
       "TqdmHBox(children=(HTML(value='Packets:   ', layout=Layout(width='6%')), FloatProgress(value=0.0, layout=Layou…"
      ]
     },
     "metadata": {},
     "output_type": "display_data"
    },
    {
     "name": "stdout",
     "output_type": "stream",
     "text": [
      "[\u001b[1mtardis.simulation.base\u001b[0m][\u001b[1;37mINFO\u001b[0m   ]  \n",
      "\t\n",
      "\tLuminosity emitted   = 7.942e+42 erg / s\n",
      "\tLuminosity absorbed  = 2.659e+42 erg / s\n",
      "\tLuminosity requested = 1.059e+43 erg / s\n",
      " (\u001b[1mbase.py\u001b[0m:557)\n"
     ]
    },
    {
     "name": "stdout",
     "output_type": "stream",
     "text": [
      "[\u001b[1mtardis.simulation.base\u001b[0m][\u001b[1;37mINFO\u001b[0m   ]  \n",
      "\t\n",
      "\tPlasma stratification: (\u001b[1mbase.py\u001b[0m:525)\n"
     ]
    },
    {
     "data": {
      "text/html": [
       "<style type=\"text/css\">\n",
       "</style>\n",
       "<table id=\"T_3839c\">\n",
       "  <thead>\n",
       "    <tr>\n",
       "      <th class=\"index_name level0\" >Shell No.</th>\n",
       "      <th id=\"T_3839c_level0_col0\" class=\"col_heading level0 col0\" >t_rad</th>\n",
       "      <th id=\"T_3839c_level0_col1\" class=\"col_heading level0 col1\" >next_t_rad</th>\n",
       "      <th id=\"T_3839c_level0_col2\" class=\"col_heading level0 col2\" >w</th>\n",
       "      <th id=\"T_3839c_level0_col3\" class=\"col_heading level0 col3\" >next_w</th>\n",
       "    </tr>\n",
       "  </thead>\n",
       "  <tbody>\n",
       "    <tr>\n",
       "      <th id=\"T_3839c_level0_row0\" class=\"row_heading level0 row0\" >0</th>\n",
       "      <td id=\"T_3839c_row0_col0\" class=\"data row0 col0\" >9.93e+03 K</td>\n",
       "      <td id=\"T_3839c_row0_col1\" class=\"data row0 col1\" >1.01e+04 K</td>\n",
       "      <td id=\"T_3839c_row0_col2\" class=\"data row0 col2\" >0.4</td>\n",
       "      <td id=\"T_3839c_row0_col3\" class=\"data row0 col3\" >0.507</td>\n",
       "    </tr>\n",
       "    <tr>\n",
       "      <th id=\"T_3839c_level0_row1\" class=\"row_heading level0 row1\" >5</th>\n",
       "      <td id=\"T_3839c_row1_col0\" class=\"data row1 col0\" >9.85e+03 K</td>\n",
       "      <td id=\"T_3839c_row1_col1\" class=\"data row1 col1\" >1.02e+04 K</td>\n",
       "      <td id=\"T_3839c_row1_col2\" class=\"data row1 col2\" >0.211</td>\n",
       "      <td id=\"T_3839c_row1_col3\" class=\"data row1 col3\" >0.197</td>\n",
       "    </tr>\n",
       "    <tr>\n",
       "      <th id=\"T_3839c_level0_row2\" class=\"row_heading level0 row2\" >10</th>\n",
       "      <td id=\"T_3839c_row2_col0\" class=\"data row2 col0\" >9.78e+03 K</td>\n",
       "      <td id=\"T_3839c_row2_col1\" class=\"data row2 col1\" >1.01e+04 K</td>\n",
       "      <td id=\"T_3839c_row2_col2\" class=\"data row2 col2\" >0.143</td>\n",
       "      <td id=\"T_3839c_row2_col3\" class=\"data row2 col3\" >0.117</td>\n",
       "    </tr>\n",
       "    <tr>\n",
       "      <th id=\"T_3839c_level0_row3\" class=\"row_heading level0 row3\" >15</th>\n",
       "      <td id=\"T_3839c_row3_col0\" class=\"data row3 col0\" >9.71e+03 K</td>\n",
       "      <td id=\"T_3839c_row3_col1\" class=\"data row3 col1\" >9.87e+03 K</td>\n",
       "      <td id=\"T_3839c_row3_col2\" class=\"data row3 col2\" >0.105</td>\n",
       "      <td id=\"T_3839c_row3_col3\" class=\"data row3 col3\" >0.0869</td>\n",
       "    </tr>\n",
       "  </tbody>\n",
       "</table>\n"
      ],
      "text/plain": [
       "<pandas.io.formats.style.Styler at 0x7f1574997590>"
      ]
     },
     "metadata": {},
     "output_type": "display_data"
    },
    {
     "name": "stdout",
     "output_type": "stream",
     "text": [
      "[\u001b[1mtardis.simulation.base\u001b[0m][\u001b[1;37mINFO\u001b[0m   ]  \n",
      "\t\n",
      "\tCurrent t_inner = 9933.952 K\n",
      "\tExpected t_inner for next iteration = 10703.212 K\n",
      " (\u001b[1mbase.py\u001b[0m:552)\n"
     ]
    },
    {
     "name": "stdout",
     "output_type": "stream",
     "text": [
      "[\u001b[1mpy.warnings         \u001b[0m][\u001b[1;33mWARNING\u001b[0m]  \n",
      "\t/home/runner/work/tardis/tardis/tardis/plasma/properties/radiative_properties.py:93: RuntimeWarning: invalid value encountered in divide\n",
      "  (g_lower * n_upper) / (g_upper * n_lower)\n",
      " (\u001b[1mwarnings.py\u001b[0m:109)\n"
     ]
    },
    {
     "name": "stdout",
     "output_type": "stream",
     "text": [
      "[\u001b[1mtardis.simulation.base\u001b[0m][\u001b[1;37mINFO\u001b[0m   ]  \n",
      "\t\n",
      "\tStarting iteration 2 of 20 (\u001b[1mbase.py\u001b[0m:382)\n"
     ]
    },
    {
     "name": "stdout",
     "output_type": "stream",
     "text": [
      "[\u001b[1mtardis.simulation.base\u001b[0m][\u001b[1;37mINFO\u001b[0m   ]  \n",
      "\t\n",
      "\tLuminosity emitted   = 1.071e+43 erg / s\n",
      "\tLuminosity absorbed  = 3.576e+42 erg / s\n",
      "\tLuminosity requested = 1.059e+43 erg / s\n",
      " (\u001b[1mbase.py\u001b[0m:557)\n"
     ]
    },
    {
     "name": "stdout",
     "output_type": "stream",
     "text": [
      "[\u001b[1mtardis.simulation.base\u001b[0m][\u001b[1;37mINFO\u001b[0m   ]  \n",
      "\t\n",
      "\tPlasma stratification: (\u001b[1mbase.py\u001b[0m:525)\n"
     ]
    },
    {
     "data": {
      "text/html": [
       "<style type=\"text/css\">\n",
       "</style>\n",
       "<table id=\"T_19928\">\n",
       "  <thead>\n",
       "    <tr>\n",
       "      <th class=\"index_name level0\" >Shell No.</th>\n",
       "      <th id=\"T_19928_level0_col0\" class=\"col_heading level0 col0\" >t_rad</th>\n",
       "      <th id=\"T_19928_level0_col1\" class=\"col_heading level0 col1\" >next_t_rad</th>\n",
       "      <th id=\"T_19928_level0_col2\" class=\"col_heading level0 col2\" >w</th>\n",
       "      <th id=\"T_19928_level0_col3\" class=\"col_heading level0 col3\" >next_w</th>\n",
       "    </tr>\n",
       "  </thead>\n",
       "  <tbody>\n",
       "    <tr>\n",
       "      <th id=\"T_19928_level0_row0\" class=\"row_heading level0 row0\" >0</th>\n",
       "      <td id=\"T_19928_row0_col0\" class=\"data row0 col0\" >1.01e+04 K</td>\n",
       "      <td id=\"T_19928_row0_col1\" class=\"data row0 col1\" >1.08e+04 K</td>\n",
       "      <td id=\"T_19928_row0_col2\" class=\"data row0 col2\" >0.507</td>\n",
       "      <td id=\"T_19928_row0_col3\" class=\"data row0 col3\" >0.525</td>\n",
       "    </tr>\n",
       "    <tr>\n",
       "      <th id=\"T_19928_level0_row1\" class=\"row_heading level0 row1\" >5</th>\n",
       "      <td id=\"T_19928_row1_col0\" class=\"data row1 col0\" >1.02e+04 K</td>\n",
       "      <td id=\"T_19928_row1_col1\" class=\"data row1 col1\" >1.1e+04 K</td>\n",
       "      <td id=\"T_19928_row1_col2\" class=\"data row1 col2\" >0.197</td>\n",
       "      <td id=\"T_19928_row1_col3\" class=\"data row1 col3\" >0.203</td>\n",
       "    </tr>\n",
       "    <tr>\n",
       "      <th id=\"T_19928_level0_row2\" class=\"row_heading level0 row2\" >10</th>\n",
       "      <td id=\"T_19928_row2_col0\" class=\"data row2 col0\" >1.01e+04 K</td>\n",
       "      <td id=\"T_19928_row2_col1\" class=\"data row2 col1\" >1.08e+04 K</td>\n",
       "      <td id=\"T_19928_row2_col2\" class=\"data row2 col2\" >0.117</td>\n",
       "      <td id=\"T_19928_row2_col3\" class=\"data row2 col3\" >0.125</td>\n",
       "    </tr>\n",
       "    <tr>\n",
       "      <th id=\"T_19928_level0_row3\" class=\"row_heading level0 row3\" >15</th>\n",
       "      <td id=\"T_19928_row3_col0\" class=\"data row3 col0\" >9.87e+03 K</td>\n",
       "      <td id=\"T_19928_row3_col1\" class=\"data row3 col1\" >1.05e+04 K</td>\n",
       "      <td id=\"T_19928_row3_col2\" class=\"data row3 col2\" >0.0869</td>\n",
       "      <td id=\"T_19928_row3_col3\" class=\"data row3 col3\" >0.0933</td>\n",
       "    </tr>\n",
       "  </tbody>\n",
       "</table>\n"
      ],
      "text/plain": [
       "<pandas.io.formats.style.Styler at 0x7f157e340990>"
      ]
     },
     "metadata": {},
     "output_type": "display_data"
    },
    {
     "name": "stdout",
     "output_type": "stream",
     "text": [
      "[\u001b[1mtardis.simulation.base\u001b[0m][\u001b[1;37mINFO\u001b[0m   ]  \n",
      "\t\n",
      "\tCurrent t_inner = 10703.212 K\n",
      "\tExpected t_inner for next iteration = 10673.712 K\n",
      " (\u001b[1mbase.py\u001b[0m:552)\n"
     ]
    },
    {
     "name": "stdout",
     "output_type": "stream",
     "text": [
      "[\u001b[1mpy.warnings         \u001b[0m][\u001b[1;33mWARNING\u001b[0m]  \n",
      "\t/home/runner/work/tardis/tardis/tardis/plasma/properties/radiative_properties.py:93: RuntimeWarning: invalid value encountered in divide\n",
      "  (g_lower * n_upper) / (g_upper * n_lower)\n",
      " (\u001b[1mwarnings.py\u001b[0m:109)\n"
     ]
    },
    {
     "name": "stdout",
     "output_type": "stream",
     "text": [
      "[\u001b[1mtardis.simulation.base\u001b[0m][\u001b[1;37mINFO\u001b[0m   ]  \n",
      "\t\n",
      "\tStarting iteration 3 of 20 (\u001b[1mbase.py\u001b[0m:382)\n"
     ]
    },
    {
     "name": "stdout",
     "output_type": "stream",
     "text": [
      "[\u001b[1mtardis.simulation.base\u001b[0m][\u001b[1;37mINFO\u001b[0m   ]  \n",
      "\t\n",
      "\tLuminosity emitted   = 1.074e+43 erg / s\n",
      "\tLuminosity absorbed  = 3.391e+42 erg / s\n",
      "\tLuminosity requested = 1.059e+43 erg / s\n",
      " (\u001b[1mbase.py\u001b[0m:557)\n"
     ]
    },
    {
     "name": "stdout",
     "output_type": "stream",
     "text": [
      "[\u001b[1mtardis.simulation.base\u001b[0m][\u001b[1;37mINFO\u001b[0m   ]  \n",
      "\t\n",
      "\tPlasma stratification: (\u001b[1mbase.py\u001b[0m:525)\n"
     ]
    },
    {
     "data": {
      "text/html": [
       "<style type=\"text/css\">\n",
       "</style>\n",
       "<table id=\"T_d91e9\">\n",
       "  <thead>\n",
       "    <tr>\n",
       "      <th class=\"index_name level0\" >Shell No.</th>\n",
       "      <th id=\"T_d91e9_level0_col0\" class=\"col_heading level0 col0\" >t_rad</th>\n",
       "      <th id=\"T_d91e9_level0_col1\" class=\"col_heading level0 col1\" >next_t_rad</th>\n",
       "      <th id=\"T_d91e9_level0_col2\" class=\"col_heading level0 col2\" >w</th>\n",
       "      <th id=\"T_d91e9_level0_col3\" class=\"col_heading level0 col3\" >next_w</th>\n",
       "    </tr>\n",
       "  </thead>\n",
       "  <tbody>\n",
       "    <tr>\n",
       "      <th id=\"T_d91e9_level0_row0\" class=\"row_heading level0 row0\" >0</th>\n",
       "      <td id=\"T_d91e9_row0_col0\" class=\"data row0 col0\" >1.08e+04 K</td>\n",
       "      <td id=\"T_d91e9_row0_col1\" class=\"data row0 col1\" >1.1e+04 K</td>\n",
       "      <td id=\"T_d91e9_row0_col2\" class=\"data row0 col2\" >0.525</td>\n",
       "      <td id=\"T_d91e9_row0_col3\" class=\"data row0 col3\" >0.483</td>\n",
       "    </tr>\n",
       "    <tr>\n",
       "      <th id=\"T_d91e9_level0_row1\" class=\"row_heading level0 row1\" >5</th>\n",
       "      <td id=\"T_d91e9_row1_col0\" class=\"data row1 col0\" >1.1e+04 K</td>\n",
       "      <td id=\"T_d91e9_row1_col1\" class=\"data row1 col1\" >1.12e+04 K</td>\n",
       "      <td id=\"T_d91e9_row1_col2\" class=\"data row1 col2\" >0.203</td>\n",
       "      <td id=\"T_d91e9_row1_col3\" class=\"data row1 col3\" >0.189</td>\n",
       "    </tr>\n",
       "    <tr>\n",
       "      <th id=\"T_d91e9_level0_row2\" class=\"row_heading level0 row2\" >10</th>\n",
       "      <td id=\"T_d91e9_row2_col0\" class=\"data row2 col0\" >1.08e+04 K</td>\n",
       "      <td id=\"T_d91e9_row2_col1\" class=\"data row2 col1\" >1.1e+04 K</td>\n",
       "      <td id=\"T_d91e9_row2_col2\" class=\"data row2 col2\" >0.125</td>\n",
       "      <td id=\"T_d91e9_row2_col3\" class=\"data row2 col3\" >0.118</td>\n",
       "    </tr>\n",
       "    <tr>\n",
       "      <th id=\"T_d91e9_level0_row3\" class=\"row_heading level0 row3\" >15</th>\n",
       "      <td id=\"T_d91e9_row3_col0\" class=\"data row3 col0\" >1.05e+04 K</td>\n",
       "      <td id=\"T_d91e9_row3_col1\" class=\"data row3 col1\" >1.06e+04 K</td>\n",
       "      <td id=\"T_d91e9_row3_col2\" class=\"data row3 col2\" >0.0933</td>\n",
       "      <td id=\"T_d91e9_row3_col3\" class=\"data row3 col3\" >0.0895</td>\n",
       "    </tr>\n",
       "  </tbody>\n",
       "</table>\n"
      ],
      "text/plain": [
       "<pandas.io.formats.style.Styler at 0x7f157f62c910>"
      ]
     },
     "metadata": {},
     "output_type": "display_data"
    },
    {
     "name": "stdout",
     "output_type": "stream",
     "text": [
      "[\u001b[1mtardis.simulation.base\u001b[0m][\u001b[1;37mINFO\u001b[0m   ]  \n",
      "\t\n",
      "\tCurrent t_inner = 10673.712 K\n",
      "\tExpected t_inner for next iteration = 10635.953 K\n",
      " (\u001b[1mbase.py\u001b[0m:552)\n"
     ]
    },
    {
     "name": "stdout",
     "output_type": "stream",
     "text": [
      "[\u001b[1mpy.warnings         \u001b[0m][\u001b[1;33mWARNING\u001b[0m]  \n",
      "\t/home/runner/work/tardis/tardis/tardis/plasma/properties/radiative_properties.py:93: RuntimeWarning: invalid value encountered in divide\n",
      "  (g_lower * n_upper) / (g_upper * n_lower)\n",
      " (\u001b[1mwarnings.py\u001b[0m:109)\n"
     ]
    },
    {
     "name": "stdout",
     "output_type": "stream",
     "text": [
      "[\u001b[1mtardis.simulation.base\u001b[0m][\u001b[1;37mINFO\u001b[0m   ]  \n",
      "\t\n",
      "\tStarting iteration 4 of 20 (\u001b[1mbase.py\u001b[0m:382)\n"
     ]
    },
    {
     "name": "stdout",
     "output_type": "stream",
     "text": [
      "[\u001b[1mtardis.simulation.base\u001b[0m][\u001b[1;37mINFO\u001b[0m   ]  \n",
      "\t\n",
      "\tLuminosity emitted   = 1.058e+43 erg / s\n",
      "\tLuminosity absorbed  = 3.352e+42 erg / s\n",
      "\tLuminosity requested = 1.059e+43 erg / s\n",
      " (\u001b[1mbase.py\u001b[0m:557)\n"
     ]
    },
    {
     "name": "stdout",
     "output_type": "stream",
     "text": [
      "[\u001b[1mtardis.simulation.base\u001b[0m][\u001b[1;37mINFO\u001b[0m   ]  \n",
      "\t\n",
      "\tPlasma stratification: (\u001b[1mbase.py\u001b[0m:525)\n"
     ]
    },
    {
     "data": {
      "text/html": [
       "<style type=\"text/css\">\n",
       "</style>\n",
       "<table id=\"T_17745\">\n",
       "  <thead>\n",
       "    <tr>\n",
       "      <th class=\"index_name level0\" >Shell No.</th>\n",
       "      <th id=\"T_17745_level0_col0\" class=\"col_heading level0 col0\" >t_rad</th>\n",
       "      <th id=\"T_17745_level0_col1\" class=\"col_heading level0 col1\" >next_t_rad</th>\n",
       "      <th id=\"T_17745_level0_col2\" class=\"col_heading level0 col2\" >w</th>\n",
       "      <th id=\"T_17745_level0_col3\" class=\"col_heading level0 col3\" >next_w</th>\n",
       "    </tr>\n",
       "  </thead>\n",
       "  <tbody>\n",
       "    <tr>\n",
       "      <th id=\"T_17745_level0_row0\" class=\"row_heading level0 row0\" >0</th>\n",
       "      <td id=\"T_17745_row0_col0\" class=\"data row0 col0\" >1.1e+04 K</td>\n",
       "      <td id=\"T_17745_row0_col1\" class=\"data row0 col1\" >1.1e+04 K</td>\n",
       "      <td id=\"T_17745_row0_col2\" class=\"data row0 col2\" >0.483</td>\n",
       "      <td id=\"T_17745_row0_col3\" class=\"data row0 col3\" >0.469</td>\n",
       "    </tr>\n",
       "    <tr>\n",
       "      <th id=\"T_17745_level0_row1\" class=\"row_heading level0 row1\" >5</th>\n",
       "      <td id=\"T_17745_row1_col0\" class=\"data row1 col0\" >1.12e+04 K</td>\n",
       "      <td id=\"T_17745_row1_col1\" class=\"data row1 col1\" >1.12e+04 K</td>\n",
       "      <td id=\"T_17745_row1_col2\" class=\"data row1 col2\" >0.189</td>\n",
       "      <td id=\"T_17745_row1_col3\" class=\"data row1 col3\" >0.182</td>\n",
       "    </tr>\n",
       "    <tr>\n",
       "      <th id=\"T_17745_level0_row2\" class=\"row_heading level0 row2\" >10</th>\n",
       "      <td id=\"T_17745_row2_col0\" class=\"data row2 col0\" >1.1e+04 K</td>\n",
       "      <td id=\"T_17745_row2_col1\" class=\"data row2 col1\" >1.1e+04 K</td>\n",
       "      <td id=\"T_17745_row2_col2\" class=\"data row2 col2\" >0.118</td>\n",
       "      <td id=\"T_17745_row2_col3\" class=\"data row2 col3\" >0.113</td>\n",
       "    </tr>\n",
       "    <tr>\n",
       "      <th id=\"T_17745_level0_row3\" class=\"row_heading level0 row3\" >15</th>\n",
       "      <td id=\"T_17745_row3_col0\" class=\"data row3 col0\" >1.06e+04 K</td>\n",
       "      <td id=\"T_17745_row3_col1\" class=\"data row3 col1\" >1.07e+04 K</td>\n",
       "      <td id=\"T_17745_row3_col2\" class=\"data row3 col2\" >0.0895</td>\n",
       "      <td id=\"T_17745_row3_col3\" class=\"data row3 col3\" >0.0861</td>\n",
       "    </tr>\n",
       "  </tbody>\n",
       "</table>\n"
      ],
      "text/plain": [
       "<pandas.io.formats.style.Styler at 0x7f157e340990>"
      ]
     },
     "metadata": {},
     "output_type": "display_data"
    },
    {
     "name": "stdout",
     "output_type": "stream",
     "text": [
      "[\u001b[1mtardis.simulation.base\u001b[0m][\u001b[1;37mINFO\u001b[0m   ]  \n",
      "\t\n",
      "\tCurrent t_inner = 10635.953 K\n",
      "\tExpected t_inner for next iteration = 10638.407 K\n",
      " (\u001b[1mbase.py\u001b[0m:552)\n"
     ]
    },
    {
     "name": "stdout",
     "output_type": "stream",
     "text": [
      "[\u001b[1mpy.warnings         \u001b[0m][\u001b[1;33mWARNING\u001b[0m]  \n",
      "\t/home/runner/work/tardis/tardis/tardis/plasma/properties/radiative_properties.py:93: RuntimeWarning: invalid value encountered in divide\n",
      "  (g_lower * n_upper) / (g_upper * n_lower)\n",
      " (\u001b[1mwarnings.py\u001b[0m:109)\n"
     ]
    },
    {
     "name": "stdout",
     "output_type": "stream",
     "text": [
      "[\u001b[1mtardis.simulation.base\u001b[0m][\u001b[1;37mINFO\u001b[0m   ]  \n",
      "\t\n",
      "\tStarting iteration 5 of 20 (\u001b[1mbase.py\u001b[0m:382)\n"
     ]
    },
    {
     "name": "stdout",
     "output_type": "stream",
     "text": [
      "[\u001b[1mtardis.simulation.base\u001b[0m][\u001b[1;37mINFO\u001b[0m   ]  \n",
      "\t\n",
      "\tLuminosity emitted   = 1.055e+43 erg / s\n",
      "\tLuminosity absorbed  = 3.399e+42 erg / s\n",
      "\tLuminosity requested = 1.059e+43 erg / s\n",
      " (\u001b[1mbase.py\u001b[0m:557)\n"
     ]
    },
    {
     "name": "stdout",
     "output_type": "stream",
     "text": [
      "[\u001b[1mtardis.simulation.base\u001b[0m][\u001b[1;37mINFO\u001b[0m   ]  \n",
      "\tIteration converged 1/4 consecutive times. (\u001b[1mbase.py\u001b[0m:257)\n"
     ]
    },
    {
     "name": "stdout",
     "output_type": "stream",
     "text": [
      "[\u001b[1mtardis.simulation.base\u001b[0m][\u001b[1;37mINFO\u001b[0m   ]  \n",
      "\t\n",
      "\tPlasma stratification: (\u001b[1mbase.py\u001b[0m:525)\n"
     ]
    },
    {
     "data": {
      "text/html": [
       "<style type=\"text/css\">\n",
       "</style>\n",
       "<table id=\"T_c2384\">\n",
       "  <thead>\n",
       "    <tr>\n",
       "      <th class=\"index_name level0\" >Shell No.</th>\n",
       "      <th id=\"T_c2384_level0_col0\" class=\"col_heading level0 col0\" >t_rad</th>\n",
       "      <th id=\"T_c2384_level0_col1\" class=\"col_heading level0 col1\" >next_t_rad</th>\n",
       "      <th id=\"T_c2384_level0_col2\" class=\"col_heading level0 col2\" >w</th>\n",
       "      <th id=\"T_c2384_level0_col3\" class=\"col_heading level0 col3\" >next_w</th>\n",
       "    </tr>\n",
       "  </thead>\n",
       "  <tbody>\n",
       "    <tr>\n",
       "      <th id=\"T_c2384_level0_row0\" class=\"row_heading level0 row0\" >0</th>\n",
       "      <td id=\"T_c2384_row0_col0\" class=\"data row0 col0\" >1.1e+04 K</td>\n",
       "      <td id=\"T_c2384_row0_col1\" class=\"data row0 col1\" >1.1e+04 K</td>\n",
       "      <td id=\"T_c2384_row0_col2\" class=\"data row0 col2\" >0.469</td>\n",
       "      <td id=\"T_c2384_row0_col3\" class=\"data row0 col3\" >0.479</td>\n",
       "    </tr>\n",
       "    <tr>\n",
       "      <th id=\"T_c2384_level0_row1\" class=\"row_heading level0 row1\" >5</th>\n",
       "      <td id=\"T_c2384_row1_col0\" class=\"data row1 col0\" >1.12e+04 K</td>\n",
       "      <td id=\"T_c2384_row1_col1\" class=\"data row1 col1\" >1.13e+04 K</td>\n",
       "      <td id=\"T_c2384_row1_col2\" class=\"data row1 col2\" >0.182</td>\n",
       "      <td id=\"T_c2384_row1_col3\" class=\"data row1 col3\" >0.178</td>\n",
       "    </tr>\n",
       "    <tr>\n",
       "      <th id=\"T_c2384_level0_row2\" class=\"row_heading level0 row2\" >10</th>\n",
       "      <td id=\"T_c2384_row2_col0\" class=\"data row2 col0\" >1.1e+04 K</td>\n",
       "      <td id=\"T_c2384_row2_col1\" class=\"data row2 col1\" >1.1e+04 K</td>\n",
       "      <td id=\"T_c2384_row2_col2\" class=\"data row2 col2\" >0.113</td>\n",
       "      <td id=\"T_c2384_row2_col3\" class=\"data row2 col3\" >0.113</td>\n",
       "    </tr>\n",
       "    <tr>\n",
       "      <th id=\"T_c2384_level0_row3\" class=\"row_heading level0 row3\" >15</th>\n",
       "      <td id=\"T_c2384_row3_col0\" class=\"data row3 col0\" >1.07e+04 K</td>\n",
       "      <td id=\"T_c2384_row3_col1\" class=\"data row3 col1\" >1.07e+04 K</td>\n",
       "      <td id=\"T_c2384_row3_col2\" class=\"data row3 col2\" >0.0861</td>\n",
       "      <td id=\"T_c2384_row3_col3\" class=\"data row3 col3\" >0.0839</td>\n",
       "    </tr>\n",
       "  </tbody>\n",
       "</table>\n"
      ],
      "text/plain": [
       "<pandas.io.formats.style.Styler at 0x7f1574aea7d0>"
      ]
     },
     "metadata": {},
     "output_type": "display_data"
    },
    {
     "name": "stdout",
     "output_type": "stream",
     "text": [
      "[\u001b[1mtardis.simulation.base\u001b[0m][\u001b[1;37mINFO\u001b[0m   ]  \n",
      "\t\n",
      "\tCurrent t_inner = 10638.407 K\n",
      "\tExpected t_inner for next iteration = 10650.202 K\n",
      " (\u001b[1mbase.py\u001b[0m:552)\n"
     ]
    },
    {
     "name": "stdout",
     "output_type": "stream",
     "text": [
      "[\u001b[1mpy.warnings         \u001b[0m][\u001b[1;33mWARNING\u001b[0m]  \n",
      "\t/home/runner/work/tardis/tardis/tardis/plasma/properties/radiative_properties.py:93: RuntimeWarning: invalid value encountered in divide\n",
      "  (g_lower * n_upper) / (g_upper * n_lower)\n",
      " (\u001b[1mwarnings.py\u001b[0m:109)\n"
     ]
    },
    {
     "name": "stdout",
     "output_type": "stream",
     "text": [
      "[\u001b[1mtardis.simulation.base\u001b[0m][\u001b[1;37mINFO\u001b[0m   ]  \n",
      "\t\n",
      "\tStarting iteration 6 of 20 (\u001b[1mbase.py\u001b[0m:382)\n"
     ]
    },
    {
     "name": "stdout",
     "output_type": "stream",
     "text": [
      "[\u001b[1mtardis.simulation.base\u001b[0m][\u001b[1;37mINFO\u001b[0m   ]  \n",
      "\t\n",
      "\tLuminosity emitted   = 1.061e+43 erg / s\n",
      "\tLuminosity absorbed  = 3.398e+42 erg / s\n",
      "\tLuminosity requested = 1.059e+43 erg / s\n",
      " (\u001b[1mbase.py\u001b[0m:557)\n"
     ]
    },
    {
     "name": "stdout",
     "output_type": "stream",
     "text": [
      "[\u001b[1mtardis.simulation.base\u001b[0m][\u001b[1;37mINFO\u001b[0m   ]  \n",
      "\tIteration converged 2/4 consecutive times. (\u001b[1mbase.py\u001b[0m:257)\n"
     ]
    },
    {
     "name": "stdout",
     "output_type": "stream",
     "text": [
      "[\u001b[1mtardis.simulation.base\u001b[0m][\u001b[1;37mINFO\u001b[0m   ]  \n",
      "\t\n",
      "\tPlasma stratification: (\u001b[1mbase.py\u001b[0m:525)\n"
     ]
    },
    {
     "data": {
      "text/html": [
       "<style type=\"text/css\">\n",
       "</style>\n",
       "<table id=\"T_ef135\">\n",
       "  <thead>\n",
       "    <tr>\n",
       "      <th class=\"index_name level0\" >Shell No.</th>\n",
       "      <th id=\"T_ef135_level0_col0\" class=\"col_heading level0 col0\" >t_rad</th>\n",
       "      <th id=\"T_ef135_level0_col1\" class=\"col_heading level0 col1\" >next_t_rad</th>\n",
       "      <th id=\"T_ef135_level0_col2\" class=\"col_heading level0 col2\" >w</th>\n",
       "      <th id=\"T_ef135_level0_col3\" class=\"col_heading level0 col3\" >next_w</th>\n",
       "    </tr>\n",
       "  </thead>\n",
       "  <tbody>\n",
       "    <tr>\n",
       "      <th id=\"T_ef135_level0_row0\" class=\"row_heading level0 row0\" >0</th>\n",
       "      <td id=\"T_ef135_row0_col0\" class=\"data row0 col0\" >1.1e+04 K</td>\n",
       "      <td id=\"T_ef135_row0_col1\" class=\"data row0 col1\" >1.1e+04 K</td>\n",
       "      <td id=\"T_ef135_row0_col2\" class=\"data row0 col2\" >0.479</td>\n",
       "      <td id=\"T_ef135_row0_col3\" class=\"data row0 col3\" >0.47</td>\n",
       "    </tr>\n",
       "    <tr>\n",
       "      <th id=\"T_ef135_level0_row1\" class=\"row_heading level0 row1\" >5</th>\n",
       "      <td id=\"T_ef135_row1_col0\" class=\"data row1 col0\" >1.13e+04 K</td>\n",
       "      <td id=\"T_ef135_row1_col1\" class=\"data row1 col1\" >1.12e+04 K</td>\n",
       "      <td id=\"T_ef135_row1_col2\" class=\"data row1 col2\" >0.178</td>\n",
       "      <td id=\"T_ef135_row1_col3\" class=\"data row1 col3\" >0.185</td>\n",
       "    </tr>\n",
       "    <tr>\n",
       "      <th id=\"T_ef135_level0_row2\" class=\"row_heading level0 row2\" >10</th>\n",
       "      <td id=\"T_ef135_row2_col0\" class=\"data row2 col0\" >1.1e+04 K</td>\n",
       "      <td id=\"T_ef135_row2_col1\" class=\"data row2 col1\" >1.11e+04 K</td>\n",
       "      <td id=\"T_ef135_row2_col2\" class=\"data row2 col2\" >0.113</td>\n",
       "      <td id=\"T_ef135_row2_col3\" class=\"data row2 col3\" >0.112</td>\n",
       "    </tr>\n",
       "    <tr>\n",
       "      <th id=\"T_ef135_level0_row3\" class=\"row_heading level0 row3\" >15</th>\n",
       "      <td id=\"T_ef135_row3_col0\" class=\"data row3 col0\" >1.07e+04 K</td>\n",
       "      <td id=\"T_ef135_row3_col1\" class=\"data row3 col1\" >1.07e+04 K</td>\n",
       "      <td id=\"T_ef135_row3_col2\" class=\"data row3 col2\" >0.0839</td>\n",
       "      <td id=\"T_ef135_row3_col3\" class=\"data row3 col3\" >0.0856</td>\n",
       "    </tr>\n",
       "  </tbody>\n",
       "</table>\n"
      ],
      "text/plain": [
       "<pandas.io.formats.style.Styler at 0x7f157eb1cd10>"
      ]
     },
     "metadata": {},
     "output_type": "display_data"
    },
    {
     "name": "stdout",
     "output_type": "stream",
     "text": [
      "[\u001b[1mtardis.simulation.base\u001b[0m][\u001b[1;37mINFO\u001b[0m   ]  \n",
      "\t\n",
      "\tCurrent t_inner = 10650.202 K\n",
      "\tExpected t_inner for next iteration = 10645.955 K\n",
      " (\u001b[1mbase.py\u001b[0m:552)\n"
     ]
    },
    {
     "name": "stdout",
     "output_type": "stream",
     "text": [
      "[\u001b[1mpy.warnings         \u001b[0m][\u001b[1;33mWARNING\u001b[0m]  \n",
      "\t/home/runner/work/tardis/tardis/tardis/plasma/properties/radiative_properties.py:93: RuntimeWarning: invalid value encountered in divide\n",
      "  (g_lower * n_upper) / (g_upper * n_lower)\n",
      " (\u001b[1mwarnings.py\u001b[0m:109)\n"
     ]
    },
    {
     "name": "stdout",
     "output_type": "stream",
     "text": [
      "[\u001b[1mtardis.simulation.base\u001b[0m][\u001b[1;37mINFO\u001b[0m   ]  \n",
      "\t\n",
      "\tStarting iteration 7 of 20 (\u001b[1mbase.py\u001b[0m:382)\n"
     ]
    },
    {
     "name": "stdout",
     "output_type": "stream",
     "text": [
      "[\u001b[1mtardis.simulation.base\u001b[0m][\u001b[1;37mINFO\u001b[0m   ]  \n",
      "\t\n",
      "\tLuminosity emitted   = 1.061e+43 erg / s\n",
      "\tLuminosity absorbed  = 3.382e+42 erg / s\n",
      "\tLuminosity requested = 1.059e+43 erg / s\n",
      " (\u001b[1mbase.py\u001b[0m:557)\n"
     ]
    },
    {
     "name": "stdout",
     "output_type": "stream",
     "text": [
      "[\u001b[1mtardis.simulation.base\u001b[0m][\u001b[1;37mINFO\u001b[0m   ]  \n",
      "\tIteration converged 3/4 consecutive times. (\u001b[1mbase.py\u001b[0m:257)\n"
     ]
    },
    {
     "name": "stdout",
     "output_type": "stream",
     "text": [
      "[\u001b[1mtardis.simulation.base\u001b[0m][\u001b[1;37mINFO\u001b[0m   ]  \n",
      "\t\n",
      "\tPlasma stratification: (\u001b[1mbase.py\u001b[0m:525)\n"
     ]
    },
    {
     "data": {
      "text/html": [
       "<style type=\"text/css\">\n",
       "</style>\n",
       "<table id=\"T_0b84e\">\n",
       "  <thead>\n",
       "    <tr>\n",
       "      <th class=\"index_name level0\" >Shell No.</th>\n",
       "      <th id=\"T_0b84e_level0_col0\" class=\"col_heading level0 col0\" >t_rad</th>\n",
       "      <th id=\"T_0b84e_level0_col1\" class=\"col_heading level0 col1\" >next_t_rad</th>\n",
       "      <th id=\"T_0b84e_level0_col2\" class=\"col_heading level0 col2\" >w</th>\n",
       "      <th id=\"T_0b84e_level0_col3\" class=\"col_heading level0 col3\" >next_w</th>\n",
       "    </tr>\n",
       "  </thead>\n",
       "  <tbody>\n",
       "    <tr>\n",
       "      <th id=\"T_0b84e_level0_row0\" class=\"row_heading level0 row0\" >0</th>\n",
       "      <td id=\"T_0b84e_row0_col0\" class=\"data row0 col0\" >1.1e+04 K</td>\n",
       "      <td id=\"T_0b84e_row0_col1\" class=\"data row0 col1\" >1.1e+04 K</td>\n",
       "      <td id=\"T_0b84e_row0_col2\" class=\"data row0 col2\" >0.47</td>\n",
       "      <td id=\"T_0b84e_row0_col3\" class=\"data row0 col3\" >0.47</td>\n",
       "    </tr>\n",
       "    <tr>\n",
       "      <th id=\"T_0b84e_level0_row1\" class=\"row_heading level0 row1\" >5</th>\n",
       "      <td id=\"T_0b84e_row1_col0\" class=\"data row1 col0\" >1.12e+04 K</td>\n",
       "      <td id=\"T_0b84e_row1_col1\" class=\"data row1 col1\" >1.13e+04 K</td>\n",
       "      <td id=\"T_0b84e_row1_col2\" class=\"data row1 col2\" >0.185</td>\n",
       "      <td id=\"T_0b84e_row1_col3\" class=\"data row1 col3\" >0.178</td>\n",
       "    </tr>\n",
       "    <tr>\n",
       "      <th id=\"T_0b84e_level0_row2\" class=\"row_heading level0 row2\" >10</th>\n",
       "      <td id=\"T_0b84e_row2_col0\" class=\"data row2 col0\" >1.11e+04 K</td>\n",
       "      <td id=\"T_0b84e_row2_col1\" class=\"data row2 col1\" >1.11e+04 K</td>\n",
       "      <td id=\"T_0b84e_row2_col2\" class=\"data row2 col2\" >0.112</td>\n",
       "      <td id=\"T_0b84e_row2_col3\" class=\"data row2 col3\" >0.112</td>\n",
       "    </tr>\n",
       "    <tr>\n",
       "      <th id=\"T_0b84e_level0_row3\" class=\"row_heading level0 row3\" >15</th>\n",
       "      <td id=\"T_0b84e_row3_col0\" class=\"data row3 col0\" >1.07e+04 K</td>\n",
       "      <td id=\"T_0b84e_row3_col1\" class=\"data row3 col1\" >1.07e+04 K</td>\n",
       "      <td id=\"T_0b84e_row3_col2\" class=\"data row3 col2\" >0.0856</td>\n",
       "      <td id=\"T_0b84e_row3_col3\" class=\"data row3 col3\" >0.086</td>\n",
       "    </tr>\n",
       "  </tbody>\n",
       "</table>\n"
      ],
      "text/plain": [
       "<pandas.io.formats.style.Styler at 0x7f157eb64e10>"
      ]
     },
     "metadata": {},
     "output_type": "display_data"
    },
    {
     "name": "stdout",
     "output_type": "stream",
     "text": [
      "[\u001b[1mtardis.simulation.base\u001b[0m][\u001b[1;37mINFO\u001b[0m   ]  \n",
      "\t\n",
      "\tCurrent t_inner = 10645.955 K\n",
      "\tExpected t_inner for next iteration = 10642.050 K\n",
      " (\u001b[1mbase.py\u001b[0m:552)\n"
     ]
    },
    {
     "name": "stdout",
     "output_type": "stream",
     "text": [
      "[\u001b[1mpy.warnings         \u001b[0m][\u001b[1;33mWARNING\u001b[0m]  \n",
      "\t/home/runner/work/tardis/tardis/tardis/plasma/properties/radiative_properties.py:93: RuntimeWarning: invalid value encountered in divide\n",
      "  (g_lower * n_upper) / (g_upper * n_lower)\n",
      " (\u001b[1mwarnings.py\u001b[0m:109)\n"
     ]
    },
    {
     "name": "stdout",
     "output_type": "stream",
     "text": [
      "[\u001b[1mtardis.simulation.base\u001b[0m][\u001b[1;37mINFO\u001b[0m   ]  \n",
      "\t\n",
      "\tStarting iteration 8 of 20 (\u001b[1mbase.py\u001b[0m:382)\n"
     ]
    },
    {
     "name": "stdout",
     "output_type": "stream",
     "text": [
      "[\u001b[1mtardis.simulation.base\u001b[0m][\u001b[1;37mINFO\u001b[0m   ]  \n",
      "\t\n",
      "\tLuminosity emitted   = 1.062e+43 erg / s\n",
      "\tLuminosity absorbed  = 3.350e+42 erg / s\n",
      "\tLuminosity requested = 1.059e+43 erg / s\n",
      " (\u001b[1mbase.py\u001b[0m:557)\n"
     ]
    },
    {
     "name": "stdout",
     "output_type": "stream",
     "text": [
      "[\u001b[1mtardis.simulation.base\u001b[0m][\u001b[1;37mINFO\u001b[0m   ]  \n",
      "\tIteration converged 4/4 consecutive times. (\u001b[1mbase.py\u001b[0m:257)\n"
     ]
    },
    {
     "name": "stdout",
     "output_type": "stream",
     "text": [
      "[\u001b[1mtardis.simulation.base\u001b[0m][\u001b[1;37mINFO\u001b[0m   ]  \n",
      "\t\n",
      "\tPlasma stratification: (\u001b[1mbase.py\u001b[0m:525)\n"
     ]
    },
    {
     "data": {
      "text/html": [
       "<style type=\"text/css\">\n",
       "</style>\n",
       "<table id=\"T_4b462\">\n",
       "  <thead>\n",
       "    <tr>\n",
       "      <th class=\"index_name level0\" >Shell No.</th>\n",
       "      <th id=\"T_4b462_level0_col0\" class=\"col_heading level0 col0\" >t_rad</th>\n",
       "      <th id=\"T_4b462_level0_col1\" class=\"col_heading level0 col1\" >next_t_rad</th>\n",
       "      <th id=\"T_4b462_level0_col2\" class=\"col_heading level0 col2\" >w</th>\n",
       "      <th id=\"T_4b462_level0_col3\" class=\"col_heading level0 col3\" >next_w</th>\n",
       "    </tr>\n",
       "  </thead>\n",
       "  <tbody>\n",
       "    <tr>\n",
       "      <th id=\"T_4b462_level0_row0\" class=\"row_heading level0 row0\" >0</th>\n",
       "      <td id=\"T_4b462_row0_col0\" class=\"data row0 col0\" >1.1e+04 K</td>\n",
       "      <td id=\"T_4b462_row0_col1\" class=\"data row0 col1\" >1.11e+04 K</td>\n",
       "      <td id=\"T_4b462_row0_col2\" class=\"data row0 col2\" >0.47</td>\n",
       "      <td id=\"T_4b462_row0_col3\" class=\"data row0 col3\" >0.472</td>\n",
       "    </tr>\n",
       "    <tr>\n",
       "      <th id=\"T_4b462_level0_row1\" class=\"row_heading level0 row1\" >5</th>\n",
       "      <td id=\"T_4b462_row1_col0\" class=\"data row1 col0\" >1.13e+04 K</td>\n",
       "      <td id=\"T_4b462_row1_col1\" class=\"data row1 col1\" >1.14e+04 K</td>\n",
       "      <td id=\"T_4b462_row1_col2\" class=\"data row1 col2\" >0.178</td>\n",
       "      <td id=\"T_4b462_row1_col3\" class=\"data row1 col3\" >0.175</td>\n",
       "    </tr>\n",
       "    <tr>\n",
       "      <th id=\"T_4b462_level0_row2\" class=\"row_heading level0 row2\" >10</th>\n",
       "      <td id=\"T_4b462_row2_col0\" class=\"data row2 col0\" >1.11e+04 K</td>\n",
       "      <td id=\"T_4b462_row2_col1\" class=\"data row2 col1\" >1.11e+04 K</td>\n",
       "      <td id=\"T_4b462_row2_col2\" class=\"data row2 col2\" >0.112</td>\n",
       "      <td id=\"T_4b462_row2_col3\" class=\"data row2 col3\" >0.111</td>\n",
       "    </tr>\n",
       "    <tr>\n",
       "      <th id=\"T_4b462_level0_row3\" class=\"row_heading level0 row3\" >15</th>\n",
       "      <td id=\"T_4b462_row3_col0\" class=\"data row3 col0\" >1.07e+04 K</td>\n",
       "      <td id=\"T_4b462_row3_col1\" class=\"data row3 col1\" >1.07e+04 K</td>\n",
       "      <td id=\"T_4b462_row3_col2\" class=\"data row3 col2\" >0.086</td>\n",
       "      <td id=\"T_4b462_row3_col3\" class=\"data row3 col3\" >0.084</td>\n",
       "    </tr>\n",
       "  </tbody>\n",
       "</table>\n"
      ],
      "text/plain": [
       "<pandas.io.formats.style.Styler at 0x7f1574ae03d0>"
      ]
     },
     "metadata": {},
     "output_type": "display_data"
    },
    {
     "name": "stdout",
     "output_type": "stream",
     "text": [
      "[\u001b[1mtardis.simulation.base\u001b[0m][\u001b[1;37mINFO\u001b[0m   ]  \n",
      "\t\n",
      "\tCurrent t_inner = 10642.050 K\n",
      "\tExpected t_inner for next iteration = 10636.106 K\n",
      " (\u001b[1mbase.py\u001b[0m:552)\n"
     ]
    },
    {
     "name": "stdout",
     "output_type": "stream",
     "text": [
      "[\u001b[1mpy.warnings         \u001b[0m][\u001b[1;33mWARNING\u001b[0m]  \n",
      "\t/home/runner/work/tardis/tardis/tardis/plasma/properties/radiative_properties.py:93: RuntimeWarning: invalid value encountered in divide\n",
      "  (g_lower * n_upper) / (g_upper * n_lower)\n",
      " (\u001b[1mwarnings.py\u001b[0m:109)\n"
     ]
    },
    {
     "name": "stdout",
     "output_type": "stream",
     "text": [
      "[\u001b[1mtardis.simulation.base\u001b[0m][\u001b[1;37mINFO\u001b[0m   ]  \n",
      "\t\n",
      "\tStarting iteration 9 of 20 (\u001b[1mbase.py\u001b[0m:382)\n"
     ]
    },
    {
     "name": "stdout",
     "output_type": "stream",
     "text": [
      "[\u001b[1mtardis.simulation.base\u001b[0m][\u001b[1;37mINFO\u001b[0m   ]  \n",
      "\t\n",
      "\tLuminosity emitted   = 1.052e+43 erg / s\n",
      "\tLuminosity absorbed  = 3.411e+42 erg / s\n",
      "\tLuminosity requested = 1.059e+43 erg / s\n",
      " (\u001b[1mbase.py\u001b[0m:557)\n"
     ]
    },
    {
     "name": "stdout",
     "output_type": "stream",
     "text": [
      "[\u001b[1mtardis.simulation.base\u001b[0m][\u001b[1;37mINFO\u001b[0m   ]  \n",
      "\tIteration converged 5/4 consecutive times. (\u001b[1mbase.py\u001b[0m:257)\n"
     ]
    },
    {
     "name": "stdout",
     "output_type": "stream",
     "text": [
      "[\u001b[1mtardis.simulation.base\u001b[0m][\u001b[1;37mINFO\u001b[0m   ]  \n",
      "\t\n",
      "\tPlasma stratification: (\u001b[1mbase.py\u001b[0m:525)\n"
     ]
    },
    {
     "data": {
      "text/html": [
       "<style type=\"text/css\">\n",
       "</style>\n",
       "<table id=\"T_56f62\">\n",
       "  <thead>\n",
       "    <tr>\n",
       "      <th class=\"index_name level0\" >Shell No.</th>\n",
       "      <th id=\"T_56f62_level0_col0\" class=\"col_heading level0 col0\" >t_rad</th>\n",
       "      <th id=\"T_56f62_level0_col1\" class=\"col_heading level0 col1\" >next_t_rad</th>\n",
       "      <th id=\"T_56f62_level0_col2\" class=\"col_heading level0 col2\" >w</th>\n",
       "      <th id=\"T_56f62_level0_col3\" class=\"col_heading level0 col3\" >next_w</th>\n",
       "    </tr>\n",
       "  </thead>\n",
       "  <tbody>\n",
       "    <tr>\n",
       "      <th id=\"T_56f62_level0_row0\" class=\"row_heading level0 row0\" >0</th>\n",
       "      <td id=\"T_56f62_row0_col0\" class=\"data row0 col0\" >1.11e+04 K</td>\n",
       "      <td id=\"T_56f62_row0_col1\" class=\"data row0 col1\" >1.11e+04 K</td>\n",
       "      <td id=\"T_56f62_row0_col2\" class=\"data row0 col2\" >0.472</td>\n",
       "      <td id=\"T_56f62_row0_col3\" class=\"data row0 col3\" >0.469</td>\n",
       "    </tr>\n",
       "    <tr>\n",
       "      <th id=\"T_56f62_level0_row1\" class=\"row_heading level0 row1\" >5</th>\n",
       "      <td id=\"T_56f62_row1_col0\" class=\"data row1 col0\" >1.14e+04 K</td>\n",
       "      <td id=\"T_56f62_row1_col1\" class=\"data row1 col1\" >1.15e+04 K</td>\n",
       "      <td id=\"T_56f62_row1_col2\" class=\"data row1 col2\" >0.175</td>\n",
       "      <td id=\"T_56f62_row1_col3\" class=\"data row1 col3\" >0.17</td>\n",
       "    </tr>\n",
       "    <tr>\n",
       "      <th id=\"T_56f62_level0_row2\" class=\"row_heading level0 row2\" >10</th>\n",
       "      <td id=\"T_56f62_row2_col0\" class=\"data row2 col0\" >1.11e+04 K</td>\n",
       "      <td id=\"T_56f62_row2_col1\" class=\"data row2 col1\" >1.11e+04 K</td>\n",
       "      <td id=\"T_56f62_row2_col2\" class=\"data row2 col2\" >0.111</td>\n",
       "      <td id=\"T_56f62_row2_col3\" class=\"data row2 col3\" >0.109</td>\n",
       "    </tr>\n",
       "    <tr>\n",
       "      <th id=\"T_56f62_level0_row3\" class=\"row_heading level0 row3\" >15</th>\n",
       "      <td id=\"T_56f62_row3_col0\" class=\"data row3 col0\" >1.07e+04 K</td>\n",
       "      <td id=\"T_56f62_row3_col1\" class=\"data row3 col1\" >1.08e+04 K</td>\n",
       "      <td id=\"T_56f62_row3_col2\" class=\"data row3 col2\" >0.084</td>\n",
       "      <td id=\"T_56f62_row3_col3\" class=\"data row3 col3\" >0.0822</td>\n",
       "    </tr>\n",
       "  </tbody>\n",
       "</table>\n"
      ],
      "text/plain": [
       "<pandas.io.formats.style.Styler at 0x7f1574ae0390>"
      ]
     },
     "metadata": {},
     "output_type": "display_data"
    },
    {
     "name": "stdout",
     "output_type": "stream",
     "text": [
      "[\u001b[1mtardis.simulation.base\u001b[0m][\u001b[1;37mINFO\u001b[0m   ]  \n",
      "\t\n",
      "\tCurrent t_inner = 10636.106 K\n",
      "\tExpected t_inner for next iteration = 10654.313 K\n",
      " (\u001b[1mbase.py\u001b[0m:552)\n"
     ]
    },
    {
     "name": "stdout",
     "output_type": "stream",
     "text": [
      "[\u001b[1mpy.warnings         \u001b[0m][\u001b[1;33mWARNING\u001b[0m]  \n",
      "\t/home/runner/work/tardis/tardis/tardis/plasma/properties/radiative_properties.py:93: RuntimeWarning: invalid value encountered in divide\n",
      "  (g_lower * n_upper) / (g_upper * n_lower)\n",
      " (\u001b[1mwarnings.py\u001b[0m:109)\n"
     ]
    },
    {
     "name": "stdout",
     "output_type": "stream",
     "text": [
      "[\u001b[1mtardis.simulation.base\u001b[0m][\u001b[1;37mINFO\u001b[0m   ]  \n",
      "\t\n",
      "\tStarting iteration 10 of 20 (\u001b[1mbase.py\u001b[0m:382)\n"
     ]
    },
    {
     "name": "stdout",
     "output_type": "stream",
     "text": [
      "[\u001b[1mtardis.simulation.base\u001b[0m][\u001b[1;37mINFO\u001b[0m   ]  \n",
      "\t\n",
      "\tLuminosity emitted   = 1.070e+43 erg / s\n",
      "\tLuminosity absorbed  = 3.335e+42 erg / s\n",
      "\tLuminosity requested = 1.059e+43 erg / s\n",
      " (\u001b[1mbase.py\u001b[0m:557)\n"
     ]
    },
    {
     "name": "stdout",
     "output_type": "stream",
     "text": [
      "[\u001b[1mtardis.simulation.base\u001b[0m][\u001b[1;37mINFO\u001b[0m   ]  \n",
      "\t\n",
      "\tPlasma stratification: (\u001b[1mbase.py\u001b[0m:525)\n"
     ]
    },
    {
     "data": {
      "text/html": [
       "<style type=\"text/css\">\n",
       "</style>\n",
       "<table id=\"T_27a8c\">\n",
       "  <thead>\n",
       "    <tr>\n",
       "      <th class=\"index_name level0\" >Shell No.</th>\n",
       "      <th id=\"T_27a8c_level0_col0\" class=\"col_heading level0 col0\" >t_rad</th>\n",
       "      <th id=\"T_27a8c_level0_col1\" class=\"col_heading level0 col1\" >next_t_rad</th>\n",
       "      <th id=\"T_27a8c_level0_col2\" class=\"col_heading level0 col2\" >w</th>\n",
       "      <th id=\"T_27a8c_level0_col3\" class=\"col_heading level0 col3\" >next_w</th>\n",
       "    </tr>\n",
       "  </thead>\n",
       "  <tbody>\n",
       "    <tr>\n",
       "      <th id=\"T_27a8c_level0_row0\" class=\"row_heading level0 row0\" >0</th>\n",
       "      <td id=\"T_27a8c_row0_col0\" class=\"data row0 col0\" >1.11e+04 K</td>\n",
       "      <td id=\"T_27a8c_row0_col1\" class=\"data row0 col1\" >1.1e+04 K</td>\n",
       "      <td id=\"T_27a8c_row0_col2\" class=\"data row0 col2\" >0.469</td>\n",
       "      <td id=\"T_27a8c_row0_col3\" class=\"data row0 col3\" >0.475</td>\n",
       "    </tr>\n",
       "    <tr>\n",
       "      <th id=\"T_27a8c_level0_row1\" class=\"row_heading level0 row1\" >5</th>\n",
       "      <td id=\"T_27a8c_row1_col0\" class=\"data row1 col0\" >1.15e+04 K</td>\n",
       "      <td id=\"T_27a8c_row1_col1\" class=\"data row1 col1\" >1.14e+04 K</td>\n",
       "      <td id=\"T_27a8c_row1_col2\" class=\"data row1 col2\" >0.17</td>\n",
       "      <td id=\"T_27a8c_row1_col3\" class=\"data row1 col3\" >0.177</td>\n",
       "    </tr>\n",
       "    <tr>\n",
       "      <th id=\"T_27a8c_level0_row2\" class=\"row_heading level0 row2\" >10</th>\n",
       "      <td id=\"T_27a8c_row2_col0\" class=\"data row2 col0\" >1.11e+04 K</td>\n",
       "      <td id=\"T_27a8c_row2_col1\" class=\"data row2 col1\" >1.11e+04 K</td>\n",
       "      <td id=\"T_27a8c_row2_col2\" class=\"data row2 col2\" >0.109</td>\n",
       "      <td id=\"T_27a8c_row2_col3\" class=\"data row2 col3\" >0.112</td>\n",
       "    </tr>\n",
       "    <tr>\n",
       "      <th id=\"T_27a8c_level0_row3\" class=\"row_heading level0 row3\" >15</th>\n",
       "      <td id=\"T_27a8c_row3_col0\" class=\"data row3 col0\" >1.08e+04 K</td>\n",
       "      <td id=\"T_27a8c_row3_col1\" class=\"data row3 col1\" >1.06e+04 K</td>\n",
       "      <td id=\"T_27a8c_row3_col2\" class=\"data row3 col2\" >0.0822</td>\n",
       "      <td id=\"T_27a8c_row3_col3\" class=\"data row3 col3\" >0.0878</td>\n",
       "    </tr>\n",
       "  </tbody>\n",
       "</table>\n"
      ],
      "text/plain": [
       "<pandas.io.formats.style.Styler at 0x7f1574ae1d10>"
      ]
     },
     "metadata": {},
     "output_type": "display_data"
    },
    {
     "name": "stdout",
     "output_type": "stream",
     "text": [
      "[\u001b[1mtardis.simulation.base\u001b[0m][\u001b[1;37mINFO\u001b[0m   ]  \n",
      "\t\n",
      "\tCurrent t_inner = 10654.313 K\n",
      "\tExpected t_inner for next iteration = 10628.190 K\n",
      " (\u001b[1mbase.py\u001b[0m:552)\n"
     ]
    },
    {
     "name": "stdout",
     "output_type": "stream",
     "text": [
      "[\u001b[1mpy.warnings         \u001b[0m][\u001b[1;33mWARNING\u001b[0m]  \n",
      "\t/home/runner/work/tardis/tardis/tardis/plasma/properties/radiative_properties.py:93: RuntimeWarning: invalid value encountered in divide\n",
      "  (g_lower * n_upper) / (g_upper * n_lower)\n",
      " (\u001b[1mwarnings.py\u001b[0m:109)\n"
     ]
    },
    {
     "name": "stdout",
     "output_type": "stream",
     "text": [
      "[\u001b[1mtardis.simulation.base\u001b[0m][\u001b[1;37mINFO\u001b[0m   ]  \n",
      "\t\n",
      "\tStarting iteration 11 of 20 (\u001b[1mbase.py\u001b[0m:382)\n"
     ]
    },
    {
     "name": "stdout",
     "output_type": "stream",
     "text": [
      "[\u001b[1mtardis.simulation.base\u001b[0m][\u001b[1;37mINFO\u001b[0m   ]  \n",
      "\t\n",
      "\tLuminosity emitted   = 1.053e+43 erg / s\n",
      "\tLuminosity absorbed  = 3.363e+42 erg / s\n",
      "\tLuminosity requested = 1.059e+43 erg / s\n",
      " (\u001b[1mbase.py\u001b[0m:557)\n"
     ]
    },
    {
     "name": "stdout",
     "output_type": "stream",
     "text": [
      "[\u001b[1mtardis.simulation.base\u001b[0m][\u001b[1;37mINFO\u001b[0m   ]  \n",
      "\tIteration converged 1/4 consecutive times. (\u001b[1mbase.py\u001b[0m:257)\n"
     ]
    },
    {
     "name": "stdout",
     "output_type": "stream",
     "text": [
      "[\u001b[1mtardis.simulation.base\u001b[0m][\u001b[1;37mINFO\u001b[0m   ]  \n",
      "\t\n",
      "\tPlasma stratification: (\u001b[1mbase.py\u001b[0m:525)\n"
     ]
    },
    {
     "data": {
      "text/html": [
       "<style type=\"text/css\">\n",
       "</style>\n",
       "<table id=\"T_f91ef\">\n",
       "  <thead>\n",
       "    <tr>\n",
       "      <th class=\"index_name level0\" >Shell No.</th>\n",
       "      <th id=\"T_f91ef_level0_col0\" class=\"col_heading level0 col0\" >t_rad</th>\n",
       "      <th id=\"T_f91ef_level0_col1\" class=\"col_heading level0 col1\" >next_t_rad</th>\n",
       "      <th id=\"T_f91ef_level0_col2\" class=\"col_heading level0 col2\" >w</th>\n",
       "      <th id=\"T_f91ef_level0_col3\" class=\"col_heading level0 col3\" >next_w</th>\n",
       "    </tr>\n",
       "  </thead>\n",
       "  <tbody>\n",
       "    <tr>\n",
       "      <th id=\"T_f91ef_level0_row0\" class=\"row_heading level0 row0\" >0</th>\n",
       "      <td id=\"T_f91ef_row0_col0\" class=\"data row0 col0\" >1.1e+04 K</td>\n",
       "      <td id=\"T_f91ef_row0_col1\" class=\"data row0 col1\" >1.1e+04 K</td>\n",
       "      <td id=\"T_f91ef_row0_col2\" class=\"data row0 col2\" >0.475</td>\n",
       "      <td id=\"T_f91ef_row0_col3\" class=\"data row0 col3\" >0.472</td>\n",
       "    </tr>\n",
       "    <tr>\n",
       "      <th id=\"T_f91ef_level0_row1\" class=\"row_heading level0 row1\" >5</th>\n",
       "      <td id=\"T_f91ef_row1_col0\" class=\"data row1 col0\" >1.14e+04 K</td>\n",
       "      <td id=\"T_f91ef_row1_col1\" class=\"data row1 col1\" >1.12e+04 K</td>\n",
       "      <td id=\"T_f91ef_row1_col2\" class=\"data row1 col2\" >0.177</td>\n",
       "      <td id=\"T_f91ef_row1_col3\" class=\"data row1 col3\" >0.184</td>\n",
       "    </tr>\n",
       "    <tr>\n",
       "      <th id=\"T_f91ef_level0_row2\" class=\"row_heading level0 row2\" >10</th>\n",
       "      <td id=\"T_f91ef_row2_col0\" class=\"data row2 col0\" >1.11e+04 K</td>\n",
       "      <td id=\"T_f91ef_row2_col1\" class=\"data row2 col1\" >1.1e+04 K</td>\n",
       "      <td id=\"T_f91ef_row2_col2\" class=\"data row2 col2\" >0.112</td>\n",
       "      <td id=\"T_f91ef_row2_col3\" class=\"data row2 col3\" >0.114</td>\n",
       "    </tr>\n",
       "    <tr>\n",
       "      <th id=\"T_f91ef_level0_row3\" class=\"row_heading level0 row3\" >15</th>\n",
       "      <td id=\"T_f91ef_row3_col0\" class=\"data row3 col0\" >1.06e+04 K</td>\n",
       "      <td id=\"T_f91ef_row3_col1\" class=\"data row3 col1\" >1.06e+04 K</td>\n",
       "      <td id=\"T_f91ef_row3_col2\" class=\"data row3 col2\" >0.0878</td>\n",
       "      <td id=\"T_f91ef_row3_col3\" class=\"data row3 col3\" >0.0859</td>\n",
       "    </tr>\n",
       "  </tbody>\n",
       "</table>\n"
      ],
      "text/plain": [
       "<pandas.io.formats.style.Styler at 0x7f1574aec410>"
      ]
     },
     "metadata": {},
     "output_type": "display_data"
    },
    {
     "name": "stdout",
     "output_type": "stream",
     "text": [
      "[\u001b[1mtardis.simulation.base\u001b[0m][\u001b[1;37mINFO\u001b[0m   ]  \n",
      "\t\n",
      "\tCurrent t_inner = 10628.190 K\n",
      "\tExpected t_inner for next iteration = 10644.054 K\n",
      " (\u001b[1mbase.py\u001b[0m:552)\n"
     ]
    },
    {
     "name": "stdout",
     "output_type": "stream",
     "text": [
      "[\u001b[1mpy.warnings         \u001b[0m][\u001b[1;33mWARNING\u001b[0m]  \n",
      "\t/home/runner/work/tardis/tardis/tardis/plasma/properties/radiative_properties.py:93: RuntimeWarning: invalid value encountered in divide\n",
      "  (g_lower * n_upper) / (g_upper * n_lower)\n",
      " (\u001b[1mwarnings.py\u001b[0m:109)\n"
     ]
    },
    {
     "name": "stdout",
     "output_type": "stream",
     "text": [
      "[\u001b[1mtardis.simulation.base\u001b[0m][\u001b[1;37mINFO\u001b[0m   ]  \n",
      "\t\n",
      "\tStarting iteration 12 of 20 (\u001b[1mbase.py\u001b[0m:382)\n"
     ]
    },
    {
     "name": "stdout",
     "output_type": "stream",
     "text": [
      "[\u001b[1mtardis.simulation.base\u001b[0m][\u001b[1;37mINFO\u001b[0m   ]  \n",
      "\t\n",
      "\tLuminosity emitted   = 1.056e+43 erg / s\n",
      "\tLuminosity absorbed  = 3.420e+42 erg / s\n",
      "\tLuminosity requested = 1.059e+43 erg / s\n",
      " (\u001b[1mbase.py\u001b[0m:557)\n"
     ]
    },
    {
     "name": "stdout",
     "output_type": "stream",
     "text": [
      "[\u001b[1mtardis.simulation.base\u001b[0m][\u001b[1;37mINFO\u001b[0m   ]  \n",
      "\t\n",
      "\tPlasma stratification: (\u001b[1mbase.py\u001b[0m:525)\n"
     ]
    },
    {
     "data": {
      "text/html": [
       "<style type=\"text/css\">\n",
       "</style>\n",
       "<table id=\"T_6a823\">\n",
       "  <thead>\n",
       "    <tr>\n",
       "      <th class=\"index_name level0\" >Shell No.</th>\n",
       "      <th id=\"T_6a823_level0_col0\" class=\"col_heading level0 col0\" >t_rad</th>\n",
       "      <th id=\"T_6a823_level0_col1\" class=\"col_heading level0 col1\" >next_t_rad</th>\n",
       "      <th id=\"T_6a823_level0_col2\" class=\"col_heading level0 col2\" >w</th>\n",
       "      <th id=\"T_6a823_level0_col3\" class=\"col_heading level0 col3\" >next_w</th>\n",
       "    </tr>\n",
       "  </thead>\n",
       "  <tbody>\n",
       "    <tr>\n",
       "      <th id=\"T_6a823_level0_row0\" class=\"row_heading level0 row0\" >0</th>\n",
       "      <td id=\"T_6a823_row0_col0\" class=\"data row0 col0\" >1.1e+04 K</td>\n",
       "      <td id=\"T_6a823_row0_col1\" class=\"data row0 col1\" >1.11e+04 K</td>\n",
       "      <td id=\"T_6a823_row0_col2\" class=\"data row0 col2\" >0.472</td>\n",
       "      <td id=\"T_6a823_row0_col3\" class=\"data row0 col3\" >0.467</td>\n",
       "    </tr>\n",
       "    <tr>\n",
       "      <th id=\"T_6a823_level0_row1\" class=\"row_heading level0 row1\" >5</th>\n",
       "      <td id=\"T_6a823_row1_col0\" class=\"data row1 col0\" >1.12e+04 K</td>\n",
       "      <td id=\"T_6a823_row1_col1\" class=\"data row1 col1\" >1.13e+04 K</td>\n",
       "      <td id=\"T_6a823_row1_col2\" class=\"data row1 col2\" >0.184</td>\n",
       "      <td id=\"T_6a823_row1_col3\" class=\"data row1 col3\" >0.176</td>\n",
       "    </tr>\n",
       "    <tr>\n",
       "      <th id=\"T_6a823_level0_row2\" class=\"row_heading level0 row2\" >10</th>\n",
       "      <td id=\"T_6a823_row2_col0\" class=\"data row2 col0\" >1.1e+04 K</td>\n",
       "      <td id=\"T_6a823_row2_col1\" class=\"data row2 col1\" >1.11e+04 K</td>\n",
       "      <td id=\"T_6a823_row2_col2\" class=\"data row2 col2\" >0.114</td>\n",
       "      <td id=\"T_6a823_row2_col3\" class=\"data row2 col3\" >0.11</td>\n",
       "    </tr>\n",
       "    <tr>\n",
       "      <th id=\"T_6a823_level0_row3\" class=\"row_heading level0 row3\" >15</th>\n",
       "      <td id=\"T_6a823_row3_col0\" class=\"data row3 col0\" >1.06e+04 K</td>\n",
       "      <td id=\"T_6a823_row3_col1\" class=\"data row3 col1\" >1.08e+04 K</td>\n",
       "      <td id=\"T_6a823_row3_col2\" class=\"data row3 col2\" >0.0859</td>\n",
       "      <td id=\"T_6a823_row3_col3\" class=\"data row3 col3\" >0.0821</td>\n",
       "    </tr>\n",
       "  </tbody>\n",
       "</table>\n"
      ],
      "text/plain": [
       "<pandas.io.formats.style.Styler at 0x7f1574afd450>"
      ]
     },
     "metadata": {},
     "output_type": "display_data"
    },
    {
     "name": "stdout",
     "output_type": "stream",
     "text": [
      "[\u001b[1mtardis.simulation.base\u001b[0m][\u001b[1;37mINFO\u001b[0m   ]  \n",
      "\t\n",
      "\tCurrent t_inner = 10644.054 K\n",
      "\tExpected t_inner for next iteration = 10653.543 K\n",
      " (\u001b[1mbase.py\u001b[0m:552)\n"
     ]
    },
    {
     "name": "stdout",
     "output_type": "stream",
     "text": [
      "[\u001b[1mpy.warnings         \u001b[0m][\u001b[1;33mWARNING\u001b[0m]  \n",
      "\t/home/runner/work/tardis/tardis/tardis/plasma/properties/radiative_properties.py:93: RuntimeWarning: invalid value encountered in divide\n",
      "  (g_lower * n_upper) / (g_upper * n_lower)\n",
      " (\u001b[1mwarnings.py\u001b[0m:109)\n"
     ]
    },
    {
     "name": "stdout",
     "output_type": "stream",
     "text": [
      "[\u001b[1mtardis.simulation.base\u001b[0m][\u001b[1;37mINFO\u001b[0m   ]  \n",
      "\t\n",
      "\tStarting iteration 13 of 20 (\u001b[1mbase.py\u001b[0m:382)\n"
     ]
    },
    {
     "name": "stdout",
     "output_type": "stream",
     "text": [
      "[\u001b[1mtardis.simulation.base\u001b[0m][\u001b[1;37mINFO\u001b[0m   ]  \n",
      "\t\n",
      "\tLuminosity emitted   = 1.062e+43 erg / s\n",
      "\tLuminosity absorbed  = 3.406e+42 erg / s\n",
      "\tLuminosity requested = 1.059e+43 erg / s\n",
      " (\u001b[1mbase.py\u001b[0m:557)\n"
     ]
    },
    {
     "name": "stdout",
     "output_type": "stream",
     "text": [
      "[\u001b[1mtardis.simulation.base\u001b[0m][\u001b[1;37mINFO\u001b[0m   ]  \n",
      "\tIteration converged 1/4 consecutive times. (\u001b[1mbase.py\u001b[0m:257)\n"
     ]
    },
    {
     "name": "stdout",
     "output_type": "stream",
     "text": [
      "[\u001b[1mtardis.simulation.base\u001b[0m][\u001b[1;37mINFO\u001b[0m   ]  \n",
      "\t\n",
      "\tPlasma stratification: (\u001b[1mbase.py\u001b[0m:525)\n"
     ]
    },
    {
     "data": {
      "text/html": [
       "<style type=\"text/css\">\n",
       "</style>\n",
       "<table id=\"T_17a4a\">\n",
       "  <thead>\n",
       "    <tr>\n",
       "      <th class=\"index_name level0\" >Shell No.</th>\n",
       "      <th id=\"T_17a4a_level0_col0\" class=\"col_heading level0 col0\" >t_rad</th>\n",
       "      <th id=\"T_17a4a_level0_col1\" class=\"col_heading level0 col1\" >next_t_rad</th>\n",
       "      <th id=\"T_17a4a_level0_col2\" class=\"col_heading level0 col2\" >w</th>\n",
       "      <th id=\"T_17a4a_level0_col3\" class=\"col_heading level0 col3\" >next_w</th>\n",
       "    </tr>\n",
       "  </thead>\n",
       "  <tbody>\n",
       "    <tr>\n",
       "      <th id=\"T_17a4a_level0_row0\" class=\"row_heading level0 row0\" >0</th>\n",
       "      <td id=\"T_17a4a_row0_col0\" class=\"data row0 col0\" >1.11e+04 K</td>\n",
       "      <td id=\"T_17a4a_row0_col1\" class=\"data row0 col1\" >1.11e+04 K</td>\n",
       "      <td id=\"T_17a4a_row0_col2\" class=\"data row0 col2\" >0.467</td>\n",
       "      <td id=\"T_17a4a_row0_col3\" class=\"data row0 col3\" >0.466</td>\n",
       "    </tr>\n",
       "    <tr>\n",
       "      <th id=\"T_17a4a_level0_row1\" class=\"row_heading level0 row1\" >5</th>\n",
       "      <td id=\"T_17a4a_row1_col0\" class=\"data row1 col0\" >1.13e+04 K</td>\n",
       "      <td id=\"T_17a4a_row1_col1\" class=\"data row1 col1\" >1.13e+04 K</td>\n",
       "      <td id=\"T_17a4a_row1_col2\" class=\"data row1 col2\" >0.176</td>\n",
       "      <td id=\"T_17a4a_row1_col3\" class=\"data row1 col3\" >0.18</td>\n",
       "    </tr>\n",
       "    <tr>\n",
       "      <th id=\"T_17a4a_level0_row2\" class=\"row_heading level0 row2\" >10</th>\n",
       "      <td id=\"T_17a4a_row2_col0\" class=\"data row2 col0\" >1.11e+04 K</td>\n",
       "      <td id=\"T_17a4a_row2_col1\" class=\"data row2 col1\" >1.11e+04 K</td>\n",
       "      <td id=\"T_17a4a_row2_col2\" class=\"data row2 col2\" >0.11</td>\n",
       "      <td id=\"T_17a4a_row2_col3\" class=\"data row2 col3\" >0.111</td>\n",
       "    </tr>\n",
       "    <tr>\n",
       "      <th id=\"T_17a4a_level0_row3\" class=\"row_heading level0 row3\" >15</th>\n",
       "      <td id=\"T_17a4a_row3_col0\" class=\"data row3 col0\" >1.08e+04 K</td>\n",
       "      <td id=\"T_17a4a_row3_col1\" class=\"data row3 col1\" >1.08e+04 K</td>\n",
       "      <td id=\"T_17a4a_row3_col2\" class=\"data row3 col2\" >0.0821</td>\n",
       "      <td id=\"T_17a4a_row3_col3\" class=\"data row3 col3\" >0.0841</td>\n",
       "    </tr>\n",
       "  </tbody>\n",
       "</table>\n"
      ],
      "text/plain": [
       "<pandas.io.formats.style.Styler at 0x7f157e33c8d0>"
      ]
     },
     "metadata": {},
     "output_type": "display_data"
    },
    {
     "name": "stdout",
     "output_type": "stream",
     "text": [
      "[\u001b[1mtardis.simulation.base\u001b[0m][\u001b[1;37mINFO\u001b[0m   ]  \n",
      "\t\n",
      "\tCurrent t_inner = 10653.543 K\n",
      "\tExpected t_inner for next iteration = 10647.277 K\n",
      " (\u001b[1mbase.py\u001b[0m:552)\n"
     ]
    },
    {
     "name": "stdout",
     "output_type": "stream",
     "text": [
      "[\u001b[1mpy.warnings         \u001b[0m][\u001b[1;33mWARNING\u001b[0m]  \n",
      "\t/home/runner/work/tardis/tardis/tardis/plasma/properties/radiative_properties.py:93: RuntimeWarning: invalid value encountered in divide\n",
      "  (g_lower * n_upper) / (g_upper * n_lower)\n",
      " (\u001b[1mwarnings.py\u001b[0m:109)\n"
     ]
    },
    {
     "name": "stdout",
     "output_type": "stream",
     "text": [
      "[\u001b[1mtardis.simulation.base\u001b[0m][\u001b[1;37mINFO\u001b[0m   ]  \n",
      "\t\n",
      "\tStarting iteration 14 of 20 (\u001b[1mbase.py\u001b[0m:382)\n"
     ]
    },
    {
     "name": "stdout",
     "output_type": "stream",
     "text": [
      "[\u001b[1mtardis.simulation.base\u001b[0m][\u001b[1;37mINFO\u001b[0m   ]  \n",
      "\t\n",
      "\tLuminosity emitted   = 1.063e+43 erg / s\n",
      "\tLuminosity absorbed  = 3.369e+42 erg / s\n",
      "\tLuminosity requested = 1.059e+43 erg / s\n",
      " (\u001b[1mbase.py\u001b[0m:557)\n"
     ]
    },
    {
     "name": "stdout",
     "output_type": "stream",
     "text": [
      "[\u001b[1mtardis.simulation.base\u001b[0m][\u001b[1;37mINFO\u001b[0m   ]  \n",
      "\tIteration converged 2/4 consecutive times. (\u001b[1mbase.py\u001b[0m:257)\n"
     ]
    },
    {
     "name": "stdout",
     "output_type": "stream",
     "text": [
      "[\u001b[1mtardis.simulation.base\u001b[0m][\u001b[1;37mINFO\u001b[0m   ]  \n",
      "\t\n",
      "\tPlasma stratification: (\u001b[1mbase.py\u001b[0m:525)\n"
     ]
    },
    {
     "data": {
      "text/html": [
       "<style type=\"text/css\">\n",
       "</style>\n",
       "<table id=\"T_7f01f\">\n",
       "  <thead>\n",
       "    <tr>\n",
       "      <th class=\"index_name level0\" >Shell No.</th>\n",
       "      <th id=\"T_7f01f_level0_col0\" class=\"col_heading level0 col0\" >t_rad</th>\n",
       "      <th id=\"T_7f01f_level0_col1\" class=\"col_heading level0 col1\" >next_t_rad</th>\n",
       "      <th id=\"T_7f01f_level0_col2\" class=\"col_heading level0 col2\" >w</th>\n",
       "      <th id=\"T_7f01f_level0_col3\" class=\"col_heading level0 col3\" >next_w</th>\n",
       "    </tr>\n",
       "  </thead>\n",
       "  <tbody>\n",
       "    <tr>\n",
       "      <th id=\"T_7f01f_level0_row0\" class=\"row_heading level0 row0\" >0</th>\n",
       "      <td id=\"T_7f01f_row0_col0\" class=\"data row0 col0\" >1.11e+04 K</td>\n",
       "      <td id=\"T_7f01f_row0_col1\" class=\"data row0 col1\" >1.11e+04 K</td>\n",
       "      <td id=\"T_7f01f_row0_col2\" class=\"data row0 col2\" >0.466</td>\n",
       "      <td id=\"T_7f01f_row0_col3\" class=\"data row0 col3\" >0.469</td>\n",
       "    </tr>\n",
       "    <tr>\n",
       "      <th id=\"T_7f01f_level0_row1\" class=\"row_heading level0 row1\" >5</th>\n",
       "      <td id=\"T_7f01f_row1_col0\" class=\"data row1 col0\" >1.13e+04 K</td>\n",
       "      <td id=\"T_7f01f_row1_col1\" class=\"data row1 col1\" >1.13e+04 K</td>\n",
       "      <td id=\"T_7f01f_row1_col2\" class=\"data row1 col2\" >0.18</td>\n",
       "      <td id=\"T_7f01f_row1_col3\" class=\"data row1 col3\" >0.182</td>\n",
       "    </tr>\n",
       "    <tr>\n",
       "      <th id=\"T_7f01f_level0_row2\" class=\"row_heading level0 row2\" >10</th>\n",
       "      <td id=\"T_7f01f_row2_col0\" class=\"data row2 col0\" >1.11e+04 K</td>\n",
       "      <td id=\"T_7f01f_row2_col1\" class=\"data row2 col1\" >1.1e+04 K</td>\n",
       "      <td id=\"T_7f01f_row2_col2\" class=\"data row2 col2\" >0.111</td>\n",
       "      <td id=\"T_7f01f_row2_col3\" class=\"data row2 col3\" >0.113</td>\n",
       "    </tr>\n",
       "    <tr>\n",
       "      <th id=\"T_7f01f_level0_row3\" class=\"row_heading level0 row3\" >15</th>\n",
       "      <td id=\"T_7f01f_row3_col0\" class=\"data row3 col0\" >1.08e+04 K</td>\n",
       "      <td id=\"T_7f01f_row3_col1\" class=\"data row3 col1\" >1.07e+04 K</td>\n",
       "      <td id=\"T_7f01f_row3_col2\" class=\"data row3 col2\" >0.0841</td>\n",
       "      <td id=\"T_7f01f_row3_col3\" class=\"data row3 col3\" >0.0854</td>\n",
       "    </tr>\n",
       "  </tbody>\n",
       "</table>\n"
      ],
      "text/plain": [
       "<pandas.io.formats.style.Styler at 0x7f1574ac8810>"
      ]
     },
     "metadata": {},
     "output_type": "display_data"
    },
    {
     "name": "stdout",
     "output_type": "stream",
     "text": [
      "[\u001b[1mtardis.simulation.base\u001b[0m][\u001b[1;37mINFO\u001b[0m   ]  \n",
      "\t\n",
      "\tCurrent t_inner = 10647.277 K\n",
      "\tExpected t_inner for next iteration = 10638.875 K\n",
      " (\u001b[1mbase.py\u001b[0m:552)\n"
     ]
    },
    {
     "name": "stdout",
     "output_type": "stream",
     "text": [
      "[\u001b[1mpy.warnings         \u001b[0m][\u001b[1;33mWARNING\u001b[0m]  \n",
      "\t/home/runner/work/tardis/tardis/tardis/plasma/properties/radiative_properties.py:93: RuntimeWarning: invalid value encountered in divide\n",
      "  (g_lower * n_upper) / (g_upper * n_lower)\n",
      " (\u001b[1mwarnings.py\u001b[0m:109)\n"
     ]
    },
    {
     "name": "stdout",
     "output_type": "stream",
     "text": [
      "[\u001b[1mtardis.simulation.base\u001b[0m][\u001b[1;37mINFO\u001b[0m   ]  \n",
      "\t\n",
      "\tStarting iteration 15 of 20 (\u001b[1mbase.py\u001b[0m:382)\n"
     ]
    },
    {
     "name": "stdout",
     "output_type": "stream",
     "text": [
      "[\u001b[1mtardis.simulation.base\u001b[0m][\u001b[1;37mINFO\u001b[0m   ]  \n",
      "\t\n",
      "\tLuminosity emitted   = 1.053e+43 erg / s\n",
      "\tLuminosity absorbed  = 3.417e+42 erg / s\n",
      "\tLuminosity requested = 1.059e+43 erg / s\n",
      " (\u001b[1mbase.py\u001b[0m:557)\n"
     ]
    },
    {
     "name": "stdout",
     "output_type": "stream",
     "text": [
      "[\u001b[1mtardis.simulation.base\u001b[0m][\u001b[1;37mINFO\u001b[0m   ]  \n",
      "\tIteration converged 3/4 consecutive times. (\u001b[1mbase.py\u001b[0m:257)\n"
     ]
    },
    {
     "name": "stdout",
     "output_type": "stream",
     "text": [
      "[\u001b[1mtardis.simulation.base\u001b[0m][\u001b[1;37mINFO\u001b[0m   ]  \n",
      "\t\n",
      "\tPlasma stratification: (\u001b[1mbase.py\u001b[0m:525)\n"
     ]
    },
    {
     "data": {
      "text/html": [
       "<style type=\"text/css\">\n",
       "</style>\n",
       "<table id=\"T_9a190\">\n",
       "  <thead>\n",
       "    <tr>\n",
       "      <th class=\"index_name level0\" >Shell No.</th>\n",
       "      <th id=\"T_9a190_level0_col0\" class=\"col_heading level0 col0\" >t_rad</th>\n",
       "      <th id=\"T_9a190_level0_col1\" class=\"col_heading level0 col1\" >next_t_rad</th>\n",
       "      <th id=\"T_9a190_level0_col2\" class=\"col_heading level0 col2\" >w</th>\n",
       "      <th id=\"T_9a190_level0_col3\" class=\"col_heading level0 col3\" >next_w</th>\n",
       "    </tr>\n",
       "  </thead>\n",
       "  <tbody>\n",
       "    <tr>\n",
       "      <th id=\"T_9a190_level0_row0\" class=\"row_heading level0 row0\" >0</th>\n",
       "      <td id=\"T_9a190_row0_col0\" class=\"data row0 col0\" >1.11e+04 K</td>\n",
       "      <td id=\"T_9a190_row0_col1\" class=\"data row0 col1\" >1.1e+04 K</td>\n",
       "      <td id=\"T_9a190_row0_col2\" class=\"data row0 col2\" >0.469</td>\n",
       "      <td id=\"T_9a190_row0_col3\" class=\"data row0 col3\" >0.484</td>\n",
       "    </tr>\n",
       "    <tr>\n",
       "      <th id=\"T_9a190_level0_row1\" class=\"row_heading level0 row1\" >5</th>\n",
       "      <td id=\"T_9a190_row1_col0\" class=\"data row1 col0\" >1.13e+04 K</td>\n",
       "      <td id=\"T_9a190_row1_col1\" class=\"data row1 col1\" >1.13e+04 K</td>\n",
       "      <td id=\"T_9a190_row1_col2\" class=\"data row1 col2\" >0.182</td>\n",
       "      <td id=\"T_9a190_row1_col3\" class=\"data row1 col3\" >0.181</td>\n",
       "    </tr>\n",
       "    <tr>\n",
       "      <th id=\"T_9a190_level0_row2\" class=\"row_heading level0 row2\" >10</th>\n",
       "      <td id=\"T_9a190_row2_col0\" class=\"data row2 col0\" >1.1e+04 K</td>\n",
       "      <td id=\"T_9a190_row2_col1\" class=\"data row2 col1\" >1.1e+04 K</td>\n",
       "      <td id=\"T_9a190_row2_col2\" class=\"data row2 col2\" >0.113</td>\n",
       "      <td id=\"T_9a190_row2_col3\" class=\"data row2 col3\" >0.113</td>\n",
       "    </tr>\n",
       "    <tr>\n",
       "      <th id=\"T_9a190_level0_row3\" class=\"row_heading level0 row3\" >15</th>\n",
       "      <td id=\"T_9a190_row3_col0\" class=\"data row3 col0\" >1.07e+04 K</td>\n",
       "      <td id=\"T_9a190_row3_col1\" class=\"data row3 col1\" >1.07e+04 K</td>\n",
       "      <td id=\"T_9a190_row3_col2\" class=\"data row3 col2\" >0.0854</td>\n",
       "      <td id=\"T_9a190_row3_col3\" class=\"data row3 col3\" >0.0858</td>\n",
       "    </tr>\n",
       "  </tbody>\n",
       "</table>\n"
      ],
      "text/plain": [
       "<pandas.io.formats.style.Styler at 0x7f1574ac9790>"
      ]
     },
     "metadata": {},
     "output_type": "display_data"
    },
    {
     "name": "stdout",
     "output_type": "stream",
     "text": [
      "[\u001b[1mtardis.simulation.base\u001b[0m][\u001b[1;37mINFO\u001b[0m   ]  \n",
      "\t\n",
      "\tCurrent t_inner = 10638.875 K\n",
      "\tExpected t_inner for next iteration = 10655.125 K\n",
      " (\u001b[1mbase.py\u001b[0m:552)\n"
     ]
    },
    {
     "name": "stdout",
     "output_type": "stream",
     "text": [
      "[\u001b[1mpy.warnings         \u001b[0m][\u001b[1;33mWARNING\u001b[0m]  \n",
      "\t/home/runner/work/tardis/tardis/tardis/plasma/properties/radiative_properties.py:93: RuntimeWarning: invalid value encountered in divide\n",
      "  (g_lower * n_upper) / (g_upper * n_lower)\n",
      " (\u001b[1mwarnings.py\u001b[0m:109)\n"
     ]
    },
    {
     "name": "stdout",
     "output_type": "stream",
     "text": [
      "[\u001b[1mtardis.simulation.base\u001b[0m][\u001b[1;37mINFO\u001b[0m   ]  \n",
      "\t\n",
      "\tStarting iteration 16 of 20 (\u001b[1mbase.py\u001b[0m:382)\n"
     ]
    },
    {
     "name": "stdout",
     "output_type": "stream",
     "text": [
      "[\u001b[1mtardis.simulation.base\u001b[0m][\u001b[1;37mINFO\u001b[0m   ]  \n",
      "\t\n",
      "\tLuminosity emitted   = 1.059e+43 erg / s\n",
      "\tLuminosity absorbed  = 3.445e+42 erg / s\n",
      "\tLuminosity requested = 1.059e+43 erg / s\n",
      " (\u001b[1mbase.py\u001b[0m:557)\n"
     ]
    },
    {
     "name": "stdout",
     "output_type": "stream",
     "text": [
      "[\u001b[1mtardis.simulation.base\u001b[0m][\u001b[1;37mINFO\u001b[0m   ]  \n",
      "\tIteration converged 4/4 consecutive times. (\u001b[1mbase.py\u001b[0m:257)\n"
     ]
    },
    {
     "name": "stdout",
     "output_type": "stream",
     "text": [
      "[\u001b[1mtardis.simulation.base\u001b[0m][\u001b[1;37mINFO\u001b[0m   ]  \n",
      "\t\n",
      "\tPlasma stratification: (\u001b[1mbase.py\u001b[0m:525)\n"
     ]
    },
    {
     "data": {
      "text/html": [
       "<style type=\"text/css\">\n",
       "</style>\n",
       "<table id=\"T_06689\">\n",
       "  <thead>\n",
       "    <tr>\n",
       "      <th class=\"index_name level0\" >Shell No.</th>\n",
       "      <th id=\"T_06689_level0_col0\" class=\"col_heading level0 col0\" >t_rad</th>\n",
       "      <th id=\"T_06689_level0_col1\" class=\"col_heading level0 col1\" >next_t_rad</th>\n",
       "      <th id=\"T_06689_level0_col2\" class=\"col_heading level0 col2\" >w</th>\n",
       "      <th id=\"T_06689_level0_col3\" class=\"col_heading level0 col3\" >next_w</th>\n",
       "    </tr>\n",
       "  </thead>\n",
       "  <tbody>\n",
       "    <tr>\n",
       "      <th id=\"T_06689_level0_row0\" class=\"row_heading level0 row0\" >0</th>\n",
       "      <td id=\"T_06689_row0_col0\" class=\"data row0 col0\" >1.1e+04 K</td>\n",
       "      <td id=\"T_06689_row0_col1\" class=\"data row0 col1\" >1.1e+04 K</td>\n",
       "      <td id=\"T_06689_row0_col2\" class=\"data row0 col2\" >0.484</td>\n",
       "      <td id=\"T_06689_row0_col3\" class=\"data row0 col3\" >0.472</td>\n",
       "    </tr>\n",
       "    <tr>\n",
       "      <th id=\"T_06689_level0_row1\" class=\"row_heading level0 row1\" >5</th>\n",
       "      <td id=\"T_06689_row1_col0\" class=\"data row1 col0\" >1.13e+04 K</td>\n",
       "      <td id=\"T_06689_row1_col1\" class=\"data row1 col1\" >1.13e+04 K</td>\n",
       "      <td id=\"T_06689_row1_col2\" class=\"data row1 col2\" >0.181</td>\n",
       "      <td id=\"T_06689_row1_col3\" class=\"data row1 col3\" >0.177</td>\n",
       "    </tr>\n",
       "    <tr>\n",
       "      <th id=\"T_06689_level0_row2\" class=\"row_heading level0 row2\" >10</th>\n",
       "      <td id=\"T_06689_row2_col0\" class=\"data row2 col0\" >1.1e+04 K</td>\n",
       "      <td id=\"T_06689_row2_col1\" class=\"data row2 col1\" >1.1e+04 K</td>\n",
       "      <td id=\"T_06689_row2_col2\" class=\"data row2 col2\" >0.113</td>\n",
       "      <td id=\"T_06689_row2_col3\" class=\"data row2 col3\" >0.113</td>\n",
       "    </tr>\n",
       "    <tr>\n",
       "      <th id=\"T_06689_level0_row3\" class=\"row_heading level0 row3\" >15</th>\n",
       "      <td id=\"T_06689_row3_col0\" class=\"data row3 col0\" >1.07e+04 K</td>\n",
       "      <td id=\"T_06689_row3_col1\" class=\"data row3 col1\" >1.06e+04 K</td>\n",
       "      <td id=\"T_06689_row3_col2\" class=\"data row3 col2\" >0.0858</td>\n",
       "      <td id=\"T_06689_row3_col3\" class=\"data row3 col3\" >0.0858</td>\n",
       "    </tr>\n",
       "  </tbody>\n",
       "</table>\n"
      ],
      "text/plain": [
       "<pandas.io.formats.style.Styler at 0x7f157e33ef10>"
      ]
     },
     "metadata": {},
     "output_type": "display_data"
    },
    {
     "name": "stdout",
     "output_type": "stream",
     "text": [
      "[\u001b[1mtardis.simulation.base\u001b[0m][\u001b[1;37mINFO\u001b[0m   ]  \n",
      "\t\n",
      "\tCurrent t_inner = 10655.125 K\n",
      "\tExpected t_inner for next iteration = 10655.561 K\n",
      " (\u001b[1mbase.py\u001b[0m:552)\n"
     ]
    },
    {
     "name": "stdout",
     "output_type": "stream",
     "text": [
      "[\u001b[1mpy.warnings         \u001b[0m][\u001b[1;33mWARNING\u001b[0m]  \n",
      "\t/home/runner/work/tardis/tardis/tardis/plasma/properties/radiative_properties.py:93: RuntimeWarning: invalid value encountered in divide\n",
      "  (g_lower * n_upper) / (g_upper * n_lower)\n",
      " (\u001b[1mwarnings.py\u001b[0m:109)\n"
     ]
    },
    {
     "name": "stdout",
     "output_type": "stream",
     "text": [
      "[\u001b[1mtardis.simulation.base\u001b[0m][\u001b[1;37mINFO\u001b[0m   ]  \n",
      "\t\n",
      "\tStarting iteration 17 of 20 (\u001b[1mbase.py\u001b[0m:382)\n"
     ]
    },
    {
     "name": "stdout",
     "output_type": "stream",
     "text": [
      "[\u001b[1mtardis.simulation.base\u001b[0m][\u001b[1;37mINFO\u001b[0m   ]  \n",
      "\t\n",
      "\tLuminosity emitted   = 1.067e+43 erg / s\n",
      "\tLuminosity absorbed  = 3.372e+42 erg / s\n",
      "\tLuminosity requested = 1.059e+43 erg / s\n",
      " (\u001b[1mbase.py\u001b[0m:557)\n"
     ]
    },
    {
     "name": "stdout",
     "output_type": "stream",
     "text": [
      "[\u001b[1mtardis.simulation.base\u001b[0m][\u001b[1;37mINFO\u001b[0m   ]  \n",
      "\t\n",
      "\tPlasma stratification: (\u001b[1mbase.py\u001b[0m:525)\n"
     ]
    },
    {
     "data": {
      "text/html": [
       "<style type=\"text/css\">\n",
       "</style>\n",
       "<table id=\"T_3056f\">\n",
       "  <thead>\n",
       "    <tr>\n",
       "      <th class=\"index_name level0\" >Shell No.</th>\n",
       "      <th id=\"T_3056f_level0_col0\" class=\"col_heading level0 col0\" >t_rad</th>\n",
       "      <th id=\"T_3056f_level0_col1\" class=\"col_heading level0 col1\" >next_t_rad</th>\n",
       "      <th id=\"T_3056f_level0_col2\" class=\"col_heading level0 col2\" >w</th>\n",
       "      <th id=\"T_3056f_level0_col3\" class=\"col_heading level0 col3\" >next_w</th>\n",
       "    </tr>\n",
       "  </thead>\n",
       "  <tbody>\n",
       "    <tr>\n",
       "      <th id=\"T_3056f_level0_row0\" class=\"row_heading level0 row0\" >0</th>\n",
       "      <td id=\"T_3056f_row0_col0\" class=\"data row0 col0\" >1.1e+04 K</td>\n",
       "      <td id=\"T_3056f_row0_col1\" class=\"data row0 col1\" >1.11e+04 K</td>\n",
       "      <td id=\"T_3056f_row0_col2\" class=\"data row0 col2\" >0.472</td>\n",
       "      <td id=\"T_3056f_row0_col3\" class=\"data row0 col3\" >0.468</td>\n",
       "    </tr>\n",
       "    <tr>\n",
       "      <th id=\"T_3056f_level0_row1\" class=\"row_heading level0 row1\" >5</th>\n",
       "      <td id=\"T_3056f_row1_col0\" class=\"data row1 col0\" >1.13e+04 K</td>\n",
       "      <td id=\"T_3056f_row1_col1\" class=\"data row1 col1\" >1.14e+04 K</td>\n",
       "      <td id=\"T_3056f_row1_col2\" class=\"data row1 col2\" >0.177</td>\n",
       "      <td id=\"T_3056f_row1_col3\" class=\"data row1 col3\" >0.175</td>\n",
       "    </tr>\n",
       "    <tr>\n",
       "      <th id=\"T_3056f_level0_row2\" class=\"row_heading level0 row2\" >10</th>\n",
       "      <td id=\"T_3056f_row2_col0\" class=\"data row2 col0\" >1.1e+04 K</td>\n",
       "      <td id=\"T_3056f_row2_col1\" class=\"data row2 col1\" >1.11e+04 K</td>\n",
       "      <td id=\"T_3056f_row2_col2\" class=\"data row2 col2\" >0.113</td>\n",
       "      <td id=\"T_3056f_row2_col3\" class=\"data row2 col3\" >0.11</td>\n",
       "    </tr>\n",
       "    <tr>\n",
       "      <th id=\"T_3056f_level0_row3\" class=\"row_heading level0 row3\" >15</th>\n",
       "      <td id=\"T_3056f_row3_col0\" class=\"data row3 col0\" >1.06e+04 K</td>\n",
       "      <td id=\"T_3056f_row3_col1\" class=\"data row3 col1\" >1.08e+04 K</td>\n",
       "      <td id=\"T_3056f_row3_col2\" class=\"data row3 col2\" >0.0858</td>\n",
       "      <td id=\"T_3056f_row3_col3\" class=\"data row3 col3\" >0.0816</td>\n",
       "    </tr>\n",
       "  </tbody>\n",
       "</table>\n"
      ],
      "text/plain": [
       "<pandas.io.formats.style.Styler at 0x7f1574ac9f10>"
      ]
     },
     "metadata": {},
     "output_type": "display_data"
    },
    {
     "name": "stdout",
     "output_type": "stream",
     "text": [
      "[\u001b[1mtardis.simulation.base\u001b[0m][\u001b[1;37mINFO\u001b[0m   ]  \n",
      "\t\n",
      "\tCurrent t_inner = 10655.561 K\n",
      "\tExpected t_inner for next iteration = 10636.536 K\n",
      " (\u001b[1mbase.py\u001b[0m:552)\n"
     ]
    },
    {
     "name": "stdout",
     "output_type": "stream",
     "text": [
      "[\u001b[1mpy.warnings         \u001b[0m][\u001b[1;33mWARNING\u001b[0m]  \n",
      "\t/home/runner/work/tardis/tardis/tardis/plasma/properties/radiative_properties.py:93: RuntimeWarning: invalid value encountered in divide\n",
      "  (g_lower * n_upper) / (g_upper * n_lower)\n",
      " (\u001b[1mwarnings.py\u001b[0m:109)\n"
     ]
    },
    {
     "name": "stdout",
     "output_type": "stream",
     "text": [
      "[\u001b[1mtardis.simulation.base\u001b[0m][\u001b[1;37mINFO\u001b[0m   ]  \n",
      "\t\n",
      "\tStarting iteration 18 of 20 (\u001b[1mbase.py\u001b[0m:382)\n"
     ]
    },
    {
     "name": "stdout",
     "output_type": "stream",
     "text": [
      "[\u001b[1mtardis.simulation.base\u001b[0m][\u001b[1;37mINFO\u001b[0m   ]  \n",
      "\t\n",
      "\tLuminosity emitted   = 1.057e+43 erg / s\n",
      "\tLuminosity absorbed  = 3.365e+42 erg / s\n",
      "\tLuminosity requested = 1.059e+43 erg / s\n",
      " (\u001b[1mbase.py\u001b[0m:557)\n"
     ]
    },
    {
     "name": "stdout",
     "output_type": "stream",
     "text": [
      "[\u001b[1mtardis.simulation.base\u001b[0m][\u001b[1;37mINFO\u001b[0m   ]  \n",
      "\tIteration converged 1/4 consecutive times. (\u001b[1mbase.py\u001b[0m:257)\n"
     ]
    },
    {
     "name": "stdout",
     "output_type": "stream",
     "text": [
      "[\u001b[1mtardis.simulation.base\u001b[0m][\u001b[1;37mINFO\u001b[0m   ]  \n",
      "\t\n",
      "\tPlasma stratification: (\u001b[1mbase.py\u001b[0m:525)\n"
     ]
    },
    {
     "data": {
      "text/html": [
       "<style type=\"text/css\">\n",
       "</style>\n",
       "<table id=\"T_f04be\">\n",
       "  <thead>\n",
       "    <tr>\n",
       "      <th class=\"index_name level0\" >Shell No.</th>\n",
       "      <th id=\"T_f04be_level0_col0\" class=\"col_heading level0 col0\" >t_rad</th>\n",
       "      <th id=\"T_f04be_level0_col1\" class=\"col_heading level0 col1\" >next_t_rad</th>\n",
       "      <th id=\"T_f04be_level0_col2\" class=\"col_heading level0 col2\" >w</th>\n",
       "      <th id=\"T_f04be_level0_col3\" class=\"col_heading level0 col3\" >next_w</th>\n",
       "    </tr>\n",
       "  </thead>\n",
       "  <tbody>\n",
       "    <tr>\n",
       "      <th id=\"T_f04be_level0_row0\" class=\"row_heading level0 row0\" >0</th>\n",
       "      <td id=\"T_f04be_row0_col0\" class=\"data row0 col0\" >1.11e+04 K</td>\n",
       "      <td id=\"T_f04be_row0_col1\" class=\"data row0 col1\" >1.11e+04 K</td>\n",
       "      <td id=\"T_f04be_row0_col2\" class=\"data row0 col2\" >0.468</td>\n",
       "      <td id=\"T_f04be_row0_col3\" class=\"data row0 col3\" >0.464</td>\n",
       "    </tr>\n",
       "    <tr>\n",
       "      <th id=\"T_f04be_level0_row1\" class=\"row_heading level0 row1\" >5</th>\n",
       "      <td id=\"T_f04be_row1_col0\" class=\"data row1 col0\" >1.14e+04 K</td>\n",
       "      <td id=\"T_f04be_row1_col1\" class=\"data row1 col1\" >1.13e+04 K</td>\n",
       "      <td id=\"T_f04be_row1_col2\" class=\"data row1 col2\" >0.175</td>\n",
       "      <td id=\"T_f04be_row1_col3\" class=\"data row1 col3\" >0.177</td>\n",
       "    </tr>\n",
       "    <tr>\n",
       "      <th id=\"T_f04be_level0_row2\" class=\"row_heading level0 row2\" >10</th>\n",
       "      <td id=\"T_f04be_row2_col0\" class=\"data row2 col0\" >1.11e+04 K</td>\n",
       "      <td id=\"T_f04be_row2_col1\" class=\"data row2 col1\" >1.1e+04 K</td>\n",
       "      <td id=\"T_f04be_row2_col2\" class=\"data row2 col2\" >0.11</td>\n",
       "      <td id=\"T_f04be_row2_col3\" class=\"data row2 col3\" >0.113</td>\n",
       "    </tr>\n",
       "    <tr>\n",
       "      <th id=\"T_f04be_level0_row3\" class=\"row_heading level0 row3\" >15</th>\n",
       "      <td id=\"T_f04be_row3_col0\" class=\"data row3 col0\" >1.08e+04 K</td>\n",
       "      <td id=\"T_f04be_row3_col1\" class=\"data row3 col1\" >1.07e+04 K</td>\n",
       "      <td id=\"T_f04be_row3_col2\" class=\"data row3 col2\" >0.0816</td>\n",
       "      <td id=\"T_f04be_row3_col3\" class=\"data row3 col3\" >0.0848</td>\n",
       "    </tr>\n",
       "  </tbody>\n",
       "</table>\n"
      ],
      "text/plain": [
       "<pandas.io.formats.style.Styler at 0x7f1574afef10>"
      ]
     },
     "metadata": {},
     "output_type": "display_data"
    },
    {
     "name": "stdout",
     "output_type": "stream",
     "text": [
      "[\u001b[1mtardis.simulation.base\u001b[0m][\u001b[1;37mINFO\u001b[0m   ]  \n",
      "\t\n",
      "\tCurrent t_inner = 10636.536 K\n",
      "\tExpected t_inner for next iteration = 10641.692 K\n",
      " (\u001b[1mbase.py\u001b[0m:552)\n"
     ]
    },
    {
     "name": "stdout",
     "output_type": "stream",
     "text": [
      "[\u001b[1mpy.warnings         \u001b[0m][\u001b[1;33mWARNING\u001b[0m]  \n",
      "\t/home/runner/work/tardis/tardis/tardis/plasma/properties/radiative_properties.py:93: RuntimeWarning: invalid value encountered in divide\n",
      "  (g_lower * n_upper) / (g_upper * n_lower)\n",
      " (\u001b[1mwarnings.py\u001b[0m:109)\n"
     ]
    },
    {
     "name": "stdout",
     "output_type": "stream",
     "text": [
      "[\u001b[1mtardis.simulation.base\u001b[0m][\u001b[1;37mINFO\u001b[0m   ]  \n",
      "\t\n",
      "\tStarting iteration 19 of 20 (\u001b[1mbase.py\u001b[0m:382)\n"
     ]
    },
    {
     "name": "stdout",
     "output_type": "stream",
     "text": [
      "[\u001b[1mtardis.simulation.base\u001b[0m][\u001b[1;37mINFO\u001b[0m   ]  \n",
      "\t\n",
      "\tLuminosity emitted   = 1.056e+43 erg / s\n",
      "\tLuminosity absorbed  = 3.405e+42 erg / s\n",
      "\tLuminosity requested = 1.059e+43 erg / s\n",
      " (\u001b[1mbase.py\u001b[0m:557)\n"
     ]
    },
    {
     "name": "stdout",
     "output_type": "stream",
     "text": [
      "[\u001b[1mtardis.simulation.base\u001b[0m][\u001b[1;37mINFO\u001b[0m   ]  \n",
      "\tIteration converged 2/4 consecutive times. (\u001b[1mbase.py\u001b[0m:257)\n"
     ]
    },
    {
     "name": "stdout",
     "output_type": "stream",
     "text": [
      "[\u001b[1mtardis.simulation.base\u001b[0m][\u001b[1;37mINFO\u001b[0m   ]  \n",
      "\t\n",
      "\tPlasma stratification: (\u001b[1mbase.py\u001b[0m:525)\n"
     ]
    },
    {
     "data": {
      "text/html": [
       "<style type=\"text/css\">\n",
       "</style>\n",
       "<table id=\"T_e35d1\">\n",
       "  <thead>\n",
       "    <tr>\n",
       "      <th class=\"index_name level0\" >Shell No.</th>\n",
       "      <th id=\"T_e35d1_level0_col0\" class=\"col_heading level0 col0\" >t_rad</th>\n",
       "      <th id=\"T_e35d1_level0_col1\" class=\"col_heading level0 col1\" >next_t_rad</th>\n",
       "      <th id=\"T_e35d1_level0_col2\" class=\"col_heading level0 col2\" >w</th>\n",
       "      <th id=\"T_e35d1_level0_col3\" class=\"col_heading level0 col3\" >next_w</th>\n",
       "    </tr>\n",
       "  </thead>\n",
       "  <tbody>\n",
       "    <tr>\n",
       "      <th id=\"T_e35d1_level0_row0\" class=\"row_heading level0 row0\" >0</th>\n",
       "      <td id=\"T_e35d1_row0_col0\" class=\"data row0 col0\" >1.11e+04 K</td>\n",
       "      <td id=\"T_e35d1_row0_col1\" class=\"data row0 col1\" >1.11e+04 K</td>\n",
       "      <td id=\"T_e35d1_row0_col2\" class=\"data row0 col2\" >0.464</td>\n",
       "      <td id=\"T_e35d1_row0_col3\" class=\"data row0 col3\" >0.466</td>\n",
       "    </tr>\n",
       "    <tr>\n",
       "      <th id=\"T_e35d1_level0_row1\" class=\"row_heading level0 row1\" >5</th>\n",
       "      <td id=\"T_e35d1_row1_col0\" class=\"data row1 col0\" >1.13e+04 K</td>\n",
       "      <td id=\"T_e35d1_row1_col1\" class=\"data row1 col1\" >1.13e+04 K</td>\n",
       "      <td id=\"T_e35d1_row1_col2\" class=\"data row1 col2\" >0.177</td>\n",
       "      <td id=\"T_e35d1_row1_col3\" class=\"data row1 col3\" >0.177</td>\n",
       "    </tr>\n",
       "    <tr>\n",
       "      <th id=\"T_e35d1_level0_row2\" class=\"row_heading level0 row2\" >10</th>\n",
       "      <td id=\"T_e35d1_row2_col0\" class=\"data row2 col0\" >1.1e+04 K</td>\n",
       "      <td id=\"T_e35d1_row2_col1\" class=\"data row2 col1\" >1.11e+04 K</td>\n",
       "      <td id=\"T_e35d1_row2_col2\" class=\"data row2 col2\" >0.113</td>\n",
       "      <td id=\"T_e35d1_row2_col3\" class=\"data row2 col3\" >0.111</td>\n",
       "    </tr>\n",
       "    <tr>\n",
       "      <th id=\"T_e35d1_level0_row3\" class=\"row_heading level0 row3\" >15</th>\n",
       "      <td id=\"T_e35d1_row3_col0\" class=\"data row3 col0\" >1.07e+04 K</td>\n",
       "      <td id=\"T_e35d1_row3_col1\" class=\"data row3 col1\" >1.07e+04 K</td>\n",
       "      <td id=\"T_e35d1_row3_col2\" class=\"data row3 col2\" >0.0848</td>\n",
       "      <td id=\"T_e35d1_row3_col3\" class=\"data row3 col3\" >0.0853</td>\n",
       "    </tr>\n",
       "  </tbody>\n",
       "</table>\n"
      ],
      "text/plain": [
       "<pandas.io.formats.style.Styler at 0x7f1574ac8690>"
      ]
     },
     "metadata": {},
     "output_type": "display_data"
    },
    {
     "name": "stdout",
     "output_type": "stream",
     "text": [
      "[\u001b[1mtardis.simulation.base\u001b[0m][\u001b[1;37mINFO\u001b[0m   ]  \n",
      "\t\n",
      "\tCurrent t_inner = 10641.692 K\n",
      "\tExpected t_inner for next iteration = 10650.463 K\n",
      " (\u001b[1mbase.py\u001b[0m:552)\n"
     ]
    },
    {
     "name": "stdout",
     "output_type": "stream",
     "text": [
      "[\u001b[1mpy.warnings         \u001b[0m][\u001b[1;33mWARNING\u001b[0m]  \n",
      "\t/home/runner/work/tardis/tardis/tardis/plasma/properties/radiative_properties.py:93: RuntimeWarning: invalid value encountered in divide\n",
      "  (g_lower * n_upper) / (g_upper * n_lower)\n",
      " (\u001b[1mwarnings.py\u001b[0m:109)\n"
     ]
    },
    {
     "name": "stdout",
     "output_type": "stream",
     "text": [
      "[\u001b[1mtardis.simulation.base\u001b[0m][\u001b[1;37mINFO\u001b[0m   ]  \n",
      "\t\n",
      "\tSimulation finished in 19 iterations \n",
      "\tSimulation took 62.68 s\n",
      " (\u001b[1mbase.py\u001b[0m:447)\n"
     ]
    },
    {
     "name": "stdout",
     "output_type": "stream",
     "text": [
      "[\u001b[1mtardis.simulation.base\u001b[0m][\u001b[1;37mINFO\u001b[0m   ]  \n",
      "\t\n",
      "\tStarting iteration 20 of 20 (\u001b[1mbase.py\u001b[0m:382)\n"
     ]
    },
    {
     "name": "stdout",
     "output_type": "stream",
     "text": [
      "[\u001b[1mtardis.simulation.base\u001b[0m][\u001b[1;37mINFO\u001b[0m   ]  \n",
      "\t\n",
      "\tLuminosity emitted   = 1.061e+43 erg / s\n",
      "\tLuminosity absorbed  = 3.401e+42 erg / s\n",
      "\tLuminosity requested = 1.059e+43 erg / s\n",
      " (\u001b[1mbase.py\u001b[0m:557)\n"
     ]
    }
   ],
   "source": [
    "from tardis import run_tardis\n",
    "from tardis.io.atom_data.util import download_atom_data\n",
    "\n",
    "# We download the atomic data needed to run the simulation\n",
    "download_atom_data('kurucz_cd23_chianti_H_He')\n",
    "\n",
    "# We run the simulation\n",
    "simulation = run_tardis('tardis_example.yml')"
   ]
  },
  {
   "attachments": {},
   "cell_type": "markdown",
   "metadata": {},
   "source": [
    "You can now use the `to_hdf` method, to save properties to a HDF file.\n",
    "\n",
    "#### Parameters  \n",
    "\n",
    "`file_path`: Path where the HDF file should be stored. (Required)  \n",
    "`path`: Path inside the HDF store to store the elements. (Optional)  \n",
    "`name`: Name of the group inside HDF store, under which properties will be saved.(Optional)\n",
    "`overwrite`: If the HDF file already exists, do you overwrite the existing file (Optional, default `False`)\n",
    "\n",
    "<div class=\"alert alert-info\">\n",
    "\n",
    "Note\n",
    "    \n",
    "Throughout this notebook, we set ``overwrite=True`` so that the notebook can be run repeatedly if needed.\n",
    "\n",
    "</div>"
   ]
  },
  {
   "cell_type": "code",
   "execution_count": 2,
   "metadata": {
    "execution": {
     "iopub.execute_input": "2023-11-29T22:04:25.140469Z",
     "iopub.status.busy": "2023-11-29T22:04:25.140132Z",
     "iopub.status.idle": "2023-11-29T22:04:25.546789Z",
     "shell.execute_reply": "2023-11-29T22:04:25.546225Z"
    }
   },
   "outputs": [
    {
     "name": "stdout",
     "output_type": "stream",
     "text": [
      "[\u001b[1mpy.warnings         \u001b[0m][\u001b[1;33mWARNING\u001b[0m]  \n",
      "\t/home/runner/work/tardis/tardis/tardis/io/util.py:274: PerformanceWarning: \n",
      "your performance may suffer as PyTables will pickle object types that it cannot\n",
      "map directly to c-types [inferred_type->mixed,key->block0_values] [items->Index([0], dtype='int64')]\n",
      "\n",
      "  pd.DataFrame(value).to_hdf(buf, os.path.join(path, key))\n",
      " (\u001b[1mwarnings.py\u001b[0m:109)\n"
     ]
    },
    {
     "name": "stdout",
     "output_type": "stream",
     "text": [
      "[\u001b[1mpy.warnings         \u001b[0m][\u001b[1;33mWARNING\u001b[0m]  \n",
      "\t/home/runner/work/tardis/tardis/tardis/io/util.py:288: PerformanceWarning: \n",
      "your performance may suffer as PyTables will pickle object types that it cannot\n",
      "map directly to c-types [inferred_type->mixed,key->values] [items->None]\n",
      "\n",
      "  pd.Series(scalars).to_hdf(buf, os.path.join(path, \"scalars\"))\n",
      " (\u001b[1mwarnings.py\u001b[0m:109)\n"
     ]
    }
   ],
   "source": [
    "simulation.to_hdf('/tmp/full_example.hdf', overwrite=True)\n",
    "\n",
    "# The commented out code below shows an example of to_hdf with more parameters\n",
    "#simulation.to_hdf(file_path='/tmp/full_example.hdf', path='/', name='simulation')"
   ]
  },
  {
   "attachments": {},
   "cell_type": "markdown",
   "metadata": {},
   "source": [
    "Open the stored HDF file with pandas and print a list of its entries using the `keys()` method:"
   ]
  },
  {
   "cell_type": "code",
   "execution_count": 3,
   "metadata": {
    "execution": {
     "iopub.execute_input": "2023-11-29T22:04:25.549728Z",
     "iopub.status.busy": "2023-11-29T22:04:25.549299Z",
     "iopub.status.idle": "2023-11-29T22:04:25.596876Z",
     "shell.execute_reply": "2023-11-29T22:04:25.596094Z"
    },
    "scrolled": false
   },
   "outputs": [
    {
     "data": {
      "text/plain": [
       "['/simulation/iterations_electron_densities',\n",
       " '/simulation/iterations_t_inner',\n",
       " '/simulation/iterations_t_rad',\n",
       " '/simulation/iterations_w',\n",
       " '/simulation/transport/emitted_packet_mask',\n",
       " '/simulation/transport/j_estimator',\n",
       " '/simulation/transport/last_interaction_in_nu',\n",
       " '/simulation/transport/last_interaction_type',\n",
       " '/simulation/transport/last_line_interaction_in_id',\n",
       " '/simulation/transport/last_line_interaction_out_id',\n",
       " '/simulation/transport/last_line_interaction_shell_id',\n",
       " '/simulation/transport/montecarlo_virtual_luminosity',\n",
       " '/simulation/transport/nu_bar_estimator',\n",
       " '/simulation/transport/output_energy',\n",
       " '/simulation/transport/output_nu',\n",
       " '/simulation/transport/packet_luminosity',\n",
       " '/simulation/transport/scalars',\n",
       " '/simulation/transport/spectrum_virtual/_frequency',\n",
       " '/simulation/transport/spectrum_virtual/luminosity',\n",
       " '/simulation/transport/spectrum_virtual/luminosity_density_lambda',\n",
       " '/simulation/transport/spectrum_virtual/scalars',\n",
       " '/simulation/transport/spectrum_virtual/wavelength',\n",
       " '/simulation/transport/spectrum_reabsorbed/_frequency',\n",
       " '/simulation/transport/spectrum_reabsorbed/luminosity',\n",
       " '/simulation/transport/spectrum_reabsorbed/luminosity_density_lambda',\n",
       " '/simulation/transport/spectrum_reabsorbed/scalars',\n",
       " '/simulation/transport/spectrum_reabsorbed/wavelength',\n",
       " '/simulation/transport/spectrum/_frequency',\n",
       " '/simulation/transport/spectrum/luminosity',\n",
       " '/simulation/transport/spectrum/luminosity_density_lambda',\n",
       " '/simulation/transport/spectrum/scalars',\n",
       " '/simulation/transport/spectrum/wavelength',\n",
       " '/simulation/simulation_state/density',\n",
       " '/simulation/simulation_state/r_inner',\n",
       " '/simulation/simulation_state/scalars',\n",
       " '/simulation/simulation_state/t_radiative',\n",
       " '/simulation/simulation_state/v_inner',\n",
       " '/simulation/simulation_state/v_outer',\n",
       " '/simulation/simulation_state/w',\n",
       " '/simulation/plasma/abundance',\n",
       " '/simulation/plasma/atomic_mass',\n",
       " '/simulation/plasma/beta_rad',\n",
       " '/simulation/plasma/beta_sobolev',\n",
       " '/simulation/plasma/continuum_interaction_species',\n",
       " '/simulation/plasma/density',\n",
       " '/simulation/plasma/electron_densities',\n",
       " '/simulation/plasma/excitation_energy',\n",
       " '/simulation/plasma/f_lu',\n",
       " '/simulation/plasma/g',\n",
       " '/simulation/plasma/g_electron',\n",
       " '/simulation/plasma/general_level_boltzmann_factor',\n",
       " '/simulation/plasma/ion_number_density',\n",
       " '/simulation/plasma/ionization_data',\n",
       " '/simulation/plasma/j_blues',\n",
       " '/simulation/plasma/level_boltzmann_factor',\n",
       " '/simulation/plasma/level_number_density',\n",
       " '/simulation/plasma/levels',\n",
       " '/simulation/plasma/lines',\n",
       " '/simulation/plasma/lines_lower_level_index',\n",
       " '/simulation/plasma/lines_upper_level_index',\n",
       " '/simulation/plasma/macro_atom_data',\n",
       " '/simulation/plasma/metastability',\n",
       " '/simulation/plasma/nlte_excitation_species',\n",
       " '/simulation/plasma/nlte_ionization_species',\n",
       " '/simulation/plasma/nu',\n",
       " '/simulation/plasma/number_density',\n",
       " '/simulation/plasma/partition_function',\n",
       " '/simulation/plasma/phi',\n",
       " '/simulation/plasma/scalars',\n",
       " '/simulation/plasma/selected_atoms',\n",
       " '/simulation/plasma/stimulated_emission_factor',\n",
       " '/simulation/plasma/t_electrons',\n",
       " '/simulation/plasma/t_rad',\n",
       " '/simulation/plasma/tau_sobolevs',\n",
       " '/simulation/plasma/transition_probabilities',\n",
       " '/simulation/plasma/w',\n",
       " '/simulation/plasma/wavelength_cm']"
      ]
     },
     "execution_count": 3,
     "metadata": {},
     "output_type": "execute_result"
    }
   ],
   "source": [
    "import pandas as pd\n",
    "\n",
    "data = pd.HDFStore('/tmp/full_example.hdf', overwrite=True)\n",
    "\n",
    "data.keys()"
   ]
  },
  {
   "attachments": {},
   "cell_type": "markdown",
   "metadata": {},
   "source": [
    "Access `model.density` under simulation, which is a one-dimensional array"
   ]
  },
  {
   "cell_type": "code",
   "execution_count": 4,
   "metadata": {
    "execution": {
     "iopub.execute_input": "2023-11-29T22:04:25.599816Z",
     "iopub.status.busy": "2023-11-29T22:04:25.599424Z",
     "iopub.status.idle": "2023-11-29T22:04:25.607613Z",
     "shell.execute_reply": "2023-11-29T22:04:25.607135Z"
    }
   },
   "outputs": [
    {
     "name": "stdout",
     "output_type": "stream",
     "text": [
      "0     7.542804e-14\n",
      "1     5.728475e-14\n",
      "2     4.396074e-14\n",
      "3     3.406287e-14\n",
      "4     2.663135e-14\n",
      "5     2.099596e-14\n",
      "6     1.668287e-14\n",
      "7     1.335311e-14\n",
      "8     1.076154e-14\n",
      "9     8.729085e-15\n",
      "10    7.123652e-15\n",
      "11    5.846921e-15\n",
      "12    4.825093e-15\n",
      "13    4.002324e-15\n",
      "14    3.336039e-15\n",
      "15    2.793540e-15\n",
      "16    2.349550e-15\n",
      "17    1.984397e-15\n",
      "18    1.682677e-15\n",
      "19    1.432260e-15\n",
      "dtype: float64\n"
     ]
    }
   ],
   "source": [
    "print(data['/simulation/simulation_state/density'])"
   ]
  },
  {
   "attachments": {},
   "cell_type": "markdown",
   "metadata": {
    "collapsed": true
   },
   "source": [
    "Scalars are stored in a `scalars` `pandas.Series` for every module. For example to access `model.t_inner` under simulation, one would need to do the following."
   ]
  },
  {
   "cell_type": "code",
   "execution_count": 5,
   "metadata": {
    "execution": {
     "iopub.execute_input": "2023-11-29T22:04:25.610296Z",
     "iopub.status.busy": "2023-11-29T22:04:25.609794Z",
     "iopub.status.idle": "2023-11-29T22:04:25.615077Z",
     "shell.execute_reply": "2023-11-29T22:04:25.614519Z"
    }
   },
   "outputs": [
    {
     "name": "stdout",
     "output_type": "stream",
     "text": [
      "10650.463255529794\n"
     ]
    }
   ],
   "source": [
    "print(data['/simulation/simulation_state/scalars']['t_inner'])"
   ]
  },
  {
   "attachments": {},
   "cell_type": "markdown",
   "metadata": {},
   "source": [
    "## Breakdown of the various to_hdf methods\n",
    "Every module in TARDIS has its own `to_hdf` method responsible to store its own data to an HDF file."
   ]
  },
  {
   "attachments": {},
   "cell_type": "markdown",
   "metadata": {},
   "source": [
    "### Plasma\n",
    "The following call will store every plasma property to `/tmp/plasma_output.hdf` under `/parent/plasma`"
   ]
  },
  {
   "cell_type": "code",
   "execution_count": 6,
   "metadata": {
    "execution": {
     "iopub.execute_input": "2023-11-29T22:04:25.617297Z",
     "iopub.status.busy": "2023-11-29T22:04:25.617133Z",
     "iopub.status.idle": "2023-11-29T22:04:25.856828Z",
     "shell.execute_reply": "2023-11-29T22:04:25.856276Z"
    }
   },
   "outputs": [
    {
     "name": "stdout",
     "output_type": "stream",
     "text": [
      "[\u001b[1mpy.warnings         \u001b[0m][\u001b[1;33mWARNING\u001b[0m]  \n",
      "\t/home/runner/work/tardis/tardis/tardis/io/util.py:274: PerformanceWarning: \n",
      "your performance may suffer as PyTables will pickle object types that it cannot\n",
      "map directly to c-types [inferred_type->mixed,key->block0_values] [items->Index([0], dtype='int64')]\n",
      "\n",
      "  pd.DataFrame(value).to_hdf(buf, os.path.join(path, key))\n",
      " (\u001b[1mwarnings.py\u001b[0m:109)\n"
     ]
    },
    {
     "name": "stdout",
     "output_type": "stream",
     "text": [
      "[\u001b[1mpy.warnings         \u001b[0m][\u001b[1;33mWARNING\u001b[0m]  \n",
      "\t/home/runner/work/tardis/tardis/tardis/io/util.py:288: PerformanceWarning: \n",
      "your performance may suffer as PyTables will pickle object types that it cannot\n",
      "map directly to c-types [inferred_type->mixed,key->values] [items->None]\n",
      "\n",
      "  pd.Series(scalars).to_hdf(buf, os.path.join(path, \"scalars\"))\n",
      " (\u001b[1mwarnings.py\u001b[0m:109)\n"
     ]
    }
   ],
   "source": [
    "simulation.plasma.to_hdf('/tmp/plasma_output.hdf', path='parent', overwrite=True)"
   ]
  },
  {
   "cell_type": "code",
   "execution_count": 7,
   "metadata": {
    "execution": {
     "iopub.execute_input": "2023-11-29T22:04:25.858920Z",
     "iopub.status.busy": "2023-11-29T22:04:25.858755Z",
     "iopub.status.idle": "2023-11-29T22:04:25.881024Z",
     "shell.execute_reply": "2023-11-29T22:04:25.880495Z"
    },
    "scrolled": false
   },
   "outputs": [
    {
     "data": {
      "text/plain": [
       "['/parent/plasma/abundance',\n",
       " '/parent/plasma/atomic_mass',\n",
       " '/parent/plasma/beta_rad',\n",
       " '/parent/plasma/beta_sobolev',\n",
       " '/parent/plasma/continuum_interaction_species',\n",
       " '/parent/plasma/density',\n",
       " '/parent/plasma/electron_densities',\n",
       " '/parent/plasma/excitation_energy',\n",
       " '/parent/plasma/f_lu',\n",
       " '/parent/plasma/g',\n",
       " '/parent/plasma/g_electron',\n",
       " '/parent/plasma/general_level_boltzmann_factor',\n",
       " '/parent/plasma/ion_number_density',\n",
       " '/parent/plasma/ionization_data',\n",
       " '/parent/plasma/j_blues',\n",
       " '/parent/plasma/level_boltzmann_factor',\n",
       " '/parent/plasma/level_number_density',\n",
       " '/parent/plasma/levels',\n",
       " '/parent/plasma/lines',\n",
       " '/parent/plasma/lines_lower_level_index',\n",
       " '/parent/plasma/lines_upper_level_index',\n",
       " '/parent/plasma/macro_atom_data',\n",
       " '/parent/plasma/metastability',\n",
       " '/parent/plasma/nlte_excitation_species',\n",
       " '/parent/plasma/nlte_ionization_species',\n",
       " '/parent/plasma/nu',\n",
       " '/parent/plasma/number_density',\n",
       " '/parent/plasma/partition_function',\n",
       " '/parent/plasma/phi',\n",
       " '/parent/plasma/scalars',\n",
       " '/parent/plasma/selected_atoms',\n",
       " '/parent/plasma/stimulated_emission_factor',\n",
       " '/parent/plasma/t_electrons',\n",
       " '/parent/plasma/t_rad',\n",
       " '/parent/plasma/tau_sobolevs',\n",
       " '/parent/plasma/transition_probabilities',\n",
       " '/parent/plasma/w',\n",
       " '/parent/plasma/wavelength_cm']"
      ]
     },
     "execution_count": 7,
     "metadata": {},
     "output_type": "execute_result"
    }
   ],
   "source": [
    "import pandas\n",
    "\n",
    "plasma_data = pandas.HDFStore('/tmp/plasma_output.hdf')\n",
    "\n",
    "plasma_data.keys()"
   ]
  },
  {
   "attachments": {},
   "cell_type": "markdown",
   "metadata": {},
   "source": [
    "Plasma's `to_hdf` method can also accept a `collection` parameter which can specify which types of plasma properties will be stored. For example if we wanted to only store Input plasma properties, we would do the following:"
   ]
  },
  {
   "cell_type": "code",
   "execution_count": 8,
   "metadata": {
    "execution": {
     "iopub.execute_input": "2023-11-29T22:04:25.883254Z",
     "iopub.status.busy": "2023-11-29T22:04:25.882862Z",
     "iopub.status.idle": "2023-11-29T22:04:25.912566Z",
     "shell.execute_reply": "2023-11-29T22:04:25.911946Z"
    }
   },
   "outputs": [],
   "source": [
    "from tardis.plasma.properties.base import Input\n",
    "simulation.plasma.to_hdf('/tmp/plasma_input_output.hdf', collection=[Input], overwrite=True)"
   ]
  },
  {
   "cell_type": "code",
   "execution_count": 9,
   "metadata": {
    "execution": {
     "iopub.execute_input": "2023-11-29T22:04:25.915420Z",
     "iopub.status.busy": "2023-11-29T22:04:25.914930Z",
     "iopub.status.idle": "2023-11-29T22:04:25.923072Z",
     "shell.execute_reply": "2023-11-29T22:04:25.922572Z"
    }
   },
   "outputs": [
    {
     "data": {
      "text/plain": [
       "['/plasma/abundance',\n",
       " '/plasma/continuum_interaction_species',\n",
       " '/plasma/density',\n",
       " '/plasma/nlte_excitation_species',\n",
       " '/plasma/nlte_ionization_species',\n",
       " '/plasma/scalars',\n",
       " '/plasma/t_rad',\n",
       " '/plasma/w']"
      ]
     },
     "execution_count": 9,
     "metadata": {},
     "output_type": "execute_result"
    }
   ],
   "source": [
    "import pandas\n",
    "\n",
    "plasma_input_data = pandas.HDFStore('/tmp/plasma_input_output.hdf')\n",
    "\n",
    "plasma_input_data.keys()"
   ]
  },
  {
   "attachments": {},
   "cell_type": "markdown",
   "metadata": {},
   "source": [
    "### Model\n",
    "The following call will store properties of the `SimulationState` to `/tmp/model_output.hdf` under `/simulation_state`."
   ]
  },
  {
   "cell_type": "code",
   "execution_count": 10,
   "metadata": {
    "execution": {
     "iopub.execute_input": "2023-11-29T22:04:25.925288Z",
     "iopub.status.busy": "2023-11-29T22:04:25.924913Z",
     "iopub.status.idle": "2023-11-29T22:04:25.947325Z",
     "shell.execute_reply": "2023-11-29T22:04:25.946784Z"
    }
   },
   "outputs": [],
   "source": [
    "simulation.simulation_state.to_hdf('/tmp/model_output.hdf', overwrite=True)"
   ]
  },
  {
   "cell_type": "code",
   "execution_count": 11,
   "metadata": {
    "execution": {
     "iopub.execute_input": "2023-11-29T22:04:25.949818Z",
     "iopub.status.busy": "2023-11-29T22:04:25.949373Z",
     "iopub.status.idle": "2023-11-29T22:04:25.956883Z",
     "shell.execute_reply": "2023-11-29T22:04:25.956352Z"
    }
   },
   "outputs": [
    {
     "data": {
      "text/plain": [
       "['/model/density',\n",
       " '/model/r_inner',\n",
       " '/model/scalars',\n",
       " '/model/t_radiative',\n",
       " '/model/v_inner',\n",
       " '/model/v_outer',\n",
       " '/model/w']"
      ]
     },
     "execution_count": 11,
     "metadata": {},
     "output_type": "execute_result"
    }
   ],
   "source": [
    "import pandas\n",
    "\n",
    "model_data = pandas.HDFStore('/tmp/model_output.hdf')\n",
    "\n",
    "model_data.keys()"
   ]
  },
  {
   "attachments": {},
   "cell_type": "markdown",
   "metadata": {},
   "source": [
    "### MontecarloTransport\n",
    "The following call will store properties of the `MontecarloTransport` to `/tmp/transport_output.hdf` under `/transport`."
   ]
  },
  {
   "cell_type": "code",
   "execution_count": 12,
   "metadata": {
    "execution": {
     "iopub.execute_input": "2023-11-29T22:04:25.959089Z",
     "iopub.status.busy": "2023-11-29T22:04:25.958654Z",
     "iopub.status.idle": "2023-11-29T22:04:26.080250Z",
     "shell.execute_reply": "2023-11-29T22:04:26.079557Z"
    }
   },
   "outputs": [],
   "source": [
    "simulation.transport.to_hdf('/tmp/transport_output.hdf', overwrite=True)"
   ]
  },
  {
   "cell_type": "code",
   "execution_count": 13,
   "metadata": {
    "execution": {
     "iopub.execute_input": "2023-11-29T22:04:26.082412Z",
     "iopub.status.busy": "2023-11-29T22:04:26.082243Z",
     "iopub.status.idle": "2023-11-29T22:04:26.097310Z",
     "shell.execute_reply": "2023-11-29T22:04:26.096784Z"
    }
   },
   "outputs": [
    {
     "data": {
      "text/plain": [
       "['/transport/emitted_packet_mask',\n",
       " '/transport/j_estimator',\n",
       " '/transport/last_interaction_in_nu',\n",
       " '/transport/last_interaction_type',\n",
       " '/transport/last_line_interaction_in_id',\n",
       " '/transport/last_line_interaction_out_id',\n",
       " '/transport/last_line_interaction_shell_id',\n",
       " '/transport/montecarlo_virtual_luminosity',\n",
       " '/transport/nu_bar_estimator',\n",
       " '/transport/output_energy',\n",
       " '/transport/output_nu',\n",
       " '/transport/packet_luminosity',\n",
       " '/transport/scalars',\n",
       " '/transport/spectrum_virtual/_frequency',\n",
       " '/transport/spectrum_virtual/luminosity',\n",
       " '/transport/spectrum_virtual/luminosity_density_lambda',\n",
       " '/transport/spectrum_virtual/scalars',\n",
       " '/transport/spectrum_virtual/wavelength',\n",
       " '/transport/spectrum_reabsorbed/_frequency',\n",
       " '/transport/spectrum_reabsorbed/luminosity',\n",
       " '/transport/spectrum_reabsorbed/luminosity_density_lambda',\n",
       " '/transport/spectrum_reabsorbed/scalars',\n",
       " '/transport/spectrum_reabsorbed/wavelength',\n",
       " '/transport/spectrum/_frequency',\n",
       " '/transport/spectrum/luminosity',\n",
       " '/transport/spectrum/luminosity_density_lambda',\n",
       " '/transport/spectrum/scalars',\n",
       " '/transport/spectrum/wavelength']"
      ]
     },
     "execution_count": 13,
     "metadata": {},
     "output_type": "execute_result"
    }
   ],
   "source": [
    "import pandas\n",
    "\n",
    "transport_data = pandas.HDFStore('/tmp/transport_output.hdf')\n",
    "\n",
    "transport_data.keys()"
   ]
  }
 ],
 "metadata": {
  "celltoolbar": "Raw Cell Format",
  "kernelspec": {
   "display_name": "Python 3",
   "language": "python",
   "name": "python3"
  },
  "language_info": {
   "codemirror_mode": {
    "name": "ipython",
    "version": 3
   },
   "file_extension": ".py",
   "mimetype": "text/x-python",
   "name": "python",
   "nbconvert_exporter": "python",
   "pygments_lexer": "ipython3",
   "version": "3.11.5"
  },
  "widgets": {
   "application/vnd.jupyter.widget-state+json": {
    "state": {
     "00cd2ce3c69040c6bebc24936e44fd30": {
      "model_module": "@jupyter-widgets/base",
      "model_module_version": "1.2.0",
      "model_name": "LayoutModel",
      "state": {
       "_model_module": "@jupyter-widgets/base",
       "_model_module_version": "1.2.0",
       "_model_name": "LayoutModel",
       "_view_count": null,
       "_view_module": "@jupyter-widgets/base",
       "_view_module_version": "1.2.0",
       "_view_name": "LayoutView",
       "align_content": null,
       "align_items": null,
       "align_self": null,
       "border": null,
       "bottom": null,
       "display": null,
       "flex": null,
       "flex_flow": null,
       "grid_area": null,
       "grid_auto_columns": null,
       "grid_auto_flow": null,
       "grid_auto_rows": null,
       "grid_column": null,
       "grid_gap": null,
       "grid_row": null,
       "grid_template_areas": null,
       "grid_template_columns": null,
       "grid_template_rows": null,
       "height": null,
       "justify_content": null,
       "justify_items": null,
       "left": null,
       "margin": null,
       "max_height": null,
       "max_width": null,
       "min_height": null,
       "min_width": null,
       "object_fit": null,
       "object_position": null,
       "order": null,
       "overflow": null,
       "overflow_x": null,
       "overflow_y": null,
       "padding": null,
       "right": null,
       "top": null,
       "visibility": null,
       "width": null
      }
     },
     "00f4ed23bdf341e583c44ed85f1f234b": {
      "model_module": "@jupyter-widgets/controls",
      "model_module_version": "1.5.0",
      "model_name": "HTMLModel",
      "state": {
       "_dom_classes": [],
       "_model_module": "@jupyter-widgets/controls",
       "_model_module_version": "1.5.0",
       "_model_name": "HTMLModel",
       "_view_count": null,
       "_view_module": "@jupyter-widgets/controls",
       "_view_module_version": "1.5.0",
       "_view_name": "HTMLView",
       "description": "",
       "description_tooltip": null,
       "layout": "IPY_MODEL_a5f91a7e1b624594ba9c3812e81f3b44",
       "placeholder": "​",
       "style": "IPY_MODEL_abf4ac7d5faf4e388919a880f451f17a",
       "value": "0/? [00:00&lt;?, ?it/s]"
      }
     },
     "0202b5c982e443fa8f44995e2dd4404a": {
      "model_module": "@jupyter-widgets/controls",
      "model_module_version": "1.5.0",
      "model_name": "DescriptionStyleModel",
      "state": {
       "_model_module": "@jupyter-widgets/controls",
       "_model_module_version": "1.5.0",
       "_model_name": "DescriptionStyleModel",
       "_view_count": null,
       "_view_module": "@jupyter-widgets/base",
       "_view_module_version": "1.2.0",
       "_view_name": "StyleView",
       "description_width": ""
      }
     },
     "07c0ea37f2824b1e9dc65fb250bd49b1": {
      "model_module": "@jupyter-widgets/base",
      "model_module_version": "1.2.0",
      "model_name": "LayoutModel",
      "state": {
       "_model_module": "@jupyter-widgets/base",
       "_model_module_version": "1.2.0",
       "_model_name": "LayoutModel",
       "_view_count": null,
       "_view_module": "@jupyter-widgets/base",
       "_view_module_version": "1.2.0",
       "_view_name": "LayoutView",
       "align_content": null,
       "align_items": null,
       "align_self": null,
       "border": null,
       "bottom": null,
       "display": null,
       "flex": null,
       "flex_flow": null,
       "grid_area": null,
       "grid_auto_columns": null,
       "grid_auto_flow": null,
       "grid_auto_rows": null,
       "grid_column": null,
       "grid_gap": null,
       "grid_row": null,
       "grid_template_areas": null,
       "grid_template_columns": null,
       "grid_template_rows": null,
       "height": null,
       "justify_content": null,
       "justify_items": null,
       "left": null,
       "margin": null,
       "max_height": null,
       "max_width": null,
       "min_height": null,
       "min_width": null,
       "object_fit": null,
       "object_position": null,
       "order": null,
       "overflow": null,
       "overflow_x": null,
       "overflow_y": null,
       "padding": null,
       "right": null,
       "top": null,
       "visibility": null,
       "width": null
      }
     },
     "0bb1d013391243d5b67f15662e720caf": {
      "model_module": "@jupyter-widgets/controls",
      "model_module_version": "1.5.0",
      "model_name": "HTMLModel",
      "state": {
       "_dom_classes": [],
       "_model_module": "@jupyter-widgets/controls",
       "_model_module_version": "1.5.0",
       "_model_name": "HTMLModel",
       "_view_count": null,
       "_view_module": "@jupyter-widgets/controls",
       "_view_module_version": "1.5.0",
       "_view_name": "HTMLView",
       "description": "",
       "description_tooltip": null,
       "layout": "IPY_MODEL_280128952e3e4528b0f1272e229f2d26",
       "placeholder": "​",
       "style": "IPY_MODEL_4c3c867a031f4d35b20668cb7ea16a1a",
       "value": "Packets:   "
      }
     },
     "12e6caca5dee498aab82a233c3fb58d0": {
      "model_module": "@jupyter-widgets/base",
      "model_module_version": "1.2.0",
      "model_name": "LayoutModel",
      "state": {
       "_model_module": "@jupyter-widgets/base",
       "_model_module_version": "1.2.0",
       "_model_name": "LayoutModel",
       "_view_count": null,
       "_view_module": "@jupyter-widgets/base",
       "_view_module_version": "1.2.0",
       "_view_name": "LayoutView",
       "align_content": null,
       "align_items": null,
       "align_self": null,
       "border": null,
       "bottom": null,
       "display": null,
       "flex": null,
       "flex_flow": null,
       "grid_area": null,
       "grid_auto_columns": null,
       "grid_auto_flow": null,
       "grid_auto_rows": null,
       "grid_column": null,
       "grid_gap": null,
       "grid_row": null,
       "grid_template_areas": null,
       "grid_template_columns": null,
       "grid_template_rows": null,
       "height": null,
       "justify_content": null,
       "justify_items": null,
       "left": null,
       "margin": null,
       "max_height": null,
       "max_width": null,
       "min_height": null,
       "min_width": null,
       "object_fit": null,
       "object_position": null,
       "order": null,
       "overflow": null,
       "overflow_x": null,
       "overflow_y": null,
       "padding": null,
       "right": null,
       "top": null,
       "visibility": null,
       "width": null
      }
     },
     "14b951dff0d54b1dae379e9b39fb460f": {
      "model_module": "@jupyter-widgets/controls",
      "model_module_version": "1.5.0",
      "model_name": "HBoxModel",
      "state": {
       "_dom_classes": [],
       "_model_module": "@jupyter-widgets/controls",
       "_model_module_version": "1.5.0",
       "_model_name": "HBoxModel",
       "_view_count": null,
       "_view_module": "@jupyter-widgets/controls",
       "_view_module_version": "1.5.0",
       "_view_name": "HBoxView",
       "box_style": "",
       "children": [
        "IPY_MODEL_baf4980c1fc94fb2812b301e97ff5f22",
        "IPY_MODEL_1d465f8cf3d94d7d964a5488e794804d",
        "IPY_MODEL_4384f808bc65497ba22030c8c04d7861"
       ],
       "layout": "IPY_MODEL_3652a3e4afe6425e93c97d9f789a7a7a"
      }
     },
     "1b430e46ef494d1ea8bfc2451d829884": {
      "model_module": "@jupyter-widgets/base",
      "model_module_version": "1.2.0",
      "model_name": "LayoutModel",
      "state": {
       "_model_module": "@jupyter-widgets/base",
       "_model_module_version": "1.2.0",
       "_model_name": "LayoutModel",
       "_view_count": null,
       "_view_module": "@jupyter-widgets/base",
       "_view_module_version": "1.2.0",
       "_view_name": "LayoutView",
       "align_content": null,
       "align_items": null,
       "align_self": null,
       "border": null,
       "bottom": null,
       "display": null,
       "flex": null,
       "flex_flow": null,
       "grid_area": null,
       "grid_auto_columns": null,
       "grid_auto_flow": null,
       "grid_auto_rows": null,
       "grid_column": null,
       "grid_gap": null,
       "grid_row": null,
       "grid_template_areas": null,
       "grid_template_columns": null,
       "grid_template_rows": null,
       "height": null,
       "justify_content": null,
       "justify_items": null,
       "left": null,
       "margin": null,
       "max_height": null,
       "max_width": null,
       "min_height": null,
       "min_width": null,
       "object_fit": null,
       "object_position": null,
       "order": null,
       "overflow": null,
       "overflow_x": null,
       "overflow_y": null,
       "padding": null,
       "right": null,
       "top": null,
       "visibility": null,
       "width": null
      }
     },
     "1b5756851d3d4fde82fcc8f362f32b2b": {
      "model_module": "@jupyter-widgets/controls",
      "model_module_version": "1.5.0",
      "model_name": "HTMLModel",
      "state": {
       "_dom_classes": [],
       "_model_module": "@jupyter-widgets/controls",
       "_model_module_version": "1.5.0",
       "_model_name": "HTMLModel",
       "_view_count": null,
       "_view_module": "@jupyter-widgets/controls",
       "_view_module_version": "1.5.0",
       "_view_name": "HTMLView",
       "description": "",
       "description_tooltip": null,
       "layout": "IPY_MODEL_94cead3a7eea46a69d314a8d25ca3381",
       "placeholder": "​",
       "style": "IPY_MODEL_0202b5c982e443fa8f44995e2dd4404a",
       "value": "Packets:   "
      }
     },
     "1d465f8cf3d94d7d964a5488e794804d": {
      "model_module": "@jupyter-widgets/controls",
      "model_module_version": "1.5.0",
      "model_name": "FloatProgressModel",
      "state": {
       "_dom_classes": [],
       "_model_module": "@jupyter-widgets/controls",
       "_model_module_version": "1.5.0",
       "_model_name": "FloatProgressModel",
       "_view_count": null,
       "_view_module": "@jupyter-widgets/controls",
       "_view_module_version": "1.5.0",
       "_view_name": "ProgressView",
       "bar_style": "info",
       "description": "",
       "description_tooltip": null,
       "layout": "IPY_MODEL_51afc8146d2848eca751371980a1c33b",
       "max": 1.0,
       "min": 0.0,
       "orientation": "horizontal",
       "style": "IPY_MODEL_49e60b9f846944f291697755a17814ac",
       "value": 0.0
      }
     },
     "280128952e3e4528b0f1272e229f2d26": {
      "model_module": "@jupyter-widgets/base",
      "model_module_version": "1.2.0",
      "model_name": "LayoutModel",
      "state": {
       "_model_module": "@jupyter-widgets/base",
       "_model_module_version": "1.2.0",
       "_model_name": "LayoutModel",
       "_view_count": null,
       "_view_module": "@jupyter-widgets/base",
       "_view_module_version": "1.2.0",
       "_view_name": "LayoutView",
       "align_content": null,
       "align_items": null,
       "align_self": null,
       "border": null,
       "bottom": null,
       "display": null,
       "flex": null,
       "flex_flow": null,
       "grid_area": null,
       "grid_auto_columns": null,
       "grid_auto_flow": null,
       "grid_auto_rows": null,
       "grid_column": null,
       "grid_gap": null,
       "grid_row": null,
       "grid_template_areas": null,
       "grid_template_columns": null,
       "grid_template_rows": null,
       "height": null,
       "justify_content": null,
       "justify_items": null,
       "left": null,
       "margin": null,
       "max_height": null,
       "max_width": null,
       "min_height": null,
       "min_width": null,
       "object_fit": null,
       "object_position": null,
       "order": null,
       "overflow": null,
       "overflow_x": null,
       "overflow_y": null,
       "padding": null,
       "right": null,
       "top": null,
       "visibility": null,
       "width": "6%"
      }
     },
     "3652a3e4afe6425e93c97d9f789a7a7a": {
      "model_module": "@jupyter-widgets/base",
      "model_module_version": "1.2.0",
      "model_name": "LayoutModel",
      "state": {
       "_model_module": "@jupyter-widgets/base",
       "_model_module_version": "1.2.0",
       "_model_name": "LayoutModel",
       "_view_count": null,
       "_view_module": "@jupyter-widgets/base",
       "_view_module_version": "1.2.0",
       "_view_name": "LayoutView",
       "align_content": null,
       "align_items": null,
       "align_self": null,
       "border": null,
       "bottom": null,
       "display": null,
       "flex": null,
       "flex_flow": null,
       "grid_area": null,
       "grid_auto_columns": null,
       "grid_auto_flow": null,
       "grid_auto_rows": null,
       "grid_column": null,
       "grid_gap": null,
       "grid_row": null,
       "grid_template_areas": null,
       "grid_template_columns": null,
       "grid_template_rows": null,
       "height": null,
       "justify_content": null,
       "justify_items": null,
       "left": null,
       "margin": null,
       "max_height": null,
       "max_width": null,
       "min_height": null,
       "min_width": null,
       "object_fit": null,
       "object_position": null,
       "order": null,
       "overflow": null,
       "overflow_x": null,
       "overflow_y": null,
       "padding": null,
       "right": null,
       "top": null,
       "visibility": null,
       "width": null
      }
     },
     "3bca1466fb3644eaaf9a40ee3d8a6781": {
      "model_module": "@jupyter-widgets/controls",
      "model_module_version": "1.5.0",
      "model_name": "HBoxModel",
      "state": {
       "_dom_classes": [],
       "_model_module": "@jupyter-widgets/controls",
       "_model_module_version": "1.5.0",
       "_model_name": "HBoxModel",
       "_view_count": null,
       "_view_module": "@jupyter-widgets/controls",
       "_view_module_version": "1.5.0",
       "_view_name": "HBoxView",
       "box_style": "",
       "children": [
        "IPY_MODEL_1b5756851d3d4fde82fcc8f362f32b2b",
        "IPY_MODEL_518a8cf20ec448c1ab35780839d2826e",
        "IPY_MODEL_00f4ed23bdf341e583c44ed85f1f234b"
       ],
       "layout": "IPY_MODEL_6760a391671a4d2992f6f7a163cae85e"
      }
     },
     "4384f808bc65497ba22030c8c04d7861": {
      "model_module": "@jupyter-widgets/controls",
      "model_module_version": "1.5.0",
      "model_name": "HTMLModel",
      "state": {
       "_dom_classes": [],
       "_model_module": "@jupyter-widgets/controls",
       "_model_module_version": "1.5.0",
       "_model_name": "HTMLModel",
       "_view_count": null,
       "_view_module": "@jupyter-widgets/controls",
       "_view_module_version": "1.5.0",
       "_view_name": "HTMLView",
       "description": "",
       "description_tooltip": null,
       "layout": "IPY_MODEL_ca603901b0e1457e853e43e0234707ac",
       "placeholder": "​",
       "style": "IPY_MODEL_55e6e447824840ffb3870d849e760358",
       "value": "0/? [00:00&lt;?, ?it/s]"
      }
     },
     "49e60b9f846944f291697755a17814ac": {
      "model_module": "@jupyter-widgets/controls",
      "model_module_version": "1.5.0",
      "model_name": "ProgressStyleModel",
      "state": {
       "_model_module": "@jupyter-widgets/controls",
       "_model_module_version": "1.5.0",
       "_model_name": "ProgressStyleModel",
       "_view_count": null,
       "_view_module": "@jupyter-widgets/base",
       "_view_module_version": "1.2.0",
       "_view_name": "StyleView",
       "bar_color": null,
       "description_width": ""
      }
     },
     "4c3c867a031f4d35b20668cb7ea16a1a": {
      "model_module": "@jupyter-widgets/controls",
      "model_module_version": "1.5.0",
      "model_name": "DescriptionStyleModel",
      "state": {
       "_model_module": "@jupyter-widgets/controls",
       "_model_module_version": "1.5.0",
       "_model_name": "DescriptionStyleModel",
       "_view_count": null,
       "_view_module": "@jupyter-widgets/base",
       "_view_module_version": "1.2.0",
       "_view_name": "StyleView",
       "description_width": ""
      }
     },
     "518a8cf20ec448c1ab35780839d2826e": {
      "model_module": "@jupyter-widgets/controls",
      "model_module_version": "1.5.0",
      "model_name": "FloatProgressModel",
      "state": {
       "_dom_classes": [],
       "_model_module": "@jupyter-widgets/controls",
       "_model_module_version": "1.5.0",
       "_model_name": "FloatProgressModel",
       "_view_count": null,
       "_view_module": "@jupyter-widgets/controls",
       "_view_module_version": "1.5.0",
       "_view_name": "ProgressView",
       "bar_style": "info",
       "description": "",
       "description_tooltip": null,
       "layout": "IPY_MODEL_6770c64bf2684ca790cb203bc3bf9720",
       "max": 1.0,
       "min": 0.0,
       "orientation": "horizontal",
       "style": "IPY_MODEL_cd592ededfb74d23ac10a04006470a70",
       "value": 0.0
      }
     },
     "51afc8146d2848eca751371980a1c33b": {
      "model_module": "@jupyter-widgets/base",
      "model_module_version": "1.2.0",
      "model_name": "LayoutModel",
      "state": {
       "_model_module": "@jupyter-widgets/base",
       "_model_module_version": "1.2.0",
       "_model_name": "LayoutModel",
       "_view_count": null,
       "_view_module": "@jupyter-widgets/base",
       "_view_module_version": "1.2.0",
       "_view_name": "LayoutView",
       "align_content": null,
       "align_items": null,
       "align_self": null,
       "border": null,
       "bottom": null,
       "display": null,
       "flex": null,
       "flex_flow": null,
       "grid_area": null,
       "grid_auto_columns": null,
       "grid_auto_flow": null,
       "grid_auto_rows": null,
       "grid_column": null,
       "grid_gap": null,
       "grid_row": null,
       "grid_template_areas": null,
       "grid_template_columns": null,
       "grid_template_rows": null,
       "height": null,
       "justify_content": null,
       "justify_items": null,
       "left": null,
       "margin": null,
       "max_height": null,
       "max_width": null,
       "min_height": null,
       "min_width": null,
       "object_fit": null,
       "object_position": null,
       "order": null,
       "overflow": null,
       "overflow_x": null,
       "overflow_y": null,
       "padding": null,
       "right": null,
       "top": null,
       "visibility": null,
       "width": "20px"
      }
     },
     "55e6e447824840ffb3870d849e760358": {
      "model_module": "@jupyter-widgets/controls",
      "model_module_version": "1.5.0",
      "model_name": "DescriptionStyleModel",
      "state": {
       "_model_module": "@jupyter-widgets/controls",
       "_model_module_version": "1.5.0",
       "_model_name": "DescriptionStyleModel",
       "_view_count": null,
       "_view_module": "@jupyter-widgets/base",
       "_view_module_version": "1.2.0",
       "_view_name": "StyleView",
       "description_width": ""
      }
     },
     "62353ba9063d47dd97f56a9251aae92e": {
      "model_module": "@jupyter-widgets/output",
      "model_module_version": "1.0.0",
      "model_name": "OutputModel",
      "state": {
       "_dom_classes": [],
       "_model_module": "@jupyter-widgets/output",
       "_model_module_version": "1.0.0",
       "_model_name": "OutputModel",
       "_view_count": null,
       "_view_module": "@jupyter-widgets/output",
       "_view_module_version": "1.0.0",
       "_view_name": "OutputView",
       "layout": "IPY_MODEL_6e4ac0d732814ad989a665a624b4ed80",
       "msg_id": "",
       "outputs": []
      }
     },
     "6760a391671a4d2992f6f7a163cae85e": {
      "model_module": "@jupyter-widgets/base",
      "model_module_version": "1.2.0",
      "model_name": "LayoutModel",
      "state": {
       "_model_module": "@jupyter-widgets/base",
       "_model_module_version": "1.2.0",
       "_model_name": "LayoutModel",
       "_view_count": null,
       "_view_module": "@jupyter-widgets/base",
       "_view_module_version": "1.2.0",
       "_view_name": "LayoutView",
       "align_content": null,
       "align_items": null,
       "align_self": null,
       "border": null,
       "bottom": null,
       "display": null,
       "flex": null,
       "flex_flow": null,
       "grid_area": null,
       "grid_auto_columns": null,
       "grid_auto_flow": null,
       "grid_auto_rows": null,
       "grid_column": null,
       "grid_gap": null,
       "grid_row": null,
       "grid_template_areas": null,
       "grid_template_columns": null,
       "grid_template_rows": null,
       "height": null,
       "justify_content": null,
       "justify_items": null,
       "left": null,
       "margin": null,
       "max_height": null,
       "max_width": null,
       "min_height": null,
       "min_width": null,
       "object_fit": null,
       "object_position": null,
       "order": null,
       "overflow": null,
       "overflow_x": null,
       "overflow_y": null,
       "padding": null,
       "right": null,
       "top": null,
       "visibility": null,
       "width": null
      }
     },
     "6770c64bf2684ca790cb203bc3bf9720": {
      "model_module": "@jupyter-widgets/base",
      "model_module_version": "1.2.0",
      "model_name": "LayoutModel",
      "state": {
       "_model_module": "@jupyter-widgets/base",
       "_model_module_version": "1.2.0",
       "_model_name": "LayoutModel",
       "_view_count": null,
       "_view_module": "@jupyter-widgets/base",
       "_view_module_version": "1.2.0",
       "_view_name": "LayoutView",
       "align_content": null,
       "align_items": null,
       "align_self": null,
       "border": null,
       "bottom": null,
       "display": null,
       "flex": null,
       "flex_flow": null,
       "grid_area": null,
       "grid_auto_columns": null,
       "grid_auto_flow": null,
       "grid_auto_rows": null,
       "grid_column": null,
       "grid_gap": null,
       "grid_row": null,
       "grid_template_areas": null,
       "grid_template_columns": null,
       "grid_template_rows": null,
       "height": null,
       "justify_content": null,
       "justify_items": null,
       "left": null,
       "margin": null,
       "max_height": null,
       "max_width": null,
       "min_height": null,
       "min_width": null,
       "object_fit": null,
       "object_position": null,
       "order": null,
       "overflow": null,
       "overflow_x": null,
       "overflow_y": null,
       "padding": null,
       "right": null,
       "top": null,
       "visibility": null,
       "width": "20px"
      }
     },
     "6b7225ad2ff14ec4b715fff62d040f69": {
      "model_module": "@jupyter-widgets/base",
      "model_module_version": "1.2.0",
      "model_name": "LayoutModel",
      "state": {
       "_model_module": "@jupyter-widgets/base",
       "_model_module_version": "1.2.0",
       "_model_name": "LayoutModel",
       "_view_count": null,
       "_view_module": "@jupyter-widgets/base",
       "_view_module_version": "1.2.0",
       "_view_name": "LayoutView",
       "align_content": null,
       "align_items": null,
       "align_self": null,
       "border": null,
       "bottom": null,
       "display": null,
       "flex": null,
       "flex_flow": null,
       "grid_area": null,
       "grid_auto_columns": null,
       "grid_auto_flow": null,
       "grid_auto_rows": null,
       "grid_column": null,
       "grid_gap": null,
       "grid_row": null,
       "grid_template_areas": null,
       "grid_template_columns": null,
       "grid_template_rows": null,
       "height": null,
       "justify_content": null,
       "justify_items": null,
       "left": null,
       "margin": null,
       "max_height": null,
       "max_width": null,
       "min_height": null,
       "min_width": null,
       "object_fit": null,
       "object_position": null,
       "order": null,
       "overflow": null,
       "overflow_x": null,
       "overflow_y": null,
       "padding": null,
       "right": null,
       "top": null,
       "visibility": null,
       "width": null
      }
     },
     "6e4ac0d732814ad989a665a624b4ed80": {
      "model_module": "@jupyter-widgets/base",
      "model_module_version": "1.2.0",
      "model_name": "LayoutModel",
      "state": {
       "_model_module": "@jupyter-widgets/base",
       "_model_module_version": "1.2.0",
       "_model_name": "LayoutModel",
       "_view_count": null,
       "_view_module": "@jupyter-widgets/base",
       "_view_module_version": "1.2.0",
       "_view_name": "LayoutView",
       "align_content": null,
       "align_items": null,
       "align_self": null,
       "border": null,
       "bottom": null,
       "display": null,
       "flex": null,
       "flex_flow": null,
       "grid_area": null,
       "grid_auto_columns": null,
       "grid_auto_flow": null,
       "grid_auto_rows": null,
       "grid_column": null,
       "grid_gap": null,
       "grid_row": null,
       "grid_template_areas": null,
       "grid_template_columns": null,
       "grid_template_rows": null,
       "height": null,
       "justify_content": null,
       "justify_items": null,
       "left": null,
       "margin": null,
       "max_height": null,
       "max_width": null,
       "min_height": null,
       "min_width": null,
       "object_fit": null,
       "object_position": null,
       "order": null,
       "overflow": null,
       "overflow_x": null,
       "overflow_y": null,
       "padding": null,
       "right": null,
       "top": null,
       "visibility": null,
       "width": null
      }
     },
     "6e934cdbd9644897af1c33ed2e14355a": {
      "model_module": "@jupyter-widgets/controls",
      "model_module_version": "1.5.0",
      "model_name": "FloatProgressModel",
      "state": {
       "_dom_classes": [],
       "_model_module": "@jupyter-widgets/controls",
       "_model_module_version": "1.5.0",
       "_model_name": "FloatProgressModel",
       "_view_count": null,
       "_view_module": "@jupyter-widgets/controls",
       "_view_module_version": "1.5.0",
       "_view_name": "ProgressView",
       "bar_style": "",
       "description": "",
       "description_tooltip": null,
       "layout": "IPY_MODEL_6f61af5f6367427dbc840e7efbc483ad",
       "max": 100000.0,
       "min": 0.0,
       "orientation": "horizontal",
       "style": "IPY_MODEL_999b429b25484061989aa0b039beb8ea",
       "value": 100000.0
      }
     },
     "6f61af5f6367427dbc840e7efbc483ad": {
      "model_module": "@jupyter-widgets/base",
      "model_module_version": "1.2.0",
      "model_name": "LayoutModel",
      "state": {
       "_model_module": "@jupyter-widgets/base",
       "_model_module_version": "1.2.0",
       "_model_name": "LayoutModel",
       "_view_count": null,
       "_view_module": "@jupyter-widgets/base",
       "_view_module_version": "1.2.0",
       "_view_name": "LayoutView",
       "align_content": null,
       "align_items": null,
       "align_self": null,
       "border": null,
       "bottom": null,
       "display": null,
       "flex": null,
       "flex_flow": null,
       "grid_area": null,
       "grid_auto_columns": null,
       "grid_auto_flow": null,
       "grid_auto_rows": null,
       "grid_column": null,
       "grid_gap": null,
       "grid_row": null,
       "grid_template_areas": null,
       "grid_template_columns": null,
       "grid_template_rows": null,
       "height": null,
       "justify_content": null,
       "justify_items": null,
       "left": null,
       "margin": null,
       "max_height": null,
       "max_width": null,
       "min_height": null,
       "min_width": null,
       "object_fit": null,
       "object_position": null,
       "order": null,
       "overflow": null,
       "overflow_x": null,
       "overflow_y": null,
       "padding": null,
       "right": null,
       "top": null,
       "visibility": null,
       "width": "60%"
      }
     },
     "82e4cd08bcdf476f86ab83c83d2274b7": {
      "model_module": "@jupyter-widgets/controls",
      "model_module_version": "1.5.0",
      "model_name": "HTMLModel",
      "state": {
       "_dom_classes": [],
       "_model_module": "@jupyter-widgets/controls",
       "_model_module_version": "1.5.0",
       "_model_name": "HTMLModel",
       "_view_count": null,
       "_view_module": "@jupyter-widgets/controls",
       "_view_module_version": "1.5.0",
       "_view_name": "HTMLView",
       "description": "",
       "description_tooltip": null,
       "layout": "IPY_MODEL_1b430e46ef494d1ea8bfc2451d829884",
       "placeholder": "​",
       "style": "IPY_MODEL_e9985c387f2146fa927efbde2b8e9a3a",
       "value": "100000/100000 [00:05&lt;00:00, 21142.47it/s]"
      }
     },
     "8acef7cc17d6403790ec4f11dd67aaeb": {
      "model_module": "@jupyter-widgets/controls",
      "model_module_version": "1.5.0",
      "model_name": "HTMLModel",
      "state": {
       "_dom_classes": [],
       "_model_module": "@jupyter-widgets/controls",
       "_model_module_version": "1.5.0",
       "_model_name": "HTMLModel",
       "_view_count": null,
       "_view_module": "@jupyter-widgets/controls",
       "_view_module_version": "1.5.0",
       "_view_name": "HTMLView",
       "description": "",
       "description_tooltip": null,
       "layout": "IPY_MODEL_8c85cffb4744409c9bcc866fe2f56f4d",
       "placeholder": "​",
       "style": "IPY_MODEL_fbe1958d72b648b3bbcff97921e91dbe",
       "value": "Iterations:"
      }
     },
     "8c85cffb4744409c9bcc866fe2f56f4d": {
      "model_module": "@jupyter-widgets/base",
      "model_module_version": "1.2.0",
      "model_name": "LayoutModel",
      "state": {
       "_model_module": "@jupyter-widgets/base",
       "_model_module_version": "1.2.0",
       "_model_name": "LayoutModel",
       "_view_count": null,
       "_view_module": "@jupyter-widgets/base",
       "_view_module_version": "1.2.0",
       "_view_name": "LayoutView",
       "align_content": null,
       "align_items": null,
       "align_self": null,
       "border": null,
       "bottom": null,
       "display": null,
       "flex": null,
       "flex_flow": null,
       "grid_area": null,
       "grid_auto_columns": null,
       "grid_auto_flow": null,
       "grid_auto_rows": null,
       "grid_column": null,
       "grid_gap": null,
       "grid_row": null,
       "grid_template_areas": null,
       "grid_template_columns": null,
       "grid_template_rows": null,
       "height": null,
       "justify_content": null,
       "justify_items": null,
       "left": null,
       "margin": null,
       "max_height": null,
       "max_width": null,
       "min_height": null,
       "min_width": null,
       "object_fit": null,
       "object_position": null,
       "order": null,
       "overflow": null,
       "overflow_x": null,
       "overflow_y": null,
       "padding": null,
       "right": null,
       "top": null,
       "visibility": null,
       "width": "6%"
      }
     },
     "94cead3a7eea46a69d314a8d25ca3381": {
      "model_module": "@jupyter-widgets/base",
      "model_module_version": "1.2.0",
      "model_name": "LayoutModel",
      "state": {
       "_model_module": "@jupyter-widgets/base",
       "_model_module_version": "1.2.0",
       "_model_name": "LayoutModel",
       "_view_count": null,
       "_view_module": "@jupyter-widgets/base",
       "_view_module_version": "1.2.0",
       "_view_name": "LayoutView",
       "align_content": null,
       "align_items": null,
       "align_self": null,
       "border": null,
       "bottom": null,
       "display": null,
       "flex": null,
       "flex_flow": null,
       "grid_area": null,
       "grid_auto_columns": null,
       "grid_auto_flow": null,
       "grid_auto_rows": null,
       "grid_column": null,
       "grid_gap": null,
       "grid_row": null,
       "grid_template_areas": null,
       "grid_template_columns": null,
       "grid_template_rows": null,
       "height": null,
       "justify_content": null,
       "justify_items": null,
       "left": null,
       "margin": null,
       "max_height": null,
       "max_width": null,
       "min_height": null,
       "min_width": null,
       "object_fit": null,
       "object_position": null,
       "order": null,
       "overflow": null,
       "overflow_x": null,
       "overflow_y": null,
       "padding": null,
       "right": null,
       "top": null,
       "visibility": null,
       "width": null
      }
     },
     "999b429b25484061989aa0b039beb8ea": {
      "model_module": "@jupyter-widgets/controls",
      "model_module_version": "1.5.0",
      "model_name": "ProgressStyleModel",
      "state": {
       "_model_module": "@jupyter-widgets/controls",
       "_model_module_version": "1.5.0",
       "_model_name": "ProgressStyleModel",
       "_view_count": null,
       "_view_module": "@jupyter-widgets/base",
       "_view_module_version": "1.2.0",
       "_view_name": "StyleView",
       "bar_color": null,
       "description_width": ""
      }
     },
     "a34bb5f4df6c42d8aa15f2172fa02493": {
      "model_module": "@jupyter-widgets/controls",
      "model_module_version": "1.5.0",
      "model_name": "HTMLModel",
      "state": {
       "_dom_classes": [],
       "_model_module": "@jupyter-widgets/controls",
       "_model_module_version": "1.5.0",
       "_model_name": "HTMLModel",
       "_view_count": null,
       "_view_module": "@jupyter-widgets/controls",
       "_view_module_version": "1.5.0",
       "_view_name": "HTMLView",
       "description": "",
       "description_tooltip": null,
       "layout": "IPY_MODEL_07c0ea37f2824b1e9dc65fb250bd49b1",
       "placeholder": "​",
       "style": "IPY_MODEL_d03c31eccaef472384a712e13c397fa5",
       "value": "20/20 [00:18&lt;00:00,  2.21s/it]"
      }
     },
     "a5f91a7e1b624594ba9c3812e81f3b44": {
      "model_module": "@jupyter-widgets/base",
      "model_module_version": "1.2.0",
      "model_name": "LayoutModel",
      "state": {
       "_model_module": "@jupyter-widgets/base",
       "_model_module_version": "1.2.0",
       "_model_name": "LayoutModel",
       "_view_count": null,
       "_view_module": "@jupyter-widgets/base",
       "_view_module_version": "1.2.0",
       "_view_name": "LayoutView",
       "align_content": null,
       "align_items": null,
       "align_self": null,
       "border": null,
       "bottom": null,
       "display": null,
       "flex": null,
       "flex_flow": null,
       "grid_area": null,
       "grid_auto_columns": null,
       "grid_auto_flow": null,
       "grid_auto_rows": null,
       "grid_column": null,
       "grid_gap": null,
       "grid_row": null,
       "grid_template_areas": null,
       "grid_template_columns": null,
       "grid_template_rows": null,
       "height": null,
       "justify_content": null,
       "justify_items": null,
       "left": null,
       "margin": null,
       "max_height": null,
       "max_width": null,
       "min_height": null,
       "min_width": null,
       "object_fit": null,
       "object_position": null,
       "order": null,
       "overflow": null,
       "overflow_x": null,
       "overflow_y": null,
       "padding": null,
       "right": null,
       "top": null,
       "visibility": null,
       "width": null
      }
     },
     "abf4ac7d5faf4e388919a880f451f17a": {
      "model_module": "@jupyter-widgets/controls",
      "model_module_version": "1.5.0",
      "model_name": "DescriptionStyleModel",
      "state": {
       "_model_module": "@jupyter-widgets/controls",
       "_model_module_version": "1.5.0",
       "_model_name": "DescriptionStyleModel",
       "_view_count": null,
       "_view_module": "@jupyter-widgets/base",
       "_view_module_version": "1.2.0",
       "_view_name": "StyleView",
       "description_width": ""
      }
     },
     "b17aac4658c84d3382e151be72b34985": {
      "model_module": "@jupyter-widgets/controls",
      "model_module_version": "1.5.0",
      "model_name": "HBoxModel",
      "state": {
       "_dom_classes": [],
       "_model_module": "@jupyter-widgets/controls",
       "_model_module_version": "1.5.0",
       "_model_name": "HBoxModel",
       "_view_count": null,
       "_view_module": "@jupyter-widgets/controls",
       "_view_module_version": "1.5.0",
       "_view_name": "HBoxView",
       "box_style": "",
       "children": [
        "IPY_MODEL_8acef7cc17d6403790ec4f11dd67aaeb",
        "IPY_MODEL_cbc90d999ede4c799ab1f9b35063a53e",
        "IPY_MODEL_a34bb5f4df6c42d8aa15f2172fa02493"
       ],
       "layout": "IPY_MODEL_00cd2ce3c69040c6bebc24936e44fd30"
      }
     },
     "b1fb808175734e68b79ed539473d3f4f": {
      "model_module": "@jupyter-widgets/base",
      "model_module_version": "1.2.0",
      "model_name": "LayoutModel",
      "state": {
       "_model_module": "@jupyter-widgets/base",
       "_model_module_version": "1.2.0",
       "_model_name": "LayoutModel",
       "_view_count": null,
       "_view_module": "@jupyter-widgets/base",
       "_view_module_version": "1.2.0",
       "_view_name": "LayoutView",
       "align_content": null,
       "align_items": null,
       "align_self": null,
       "border": null,
       "bottom": null,
       "display": null,
       "flex": null,
       "flex_flow": null,
       "grid_area": null,
       "grid_auto_columns": null,
       "grid_auto_flow": null,
       "grid_auto_rows": null,
       "grid_column": null,
       "grid_gap": null,
       "grid_row": null,
       "grid_template_areas": null,
       "grid_template_columns": null,
       "grid_template_rows": null,
       "height": null,
       "justify_content": null,
       "justify_items": null,
       "left": null,
       "margin": null,
       "max_height": null,
       "max_width": null,
       "min_height": null,
       "min_width": null,
       "object_fit": null,
       "object_position": null,
       "order": null,
       "overflow": null,
       "overflow_x": null,
       "overflow_y": null,
       "padding": null,
       "right": null,
       "top": null,
       "visibility": null,
       "width": "60%"
      }
     },
     "ba463cd2865e4335b57824e58fecc398": {
      "model_module": "@jupyter-widgets/controls",
      "model_module_version": "1.5.0",
      "model_name": "ProgressStyleModel",
      "state": {
       "_model_module": "@jupyter-widgets/controls",
       "_model_module_version": "1.5.0",
       "_model_name": "ProgressStyleModel",
       "_view_count": null,
       "_view_module": "@jupyter-widgets/base",
       "_view_module_version": "1.2.0",
       "_view_name": "StyleView",
       "bar_color": null,
       "description_width": ""
      }
     },
     "baf4980c1fc94fb2812b301e97ff5f22": {
      "model_module": "@jupyter-widgets/controls",
      "model_module_version": "1.5.0",
      "model_name": "HTMLModel",
      "state": {
       "_dom_classes": [],
       "_model_module": "@jupyter-widgets/controls",
       "_model_module_version": "1.5.0",
       "_model_name": "HTMLModel",
       "_view_count": null,
       "_view_module": "@jupyter-widgets/controls",
       "_view_module_version": "1.5.0",
       "_view_name": "HTMLView",
       "description": "",
       "description_tooltip": null,
       "layout": "IPY_MODEL_f7886e2424fc42e0aa6af8b36f397f11",
       "placeholder": "​",
       "style": "IPY_MODEL_bb4445969e68426698fbbe50d8a77e37",
       "value": "Iterations:"
      }
     },
     "bb4445969e68426698fbbe50d8a77e37": {
      "model_module": "@jupyter-widgets/controls",
      "model_module_version": "1.5.0",
      "model_name": "DescriptionStyleModel",
      "state": {
       "_model_module": "@jupyter-widgets/controls",
       "_model_module_version": "1.5.0",
       "_model_name": "DescriptionStyleModel",
       "_view_count": null,
       "_view_module": "@jupyter-widgets/base",
       "_view_module_version": "1.2.0",
       "_view_name": "StyleView",
       "description_width": ""
      }
     },
     "ca603901b0e1457e853e43e0234707ac": {
      "model_module": "@jupyter-widgets/base",
      "model_module_version": "1.2.0",
      "model_name": "LayoutModel",
      "state": {
       "_model_module": "@jupyter-widgets/base",
       "_model_module_version": "1.2.0",
       "_model_name": "LayoutModel",
       "_view_count": null,
       "_view_module": "@jupyter-widgets/base",
       "_view_module_version": "1.2.0",
       "_view_name": "LayoutView",
       "align_content": null,
       "align_items": null,
       "align_self": null,
       "border": null,
       "bottom": null,
       "display": null,
       "flex": null,
       "flex_flow": null,
       "grid_area": null,
       "grid_auto_columns": null,
       "grid_auto_flow": null,
       "grid_auto_rows": null,
       "grid_column": null,
       "grid_gap": null,
       "grid_row": null,
       "grid_template_areas": null,
       "grid_template_columns": null,
       "grid_template_rows": null,
       "height": null,
       "justify_content": null,
       "justify_items": null,
       "left": null,
       "margin": null,
       "max_height": null,
       "max_width": null,
       "min_height": null,
       "min_width": null,
       "object_fit": null,
       "object_position": null,
       "order": null,
       "overflow": null,
       "overflow_x": null,
       "overflow_y": null,
       "padding": null,
       "right": null,
       "top": null,
       "visibility": null,
       "width": null
      }
     },
     "cbc90d999ede4c799ab1f9b35063a53e": {
      "model_module": "@jupyter-widgets/controls",
      "model_module_version": "1.5.0",
      "model_name": "FloatProgressModel",
      "state": {
       "_dom_classes": [],
       "_model_module": "@jupyter-widgets/controls",
       "_model_module_version": "1.5.0",
       "_model_name": "FloatProgressModel",
       "_view_count": null,
       "_view_module": "@jupyter-widgets/controls",
       "_view_module_version": "1.5.0",
       "_view_name": "ProgressView",
       "bar_style": "",
       "description": "",
       "description_tooltip": null,
       "layout": "IPY_MODEL_b1fb808175734e68b79ed539473d3f4f",
       "max": 20.0,
       "min": 0.0,
       "orientation": "horizontal",
       "style": "IPY_MODEL_ba463cd2865e4335b57824e58fecc398",
       "value": 20.0
      }
     },
     "cd592ededfb74d23ac10a04006470a70": {
      "model_module": "@jupyter-widgets/controls",
      "model_module_version": "1.5.0",
      "model_name": "ProgressStyleModel",
      "state": {
       "_model_module": "@jupyter-widgets/controls",
       "_model_module_version": "1.5.0",
       "_model_name": "ProgressStyleModel",
       "_view_count": null,
       "_view_module": "@jupyter-widgets/base",
       "_view_module_version": "1.2.0",
       "_view_name": "StyleView",
       "bar_color": null,
       "description_width": ""
      }
     },
     "d03c31eccaef472384a712e13c397fa5": {
      "model_module": "@jupyter-widgets/controls",
      "model_module_version": "1.5.0",
      "model_name": "DescriptionStyleModel",
      "state": {
       "_model_module": "@jupyter-widgets/controls",
       "_model_module_version": "1.5.0",
       "_model_name": "DescriptionStyleModel",
       "_view_count": null,
       "_view_module": "@jupyter-widgets/base",
       "_view_module_version": "1.2.0",
       "_view_name": "StyleView",
       "description_width": ""
      }
     },
     "e46e4fa8421f454e8f7c5e36caa51e93": {
      "model_module": "@jupyter-widgets/controls",
      "model_module_version": "1.5.0",
      "model_name": "HBoxModel",
      "state": {
       "_dom_classes": [],
       "_model_module": "@jupyter-widgets/controls",
       "_model_module_version": "1.5.0",
       "_model_name": "HBoxModel",
       "_view_count": null,
       "_view_module": "@jupyter-widgets/controls",
       "_view_module_version": "1.5.0",
       "_view_name": "HBoxView",
       "box_style": "",
       "children": [
        "IPY_MODEL_0bb1d013391243d5b67f15662e720caf",
        "IPY_MODEL_6e934cdbd9644897af1c33ed2e14355a",
        "IPY_MODEL_82e4cd08bcdf476f86ab83c83d2274b7"
       ],
       "layout": "IPY_MODEL_12e6caca5dee498aab82a233c3fb58d0"
      }
     },
     "e9985c387f2146fa927efbde2b8e9a3a": {
      "model_module": "@jupyter-widgets/controls",
      "model_module_version": "1.5.0",
      "model_name": "DescriptionStyleModel",
      "state": {
       "_model_module": "@jupyter-widgets/controls",
       "_model_module_version": "1.5.0",
       "_model_name": "DescriptionStyleModel",
       "_view_count": null,
       "_view_module": "@jupyter-widgets/base",
       "_view_module_version": "1.2.0",
       "_view_name": "StyleView",
       "description_width": ""
      }
     },
     "f7886e2424fc42e0aa6af8b36f397f11": {
      "model_module": "@jupyter-widgets/base",
      "model_module_version": "1.2.0",
      "model_name": "LayoutModel",
      "state": {
       "_model_module": "@jupyter-widgets/base",
       "_model_module_version": "1.2.0",
       "_model_name": "LayoutModel",
       "_view_count": null,
       "_view_module": "@jupyter-widgets/base",
       "_view_module_version": "1.2.0",
       "_view_name": "LayoutView",
       "align_content": null,
       "align_items": null,
       "align_self": null,
       "border": null,
       "bottom": null,
       "display": null,
       "flex": null,
       "flex_flow": null,
       "grid_area": null,
       "grid_auto_columns": null,
       "grid_auto_flow": null,
       "grid_auto_rows": null,
       "grid_column": null,
       "grid_gap": null,
       "grid_row": null,
       "grid_template_areas": null,
       "grid_template_columns": null,
       "grid_template_rows": null,
       "height": null,
       "justify_content": null,
       "justify_items": null,
       "left": null,
       "margin": null,
       "max_height": null,
       "max_width": null,
       "min_height": null,
       "min_width": null,
       "object_fit": null,
       "object_position": null,
       "order": null,
       "overflow": null,
       "overflow_x": null,
       "overflow_y": null,
       "padding": null,
       "right": null,
       "top": null,
       "visibility": null,
       "width": null
      }
     },
     "fbe1958d72b648b3bbcff97921e91dbe": {
      "model_module": "@jupyter-widgets/controls",
      "model_module_version": "1.5.0",
      "model_name": "DescriptionStyleModel",
      "state": {
       "_model_module": "@jupyter-widgets/controls",
       "_model_module_version": "1.5.0",
       "_model_name": "DescriptionStyleModel",
       "_view_count": null,
       "_view_module": "@jupyter-widgets/base",
       "_view_module_version": "1.2.0",
       "_view_name": "StyleView",
       "description_width": ""
      }
     },
     "fe159743e91a4b38ab7ddbe5c1bc2bfb": {
      "model_module": "@jupyter-widgets/output",
      "model_module_version": "1.0.0",
      "model_name": "OutputModel",
      "state": {
       "_dom_classes": [],
       "_model_module": "@jupyter-widgets/output",
       "_model_module_version": "1.0.0",
       "_model_name": "OutputModel",
       "_view_count": null,
       "_view_module": "@jupyter-widgets/output",
       "_view_module_version": "1.0.0",
       "_view_name": "OutputView",
       "layout": "IPY_MODEL_6b7225ad2ff14ec4b715fff62d040f69",
       "msg_id": "",
       "outputs": []
      }
     }
    },
    "version_major": 2,
    "version_minor": 0
   }
  }
 },
 "nbformat": 4,
 "nbformat_minor": 1
}
