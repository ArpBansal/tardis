{
 "cells": [
  {
   "cell_type": "markdown",
   "metadata": {},
   "source": [
    "# Running TARDIS Model Grids\n",
    "\n",
    "This notebook demonstrates the capabilities of the TARDIS grid. The grid facilitates users running large numbers of TARDIS simulations."
   ]
  },
  {
   "cell_type": "code",
   "execution_count": 1,
   "metadata": {
    "execution": {
     "iopub.execute_input": "2023-11-26T00:27:24.386371Z",
     "iopub.status.busy": "2023-11-26T00:27:24.386150Z",
     "iopub.status.idle": "2023-11-26T00:27:26.988774Z",
     "shell.execute_reply": "2023-11-26T00:27:26.988219Z"
    }
   },
   "outputs": [
    {
     "name": "stderr",
     "output_type": "stream",
     "text": [
      "/usr/share/miniconda3/envs/tardis/lib/python3.11/site-packages/setuptools_scm/git.py:162: UserWarning: \"/home/runner/work/tardis/tardis\" is shallow and may cause errors\n",
      "  warnings.warn(f'\"{wd.path}\" is shallow and may cause errors')\n"
     ]
    },
    {
     "data": {
      "application/vnd.jupyter.widget-view+json": {
       "model_id": "155390cb85564a72a093a3abcdb085a4",
       "version_major": 2,
       "version_minor": 0
      },
      "text/plain": [
       "Iterations:          0/? [00:00<?, ?it/s]"
      ]
     },
     "metadata": {},
     "output_type": "display_data"
    },
    {
     "data": {
      "application/vnd.jupyter.widget-view+json": {
       "model_id": "cec2e455833a40d9ab3a82f2f53ac6a1",
       "version_major": 2,
       "version_minor": 0
      },
      "text/plain": [
       "Packets:             0/? [00:00<?, ?it/s]"
      ]
     },
     "metadata": {},
     "output_type": "display_data"
    }
   ],
   "source": [
    "import pandas as pd\n",
    "import numpy as np\n",
    "from tardis.io.atom_data.util import download_atom_data\n",
    "\n",
    "import tardis.grid as grid"
   ]
  },
  {
   "cell_type": "markdown",
   "metadata": {},
   "source": [
    "## Creating A Grid\n",
    "\n",
    "There are 2 ways of creating a TARDIS grid: directly from a dataframe, or by defining a set of axes over which the grid should be defined. In both cases, a config.yml file is required. **Note that for the dataframe, the column names are in the form of valid keys in a tardis Configuration dictionary. For the axes, the keys must similarly be valid tardis Configuration keys.**"
   ]
  },
  {
   "cell_type": "code",
   "execution_count": 2,
   "metadata": {
    "execution": {
     "iopub.execute_input": "2023-11-26T00:27:26.991228Z",
     "iopub.status.busy": "2023-11-26T00:27:26.990926Z",
     "iopub.status.idle": "2023-11-26T00:27:27.001309Z",
     "shell.execute_reply": "2023-11-26T00:27:27.000759Z"
    }
   },
   "outputs": [
    {
     "data": {
      "text/html": [
       "<div>\n",
       "<style scoped>\n",
       "    .dataframe tbody tr th:only-of-type {\n",
       "        vertical-align: middle;\n",
       "    }\n",
       "\n",
       "    .dataframe tbody tr th {\n",
       "        vertical-align: top;\n",
       "    }\n",
       "\n",
       "    .dataframe thead th {\n",
       "        text-align: right;\n",
       "    }\n",
       "</style>\n",
       "<table border=\"1\" class=\"dataframe\">\n",
       "  <thead>\n",
       "    <tr style=\"text-align: right;\">\n",
       "      <th></th>\n",
       "      <th>model.abundances.H</th>\n",
       "      <th>model.abundances.He</th>\n",
       "      <th>model.structure.velocity.start</th>\n",
       "      <th>plasma.initial_t_inner</th>\n",
       "    </tr>\n",
       "  </thead>\n",
       "  <tbody>\n",
       "    <tr>\n",
       "      <th>0</th>\n",
       "      <td>1.0</td>\n",
       "      <td>0.0</td>\n",
       "      <td>10000</td>\n",
       "      <td>5000</td>\n",
       "    </tr>\n",
       "    <tr>\n",
       "      <th>1</th>\n",
       "      <td>0.4</td>\n",
       "      <td>0.6</td>\n",
       "      <td>12000</td>\n",
       "      <td>6000</td>\n",
       "    </tr>\n",
       "    <tr>\n",
       "      <th>2</th>\n",
       "      <td>0.7</td>\n",
       "      <td>0.3</td>\n",
       "      <td>15000</td>\n",
       "      <td>7000</td>\n",
       "    </tr>\n",
       "  </tbody>\n",
       "</table>\n",
       "</div>"
      ],
      "text/plain": [
       "   model.abundances.H  model.abundances.He  model.structure.velocity.start  \\\n",
       "0                 1.0                  0.0                           10000   \n",
       "1                 0.4                  0.6                           12000   \n",
       "2                 0.7                  0.3                           15000   \n",
       "\n",
       "   plasma.initial_t_inner  \n",
       "0                    5000  \n",
       "1                    6000  \n",
       "2                    7000  "
      ]
     },
     "execution_count": 2,
     "metadata": {},
     "output_type": "execute_result"
    }
   ],
   "source": [
    "# Load a DataFrame\n",
    "df = pd.read_csv('example_grid.txt')\n",
    "df"
   ]
  },
  {
   "cell_type": "code",
   "execution_count": 3,
   "metadata": {
    "execution": {
     "iopub.execute_input": "2023-11-26T00:27:27.003452Z",
     "iopub.status.busy": "2023-11-26T00:27:27.003288Z",
     "iopub.status.idle": "2023-11-26T00:27:27.103000Z",
     "shell.execute_reply": "2023-11-26T00:27:27.102290Z"
    }
   },
   "outputs": [
    {
     "data": {
      "text/plain": [
       "<tardis.grid.base.tardisGrid at 0x7ff3392c9850>"
      ]
     },
     "execution_count": 3,
     "metadata": {},
     "output_type": "execute_result"
    }
   ],
   "source": [
    "# Create a tardis grid directly from a dataframe.\n",
    "grid.tardisGrid(configFile='example.yml', gridFrame=df)"
   ]
  },
  {
   "cell_type": "code",
   "execution_count": 4,
   "metadata": {
    "execution": {
     "iopub.execute_input": "2023-11-26T00:27:27.106198Z",
     "iopub.status.busy": "2023-11-26T00:27:27.105501Z",
     "iopub.status.idle": "2023-11-26T00:27:27.110618Z",
     "shell.execute_reply": "2023-11-26T00:27:27.109601Z"
    }
   },
   "outputs": [],
   "source": [
    "# Create an axes dictionary\n",
    "axesdict = {'model.structure.velocity.start':np.arange(10000,15000,1000), \n",
    "            'model.abundances.He':np.arange(0,1,0.1),\n",
    "            'model.abundances.H':np.arange(0,1,0.25)}"
   ]
  },
  {
   "cell_type": "code",
   "execution_count": 5,
   "metadata": {
    "execution": {
     "iopub.execute_input": "2023-11-26T00:27:27.114267Z",
     "iopub.status.busy": "2023-11-26T00:27:27.113720Z",
     "iopub.status.idle": "2023-11-26T00:27:27.223954Z",
     "shell.execute_reply": "2023-11-26T00:27:27.223290Z"
    }
   },
   "outputs": [
    {
     "data": {
      "text/plain": [
       "<tardis.grid.base.tardisGrid at 0x7ff3392c1190>"
      ]
     },
     "execution_count": 5,
     "metadata": {},
     "output_type": "execute_result"
    }
   ],
   "source": [
    "#Create a tardis grid from an axes dict using the classmethod.\n",
    "grid.tardisGrid.from_axes(configFile='example.yml', axesdict=axesdict)"
   ]
  },
  {
   "cell_type": "markdown",
   "metadata": {},
   "source": [
    "## TARDIS Grid Attributes\n",
    "\n",
    "The TARDIS grid only has 2 attributes. It creates a TARDIS Configuration object from the user specified config.yml file and saves this to the `self.config` attribute. The grid also stores the parameters of every grid point in a Dataframe accessed by `self.grid`"
   ]
  },
  {
   "cell_type": "code",
   "execution_count": 6,
   "metadata": {
    "execution": {
     "iopub.execute_input": "2023-11-26T00:27:27.227223Z",
     "iopub.status.busy": "2023-11-26T00:27:27.226628Z",
     "iopub.status.idle": "2023-11-26T00:27:27.323519Z",
     "shell.execute_reply": "2023-11-26T00:27:27.322774Z"
    }
   },
   "outputs": [],
   "source": [
    "tg = grid.tardisGrid(configFile='example.yml', gridFrame=df)"
   ]
  },
  {
   "cell_type": "code",
   "execution_count": 7,
   "metadata": {
    "execution": {
     "iopub.execute_input": "2023-11-26T00:27:27.326843Z",
     "iopub.status.busy": "2023-11-26T00:27:27.326296Z",
     "iopub.status.idle": "2023-11-26T00:27:27.339096Z",
     "shell.execute_reply": "2023-11-26T00:27:27.338494Z"
    }
   },
   "outputs": [
    {
     "data": {
      "text/plain": [
       "{'tardis_config_version': 'v1.0',\n",
       " 'supernova': {'luminosity_requested': <Quantity 5.679e+41 erg / s>,\n",
       "  'luminosity_wavelength_start': <Quantity 3481.82000178 Angstrom>,\n",
       "  'luminosity_wavelength_end': <Quantity 9947.78776065 Angstrom>,\n",
       "  'time_explosion': <Quantity 10. d>},\n",
       " 'atom_data': 'kurucz_cd23_chianti_H_He.h5',\n",
       " 'model': {'structure': {'type': 'specific',\n",
       "   'velocity': {'start': <Quantity 10000. km / s>,\n",
       "    'stop': <Quantity 20000. km / s>,\n",
       "    'num': 20},\n",
       "   'density': {'type': 'branch85_w7',\n",
       "    'w7_time_0': <Quantity 0.00023148 d>,\n",
       "    'w7_rho_0': <Quantity 3.e+29 g / cm3>,\n",
       "    'w7_v_0': <Quantity 1. km / s>}},\n",
       "  'abundances': {'type': 'uniform', 'He': 0.2, 'H': 0.8}},\n",
       " 'plasma': {'initial_t_inner': <Quantity 7000. K>,\n",
       "  'disable_electron_scattering': False,\n",
       "  'ionization': 'nebular',\n",
       "  'excitation': 'dilute-lte',\n",
       "  'radiative_rates_type': 'dilute-blackbody',\n",
       "  'line_interaction_type': 'macroatom',\n",
       "  'initial_t_rad': <Quantity -1. K>,\n",
       "  'disable_line_scattering': False,\n",
       "  'w_epsilon': 1e-10,\n",
       "  'nlte': {'species': [],\n",
       "   'coronal_approximation': False,\n",
       "   'classical_nebular': False},\n",
       "  'continuum_interaction': {'species': [],\n",
       "   'enable_adiabatic_cooling': False,\n",
       "   'enable_two_photon_decay': False},\n",
       "  'helium_treatment': 'none',\n",
       "  'heating_rate_data_file': 'none',\n",
       "  'link_t_rad_t_electron': 0.9,\n",
       "  'nlte_ionization_species': [],\n",
       "  'nlte_excitation_species': []},\n",
       " 'montecarlo': {'seed': 23111963,\n",
       "  'no_of_packets': 40000.0,\n",
       "  'iterations': 2,\n",
       "  'nthreads': 1,\n",
       "  'last_no_of_packets': 1000.0,\n",
       "  'no_of_virtual_packets': 3,\n",
       "  'convergence_strategy': {'type': 'damped',\n",
       "   'damping_constant': 0.5,\n",
       "   'threshold': 0.05,\n",
       "   'fraction': 0.8,\n",
       "   'hold_iterations': 3,\n",
       "   't_inner': {'damping_constant': 0.5, 'threshold': 0.05},\n",
       "   'stop_if_converged': False,\n",
       "   'lock_t_inner_cycles': 1,\n",
       "   't_inner_update_exponent': -0.5,\n",
       "   't_rad': {'damping_constant': 0.5, 'threshold': 0.05},\n",
       "   'w': {'damping_constant': 0.5, 'threshold': 0.05}},\n",
       "  'virtual_spectrum_spawn_range': {'start': <Quantity 1. Angstrom>,\n",
       "   'end': <Quantity inf Angstrom>},\n",
       "  'enable_reflective_inner_boundary': False,\n",
       "  'inner_boundary_albedo': 0.0,\n",
       "  'enable_full_relativity': False,\n",
       "  'enable_nonhomologous_expansion': False,\n",
       "  'tracking': {'track_rpacket': False, 'initial_array_length': 10},\n",
       "  'debug_packets': False,\n",
       "  'logger_buffer': 1},\n",
       " 'spectrum': {'start': <Quantity 500. Angstrom>,\n",
       "  'stop': <Quantity 20000. Angstrom>,\n",
       "  'num': 10000,\n",
       "  'method': 'virtual',\n",
       "  'integrated': {'points': 1000, 'interpolate_shells': 0, 'compute': 'CPU'},\n",
       "  'virtual': {'tau_russian': 10.0,\n",
       "   'survival_probability': 0.0,\n",
       "   'enable_biasing': False,\n",
       "   'virtual_packet_logging': False}},\n",
       " 'config_dirname': ''}"
      ]
     },
     "execution_count": 7,
     "metadata": {},
     "output_type": "execute_result"
    }
   ],
   "source": [
    "# The config generated from the user's yml file.\n",
    "tg.config"
   ]
  },
  {
   "cell_type": "code",
   "execution_count": 8,
   "metadata": {
    "execution": {
     "iopub.execute_input": "2023-11-26T00:27:27.341810Z",
     "iopub.status.busy": "2023-11-26T00:27:27.341265Z",
     "iopub.status.idle": "2023-11-26T00:27:27.349432Z",
     "shell.execute_reply": "2023-11-26T00:27:27.348640Z"
    }
   },
   "outputs": [
    {
     "data": {
      "text/html": [
       "<div>\n",
       "<style scoped>\n",
       "    .dataframe tbody tr th:only-of-type {\n",
       "        vertical-align: middle;\n",
       "    }\n",
       "\n",
       "    .dataframe tbody tr th {\n",
       "        vertical-align: top;\n",
       "    }\n",
       "\n",
       "    .dataframe thead th {\n",
       "        text-align: right;\n",
       "    }\n",
       "</style>\n",
       "<table border=\"1\" class=\"dataframe\">\n",
       "  <thead>\n",
       "    <tr style=\"text-align: right;\">\n",
       "      <th></th>\n",
       "      <th>model.abundances.H</th>\n",
       "      <th>model.abundances.He</th>\n",
       "      <th>model.structure.velocity.start</th>\n",
       "      <th>plasma.initial_t_inner</th>\n",
       "    </tr>\n",
       "  </thead>\n",
       "  <tbody>\n",
       "    <tr>\n",
       "      <th>0</th>\n",
       "      <td>1.0</td>\n",
       "      <td>0.0</td>\n",
       "      <td>10000</td>\n",
       "      <td>5000</td>\n",
       "    </tr>\n",
       "    <tr>\n",
       "      <th>1</th>\n",
       "      <td>0.4</td>\n",
       "      <td>0.6</td>\n",
       "      <td>12000</td>\n",
       "      <td>6000</td>\n",
       "    </tr>\n",
       "    <tr>\n",
       "      <th>2</th>\n",
       "      <td>0.7</td>\n",
       "      <td>0.3</td>\n",
       "      <td>15000</td>\n",
       "      <td>7000</td>\n",
       "    </tr>\n",
       "  </tbody>\n",
       "</table>\n",
       "</div>"
      ],
      "text/plain": [
       "   model.abundances.H  model.abundances.He  model.structure.velocity.start  \\\n",
       "0                 1.0                  0.0                           10000   \n",
       "1                 0.4                  0.6                           12000   \n",
       "2                 0.7                  0.3                           15000   \n",
       "\n",
       "   plasma.initial_t_inner  \n",
       "0                    5000  \n",
       "1                    6000  \n",
       "2                    7000  "
      ]
     },
     "execution_count": 8,
     "metadata": {},
     "output_type": "execute_result"
    }
   ],
   "source": [
    "# The user specified grid.\n",
    "tg.grid"
   ]
  },
  {
   "cell_type": "markdown",
   "metadata": {},
   "source": [
    "## TARDIS Grid Functionality\n",
    "\n",
    "The TARDIS Grid provides a variety of functions for using the grid to generate new Configurations, return new SimulationState objects, or directly run simulations using the parameters specified by the grid. This functionality is particularly useful for running large numbers of simulations and easily works with JobArrays where the row_index is the JobArray index."
   ]
  },
  {
   "cell_type": "code",
   "execution_count": 9,
   "metadata": {
    "execution": {
     "iopub.execute_input": "2023-11-26T00:27:27.352127Z",
     "iopub.status.busy": "2023-11-26T00:27:27.351580Z",
     "iopub.status.idle": "2023-11-26T00:27:27.356382Z",
     "shell.execute_reply": "2023-11-26T00:27:27.355682Z"
    }
   },
   "outputs": [
    {
     "name": "stdout",
     "output_type": "stream",
     "text": [
      "tg.config is the original config: {'type': 'uniform', 'He': 0.2, 'H': 0.8}\n",
      "The new config is modified:  {'type': 'uniform', 'He': 0.0, 'H': 1.0}\n"
     ]
    }
   ],
   "source": [
    "# Easily get a new TARDIS Configuration object \n",
    "# which has the properties of the base self.config\n",
    "# but with properties modified by a row of the grid.\n",
    "new_grid = tg.grid_row_to_config(row_index=0);\n",
    "print(\"tg.config is the original config:\",tg.config.model.abundances)\n",
    "print(\"The new config is modified: \",new_grid.model.abundances)"
   ]
  },
  {
   "cell_type": "code",
   "execution_count": 10,
   "metadata": {
    "execution": {
     "iopub.execute_input": "2023-11-26T00:27:27.359217Z",
     "iopub.status.busy": "2023-11-26T00:27:27.358602Z",
     "iopub.status.idle": "2023-11-26T00:27:27.383652Z",
     "shell.execute_reply": "2023-11-26T00:27:27.383160Z"
    }
   },
   "outputs": [
    {
     "name": "stderr",
     "output_type": "stream",
     "text": [
      "Number of density points larger than number of shells. Assuming inner point irrelevant\n"
     ]
    },
    {
     "data": {
      "text/plain": [
       "<tardis.model.base.SimulationState at 0x7ff3393d9090>"
      ]
     },
     "execution_count": 10,
     "metadata": {},
     "output_type": "execute_result"
    }
   ],
   "source": [
    "# In case a user needs to make more complicated changes\n",
    "# to the base TARDIS model (i.e. using parameters that \n",
    "# are not valid TARDIS Configuration keys), the grid\n",
    "# can return a SimulationState object for a given row.\n",
    "model = tg.grid_row_to_model(row_index=0)\n",
    "model"
   ]
  },
  {
   "cell_type": "code",
   "execution_count": 11,
   "metadata": {
    "execution": {
     "iopub.execute_input": "2023-11-26T00:27:27.385637Z",
     "iopub.status.busy": "2023-11-26T00:27:27.385314Z",
     "iopub.status.idle": "2023-11-26T00:28:35.909568Z",
     "shell.execute_reply": "2023-11-26T00:28:35.909084Z"
    }
   },
   "outputs": [
    {
     "name": "stdout",
     "output_type": "stream",
     "text": [
      "[\u001b[1mtardis.model.parse_input\u001b[0m][\u001b[1;33mWARNING\u001b[0m]  \n",
      "\tNumber of density points larger than number of shells. Assuming inner point irrelevant (\u001b[1mparse_input.py\u001b[0m:59)\n"
     ]
    },
    {
     "name": "stdout",
     "output_type": "stream",
     "text": [
      "[\u001b[1mtardis.plasma.standard_plasmas\u001b[0m][\u001b[1;37mINFO\u001b[0m   ]  \n",
      "\t\n",
      "\tReading Atomic Data from kurucz_cd23_chianti_H_He.h5 (\u001b[1mstandard_plasmas.py\u001b[0m:100)\n"
     ]
    },
    {
     "name": "stdout",
     "output_type": "stream",
     "text": [
      "[\u001b[1mtardis.io.atom_data.util\u001b[0m][\u001b[1;37mINFO\u001b[0m   ]  \n",
      "\t\n",
      "\tAtom Data kurucz_cd23_chianti_H_He.h5 not found in local path.\n",
      "\tExists in TARDIS Data repo /home/runner/Downloads/tardis-data/kurucz_cd23_chianti_H_He.h5 (\u001b[1mutil.py\u001b[0m:33)\n"
     ]
    },
    {
     "name": "stdout",
     "output_type": "stream",
     "text": [
      "[\u001b[1mtardis.io.atom_data.base\u001b[0m][\u001b[1;37mINFO\u001b[0m   ]  \n",
      "\tReading Atom Data with: UUID = 6f7b09e887a311e7a06b246e96350010 MD5  = 864f1753714343c41f99cb065710cace  (\u001b[1mbase.py\u001b[0m:258)\n"
     ]
    },
    {
     "name": "stdout",
     "output_type": "stream",
     "text": [
      "[\u001b[1mtardis.io.atom_data.base\u001b[0m][\u001b[1;37mINFO\u001b[0m   ]  \n",
      "\tNon provided Atomic Data: synpp_refs, photoionization_data, yg_data, two_photon_data, linelist (\u001b[1mbase.py\u001b[0m:262)\n"
     ]
    },
    {
     "name": "stdout",
     "output_type": "stream",
     "text": [
      "[\u001b[1mtardis.plasma.properties.atomic\u001b[0m][\u001b[1;33mWARNING\u001b[0m]  \n",
      "\tZeta_data missing - replaced with 1s. Missing ions: [] (\u001b[1matomic.py\u001b[0m:669)\n"
     ]
    },
    {
     "name": "stdout",
     "output_type": "stream",
     "text": [
      "[\u001b[1mtardis.plasma.properties.atomic\u001b[0m][\u001b[1;33mWARNING\u001b[0m]  \n",
      "\tZeta_data missing - replaced with 1s. Missing ions: [] (\u001b[1matomic.py\u001b[0m:669)\n"
     ]
    },
    {
     "name": "stdout",
     "output_type": "stream",
     "text": [
      "[\u001b[1mtardis.simulation.base\u001b[0m][\u001b[1;37mINFO\u001b[0m   ]  \n",
      "\t\n",
      "\tStarting iteration 1 of 2 (\u001b[1mbase.py\u001b[0m:382)\n"
     ]
    },
    {
     "data": {
      "application/vnd.jupyter.widget-view+json": {
       "model_id": "a3e01233255e4fc0aec29dc5a0f2891d",
       "version_major": 2,
       "version_minor": 0
      },
      "text/plain": [
       "TqdmHBox(children=(HTML(value='Iterations:', layout=Layout(width='6%')), FloatProgress(value=0.0, layout=Layou…"
      ]
     },
     "metadata": {},
     "output_type": "display_data"
    },
    {
     "data": {
      "application/vnd.jupyter.widget-view+json": {
       "model_id": "940094ddddb847adaff960d2c7ed91ed",
       "version_major": 2,
       "version_minor": 0
      },
      "text/plain": [
       "TqdmHBox(children=(HTML(value='Packets:   ', layout=Layout(width='6%')), FloatProgress(value=0.0, layout=Layou…"
      ]
     },
     "metadata": {},
     "output_type": "display_data"
    },
    {
     "name": "stdout",
     "output_type": "stream",
     "text": [
      "[\u001b[1mtardis.simulation.base\u001b[0m][\u001b[1;37mINFO\u001b[0m   ]  \n",
      "\t\n",
      "\tLuminosity emitted   = 1.992e+41 erg / s\n",
      "\tLuminosity absorbed  = 5.852e+39 erg / s\n",
      "\tLuminosity requested = 5.679e+41 erg / s\n",
      " (\u001b[1mbase.py\u001b[0m:557)\n"
     ]
    },
    {
     "name": "stdout",
     "output_type": "stream",
     "text": [
      "[\u001b[1mtardis.simulation.base\u001b[0m][\u001b[1;37mINFO\u001b[0m   ]  \n",
      "\t\n",
      "\tPlasma stratification: (\u001b[1mbase.py\u001b[0m:525)\n"
     ]
    },
    {
     "data": {
      "text/html": [
       "<style type=\"text/css\">\n",
       "</style>\n",
       "<table id=\"T_2f415\">\n",
       "  <thead>\n",
       "    <tr>\n",
       "      <th class=\"index_name level0\" >Shell No.</th>\n",
       "      <th id=\"T_2f415_level0_col0\" class=\"col_heading level0 col0\" >t_rad</th>\n",
       "      <th id=\"T_2f415_level0_col1\" class=\"col_heading level0 col1\" >next_t_rad</th>\n",
       "      <th id=\"T_2f415_level0_col2\" class=\"col_heading level0 col2\" >w</th>\n",
       "      <th id=\"T_2f415_level0_col3\" class=\"col_heading level0 col3\" >next_w</th>\n",
       "    </tr>\n",
       "  </thead>\n",
       "  <tbody>\n",
       "    <tr>\n",
       "      <th id=\"T_2f415_level0_row0\" class=\"row_heading level0 row0\" >0</th>\n",
       "      <td id=\"T_2f415_row0_col0\" class=\"data row0 col0\" >5e+03 K</td>\n",
       "      <td id=\"T_2f415_row0_col1\" class=\"data row0 col1\" >5.01e+03 K</td>\n",
       "      <td id=\"T_2f415_row0_col2\" class=\"data row0 col2\" >0.39</td>\n",
       "      <td id=\"T_2f415_row0_col3\" class=\"data row0 col3\" >0.4</td>\n",
       "    </tr>\n",
       "    <tr>\n",
       "      <th id=\"T_2f415_level0_row1\" class=\"row_heading level0 row1\" >5</th>\n",
       "      <td id=\"T_2f415_row1_col0\" class=\"data row1 col0\" >4.95e+03 K</td>\n",
       "      <td id=\"T_2f415_row1_col1\" class=\"data row1 col1\" >4.95e+03 K</td>\n",
       "      <td id=\"T_2f415_row1_col2\" class=\"data row1 col2\" >0.19</td>\n",
       "      <td id=\"T_2f415_row1_col3\" class=\"data row1 col3\" >0.195</td>\n",
       "    </tr>\n",
       "    <tr>\n",
       "      <th id=\"T_2f415_level0_row2\" class=\"row_heading level0 row2\" >10</th>\n",
       "      <td id=\"T_2f415_row2_col0\" class=\"data row2 col0\" >4.91e+03 K</td>\n",
       "      <td id=\"T_2f415_row2_col1\" class=\"data row2 col1\" >4.9e+03 K</td>\n",
       "      <td id=\"T_2f415_row2_col2\" class=\"data row2 col2\" >0.123</td>\n",
       "      <td id=\"T_2f415_row2_col3\" class=\"data row2 col3\" >0.127</td>\n",
       "    </tr>\n",
       "    <tr>\n",
       "      <th id=\"T_2f415_level0_row3\" class=\"row_heading level0 row3\" >15</th>\n",
       "      <td id=\"T_2f415_row3_col0\" class=\"data row3 col0\" >4.87e+03 K</td>\n",
       "      <td id=\"T_2f415_row3_col1\" class=\"data row3 col1\" >4.86e+03 K</td>\n",
       "      <td id=\"T_2f415_row3_col2\" class=\"data row3 col2\" >0.0869</td>\n",
       "      <td id=\"T_2f415_row3_col3\" class=\"data row3 col3\" >0.0907</td>\n",
       "    </tr>\n",
       "  </tbody>\n",
       "</table>\n"
      ],
      "text/plain": [
       "<pandas.io.formats.style.Styler at 0x7ff31a11ccd0>"
      ]
     },
     "metadata": {},
     "output_type": "display_data"
    },
    {
     "name": "stdout",
     "output_type": "stream",
     "text": [
      "[\u001b[1mtardis.simulation.base\u001b[0m][\u001b[1;37mINFO\u001b[0m   ]  \n",
      "\t\n",
      "\tCurrent t_inner = 5000.000 K\n",
      "\tExpected t_inner for next iteration = 6721.214 K\n",
      " (\u001b[1mbase.py\u001b[0m:552)\n"
     ]
    },
    {
     "name": "stdout",
     "output_type": "stream",
     "text": [
      "[\u001b[1mtardis.simulation.base\u001b[0m][\u001b[1;37mINFO\u001b[0m   ]  \n",
      "\t\n",
      "\tSimulation finished in 1 iterations \n",
      "\tSimulation took 56.94 s\n",
      " (\u001b[1mbase.py\u001b[0m:447)\n"
     ]
    },
    {
     "name": "stdout",
     "output_type": "stream",
     "text": [
      "[\u001b[1mtardis.simulation.base\u001b[0m][\u001b[1;37mINFO\u001b[0m   ]  \n",
      "\t\n",
      "\tStarting iteration 2 of 2 (\u001b[1mbase.py\u001b[0m:382)\n"
     ]
    },
    {
     "name": "stdout",
     "output_type": "stream",
     "text": [
      "[\u001b[1mtardis.simulation.base\u001b[0m][\u001b[1;37mINFO\u001b[0m   ]  \n",
      "\t\n",
      "\tLuminosity emitted   = 7.255e+41 erg / s\n",
      "\tLuminosity absorbed  = 2.204e+40 erg / s\n",
      "\tLuminosity requested = 5.679e+41 erg / s\n",
      " (\u001b[1mbase.py\u001b[0m:557)\n"
     ]
    }
   ],
   "source": [
    "# We download the atomic data needed to run a TARDIS simulation\n",
    "download_atom_data('kurucz_cd23_chianti_H_He')\n",
    "\n",
    "# Users can easily run a full TARDIS simulation\n",
    "# using the grid.\n",
    "sim = tg.run_sim_from_grid(row_index=0)"
   ]
  }
 ],
 "metadata": {
  "kernelspec": {
   "display_name": "Python 3",
   "language": "python",
   "name": "python3"
  },
  "language_info": {
   "codemirror_mode": {
    "name": "ipython",
    "version": 3
   },
   "file_extension": ".py",
   "mimetype": "text/x-python",
   "name": "python",
   "nbconvert_exporter": "python",
   "pygments_lexer": "ipython3",
   "version": "3.11.5"
  },
  "widgets": {
   "application/vnd.jupyter.widget-state+json": {
    "state": {
     "07bff038c37e4bb3ac8e80f5b9536836": {
      "model_module": "@jupyter-widgets/output",
      "model_module_version": "1.0.0",
      "model_name": "OutputModel",
      "state": {
       "_dom_classes": [],
       "_model_module": "@jupyter-widgets/output",
       "_model_module_version": "1.0.0",
       "_model_name": "OutputModel",
       "_view_count": null,
       "_view_module": "@jupyter-widgets/output",
       "_view_module_version": "1.0.0",
       "_view_name": "OutputView",
       "layout": "IPY_MODEL_77955afddd6741b5a8e648e6fbd7b095",
       "msg_id": "",
       "outputs": []
      }
     },
     "0feb98ca38d94e2b968691e8702e0a14": {
      "model_module": "@jupyter-widgets/controls",
      "model_module_version": "1.5.0",
      "model_name": "ProgressStyleModel",
      "state": {
       "_model_module": "@jupyter-widgets/controls",
       "_model_module_version": "1.5.0",
       "_model_name": "ProgressStyleModel",
       "_view_count": null,
       "_view_module": "@jupyter-widgets/base",
       "_view_module_version": "1.2.0",
       "_view_name": "StyleView",
       "bar_color": null,
       "description_width": ""
      }
     },
     "130c9d69f2b14e4aa33938faf7d77fb4": {
      "model_module": "@jupyter-widgets/controls",
      "model_module_version": "1.5.0",
      "model_name": "DescriptionStyleModel",
      "state": {
       "_model_module": "@jupyter-widgets/controls",
       "_model_module_version": "1.5.0",
       "_model_name": "DescriptionStyleModel",
       "_view_count": null,
       "_view_module": "@jupyter-widgets/base",
       "_view_module_version": "1.2.0",
       "_view_name": "StyleView",
       "description_width": ""
      }
     },
     "155390cb85564a72a093a3abcdb085a4": {
      "model_module": "@jupyter-widgets/controls",
      "model_module_version": "1.5.0",
      "model_name": "HBoxModel",
      "state": {
       "_dom_classes": [],
       "_model_module": "@jupyter-widgets/controls",
       "_model_module_version": "1.5.0",
       "_model_name": "HBoxModel",
       "_view_count": null,
       "_view_module": "@jupyter-widgets/controls",
       "_view_module_version": "1.5.0",
       "_view_name": "HBoxView",
       "box_style": "",
       "children": [
        "IPY_MODEL_39355322ae48410b876f93faca5771b3",
        "IPY_MODEL_8f62ecce8b7246299395a59c5bd55d28",
        "IPY_MODEL_8c159c4ef9f2442b86c1b27bb78e185d"
       ],
       "layout": "IPY_MODEL_92119b9740bd41dba17cf57ccb0c2db1"
      }
     },
     "16c9ac8f83a048959c821073603e7b4c": {
      "model_module": "@jupyter-widgets/controls",
      "model_module_version": "1.5.0",
      "model_name": "HTMLModel",
      "state": {
       "_dom_classes": [],
       "_model_module": "@jupyter-widgets/controls",
       "_model_module_version": "1.5.0",
       "_model_name": "HTMLModel",
       "_view_count": null,
       "_view_module": "@jupyter-widgets/controls",
       "_view_module_version": "1.5.0",
       "_view_name": "HTMLView",
       "description": "",
       "description_tooltip": null,
       "layout": "IPY_MODEL_fc2adc13edc1418a83ff8d616cda5e39",
       "placeholder": "​",
       "style": "IPY_MODEL_4ca7559019334771821f7b7f2df386cc",
       "value": "Packets:   "
      }
     },
     "1a4a3de282774867a2de896c5a12fd4f": {
      "model_module": "@jupyter-widgets/base",
      "model_module_version": "1.2.0",
      "model_name": "LayoutModel",
      "state": {
       "_model_module": "@jupyter-widgets/base",
       "_model_module_version": "1.2.0",
       "_model_name": "LayoutModel",
       "_view_count": null,
       "_view_module": "@jupyter-widgets/base",
       "_view_module_version": "1.2.0",
       "_view_name": "LayoutView",
       "align_content": null,
       "align_items": null,
       "align_self": null,
       "border": null,
       "bottom": null,
       "display": null,
       "flex": null,
       "flex_flow": null,
       "grid_area": null,
       "grid_auto_columns": null,
       "grid_auto_flow": null,
       "grid_auto_rows": null,
       "grid_column": null,
       "grid_gap": null,
       "grid_row": null,
       "grid_template_areas": null,
       "grid_template_columns": null,
       "grid_template_rows": null,
       "height": null,
       "justify_content": null,
       "justify_items": null,
       "left": null,
       "margin": null,
       "max_height": null,
       "max_width": null,
       "min_height": null,
       "min_width": null,
       "object_fit": null,
       "object_position": null,
       "order": null,
       "overflow": null,
       "overflow_x": null,
       "overflow_y": null,
       "padding": null,
       "right": null,
       "top": null,
       "visibility": null,
       "width": null
      }
     },
     "3228b249eddb4b2182ae3c9c0d2e93da": {
      "model_module": "@jupyter-widgets/controls",
      "model_module_version": "1.5.0",
      "model_name": "FloatProgressModel",
      "state": {
       "_dom_classes": [],
       "_model_module": "@jupyter-widgets/controls",
       "_model_module_version": "1.5.0",
       "_model_name": "FloatProgressModel",
       "_view_count": null,
       "_view_module": "@jupyter-widgets/controls",
       "_view_module_version": "1.5.0",
       "_view_name": "ProgressView",
       "bar_style": "info",
       "description": "",
       "description_tooltip": null,
       "layout": "IPY_MODEL_9d3304d88517460ab65ceb0516d5caaa",
       "max": 1.0,
       "min": 0.0,
       "orientation": "horizontal",
       "style": "IPY_MODEL_0feb98ca38d94e2b968691e8702e0a14",
       "value": 0.0
      }
     },
     "32b22f07c2994b31a4c1598645eb6b53": {
      "model_module": "@jupyter-widgets/controls",
      "model_module_version": "1.5.0",
      "model_name": "ProgressStyleModel",
      "state": {
       "_model_module": "@jupyter-widgets/controls",
       "_model_module_version": "1.5.0",
       "_model_name": "ProgressStyleModel",
       "_view_count": null,
       "_view_module": "@jupyter-widgets/base",
       "_view_module_version": "1.2.0",
       "_view_name": "StyleView",
       "bar_color": null,
       "description_width": ""
      }
     },
     "39355322ae48410b876f93faca5771b3": {
      "model_module": "@jupyter-widgets/controls",
      "model_module_version": "1.5.0",
      "model_name": "HTMLModel",
      "state": {
       "_dom_classes": [],
       "_model_module": "@jupyter-widgets/controls",
       "_model_module_version": "1.5.0",
       "_model_name": "HTMLModel",
       "_view_count": null,
       "_view_module": "@jupyter-widgets/controls",
       "_view_module_version": "1.5.0",
       "_view_name": "HTMLView",
       "description": "",
       "description_tooltip": null,
       "layout": "IPY_MODEL_5e2ea86e39e74c06bc1351037b1708b3",
       "placeholder": "​",
       "style": "IPY_MODEL_130c9d69f2b14e4aa33938faf7d77fb4",
       "value": "Iterations:"
      }
     },
     "4ca7559019334771821f7b7f2df386cc": {
      "model_module": "@jupyter-widgets/controls",
      "model_module_version": "1.5.0",
      "model_name": "DescriptionStyleModel",
      "state": {
       "_model_module": "@jupyter-widgets/controls",
       "_model_module_version": "1.5.0",
       "_model_name": "DescriptionStyleModel",
       "_view_count": null,
       "_view_module": "@jupyter-widgets/base",
       "_view_module_version": "1.2.0",
       "_view_name": "StyleView",
       "description_width": ""
      }
     },
     "4cb3e970918a410bad87e88cae3ec402": {
      "model_module": "@jupyter-widgets/base",
      "model_module_version": "1.2.0",
      "model_name": "LayoutModel",
      "state": {
       "_model_module": "@jupyter-widgets/base",
       "_model_module_version": "1.2.0",
       "_model_name": "LayoutModel",
       "_view_count": null,
       "_view_module": "@jupyter-widgets/base",
       "_view_module_version": "1.2.0",
       "_view_name": "LayoutView",
       "align_content": null,
       "align_items": null,
       "align_self": null,
       "border": null,
       "bottom": null,
       "display": null,
       "flex": null,
       "flex_flow": null,
       "grid_area": null,
       "grid_auto_columns": null,
       "grid_auto_flow": null,
       "grid_auto_rows": null,
       "grid_column": null,
       "grid_gap": null,
       "grid_row": null,
       "grid_template_areas": null,
       "grid_template_columns": null,
       "grid_template_rows": null,
       "height": null,
       "justify_content": null,
       "justify_items": null,
       "left": null,
       "margin": null,
       "max_height": null,
       "max_width": null,
       "min_height": null,
       "min_width": null,
       "object_fit": null,
       "object_position": null,
       "order": null,
       "overflow": null,
       "overflow_x": null,
       "overflow_y": null,
       "padding": null,
       "right": null,
       "top": null,
       "visibility": null,
       "width": null
      }
     },
     "4ecce1ffcfcf410a88f2474453983242": {
      "model_module": "@jupyter-widgets/controls",
      "model_module_version": "1.5.0",
      "model_name": "DescriptionStyleModel",
      "state": {
       "_model_module": "@jupyter-widgets/controls",
       "_model_module_version": "1.5.0",
       "_model_name": "DescriptionStyleModel",
       "_view_count": null,
       "_view_module": "@jupyter-widgets/base",
       "_view_module_version": "1.2.0",
       "_view_name": "StyleView",
       "description_width": ""
      }
     },
     "5078326927974dbe90b8212aecb7991a": {
      "model_module": "@jupyter-widgets/controls",
      "model_module_version": "1.5.0",
      "model_name": "FloatProgressModel",
      "state": {
       "_dom_classes": [],
       "_model_module": "@jupyter-widgets/controls",
       "_model_module_version": "1.5.0",
       "_model_name": "FloatProgressModel",
       "_view_count": null,
       "_view_module": "@jupyter-widgets/controls",
       "_view_module_version": "1.5.0",
       "_view_name": "ProgressView",
       "bar_style": "",
       "description": "",
       "description_tooltip": null,
       "layout": "IPY_MODEL_639a60a10eeb43329103b5bc5dc907b0",
       "max": 2.0,
       "min": 0.0,
       "orientation": "horizontal",
       "style": "IPY_MODEL_55e9bc0ac49a45079432a4c9fd9e3861",
       "value": 2.0
      }
     },
     "55e9bc0ac49a45079432a4c9fd9e3861": {
      "model_module": "@jupyter-widgets/controls",
      "model_module_version": "1.5.0",
      "model_name": "ProgressStyleModel",
      "state": {
       "_model_module": "@jupyter-widgets/controls",
       "_model_module_version": "1.5.0",
       "_model_name": "ProgressStyleModel",
       "_view_count": null,
       "_view_module": "@jupyter-widgets/base",
       "_view_module_version": "1.2.0",
       "_view_name": "StyleView",
       "bar_color": null,
       "description_width": ""
      }
     },
     "5ca1dd6d99d2465db5daf16e9155b8fc": {
      "model_module": "@jupyter-widgets/base",
      "model_module_version": "1.2.0",
      "model_name": "LayoutModel",
      "state": {
       "_model_module": "@jupyter-widgets/base",
       "_model_module_version": "1.2.0",
       "_model_name": "LayoutModel",
       "_view_count": null,
       "_view_module": "@jupyter-widgets/base",
       "_view_module_version": "1.2.0",
       "_view_name": "LayoutView",
       "align_content": null,
       "align_items": null,
       "align_self": null,
       "border": null,
       "bottom": null,
       "display": null,
       "flex": null,
       "flex_flow": null,
       "grid_area": null,
       "grid_auto_columns": null,
       "grid_auto_flow": null,
       "grid_auto_rows": null,
       "grid_column": null,
       "grid_gap": null,
       "grid_row": null,
       "grid_template_areas": null,
       "grid_template_columns": null,
       "grid_template_rows": null,
       "height": null,
       "justify_content": null,
       "justify_items": null,
       "left": null,
       "margin": null,
       "max_height": null,
       "max_width": null,
       "min_height": null,
       "min_width": null,
       "object_fit": null,
       "object_position": null,
       "order": null,
       "overflow": null,
       "overflow_x": null,
       "overflow_y": null,
       "padding": null,
       "right": null,
       "top": null,
       "visibility": null,
       "width": null
      }
     },
     "5e2ea86e39e74c06bc1351037b1708b3": {
      "model_module": "@jupyter-widgets/base",
      "model_module_version": "1.2.0",
      "model_name": "LayoutModel",
      "state": {
       "_model_module": "@jupyter-widgets/base",
       "_model_module_version": "1.2.0",
       "_model_name": "LayoutModel",
       "_view_count": null,
       "_view_module": "@jupyter-widgets/base",
       "_view_module_version": "1.2.0",
       "_view_name": "LayoutView",
       "align_content": null,
       "align_items": null,
       "align_self": null,
       "border": null,
       "bottom": null,
       "display": null,
       "flex": null,
       "flex_flow": null,
       "grid_area": null,
       "grid_auto_columns": null,
       "grid_auto_flow": null,
       "grid_auto_rows": null,
       "grid_column": null,
       "grid_gap": null,
       "grid_row": null,
       "grid_template_areas": null,
       "grid_template_columns": null,
       "grid_template_rows": null,
       "height": null,
       "justify_content": null,
       "justify_items": null,
       "left": null,
       "margin": null,
       "max_height": null,
       "max_width": null,
       "min_height": null,
       "min_width": null,
       "object_fit": null,
       "object_position": null,
       "order": null,
       "overflow": null,
       "overflow_x": null,
       "overflow_y": null,
       "padding": null,
       "right": null,
       "top": null,
       "visibility": null,
       "width": null
      }
     },
     "614020fb1ac84c0b80f05f113cef59c6": {
      "model_module": "@jupyter-widgets/base",
      "model_module_version": "1.2.0",
      "model_name": "LayoutModel",
      "state": {
       "_model_module": "@jupyter-widgets/base",
       "_model_module_version": "1.2.0",
       "_model_name": "LayoutModel",
       "_view_count": null,
       "_view_module": "@jupyter-widgets/base",
       "_view_module_version": "1.2.0",
       "_view_name": "LayoutView",
       "align_content": null,
       "align_items": null,
       "align_self": null,
       "border": null,
       "bottom": null,
       "display": null,
       "flex": null,
       "flex_flow": null,
       "grid_area": null,
       "grid_auto_columns": null,
       "grid_auto_flow": null,
       "grid_auto_rows": null,
       "grid_column": null,
       "grid_gap": null,
       "grid_row": null,
       "grid_template_areas": null,
       "grid_template_columns": null,
       "grid_template_rows": null,
       "height": null,
       "justify_content": null,
       "justify_items": null,
       "left": null,
       "margin": null,
       "max_height": null,
       "max_width": null,
       "min_height": null,
       "min_width": null,
       "object_fit": null,
       "object_position": null,
       "order": null,
       "overflow": null,
       "overflow_x": null,
       "overflow_y": null,
       "padding": null,
       "right": null,
       "top": null,
       "visibility": null,
       "width": null
      }
     },
     "61aa1d3b2fa04043bafa42c1ae9de23d": {
      "model_module": "@jupyter-widgets/controls",
      "model_module_version": "1.5.0",
      "model_name": "HTMLModel",
      "state": {
       "_dom_classes": [],
       "_model_module": "@jupyter-widgets/controls",
       "_model_module_version": "1.5.0",
       "_model_name": "HTMLModel",
       "_view_count": null,
       "_view_module": "@jupyter-widgets/controls",
       "_view_module_version": "1.5.0",
       "_view_name": "HTMLView",
       "description": "",
       "description_tooltip": null,
       "layout": "IPY_MODEL_805e379b6a6348798dd29e05bc6bc0f4",
       "placeholder": "​",
       "style": "IPY_MODEL_72e15981a7f647f3b4f88ee20b02aac7",
       "value": "Iterations:"
      }
     },
     "639a60a10eeb43329103b5bc5dc907b0": {
      "model_module": "@jupyter-widgets/base",
      "model_module_version": "1.2.0",
      "model_name": "LayoutModel",
      "state": {
       "_model_module": "@jupyter-widgets/base",
       "_model_module_version": "1.2.0",
       "_model_name": "LayoutModel",
       "_view_count": null,
       "_view_module": "@jupyter-widgets/base",
       "_view_module_version": "1.2.0",
       "_view_name": "LayoutView",
       "align_content": null,
       "align_items": null,
       "align_self": null,
       "border": null,
       "bottom": null,
       "display": null,
       "flex": null,
       "flex_flow": null,
       "grid_area": null,
       "grid_auto_columns": null,
       "grid_auto_flow": null,
       "grid_auto_rows": null,
       "grid_column": null,
       "grid_gap": null,
       "grid_row": null,
       "grid_template_areas": null,
       "grid_template_columns": null,
       "grid_template_rows": null,
       "height": null,
       "justify_content": null,
       "justify_items": null,
       "left": null,
       "margin": null,
       "max_height": null,
       "max_width": null,
       "min_height": null,
       "min_width": null,
       "object_fit": null,
       "object_position": null,
       "order": null,
       "overflow": null,
       "overflow_x": null,
       "overflow_y": null,
       "padding": null,
       "right": null,
       "top": null,
       "visibility": null,
       "width": "60%"
      }
     },
     "70e95ad5d6ca4794bee08aafcdaff86b": {
      "model_module": "@jupyter-widgets/base",
      "model_module_version": "1.2.0",
      "model_name": "LayoutModel",
      "state": {
       "_model_module": "@jupyter-widgets/base",
       "_model_module_version": "1.2.0",
       "_model_name": "LayoutModel",
       "_view_count": null,
       "_view_module": "@jupyter-widgets/base",
       "_view_module_version": "1.2.0",
       "_view_name": "LayoutView",
       "align_content": null,
       "align_items": null,
       "align_self": null,
       "border": null,
       "bottom": null,
       "display": null,
       "flex": null,
       "flex_flow": null,
       "grid_area": null,
       "grid_auto_columns": null,
       "grid_auto_flow": null,
       "grid_auto_rows": null,
       "grid_column": null,
       "grid_gap": null,
       "grid_row": null,
       "grid_template_areas": null,
       "grid_template_columns": null,
       "grid_template_rows": null,
       "height": null,
       "justify_content": null,
       "justify_items": null,
       "left": null,
       "margin": null,
       "max_height": null,
       "max_width": null,
       "min_height": null,
       "min_width": null,
       "object_fit": null,
       "object_position": null,
       "order": null,
       "overflow": null,
       "overflow_x": null,
       "overflow_y": null,
       "padding": null,
       "right": null,
       "top": null,
       "visibility": null,
       "width": "20px"
      }
     },
     "72e15981a7f647f3b4f88ee20b02aac7": {
      "model_module": "@jupyter-widgets/controls",
      "model_module_version": "1.5.0",
      "model_name": "DescriptionStyleModel",
      "state": {
       "_model_module": "@jupyter-widgets/controls",
       "_model_module_version": "1.5.0",
       "_model_name": "DescriptionStyleModel",
       "_view_count": null,
       "_view_module": "@jupyter-widgets/base",
       "_view_module_version": "1.2.0",
       "_view_name": "StyleView",
       "description_width": ""
      }
     },
     "740248fba09e4df7afded6e069512da8": {
      "model_module": "@jupyter-widgets/base",
      "model_module_version": "1.2.0",
      "model_name": "LayoutModel",
      "state": {
       "_model_module": "@jupyter-widgets/base",
       "_model_module_version": "1.2.0",
       "_model_name": "LayoutModel",
       "_view_count": null,
       "_view_module": "@jupyter-widgets/base",
       "_view_module_version": "1.2.0",
       "_view_name": "LayoutView",
       "align_content": null,
       "align_items": null,
       "align_self": null,
       "border": null,
       "bottom": null,
       "display": null,
       "flex": null,
       "flex_flow": null,
       "grid_area": null,
       "grid_auto_columns": null,
       "grid_auto_flow": null,
       "grid_auto_rows": null,
       "grid_column": null,
       "grid_gap": null,
       "grid_row": null,
       "grid_template_areas": null,
       "grid_template_columns": null,
       "grid_template_rows": null,
       "height": null,
       "justify_content": null,
       "justify_items": null,
       "left": null,
       "margin": null,
       "max_height": null,
       "max_width": null,
       "min_height": null,
       "min_width": null,
       "object_fit": null,
       "object_position": null,
       "order": null,
       "overflow": null,
       "overflow_x": null,
       "overflow_y": null,
       "padding": null,
       "right": null,
       "top": null,
       "visibility": null,
       "width": null
      }
     },
     "7754ebbbf54a452190d0429678254e51": {
      "model_module": "@jupyter-widgets/controls",
      "model_module_version": "1.5.0",
      "model_name": "DescriptionStyleModel",
      "state": {
       "_model_module": "@jupyter-widgets/controls",
       "_model_module_version": "1.5.0",
       "_model_name": "DescriptionStyleModel",
       "_view_count": null,
       "_view_module": "@jupyter-widgets/base",
       "_view_module_version": "1.2.0",
       "_view_name": "StyleView",
       "description_width": ""
      }
     },
     "77955afddd6741b5a8e648e6fbd7b095": {
      "model_module": "@jupyter-widgets/base",
      "model_module_version": "1.2.0",
      "model_name": "LayoutModel",
      "state": {
       "_model_module": "@jupyter-widgets/base",
       "_model_module_version": "1.2.0",
       "_model_name": "LayoutModel",
       "_view_count": null,
       "_view_module": "@jupyter-widgets/base",
       "_view_module_version": "1.2.0",
       "_view_name": "LayoutView",
       "align_content": null,
       "align_items": null,
       "align_self": null,
       "border": null,
       "bottom": null,
       "display": null,
       "flex": null,
       "flex_flow": null,
       "grid_area": null,
       "grid_auto_columns": null,
       "grid_auto_flow": null,
       "grid_auto_rows": null,
       "grid_column": null,
       "grid_gap": null,
       "grid_row": null,
       "grid_template_areas": null,
       "grid_template_columns": null,
       "grid_template_rows": null,
       "height": null,
       "justify_content": null,
       "justify_items": null,
       "left": null,
       "margin": null,
       "max_height": null,
       "max_width": null,
       "min_height": null,
       "min_width": null,
       "object_fit": null,
       "object_position": null,
       "order": null,
       "overflow": null,
       "overflow_x": null,
       "overflow_y": null,
       "padding": null,
       "right": null,
       "top": null,
       "visibility": null,
       "width": null
      }
     },
     "7872d0427b534fae81c3e38f18b34c0f": {
      "model_module": "@jupyter-widgets/controls",
      "model_module_version": "1.5.0",
      "model_name": "HTMLModel",
      "state": {
       "_dom_classes": [],
       "_model_module": "@jupyter-widgets/controls",
       "_model_module_version": "1.5.0",
       "_model_name": "HTMLModel",
       "_view_count": null,
       "_view_module": "@jupyter-widgets/controls",
       "_view_module_version": "1.5.0",
       "_view_name": "HTMLView",
       "description": "",
       "description_tooltip": null,
       "layout": "IPY_MODEL_8074f3a42ce045fa8e969edc8a7bc2a0",
       "placeholder": "​",
       "style": "IPY_MODEL_d573f7c0ecf24d20bcb2ea7034dbdd84",
       "value": "2/2 [00:00&lt;00:00,  6.27it/s]"
      }
     },
     "7dc3c279de5f4b6798014361ad8af15c": {
      "model_module": "@jupyter-widgets/base",
      "model_module_version": "1.2.0",
      "model_name": "LayoutModel",
      "state": {
       "_model_module": "@jupyter-widgets/base",
       "_model_module_version": "1.2.0",
       "_model_name": "LayoutModel",
       "_view_count": null,
       "_view_module": "@jupyter-widgets/base",
       "_view_module_version": "1.2.0",
       "_view_name": "LayoutView",
       "align_content": null,
       "align_items": null,
       "align_self": null,
       "border": null,
       "bottom": null,
       "display": null,
       "flex": null,
       "flex_flow": null,
       "grid_area": null,
       "grid_auto_columns": null,
       "grid_auto_flow": null,
       "grid_auto_rows": null,
       "grid_column": null,
       "grid_gap": null,
       "grid_row": null,
       "grid_template_areas": null,
       "grid_template_columns": null,
       "grid_template_rows": null,
       "height": null,
       "justify_content": null,
       "justify_items": null,
       "left": null,
       "margin": null,
       "max_height": null,
       "max_width": null,
       "min_height": null,
       "min_width": null,
       "object_fit": null,
       "object_position": null,
       "order": null,
       "overflow": null,
       "overflow_x": null,
       "overflow_y": null,
       "padding": null,
       "right": null,
       "top": null,
       "visibility": null,
       "width": "60%"
      }
     },
     "805e379b6a6348798dd29e05bc6bc0f4": {
      "model_module": "@jupyter-widgets/base",
      "model_module_version": "1.2.0",
      "model_name": "LayoutModel",
      "state": {
       "_model_module": "@jupyter-widgets/base",
       "_model_module_version": "1.2.0",
       "_model_name": "LayoutModel",
       "_view_count": null,
       "_view_module": "@jupyter-widgets/base",
       "_view_module_version": "1.2.0",
       "_view_name": "LayoutView",
       "align_content": null,
       "align_items": null,
       "align_self": null,
       "border": null,
       "bottom": null,
       "display": null,
       "flex": null,
       "flex_flow": null,
       "grid_area": null,
       "grid_auto_columns": null,
       "grid_auto_flow": null,
       "grid_auto_rows": null,
       "grid_column": null,
       "grid_gap": null,
       "grid_row": null,
       "grid_template_areas": null,
       "grid_template_columns": null,
       "grid_template_rows": null,
       "height": null,
       "justify_content": null,
       "justify_items": null,
       "left": null,
       "margin": null,
       "max_height": null,
       "max_width": null,
       "min_height": null,
       "min_width": null,
       "object_fit": null,
       "object_position": null,
       "order": null,
       "overflow": null,
       "overflow_x": null,
       "overflow_y": null,
       "padding": null,
       "right": null,
       "top": null,
       "visibility": null,
       "width": "6%"
      }
     },
     "8074f3a42ce045fa8e969edc8a7bc2a0": {
      "model_module": "@jupyter-widgets/base",
      "model_module_version": "1.2.0",
      "model_name": "LayoutModel",
      "state": {
       "_model_module": "@jupyter-widgets/base",
       "_model_module_version": "1.2.0",
       "_model_name": "LayoutModel",
       "_view_count": null,
       "_view_module": "@jupyter-widgets/base",
       "_view_module_version": "1.2.0",
       "_view_name": "LayoutView",
       "align_content": null,
       "align_items": null,
       "align_self": null,
       "border": null,
       "bottom": null,
       "display": null,
       "flex": null,
       "flex_flow": null,
       "grid_area": null,
       "grid_auto_columns": null,
       "grid_auto_flow": null,
       "grid_auto_rows": null,
       "grid_column": null,
       "grid_gap": null,
       "grid_row": null,
       "grid_template_areas": null,
       "grid_template_columns": null,
       "grid_template_rows": null,
       "height": null,
       "justify_content": null,
       "justify_items": null,
       "left": null,
       "margin": null,
       "max_height": null,
       "max_width": null,
       "min_height": null,
       "min_width": null,
       "object_fit": null,
       "object_position": null,
       "order": null,
       "overflow": null,
       "overflow_x": null,
       "overflow_y": null,
       "padding": null,
       "right": null,
       "top": null,
       "visibility": null,
       "width": null
      }
     },
     "8c159c4ef9f2442b86c1b27bb78e185d": {
      "model_module": "@jupyter-widgets/controls",
      "model_module_version": "1.5.0",
      "model_name": "HTMLModel",
      "state": {
       "_dom_classes": [],
       "_model_module": "@jupyter-widgets/controls",
       "_model_module_version": "1.5.0",
       "_model_name": "HTMLModel",
       "_view_count": null,
       "_view_module": "@jupyter-widgets/controls",
       "_view_module_version": "1.5.0",
       "_view_name": "HTMLView",
       "description": "",
       "description_tooltip": null,
       "layout": "IPY_MODEL_d9b632eabcd84409b0e7c3caefa225f0",
       "placeholder": "​",
       "style": "IPY_MODEL_7754ebbbf54a452190d0429678254e51",
       "value": "0/? [00:00&lt;?, ?it/s]"
      }
     },
     "8f62ecce8b7246299395a59c5bd55d28": {
      "model_module": "@jupyter-widgets/controls",
      "model_module_version": "1.5.0",
      "model_name": "FloatProgressModel",
      "state": {
       "_dom_classes": [],
       "_model_module": "@jupyter-widgets/controls",
       "_model_module_version": "1.5.0",
       "_model_name": "FloatProgressModel",
       "_view_count": null,
       "_view_module": "@jupyter-widgets/controls",
       "_view_module_version": "1.5.0",
       "_view_name": "ProgressView",
       "bar_style": "info",
       "description": "",
       "description_tooltip": null,
       "layout": "IPY_MODEL_70e95ad5d6ca4794bee08aafcdaff86b",
       "max": 1.0,
       "min": 0.0,
       "orientation": "horizontal",
       "style": "IPY_MODEL_32b22f07c2994b31a4c1598645eb6b53",
       "value": 0.0
      }
     },
     "92119b9740bd41dba17cf57ccb0c2db1": {
      "model_module": "@jupyter-widgets/base",
      "model_module_version": "1.2.0",
      "model_name": "LayoutModel",
      "state": {
       "_model_module": "@jupyter-widgets/base",
       "_model_module_version": "1.2.0",
       "_model_name": "LayoutModel",
       "_view_count": null,
       "_view_module": "@jupyter-widgets/base",
       "_view_module_version": "1.2.0",
       "_view_name": "LayoutView",
       "align_content": null,
       "align_items": null,
       "align_self": null,
       "border": null,
       "bottom": null,
       "display": null,
       "flex": null,
       "flex_flow": null,
       "grid_area": null,
       "grid_auto_columns": null,
       "grid_auto_flow": null,
       "grid_auto_rows": null,
       "grid_column": null,
       "grid_gap": null,
       "grid_row": null,
       "grid_template_areas": null,
       "grid_template_columns": null,
       "grid_template_rows": null,
       "height": null,
       "justify_content": null,
       "justify_items": null,
       "left": null,
       "margin": null,
       "max_height": null,
       "max_width": null,
       "min_height": null,
       "min_width": null,
       "object_fit": null,
       "object_position": null,
       "order": null,
       "overflow": null,
       "overflow_x": null,
       "overflow_y": null,
       "padding": null,
       "right": null,
       "top": null,
       "visibility": null,
       "width": null
      }
     },
     "940094ddddb847adaff960d2c7ed91ed": {
      "model_module": "@jupyter-widgets/controls",
      "model_module_version": "1.5.0",
      "model_name": "HBoxModel",
      "state": {
       "_dom_classes": [],
       "_model_module": "@jupyter-widgets/controls",
       "_model_module_version": "1.5.0",
       "_model_name": "HBoxModel",
       "_view_count": null,
       "_view_module": "@jupyter-widgets/controls",
       "_view_module_version": "1.5.0",
       "_view_name": "HBoxView",
       "box_style": "",
       "children": [
        "IPY_MODEL_16c9ac8f83a048959c821073603e7b4c",
        "IPY_MODEL_e5f4238f748e41e991c30ab5780ef81e",
        "IPY_MODEL_ce0923f4e13b423580d4ff19cfc15926"
       ],
       "layout": "IPY_MODEL_acf3410d6c924e1098521d52e3871568"
      }
     },
     "94e5ac77ed4a480da52df5811eb6a22b": {
      "model_module": "@jupyter-widgets/output",
      "model_module_version": "1.0.0",
      "model_name": "OutputModel",
      "state": {
       "_dom_classes": [],
       "_model_module": "@jupyter-widgets/output",
       "_model_module_version": "1.0.0",
       "_model_name": "OutputModel",
       "_view_count": null,
       "_view_module": "@jupyter-widgets/output",
       "_view_module_version": "1.0.0",
       "_view_name": "OutputView",
       "layout": "IPY_MODEL_4cb3e970918a410bad87e88cae3ec402",
       "msg_id": "",
       "outputs": []
      }
     },
     "94fdc77f10334aab9e7f7489b78366d4": {
      "model_module": "@jupyter-widgets/controls",
      "model_module_version": "1.5.0",
      "model_name": "ProgressStyleModel",
      "state": {
       "_model_module": "@jupyter-widgets/controls",
       "_model_module_version": "1.5.0",
       "_model_name": "ProgressStyleModel",
       "_view_count": null,
       "_view_module": "@jupyter-widgets/base",
       "_view_module_version": "1.2.0",
       "_view_name": "StyleView",
       "bar_color": null,
       "description_width": ""
      }
     },
     "9d3304d88517460ab65ceb0516d5caaa": {
      "model_module": "@jupyter-widgets/base",
      "model_module_version": "1.2.0",
      "model_name": "LayoutModel",
      "state": {
       "_model_module": "@jupyter-widgets/base",
       "_model_module_version": "1.2.0",
       "_model_name": "LayoutModel",
       "_view_count": null,
       "_view_module": "@jupyter-widgets/base",
       "_view_module_version": "1.2.0",
       "_view_name": "LayoutView",
       "align_content": null,
       "align_items": null,
       "align_self": null,
       "border": null,
       "bottom": null,
       "display": null,
       "flex": null,
       "flex_flow": null,
       "grid_area": null,
       "grid_auto_columns": null,
       "grid_auto_flow": null,
       "grid_auto_rows": null,
       "grid_column": null,
       "grid_gap": null,
       "grid_row": null,
       "grid_template_areas": null,
       "grid_template_columns": null,
       "grid_template_rows": null,
       "height": null,
       "justify_content": null,
       "justify_items": null,
       "left": null,
       "margin": null,
       "max_height": null,
       "max_width": null,
       "min_height": null,
       "min_width": null,
       "object_fit": null,
       "object_position": null,
       "order": null,
       "overflow": null,
       "overflow_x": null,
       "overflow_y": null,
       "padding": null,
       "right": null,
       "top": null,
       "visibility": null,
       "width": "20px"
      }
     },
     "a3e01233255e4fc0aec29dc5a0f2891d": {
      "model_module": "@jupyter-widgets/controls",
      "model_module_version": "1.5.0",
      "model_name": "HBoxModel",
      "state": {
       "_dom_classes": [],
       "_model_module": "@jupyter-widgets/controls",
       "_model_module_version": "1.5.0",
       "_model_name": "HBoxModel",
       "_view_count": null,
       "_view_module": "@jupyter-widgets/controls",
       "_view_module_version": "1.5.0",
       "_view_name": "HBoxView",
       "box_style": "",
       "children": [
        "IPY_MODEL_61aa1d3b2fa04043bafa42c1ae9de23d",
        "IPY_MODEL_5078326927974dbe90b8212aecb7991a",
        "IPY_MODEL_7872d0427b534fae81c3e38f18b34c0f"
       ],
       "layout": "IPY_MODEL_bc02e00684e94418bacd6ba881759347"
      }
     },
     "acf3410d6c924e1098521d52e3871568": {
      "model_module": "@jupyter-widgets/base",
      "model_module_version": "1.2.0",
      "model_name": "LayoutModel",
      "state": {
       "_model_module": "@jupyter-widgets/base",
       "_model_module_version": "1.2.0",
       "_model_name": "LayoutModel",
       "_view_count": null,
       "_view_module": "@jupyter-widgets/base",
       "_view_module_version": "1.2.0",
       "_view_name": "LayoutView",
       "align_content": null,
       "align_items": null,
       "align_self": null,
       "border": null,
       "bottom": null,
       "display": null,
       "flex": null,
       "flex_flow": null,
       "grid_area": null,
       "grid_auto_columns": null,
       "grid_auto_flow": null,
       "grid_auto_rows": null,
       "grid_column": null,
       "grid_gap": null,
       "grid_row": null,
       "grid_template_areas": null,
       "grid_template_columns": null,
       "grid_template_rows": null,
       "height": null,
       "justify_content": null,
       "justify_items": null,
       "left": null,
       "margin": null,
       "max_height": null,
       "max_width": null,
       "min_height": null,
       "min_width": null,
       "object_fit": null,
       "object_position": null,
       "order": null,
       "overflow": null,
       "overflow_x": null,
       "overflow_y": null,
       "padding": null,
       "right": null,
       "top": null,
       "visibility": null,
       "width": null
      }
     },
     "bc02e00684e94418bacd6ba881759347": {
      "model_module": "@jupyter-widgets/base",
      "model_module_version": "1.2.0",
      "model_name": "LayoutModel",
      "state": {
       "_model_module": "@jupyter-widgets/base",
       "_model_module_version": "1.2.0",
       "_model_name": "LayoutModel",
       "_view_count": null,
       "_view_module": "@jupyter-widgets/base",
       "_view_module_version": "1.2.0",
       "_view_name": "LayoutView",
       "align_content": null,
       "align_items": null,
       "align_self": null,
       "border": null,
       "bottom": null,
       "display": null,
       "flex": null,
       "flex_flow": null,
       "grid_area": null,
       "grid_auto_columns": null,
       "grid_auto_flow": null,
       "grid_auto_rows": null,
       "grid_column": null,
       "grid_gap": null,
       "grid_row": null,
       "grid_template_areas": null,
       "grid_template_columns": null,
       "grid_template_rows": null,
       "height": null,
       "justify_content": null,
       "justify_items": null,
       "left": null,
       "margin": null,
       "max_height": null,
       "max_width": null,
       "min_height": null,
       "min_width": null,
       "object_fit": null,
       "object_position": null,
       "order": null,
       "overflow": null,
       "overflow_x": null,
       "overflow_y": null,
       "padding": null,
       "right": null,
       "top": null,
       "visibility": null,
       "width": null
      }
     },
     "c07d49fd2f014575a9a5e2f48506614c": {
      "model_module": "@jupyter-widgets/controls",
      "model_module_version": "1.5.0",
      "model_name": "HTMLModel",
      "state": {
       "_dom_classes": [],
       "_model_module": "@jupyter-widgets/controls",
       "_model_module_version": "1.5.0",
       "_model_name": "HTMLModel",
       "_view_count": null,
       "_view_module": "@jupyter-widgets/controls",
       "_view_module_version": "1.5.0",
       "_view_name": "HTMLView",
       "description": "",
       "description_tooltip": null,
       "layout": "IPY_MODEL_1a4a3de282774867a2de896c5a12fd4f",
       "placeholder": "​",
       "style": "IPY_MODEL_ccdf9a45baf64a318a9321c80c016ccf",
       "value": "0/? [00:00&lt;?, ?it/s]"
      }
     },
     "ccdf9a45baf64a318a9321c80c016ccf": {
      "model_module": "@jupyter-widgets/controls",
      "model_module_version": "1.5.0",
      "model_name": "DescriptionStyleModel",
      "state": {
       "_model_module": "@jupyter-widgets/controls",
       "_model_module_version": "1.5.0",
       "_model_name": "DescriptionStyleModel",
       "_view_count": null,
       "_view_module": "@jupyter-widgets/base",
       "_view_module_version": "1.2.0",
       "_view_name": "StyleView",
       "description_width": ""
      }
     },
     "ce0923f4e13b423580d4ff19cfc15926": {
      "model_module": "@jupyter-widgets/controls",
      "model_module_version": "1.5.0",
      "model_name": "HTMLModel",
      "state": {
       "_dom_classes": [],
       "_model_module": "@jupyter-widgets/controls",
       "_model_module_version": "1.5.0",
       "_model_name": "HTMLModel",
       "_view_count": null,
       "_view_module": "@jupyter-widgets/controls",
       "_view_module_version": "1.5.0",
       "_view_name": "HTMLView",
       "description": "",
       "description_tooltip": null,
       "layout": "IPY_MODEL_740248fba09e4df7afded6e069512da8",
       "placeholder": "​",
       "style": "IPY_MODEL_4ecce1ffcfcf410a88f2474453983242",
       "value": "1000/1000 [00:00&lt;00:00, 94059.56it/s]"
      }
     },
     "cec2e455833a40d9ab3a82f2f53ac6a1": {
      "model_module": "@jupyter-widgets/controls",
      "model_module_version": "1.5.0",
      "model_name": "HBoxModel",
      "state": {
       "_dom_classes": [],
       "_model_module": "@jupyter-widgets/controls",
       "_model_module_version": "1.5.0",
       "_model_name": "HBoxModel",
       "_view_count": null,
       "_view_module": "@jupyter-widgets/controls",
       "_view_module_version": "1.5.0",
       "_view_name": "HBoxView",
       "box_style": "",
       "children": [
        "IPY_MODEL_d593b3b8a2f2483ba000f389ad7c89c7",
        "IPY_MODEL_3228b249eddb4b2182ae3c9c0d2e93da",
        "IPY_MODEL_c07d49fd2f014575a9a5e2f48506614c"
       ],
       "layout": "IPY_MODEL_614020fb1ac84c0b80f05f113cef59c6"
      }
     },
     "d573f7c0ecf24d20bcb2ea7034dbdd84": {
      "model_module": "@jupyter-widgets/controls",
      "model_module_version": "1.5.0",
      "model_name": "DescriptionStyleModel",
      "state": {
       "_model_module": "@jupyter-widgets/controls",
       "_model_module_version": "1.5.0",
       "_model_name": "DescriptionStyleModel",
       "_view_count": null,
       "_view_module": "@jupyter-widgets/base",
       "_view_module_version": "1.2.0",
       "_view_name": "StyleView",
       "description_width": ""
      }
     },
     "d593b3b8a2f2483ba000f389ad7c89c7": {
      "model_module": "@jupyter-widgets/controls",
      "model_module_version": "1.5.0",
      "model_name": "HTMLModel",
      "state": {
       "_dom_classes": [],
       "_model_module": "@jupyter-widgets/controls",
       "_model_module_version": "1.5.0",
       "_model_name": "HTMLModel",
       "_view_count": null,
       "_view_module": "@jupyter-widgets/controls",
       "_view_module_version": "1.5.0",
       "_view_name": "HTMLView",
       "description": "",
       "description_tooltip": null,
       "layout": "IPY_MODEL_5ca1dd6d99d2465db5daf16e9155b8fc",
       "placeholder": "​",
       "style": "IPY_MODEL_dacd13b073e0448c936a3569d51154f4",
       "value": "Packets:   "
      }
     },
     "d9b632eabcd84409b0e7c3caefa225f0": {
      "model_module": "@jupyter-widgets/base",
      "model_module_version": "1.2.0",
      "model_name": "LayoutModel",
      "state": {
       "_model_module": "@jupyter-widgets/base",
       "_model_module_version": "1.2.0",
       "_model_name": "LayoutModel",
       "_view_count": null,
       "_view_module": "@jupyter-widgets/base",
       "_view_module_version": "1.2.0",
       "_view_name": "LayoutView",
       "align_content": null,
       "align_items": null,
       "align_self": null,
       "border": null,
       "bottom": null,
       "display": null,
       "flex": null,
       "flex_flow": null,
       "grid_area": null,
       "grid_auto_columns": null,
       "grid_auto_flow": null,
       "grid_auto_rows": null,
       "grid_column": null,
       "grid_gap": null,
       "grid_row": null,
       "grid_template_areas": null,
       "grid_template_columns": null,
       "grid_template_rows": null,
       "height": null,
       "justify_content": null,
       "justify_items": null,
       "left": null,
       "margin": null,
       "max_height": null,
       "max_width": null,
       "min_height": null,
       "min_width": null,
       "object_fit": null,
       "object_position": null,
       "order": null,
       "overflow": null,
       "overflow_x": null,
       "overflow_y": null,
       "padding": null,
       "right": null,
       "top": null,
       "visibility": null,
       "width": null
      }
     },
     "dacd13b073e0448c936a3569d51154f4": {
      "model_module": "@jupyter-widgets/controls",
      "model_module_version": "1.5.0",
      "model_name": "DescriptionStyleModel",
      "state": {
       "_model_module": "@jupyter-widgets/controls",
       "_model_module_version": "1.5.0",
       "_model_name": "DescriptionStyleModel",
       "_view_count": null,
       "_view_module": "@jupyter-widgets/base",
       "_view_module_version": "1.2.0",
       "_view_name": "StyleView",
       "description_width": ""
      }
     },
     "e5f4238f748e41e991c30ab5780ef81e": {
      "model_module": "@jupyter-widgets/controls",
      "model_module_version": "1.5.0",
      "model_name": "FloatProgressModel",
      "state": {
       "_dom_classes": [],
       "_model_module": "@jupyter-widgets/controls",
       "_model_module_version": "1.5.0",
       "_model_name": "FloatProgressModel",
       "_view_count": null,
       "_view_module": "@jupyter-widgets/controls",
       "_view_module_version": "1.5.0",
       "_view_name": "ProgressView",
       "bar_style": "",
       "description": "",
       "description_tooltip": null,
       "layout": "IPY_MODEL_7dc3c279de5f4b6798014361ad8af15c",
       "max": 1000.0,
       "min": 0.0,
       "orientation": "horizontal",
       "style": "IPY_MODEL_94fdc77f10334aab9e7f7489b78366d4",
       "value": 1000.0
      }
     },
     "fc2adc13edc1418a83ff8d616cda5e39": {
      "model_module": "@jupyter-widgets/base",
      "model_module_version": "1.2.0",
      "model_name": "LayoutModel",
      "state": {
       "_model_module": "@jupyter-widgets/base",
       "_model_module_version": "1.2.0",
       "_model_name": "LayoutModel",
       "_view_count": null,
       "_view_module": "@jupyter-widgets/base",
       "_view_module_version": "1.2.0",
       "_view_name": "LayoutView",
       "align_content": null,
       "align_items": null,
       "align_self": null,
       "border": null,
       "bottom": null,
       "display": null,
       "flex": null,
       "flex_flow": null,
       "grid_area": null,
       "grid_auto_columns": null,
       "grid_auto_flow": null,
       "grid_auto_rows": null,
       "grid_column": null,
       "grid_gap": null,
       "grid_row": null,
       "grid_template_areas": null,
       "grid_template_columns": null,
       "grid_template_rows": null,
       "height": null,
       "justify_content": null,
       "justify_items": null,
       "left": null,
       "margin": null,
       "max_height": null,
       "max_width": null,
       "min_height": null,
       "min_width": null,
       "object_fit": null,
       "object_position": null,
       "order": null,
       "overflow": null,
       "overflow_x": null,
       "overflow_y": null,
       "padding": null,
       "right": null,
       "top": null,
       "visibility": null,
       "width": "6%"
      }
     }
    },
    "version_major": 2,
    "version_minor": 0
   }
  }
 },
 "nbformat": 4,
 "nbformat_minor": 2
}
