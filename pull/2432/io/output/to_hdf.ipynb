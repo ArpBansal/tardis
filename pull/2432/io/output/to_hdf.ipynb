{
 "cells": [
  {
   "attachments": {},
   "cell_type": "markdown",
   "metadata": {
    "raw_mimetype": "text/restructuredtext"
   },
   "source": [
    "# Storing Simulations to HDF\n",
    "\n",
    "You can ask TARDIS to store the state of each iteration of the simulation you are running. We show examples of how this is done:"
   ]
  },
  {
   "attachments": {},
   "cell_type": "markdown",
   "metadata": {},
   "source": [
    "Initialize the simulation with the `tardis_example.yml` configuration file."
   ]
  },
  {
   "cell_type": "code",
   "execution_count": 1,
   "metadata": {
    "execution": {
     "iopub.execute_input": "2023-10-17T11:32:54.372804Z",
     "iopub.status.busy": "2023-10-17T11:32:54.372181Z",
     "iopub.status.idle": "2023-10-17T11:34:04.762426Z",
     "shell.execute_reply": "2023-10-17T11:34:04.761446Z"
    }
   },
   "outputs": [
    {
     "name": "stderr",
     "output_type": "stream",
     "text": [
      "/usr/share/miniconda3/envs/tardis/lib/python3.11/site-packages/setuptools_scm/git.py:135: UserWarning: \"/home/runner/work/tardis/tardis\" is shallow and may cause errors\n",
      "  warnings.warn(f'\"{wd.path}\" is shallow and may cause errors')\n"
     ]
    },
    {
     "data": {
      "application/vnd.jupyter.widget-view+json": {
       "model_id": "614f09db5bcb49ba9c9614ae27455201",
       "version_major": 2,
       "version_minor": 0
      },
      "text/plain": [
       "Iterations:          0/? [00:00<?, ?it/s]"
      ]
     },
     "metadata": {},
     "output_type": "display_data"
    },
    {
     "data": {
      "application/vnd.jupyter.widget-view+json": {
       "model_id": "3a1b3518b7b648c8a5924a904f70b7a2",
       "version_major": 2,
       "version_minor": 0
      },
      "text/plain": [
       "Packets:             0/? [00:00<?, ?it/s]"
      ]
     },
     "metadata": {},
     "output_type": "display_data"
    },
    {
     "name": "stdout",
     "output_type": "stream",
     "text": [
      "[\u001b[1mtardis.plasma.standard_plasmas\u001b[0m][\u001b[1;37mINFO\u001b[0m   ]  \n",
      "\t\n",
      "\tReading Atomic Data from kurucz_cd23_chianti_H_He.h5 (\u001b[1mstandard_plasmas.py\u001b[0m:95)\n"
     ]
    },
    {
     "name": "stdout",
     "output_type": "stream",
     "text": [
      "[\u001b[1mtardis.io.atom_data.util\u001b[0m][\u001b[1;37mINFO\u001b[0m   ]  \n",
      "\t\n",
      "\tAtom Data kurucz_cd23_chianti_H_He.h5 not found in local path.\n",
      "\tExists in TARDIS Data repo /home/runner/Downloads/tardis-data/kurucz_cd23_chianti_H_He.h5 (\u001b[1mutil.py\u001b[0m:33)\n"
     ]
    },
    {
     "name": "stdout",
     "output_type": "stream",
     "text": [
      "[\u001b[1mtardis.io.atom_data.base\u001b[0m][\u001b[1;37mINFO\u001b[0m   ]  \n",
      "\tReading Atom Data with: UUID = 6f7b09e887a311e7a06b246e96350010 MD5  = 864f1753714343c41f99cb065710cace  (\u001b[1mbase.py\u001b[0m:250)\n"
     ]
    },
    {
     "name": "stdout",
     "output_type": "stream",
     "text": [
      "[\u001b[1mtardis.io.atom_data.base\u001b[0m][\u001b[1;37mINFO\u001b[0m   ]  \n",
      "\tNon provided Atomic Data: synpp_refs, photoionization_data, yg_data, two_photon_data, linelist (\u001b[1mbase.py\u001b[0m:254)\n"
     ]
    },
    {
     "name": "stdout",
     "output_type": "stream",
     "text": [
      "[\u001b[1mpy.warnings         \u001b[0m][\u001b[1;33mWARNING\u001b[0m]  \n",
      "\t/home/runner/work/tardis/tardis/tardis/plasma/properties/radiative_properties.py:93: RuntimeWarning: invalid value encountered in divide\n",
      "  (g_lower * n_upper) / (g_upper * n_lower)\n",
      " (\u001b[1mwarnings.py\u001b[0m:109)\n"
     ]
    },
    {
     "name": "stdout",
     "output_type": "stream",
     "text": [
      "[\u001b[1mpy.warnings         \u001b[0m][\u001b[1;33mWARNING\u001b[0m]  \n",
      "\t/home/runner/work/tardis/tardis/tardis/plasma/properties/radiative_properties.py:93: RuntimeWarning: invalid value encountered in divide\n",
      "  (g_lower * n_upper) / (g_upper * n_lower)\n",
      " (\u001b[1mwarnings.py\u001b[0m:109)\n"
     ]
    },
    {
     "name": "stdout",
     "output_type": "stream",
     "text": [
      "[\u001b[1mtardis.simulation.base\u001b[0m][\u001b[1;37mINFO\u001b[0m   ]  \n",
      "\t\n",
      "\tStarting iteration 1 of 20 (\u001b[1mbase.py\u001b[0m:382)\n"
     ]
    },
    {
     "data": {
      "application/vnd.jupyter.widget-view+json": {
       "model_id": "8c048934864d4335a770c349e091677a",
       "version_major": 2,
       "version_minor": 0
      },
      "text/plain": [
       "TqdmHBox(children=(HTML(value='Iterations:', layout=Layout(width='6%')), FloatProgress(value=0.0, layout=Layou…"
      ]
     },
     "metadata": {},
     "output_type": "display_data"
    },
    {
     "data": {
      "application/vnd.jupyter.widget-view+json": {
       "model_id": "c3ff694ac4eb463286a7766ab44b05f8",
       "version_major": 2,
       "version_minor": 0
      },
      "text/plain": [
       "TqdmHBox(children=(HTML(value='Packets:   ', layout=Layout(width='6%')), FloatProgress(value=0.0, layout=Layou…"
      ]
     },
     "metadata": {},
     "output_type": "display_data"
    },
    {
     "name": "stdout",
     "output_type": "stream",
     "text": [
      "[\u001b[1mtardis.simulation.base\u001b[0m][\u001b[1;37mINFO\u001b[0m   ]  \n",
      "\t\n",
      "\tLuminosity emitted   = 7.942e+42 erg / s\n",
      "\tLuminosity absorbed  = 2.659e+42 erg / s\n",
      "\tLuminosity requested = 1.059e+43 erg / s\n",
      " (\u001b[1mbase.py\u001b[0m:557)\n"
     ]
    },
    {
     "name": "stdout",
     "output_type": "stream",
     "text": [
      "[\u001b[1mtardis.simulation.base\u001b[0m][\u001b[1;37mINFO\u001b[0m   ]  \n",
      "\t\n",
      "\tPlasma stratification: (\u001b[1mbase.py\u001b[0m:525)\n"
     ]
    },
    {
     "data": {
      "text/html": [
       "<style type=\"text/css\">\n",
       "</style>\n",
       "<table id=\"T_49c25\">\n",
       "  <thead>\n",
       "    <tr>\n",
       "      <th class=\"index_name level0\" >Shell No.</th>\n",
       "      <th id=\"T_49c25_level0_col0\" class=\"col_heading level0 col0\" >t_rad</th>\n",
       "      <th id=\"T_49c25_level0_col1\" class=\"col_heading level0 col1\" >next_t_rad</th>\n",
       "      <th id=\"T_49c25_level0_col2\" class=\"col_heading level0 col2\" >w</th>\n",
       "      <th id=\"T_49c25_level0_col3\" class=\"col_heading level0 col3\" >next_w</th>\n",
       "    </tr>\n",
       "  </thead>\n",
       "  <tbody>\n",
       "    <tr>\n",
       "      <th id=\"T_49c25_level0_row0\" class=\"row_heading level0 row0\" >0</th>\n",
       "      <td id=\"T_49c25_row0_col0\" class=\"data row0 col0\" >9.93e+03 K</td>\n",
       "      <td id=\"T_49c25_row0_col1\" class=\"data row0 col1\" >1.01e+04 K</td>\n",
       "      <td id=\"T_49c25_row0_col2\" class=\"data row0 col2\" >0.4</td>\n",
       "      <td id=\"T_49c25_row0_col3\" class=\"data row0 col3\" >0.507</td>\n",
       "    </tr>\n",
       "    <tr>\n",
       "      <th id=\"T_49c25_level0_row1\" class=\"row_heading level0 row1\" >5</th>\n",
       "      <td id=\"T_49c25_row1_col0\" class=\"data row1 col0\" >9.85e+03 K</td>\n",
       "      <td id=\"T_49c25_row1_col1\" class=\"data row1 col1\" >1.02e+04 K</td>\n",
       "      <td id=\"T_49c25_row1_col2\" class=\"data row1 col2\" >0.211</td>\n",
       "      <td id=\"T_49c25_row1_col3\" class=\"data row1 col3\" >0.197</td>\n",
       "    </tr>\n",
       "    <tr>\n",
       "      <th id=\"T_49c25_level0_row2\" class=\"row_heading level0 row2\" >10</th>\n",
       "      <td id=\"T_49c25_row2_col0\" class=\"data row2 col0\" >9.78e+03 K</td>\n",
       "      <td id=\"T_49c25_row2_col1\" class=\"data row2 col1\" >1.01e+04 K</td>\n",
       "      <td id=\"T_49c25_row2_col2\" class=\"data row2 col2\" >0.143</td>\n",
       "      <td id=\"T_49c25_row2_col3\" class=\"data row2 col3\" >0.117</td>\n",
       "    </tr>\n",
       "    <tr>\n",
       "      <th id=\"T_49c25_level0_row3\" class=\"row_heading level0 row3\" >15</th>\n",
       "      <td id=\"T_49c25_row3_col0\" class=\"data row3 col0\" >9.71e+03 K</td>\n",
       "      <td id=\"T_49c25_row3_col1\" class=\"data row3 col1\" >9.87e+03 K</td>\n",
       "      <td id=\"T_49c25_row3_col2\" class=\"data row3 col2\" >0.105</td>\n",
       "      <td id=\"T_49c25_row3_col3\" class=\"data row3 col3\" >0.0869</td>\n",
       "    </tr>\n",
       "  </tbody>\n",
       "</table>\n"
      ],
      "text/plain": [
       "<pandas.io.formats.style.Styler at 0x7f8473912290>"
      ]
     },
     "metadata": {},
     "output_type": "display_data"
    },
    {
     "name": "stdout",
     "output_type": "stream",
     "text": [
      "[\u001b[1mtardis.simulation.base\u001b[0m][\u001b[1;37mINFO\u001b[0m   ]  \n",
      "\t\n",
      "\tCurrent t_inner = 9933.952 K\n",
      "\tExpected t_inner for next iteration = 10703.212 K\n",
      " (\u001b[1mbase.py\u001b[0m:552)\n"
     ]
    },
    {
     "name": "stdout",
     "output_type": "stream",
     "text": [
      "[\u001b[1mpy.warnings         \u001b[0m][\u001b[1;33mWARNING\u001b[0m]  \n",
      "\t/home/runner/work/tardis/tardis/tardis/plasma/properties/radiative_properties.py:93: RuntimeWarning: invalid value encountered in divide\n",
      "  (g_lower * n_upper) / (g_upper * n_lower)\n",
      " (\u001b[1mwarnings.py\u001b[0m:109)\n"
     ]
    },
    {
     "name": "stdout",
     "output_type": "stream",
     "text": [
      "[\u001b[1mtardis.simulation.base\u001b[0m][\u001b[1;37mINFO\u001b[0m   ]  \n",
      "\t\n",
      "\tStarting iteration 2 of 20 (\u001b[1mbase.py\u001b[0m:382)\n"
     ]
    },
    {
     "name": "stdout",
     "output_type": "stream",
     "text": [
      "[\u001b[1mtardis.simulation.base\u001b[0m][\u001b[1;37mINFO\u001b[0m   ]  \n",
      "\t\n",
      "\tLuminosity emitted   = 1.071e+43 erg / s\n",
      "\tLuminosity absorbed  = 3.576e+42 erg / s\n",
      "\tLuminosity requested = 1.059e+43 erg / s\n",
      " (\u001b[1mbase.py\u001b[0m:557)\n"
     ]
    },
    {
     "name": "stdout",
     "output_type": "stream",
     "text": [
      "[\u001b[1mtardis.simulation.base\u001b[0m][\u001b[1;37mINFO\u001b[0m   ]  \n",
      "\t\n",
      "\tPlasma stratification: (\u001b[1mbase.py\u001b[0m:525)\n"
     ]
    },
    {
     "data": {
      "text/html": [
       "<style type=\"text/css\">\n",
       "</style>\n",
       "<table id=\"T_3ee08\">\n",
       "  <thead>\n",
       "    <tr>\n",
       "      <th class=\"index_name level0\" >Shell No.</th>\n",
       "      <th id=\"T_3ee08_level0_col0\" class=\"col_heading level0 col0\" >t_rad</th>\n",
       "      <th id=\"T_3ee08_level0_col1\" class=\"col_heading level0 col1\" >next_t_rad</th>\n",
       "      <th id=\"T_3ee08_level0_col2\" class=\"col_heading level0 col2\" >w</th>\n",
       "      <th id=\"T_3ee08_level0_col3\" class=\"col_heading level0 col3\" >next_w</th>\n",
       "    </tr>\n",
       "  </thead>\n",
       "  <tbody>\n",
       "    <tr>\n",
       "      <th id=\"T_3ee08_level0_row0\" class=\"row_heading level0 row0\" >0</th>\n",
       "      <td id=\"T_3ee08_row0_col0\" class=\"data row0 col0\" >1.01e+04 K</td>\n",
       "      <td id=\"T_3ee08_row0_col1\" class=\"data row0 col1\" >1.08e+04 K</td>\n",
       "      <td id=\"T_3ee08_row0_col2\" class=\"data row0 col2\" >0.507</td>\n",
       "      <td id=\"T_3ee08_row0_col3\" class=\"data row0 col3\" >0.525</td>\n",
       "    </tr>\n",
       "    <tr>\n",
       "      <th id=\"T_3ee08_level0_row1\" class=\"row_heading level0 row1\" >5</th>\n",
       "      <td id=\"T_3ee08_row1_col0\" class=\"data row1 col0\" >1.02e+04 K</td>\n",
       "      <td id=\"T_3ee08_row1_col1\" class=\"data row1 col1\" >1.1e+04 K</td>\n",
       "      <td id=\"T_3ee08_row1_col2\" class=\"data row1 col2\" >0.197</td>\n",
       "      <td id=\"T_3ee08_row1_col3\" class=\"data row1 col3\" >0.203</td>\n",
       "    </tr>\n",
       "    <tr>\n",
       "      <th id=\"T_3ee08_level0_row2\" class=\"row_heading level0 row2\" >10</th>\n",
       "      <td id=\"T_3ee08_row2_col0\" class=\"data row2 col0\" >1.01e+04 K</td>\n",
       "      <td id=\"T_3ee08_row2_col1\" class=\"data row2 col1\" >1.08e+04 K</td>\n",
       "      <td id=\"T_3ee08_row2_col2\" class=\"data row2 col2\" >0.117</td>\n",
       "      <td id=\"T_3ee08_row2_col3\" class=\"data row2 col3\" >0.125</td>\n",
       "    </tr>\n",
       "    <tr>\n",
       "      <th id=\"T_3ee08_level0_row3\" class=\"row_heading level0 row3\" >15</th>\n",
       "      <td id=\"T_3ee08_row3_col0\" class=\"data row3 col0\" >9.87e+03 K</td>\n",
       "      <td id=\"T_3ee08_row3_col1\" class=\"data row3 col1\" >1.05e+04 K</td>\n",
       "      <td id=\"T_3ee08_row3_col2\" class=\"data row3 col2\" >0.0869</td>\n",
       "      <td id=\"T_3ee08_row3_col3\" class=\"data row3 col3\" >0.0933</td>\n",
       "    </tr>\n",
       "  </tbody>\n",
       "</table>\n"
      ],
      "text/plain": [
       "<pandas.io.formats.style.Styler at 0x7f8473d72890>"
      ]
     },
     "metadata": {},
     "output_type": "display_data"
    },
    {
     "name": "stdout",
     "output_type": "stream",
     "text": [
      "[\u001b[1mtardis.simulation.base\u001b[0m][\u001b[1;37mINFO\u001b[0m   ]  \n",
      "\t\n",
      "\tCurrent t_inner = 10703.212 K\n",
      "\tExpected t_inner for next iteration = 10673.712 K\n",
      " (\u001b[1mbase.py\u001b[0m:552)\n"
     ]
    },
    {
     "name": "stdout",
     "output_type": "stream",
     "text": [
      "[\u001b[1mpy.warnings         \u001b[0m][\u001b[1;33mWARNING\u001b[0m]  \n",
      "\t/home/runner/work/tardis/tardis/tardis/plasma/properties/radiative_properties.py:93: RuntimeWarning: invalid value encountered in divide\n",
      "  (g_lower * n_upper) / (g_upper * n_lower)\n",
      " (\u001b[1mwarnings.py\u001b[0m:109)\n"
     ]
    },
    {
     "name": "stdout",
     "output_type": "stream",
     "text": [
      "[\u001b[1mtardis.simulation.base\u001b[0m][\u001b[1;37mINFO\u001b[0m   ]  \n",
      "\t\n",
      "\tStarting iteration 3 of 20 (\u001b[1mbase.py\u001b[0m:382)\n"
     ]
    },
    {
     "name": "stdout",
     "output_type": "stream",
     "text": [
      "[\u001b[1mtardis.simulation.base\u001b[0m][\u001b[1;37mINFO\u001b[0m   ]  \n",
      "\t\n",
      "\tLuminosity emitted   = 1.074e+43 erg / s\n",
      "\tLuminosity absorbed  = 3.391e+42 erg / s\n",
      "\tLuminosity requested = 1.059e+43 erg / s\n",
      " (\u001b[1mbase.py\u001b[0m:557)\n"
     ]
    },
    {
     "name": "stdout",
     "output_type": "stream",
     "text": [
      "[\u001b[1mtardis.simulation.base\u001b[0m][\u001b[1;37mINFO\u001b[0m   ]  \n",
      "\t\n",
      "\tPlasma stratification: (\u001b[1mbase.py\u001b[0m:525)\n"
     ]
    },
    {
     "data": {
      "text/html": [
       "<style type=\"text/css\">\n",
       "</style>\n",
       "<table id=\"T_c230e\">\n",
       "  <thead>\n",
       "    <tr>\n",
       "      <th class=\"index_name level0\" >Shell No.</th>\n",
       "      <th id=\"T_c230e_level0_col0\" class=\"col_heading level0 col0\" >t_rad</th>\n",
       "      <th id=\"T_c230e_level0_col1\" class=\"col_heading level0 col1\" >next_t_rad</th>\n",
       "      <th id=\"T_c230e_level0_col2\" class=\"col_heading level0 col2\" >w</th>\n",
       "      <th id=\"T_c230e_level0_col3\" class=\"col_heading level0 col3\" >next_w</th>\n",
       "    </tr>\n",
       "  </thead>\n",
       "  <tbody>\n",
       "    <tr>\n",
       "      <th id=\"T_c230e_level0_row0\" class=\"row_heading level0 row0\" >0</th>\n",
       "      <td id=\"T_c230e_row0_col0\" class=\"data row0 col0\" >1.08e+04 K</td>\n",
       "      <td id=\"T_c230e_row0_col1\" class=\"data row0 col1\" >1.1e+04 K</td>\n",
       "      <td id=\"T_c230e_row0_col2\" class=\"data row0 col2\" >0.525</td>\n",
       "      <td id=\"T_c230e_row0_col3\" class=\"data row0 col3\" >0.483</td>\n",
       "    </tr>\n",
       "    <tr>\n",
       "      <th id=\"T_c230e_level0_row1\" class=\"row_heading level0 row1\" >5</th>\n",
       "      <td id=\"T_c230e_row1_col0\" class=\"data row1 col0\" >1.1e+04 K</td>\n",
       "      <td id=\"T_c230e_row1_col1\" class=\"data row1 col1\" >1.12e+04 K</td>\n",
       "      <td id=\"T_c230e_row1_col2\" class=\"data row1 col2\" >0.203</td>\n",
       "      <td id=\"T_c230e_row1_col3\" class=\"data row1 col3\" >0.189</td>\n",
       "    </tr>\n",
       "    <tr>\n",
       "      <th id=\"T_c230e_level0_row2\" class=\"row_heading level0 row2\" >10</th>\n",
       "      <td id=\"T_c230e_row2_col0\" class=\"data row2 col0\" >1.08e+04 K</td>\n",
       "      <td id=\"T_c230e_row2_col1\" class=\"data row2 col1\" >1.1e+04 K</td>\n",
       "      <td id=\"T_c230e_row2_col2\" class=\"data row2 col2\" >0.125</td>\n",
       "      <td id=\"T_c230e_row2_col3\" class=\"data row2 col3\" >0.118</td>\n",
       "    </tr>\n",
       "    <tr>\n",
       "      <th id=\"T_c230e_level0_row3\" class=\"row_heading level0 row3\" >15</th>\n",
       "      <td id=\"T_c230e_row3_col0\" class=\"data row3 col0\" >1.05e+04 K</td>\n",
       "      <td id=\"T_c230e_row3_col1\" class=\"data row3 col1\" >1.06e+04 K</td>\n",
       "      <td id=\"T_c230e_row3_col2\" class=\"data row3 col2\" >0.0933</td>\n",
       "      <td id=\"T_c230e_row3_col3\" class=\"data row3 col3\" >0.0895</td>\n",
       "    </tr>\n",
       "  </tbody>\n",
       "</table>\n"
      ],
      "text/plain": [
       "<pandas.io.formats.style.Styler at 0x7f8471866fd0>"
      ]
     },
     "metadata": {},
     "output_type": "display_data"
    },
    {
     "name": "stdout",
     "output_type": "stream",
     "text": [
      "[\u001b[1mtardis.simulation.base\u001b[0m][\u001b[1;37mINFO\u001b[0m   ]  \n",
      "\t\n",
      "\tCurrent t_inner = 10673.712 K\n",
      "\tExpected t_inner for next iteration = 10635.953 K\n",
      " (\u001b[1mbase.py\u001b[0m:552)\n"
     ]
    },
    {
     "name": "stdout",
     "output_type": "stream",
     "text": [
      "[\u001b[1mpy.warnings         \u001b[0m][\u001b[1;33mWARNING\u001b[0m]  \n",
      "\t/home/runner/work/tardis/tardis/tardis/plasma/properties/radiative_properties.py:93: RuntimeWarning: invalid value encountered in divide\n",
      "  (g_lower * n_upper) / (g_upper * n_lower)\n",
      " (\u001b[1mwarnings.py\u001b[0m:109)\n"
     ]
    },
    {
     "name": "stdout",
     "output_type": "stream",
     "text": [
      "[\u001b[1mtardis.simulation.base\u001b[0m][\u001b[1;37mINFO\u001b[0m   ]  \n",
      "\t\n",
      "\tStarting iteration 4 of 20 (\u001b[1mbase.py\u001b[0m:382)\n"
     ]
    },
    {
     "name": "stdout",
     "output_type": "stream",
     "text": [
      "[\u001b[1mtardis.simulation.base\u001b[0m][\u001b[1;37mINFO\u001b[0m   ]  \n",
      "\t\n",
      "\tLuminosity emitted   = 1.058e+43 erg / s\n",
      "\tLuminosity absorbed  = 3.352e+42 erg / s\n",
      "\tLuminosity requested = 1.059e+43 erg / s\n",
      " (\u001b[1mbase.py\u001b[0m:557)\n"
     ]
    },
    {
     "name": "stdout",
     "output_type": "stream",
     "text": [
      "[\u001b[1mtardis.simulation.base\u001b[0m][\u001b[1;37mINFO\u001b[0m   ]  \n",
      "\t\n",
      "\tPlasma stratification: (\u001b[1mbase.py\u001b[0m:525)\n"
     ]
    },
    {
     "data": {
      "text/html": [
       "<style type=\"text/css\">\n",
       "</style>\n",
       "<table id=\"T_0bdb9\">\n",
       "  <thead>\n",
       "    <tr>\n",
       "      <th class=\"index_name level0\" >Shell No.</th>\n",
       "      <th id=\"T_0bdb9_level0_col0\" class=\"col_heading level0 col0\" >t_rad</th>\n",
       "      <th id=\"T_0bdb9_level0_col1\" class=\"col_heading level0 col1\" >next_t_rad</th>\n",
       "      <th id=\"T_0bdb9_level0_col2\" class=\"col_heading level0 col2\" >w</th>\n",
       "      <th id=\"T_0bdb9_level0_col3\" class=\"col_heading level0 col3\" >next_w</th>\n",
       "    </tr>\n",
       "  </thead>\n",
       "  <tbody>\n",
       "    <tr>\n",
       "      <th id=\"T_0bdb9_level0_row0\" class=\"row_heading level0 row0\" >0</th>\n",
       "      <td id=\"T_0bdb9_row0_col0\" class=\"data row0 col0\" >1.1e+04 K</td>\n",
       "      <td id=\"T_0bdb9_row0_col1\" class=\"data row0 col1\" >1.1e+04 K</td>\n",
       "      <td id=\"T_0bdb9_row0_col2\" class=\"data row0 col2\" >0.483</td>\n",
       "      <td id=\"T_0bdb9_row0_col3\" class=\"data row0 col3\" >0.469</td>\n",
       "    </tr>\n",
       "    <tr>\n",
       "      <th id=\"T_0bdb9_level0_row1\" class=\"row_heading level0 row1\" >5</th>\n",
       "      <td id=\"T_0bdb9_row1_col0\" class=\"data row1 col0\" >1.12e+04 K</td>\n",
       "      <td id=\"T_0bdb9_row1_col1\" class=\"data row1 col1\" >1.12e+04 K</td>\n",
       "      <td id=\"T_0bdb9_row1_col2\" class=\"data row1 col2\" >0.189</td>\n",
       "      <td id=\"T_0bdb9_row1_col3\" class=\"data row1 col3\" >0.182</td>\n",
       "    </tr>\n",
       "    <tr>\n",
       "      <th id=\"T_0bdb9_level0_row2\" class=\"row_heading level0 row2\" >10</th>\n",
       "      <td id=\"T_0bdb9_row2_col0\" class=\"data row2 col0\" >1.1e+04 K</td>\n",
       "      <td id=\"T_0bdb9_row2_col1\" class=\"data row2 col1\" >1.1e+04 K</td>\n",
       "      <td id=\"T_0bdb9_row2_col2\" class=\"data row2 col2\" >0.118</td>\n",
       "      <td id=\"T_0bdb9_row2_col3\" class=\"data row2 col3\" >0.113</td>\n",
       "    </tr>\n",
       "    <tr>\n",
       "      <th id=\"T_0bdb9_level0_row3\" class=\"row_heading level0 row3\" >15</th>\n",
       "      <td id=\"T_0bdb9_row3_col0\" class=\"data row3 col0\" >1.06e+04 K</td>\n",
       "      <td id=\"T_0bdb9_row3_col1\" class=\"data row3 col1\" >1.07e+04 K</td>\n",
       "      <td id=\"T_0bdb9_row3_col2\" class=\"data row3 col2\" >0.0895</td>\n",
       "      <td id=\"T_0bdb9_row3_col3\" class=\"data row3 col3\" >0.0861</td>\n",
       "    </tr>\n",
       "  </tbody>\n",
       "</table>\n"
      ],
      "text/plain": [
       "<pandas.io.formats.style.Styler at 0x7f8471863350>"
      ]
     },
     "metadata": {},
     "output_type": "display_data"
    },
    {
     "name": "stdout",
     "output_type": "stream",
     "text": [
      "[\u001b[1mtardis.simulation.base\u001b[0m][\u001b[1;37mINFO\u001b[0m   ]  \n",
      "\t\n",
      "\tCurrent t_inner = 10635.953 K\n",
      "\tExpected t_inner for next iteration = 10638.407 K\n",
      " (\u001b[1mbase.py\u001b[0m:552)\n"
     ]
    },
    {
     "name": "stdout",
     "output_type": "stream",
     "text": [
      "[\u001b[1mpy.warnings         \u001b[0m][\u001b[1;33mWARNING\u001b[0m]  \n",
      "\t/home/runner/work/tardis/tardis/tardis/plasma/properties/radiative_properties.py:93: RuntimeWarning: invalid value encountered in divide\n",
      "  (g_lower * n_upper) / (g_upper * n_lower)\n",
      " (\u001b[1mwarnings.py\u001b[0m:109)\n"
     ]
    },
    {
     "name": "stdout",
     "output_type": "stream",
     "text": [
      "[\u001b[1mtardis.simulation.base\u001b[0m][\u001b[1;37mINFO\u001b[0m   ]  \n",
      "\t\n",
      "\tStarting iteration 5 of 20 (\u001b[1mbase.py\u001b[0m:382)\n"
     ]
    },
    {
     "name": "stdout",
     "output_type": "stream",
     "text": [
      "[\u001b[1mtardis.simulation.base\u001b[0m][\u001b[1;37mINFO\u001b[0m   ]  \n",
      "\t\n",
      "\tLuminosity emitted   = 1.055e+43 erg / s\n",
      "\tLuminosity absorbed  = 3.399e+42 erg / s\n",
      "\tLuminosity requested = 1.059e+43 erg / s\n",
      " (\u001b[1mbase.py\u001b[0m:557)\n"
     ]
    },
    {
     "name": "stdout",
     "output_type": "stream",
     "text": [
      "[\u001b[1mtardis.simulation.base\u001b[0m][\u001b[1;37mINFO\u001b[0m   ]  \n",
      "\tIteration converged 1/4 consecutive times. (\u001b[1mbase.py\u001b[0m:257)\n"
     ]
    },
    {
     "name": "stdout",
     "output_type": "stream",
     "text": [
      "[\u001b[1mtardis.simulation.base\u001b[0m][\u001b[1;37mINFO\u001b[0m   ]  \n",
      "\t\n",
      "\tPlasma stratification: (\u001b[1mbase.py\u001b[0m:525)\n"
     ]
    },
    {
     "data": {
      "text/html": [
       "<style type=\"text/css\">\n",
       "</style>\n",
       "<table id=\"T_4a8d5\">\n",
       "  <thead>\n",
       "    <tr>\n",
       "      <th class=\"index_name level0\" >Shell No.</th>\n",
       "      <th id=\"T_4a8d5_level0_col0\" class=\"col_heading level0 col0\" >t_rad</th>\n",
       "      <th id=\"T_4a8d5_level0_col1\" class=\"col_heading level0 col1\" >next_t_rad</th>\n",
       "      <th id=\"T_4a8d5_level0_col2\" class=\"col_heading level0 col2\" >w</th>\n",
       "      <th id=\"T_4a8d5_level0_col3\" class=\"col_heading level0 col3\" >next_w</th>\n",
       "    </tr>\n",
       "  </thead>\n",
       "  <tbody>\n",
       "    <tr>\n",
       "      <th id=\"T_4a8d5_level0_row0\" class=\"row_heading level0 row0\" >0</th>\n",
       "      <td id=\"T_4a8d5_row0_col0\" class=\"data row0 col0\" >1.1e+04 K</td>\n",
       "      <td id=\"T_4a8d5_row0_col1\" class=\"data row0 col1\" >1.1e+04 K</td>\n",
       "      <td id=\"T_4a8d5_row0_col2\" class=\"data row0 col2\" >0.469</td>\n",
       "      <td id=\"T_4a8d5_row0_col3\" class=\"data row0 col3\" >0.479</td>\n",
       "    </tr>\n",
       "    <tr>\n",
       "      <th id=\"T_4a8d5_level0_row1\" class=\"row_heading level0 row1\" >5</th>\n",
       "      <td id=\"T_4a8d5_row1_col0\" class=\"data row1 col0\" >1.12e+04 K</td>\n",
       "      <td id=\"T_4a8d5_row1_col1\" class=\"data row1 col1\" >1.13e+04 K</td>\n",
       "      <td id=\"T_4a8d5_row1_col2\" class=\"data row1 col2\" >0.182</td>\n",
       "      <td id=\"T_4a8d5_row1_col3\" class=\"data row1 col3\" >0.178</td>\n",
       "    </tr>\n",
       "    <tr>\n",
       "      <th id=\"T_4a8d5_level0_row2\" class=\"row_heading level0 row2\" >10</th>\n",
       "      <td id=\"T_4a8d5_row2_col0\" class=\"data row2 col0\" >1.1e+04 K</td>\n",
       "      <td id=\"T_4a8d5_row2_col1\" class=\"data row2 col1\" >1.1e+04 K</td>\n",
       "      <td id=\"T_4a8d5_row2_col2\" class=\"data row2 col2\" >0.113</td>\n",
       "      <td id=\"T_4a8d5_row2_col3\" class=\"data row2 col3\" >0.113</td>\n",
       "    </tr>\n",
       "    <tr>\n",
       "      <th id=\"T_4a8d5_level0_row3\" class=\"row_heading level0 row3\" >15</th>\n",
       "      <td id=\"T_4a8d5_row3_col0\" class=\"data row3 col0\" >1.07e+04 K</td>\n",
       "      <td id=\"T_4a8d5_row3_col1\" class=\"data row3 col1\" >1.07e+04 K</td>\n",
       "      <td id=\"T_4a8d5_row3_col2\" class=\"data row3 col2\" >0.0861</td>\n",
       "      <td id=\"T_4a8d5_row3_col3\" class=\"data row3 col3\" >0.0839</td>\n",
       "    </tr>\n",
       "  </tbody>\n",
       "</table>\n"
      ],
      "text/plain": [
       "<pandas.io.formats.style.Styler at 0x7f8471863350>"
      ]
     },
     "metadata": {},
     "output_type": "display_data"
    },
    {
     "name": "stdout",
     "output_type": "stream",
     "text": [
      "[\u001b[1mtardis.simulation.base\u001b[0m][\u001b[1;37mINFO\u001b[0m   ]  \n",
      "\t\n",
      "\tCurrent t_inner = 10638.407 K\n",
      "\tExpected t_inner for next iteration = 10650.202 K\n",
      " (\u001b[1mbase.py\u001b[0m:552)\n"
     ]
    },
    {
     "name": "stdout",
     "output_type": "stream",
     "text": [
      "[\u001b[1mpy.warnings         \u001b[0m][\u001b[1;33mWARNING\u001b[0m]  \n",
      "\t/home/runner/work/tardis/tardis/tardis/plasma/properties/radiative_properties.py:93: RuntimeWarning: invalid value encountered in divide\n",
      "  (g_lower * n_upper) / (g_upper * n_lower)\n",
      " (\u001b[1mwarnings.py\u001b[0m:109)\n"
     ]
    },
    {
     "name": "stdout",
     "output_type": "stream",
     "text": [
      "[\u001b[1mtardis.simulation.base\u001b[0m][\u001b[1;37mINFO\u001b[0m   ]  \n",
      "\t\n",
      "\tStarting iteration 6 of 20 (\u001b[1mbase.py\u001b[0m:382)\n"
     ]
    },
    {
     "name": "stdout",
     "output_type": "stream",
     "text": [
      "[\u001b[1mtardis.simulation.base\u001b[0m][\u001b[1;37mINFO\u001b[0m   ]  \n",
      "\t\n",
      "\tLuminosity emitted   = 1.061e+43 erg / s\n",
      "\tLuminosity absorbed  = 3.398e+42 erg / s\n",
      "\tLuminosity requested = 1.059e+43 erg / s\n",
      " (\u001b[1mbase.py\u001b[0m:557)\n"
     ]
    },
    {
     "name": "stdout",
     "output_type": "stream",
     "text": [
      "[\u001b[1mtardis.simulation.base\u001b[0m][\u001b[1;37mINFO\u001b[0m   ]  \n",
      "\tIteration converged 2/4 consecutive times. (\u001b[1mbase.py\u001b[0m:257)\n"
     ]
    },
    {
     "name": "stdout",
     "output_type": "stream",
     "text": [
      "[\u001b[1mtardis.simulation.base\u001b[0m][\u001b[1;37mINFO\u001b[0m   ]  \n",
      "\t\n",
      "\tPlasma stratification: (\u001b[1mbase.py\u001b[0m:525)\n"
     ]
    },
    {
     "data": {
      "text/html": [
       "<style type=\"text/css\">\n",
       "</style>\n",
       "<table id=\"T_32d87\">\n",
       "  <thead>\n",
       "    <tr>\n",
       "      <th class=\"index_name level0\" >Shell No.</th>\n",
       "      <th id=\"T_32d87_level0_col0\" class=\"col_heading level0 col0\" >t_rad</th>\n",
       "      <th id=\"T_32d87_level0_col1\" class=\"col_heading level0 col1\" >next_t_rad</th>\n",
       "      <th id=\"T_32d87_level0_col2\" class=\"col_heading level0 col2\" >w</th>\n",
       "      <th id=\"T_32d87_level0_col3\" class=\"col_heading level0 col3\" >next_w</th>\n",
       "    </tr>\n",
       "  </thead>\n",
       "  <tbody>\n",
       "    <tr>\n",
       "      <th id=\"T_32d87_level0_row0\" class=\"row_heading level0 row0\" >0</th>\n",
       "      <td id=\"T_32d87_row0_col0\" class=\"data row0 col0\" >1.1e+04 K</td>\n",
       "      <td id=\"T_32d87_row0_col1\" class=\"data row0 col1\" >1.1e+04 K</td>\n",
       "      <td id=\"T_32d87_row0_col2\" class=\"data row0 col2\" >0.479</td>\n",
       "      <td id=\"T_32d87_row0_col3\" class=\"data row0 col3\" >0.47</td>\n",
       "    </tr>\n",
       "    <tr>\n",
       "      <th id=\"T_32d87_level0_row1\" class=\"row_heading level0 row1\" >5</th>\n",
       "      <td id=\"T_32d87_row1_col0\" class=\"data row1 col0\" >1.13e+04 K</td>\n",
       "      <td id=\"T_32d87_row1_col1\" class=\"data row1 col1\" >1.12e+04 K</td>\n",
       "      <td id=\"T_32d87_row1_col2\" class=\"data row1 col2\" >0.178</td>\n",
       "      <td id=\"T_32d87_row1_col3\" class=\"data row1 col3\" >0.185</td>\n",
       "    </tr>\n",
       "    <tr>\n",
       "      <th id=\"T_32d87_level0_row2\" class=\"row_heading level0 row2\" >10</th>\n",
       "      <td id=\"T_32d87_row2_col0\" class=\"data row2 col0\" >1.1e+04 K</td>\n",
       "      <td id=\"T_32d87_row2_col1\" class=\"data row2 col1\" >1.11e+04 K</td>\n",
       "      <td id=\"T_32d87_row2_col2\" class=\"data row2 col2\" >0.113</td>\n",
       "      <td id=\"T_32d87_row2_col3\" class=\"data row2 col3\" >0.112</td>\n",
       "    </tr>\n",
       "    <tr>\n",
       "      <th id=\"T_32d87_level0_row3\" class=\"row_heading level0 row3\" >15</th>\n",
       "      <td id=\"T_32d87_row3_col0\" class=\"data row3 col0\" >1.07e+04 K</td>\n",
       "      <td id=\"T_32d87_row3_col1\" class=\"data row3 col1\" >1.07e+04 K</td>\n",
       "      <td id=\"T_32d87_row3_col2\" class=\"data row3 col2\" >0.0839</td>\n",
       "      <td id=\"T_32d87_row3_col3\" class=\"data row3 col3\" >0.0856</td>\n",
       "    </tr>\n",
       "  </tbody>\n",
       "</table>\n"
      ],
      "text/plain": [
       "<pandas.io.formats.style.Styler at 0x7f847189c050>"
      ]
     },
     "metadata": {},
     "output_type": "display_data"
    },
    {
     "name": "stdout",
     "output_type": "stream",
     "text": [
      "[\u001b[1mtardis.simulation.base\u001b[0m][\u001b[1;37mINFO\u001b[0m   ]  \n",
      "\t\n",
      "\tCurrent t_inner = 10650.202 K\n",
      "\tExpected t_inner for next iteration = 10645.955 K\n",
      " (\u001b[1mbase.py\u001b[0m:552)\n"
     ]
    },
    {
     "name": "stdout",
     "output_type": "stream",
     "text": [
      "[\u001b[1mpy.warnings         \u001b[0m][\u001b[1;33mWARNING\u001b[0m]  \n",
      "\t/home/runner/work/tardis/tardis/tardis/plasma/properties/radiative_properties.py:93: RuntimeWarning: invalid value encountered in divide\n",
      "  (g_lower * n_upper) / (g_upper * n_lower)\n",
      " (\u001b[1mwarnings.py\u001b[0m:109)\n"
     ]
    },
    {
     "name": "stdout",
     "output_type": "stream",
     "text": [
      "[\u001b[1mtardis.simulation.base\u001b[0m][\u001b[1;37mINFO\u001b[0m   ]  \n",
      "\t\n",
      "\tStarting iteration 7 of 20 (\u001b[1mbase.py\u001b[0m:382)\n"
     ]
    },
    {
     "name": "stdout",
     "output_type": "stream",
     "text": [
      "[\u001b[1mtardis.simulation.base\u001b[0m][\u001b[1;37mINFO\u001b[0m   ]  \n",
      "\t\n",
      "\tLuminosity emitted   = 1.061e+43 erg / s\n",
      "\tLuminosity absorbed  = 3.382e+42 erg / s\n",
      "\tLuminosity requested = 1.059e+43 erg / s\n",
      " (\u001b[1mbase.py\u001b[0m:557)\n"
     ]
    },
    {
     "name": "stdout",
     "output_type": "stream",
     "text": [
      "[\u001b[1mtardis.simulation.base\u001b[0m][\u001b[1;37mINFO\u001b[0m   ]  \n",
      "\tIteration converged 3/4 consecutive times. (\u001b[1mbase.py\u001b[0m:257)\n"
     ]
    },
    {
     "name": "stdout",
     "output_type": "stream",
     "text": [
      "[\u001b[1mtardis.simulation.base\u001b[0m][\u001b[1;37mINFO\u001b[0m   ]  \n",
      "\t\n",
      "\tPlasma stratification: (\u001b[1mbase.py\u001b[0m:525)\n"
     ]
    },
    {
     "data": {
      "text/html": [
       "<style type=\"text/css\">\n",
       "</style>\n",
       "<table id=\"T_c28b1\">\n",
       "  <thead>\n",
       "    <tr>\n",
       "      <th class=\"index_name level0\" >Shell No.</th>\n",
       "      <th id=\"T_c28b1_level0_col0\" class=\"col_heading level0 col0\" >t_rad</th>\n",
       "      <th id=\"T_c28b1_level0_col1\" class=\"col_heading level0 col1\" >next_t_rad</th>\n",
       "      <th id=\"T_c28b1_level0_col2\" class=\"col_heading level0 col2\" >w</th>\n",
       "      <th id=\"T_c28b1_level0_col3\" class=\"col_heading level0 col3\" >next_w</th>\n",
       "    </tr>\n",
       "  </thead>\n",
       "  <tbody>\n",
       "    <tr>\n",
       "      <th id=\"T_c28b1_level0_row0\" class=\"row_heading level0 row0\" >0</th>\n",
       "      <td id=\"T_c28b1_row0_col0\" class=\"data row0 col0\" >1.1e+04 K</td>\n",
       "      <td id=\"T_c28b1_row0_col1\" class=\"data row0 col1\" >1.1e+04 K</td>\n",
       "      <td id=\"T_c28b1_row0_col2\" class=\"data row0 col2\" >0.47</td>\n",
       "      <td id=\"T_c28b1_row0_col3\" class=\"data row0 col3\" >0.47</td>\n",
       "    </tr>\n",
       "    <tr>\n",
       "      <th id=\"T_c28b1_level0_row1\" class=\"row_heading level0 row1\" >5</th>\n",
       "      <td id=\"T_c28b1_row1_col0\" class=\"data row1 col0\" >1.12e+04 K</td>\n",
       "      <td id=\"T_c28b1_row1_col1\" class=\"data row1 col1\" >1.13e+04 K</td>\n",
       "      <td id=\"T_c28b1_row1_col2\" class=\"data row1 col2\" >0.185</td>\n",
       "      <td id=\"T_c28b1_row1_col3\" class=\"data row1 col3\" >0.178</td>\n",
       "    </tr>\n",
       "    <tr>\n",
       "      <th id=\"T_c28b1_level0_row2\" class=\"row_heading level0 row2\" >10</th>\n",
       "      <td id=\"T_c28b1_row2_col0\" class=\"data row2 col0\" >1.11e+04 K</td>\n",
       "      <td id=\"T_c28b1_row2_col1\" class=\"data row2 col1\" >1.11e+04 K</td>\n",
       "      <td id=\"T_c28b1_row2_col2\" class=\"data row2 col2\" >0.112</td>\n",
       "      <td id=\"T_c28b1_row2_col3\" class=\"data row2 col3\" >0.112</td>\n",
       "    </tr>\n",
       "    <tr>\n",
       "      <th id=\"T_c28b1_level0_row3\" class=\"row_heading level0 row3\" >15</th>\n",
       "      <td id=\"T_c28b1_row3_col0\" class=\"data row3 col0\" >1.07e+04 K</td>\n",
       "      <td id=\"T_c28b1_row3_col1\" class=\"data row3 col1\" >1.07e+04 K</td>\n",
       "      <td id=\"T_c28b1_row3_col2\" class=\"data row3 col2\" >0.0856</td>\n",
       "      <td id=\"T_c28b1_row3_col3\" class=\"data row3 col3\" >0.086</td>\n",
       "    </tr>\n",
       "  </tbody>\n",
       "</table>\n"
      ],
      "text/plain": [
       "<pandas.io.formats.style.Styler at 0x7f8473f23350>"
      ]
     },
     "metadata": {},
     "output_type": "display_data"
    },
    {
     "name": "stdout",
     "output_type": "stream",
     "text": [
      "[\u001b[1mtardis.simulation.base\u001b[0m][\u001b[1;37mINFO\u001b[0m   ]  \n",
      "\t\n",
      "\tCurrent t_inner = 10645.955 K\n",
      "\tExpected t_inner for next iteration = 10642.050 K\n",
      " (\u001b[1mbase.py\u001b[0m:552)\n"
     ]
    },
    {
     "name": "stdout",
     "output_type": "stream",
     "text": [
      "[\u001b[1mpy.warnings         \u001b[0m][\u001b[1;33mWARNING\u001b[0m]  \n",
      "\t/home/runner/work/tardis/tardis/tardis/plasma/properties/radiative_properties.py:93: RuntimeWarning: invalid value encountered in divide\n",
      "  (g_lower * n_upper) / (g_upper * n_lower)\n",
      " (\u001b[1mwarnings.py\u001b[0m:109)\n"
     ]
    },
    {
     "name": "stdout",
     "output_type": "stream",
     "text": [
      "[\u001b[1mtardis.simulation.base\u001b[0m][\u001b[1;37mINFO\u001b[0m   ]  \n",
      "\t\n",
      "\tStarting iteration 8 of 20 (\u001b[1mbase.py\u001b[0m:382)\n"
     ]
    },
    {
     "name": "stdout",
     "output_type": "stream",
     "text": [
      "[\u001b[1mtardis.simulation.base\u001b[0m][\u001b[1;37mINFO\u001b[0m   ]  \n",
      "\t\n",
      "\tLuminosity emitted   = 1.062e+43 erg / s\n",
      "\tLuminosity absorbed  = 3.350e+42 erg / s\n",
      "\tLuminosity requested = 1.059e+43 erg / s\n",
      " (\u001b[1mbase.py\u001b[0m:557)\n"
     ]
    },
    {
     "name": "stdout",
     "output_type": "stream",
     "text": [
      "[\u001b[1mtardis.simulation.base\u001b[0m][\u001b[1;37mINFO\u001b[0m   ]  \n",
      "\tIteration converged 4/4 consecutive times. (\u001b[1mbase.py\u001b[0m:257)\n"
     ]
    },
    {
     "name": "stdout",
     "output_type": "stream",
     "text": [
      "[\u001b[1mtardis.simulation.base\u001b[0m][\u001b[1;37mINFO\u001b[0m   ]  \n",
      "\t\n",
      "\tPlasma stratification: (\u001b[1mbase.py\u001b[0m:525)\n"
     ]
    },
    {
     "data": {
      "text/html": [
       "<style type=\"text/css\">\n",
       "</style>\n",
       "<table id=\"T_03788\">\n",
       "  <thead>\n",
       "    <tr>\n",
       "      <th class=\"index_name level0\" >Shell No.</th>\n",
       "      <th id=\"T_03788_level0_col0\" class=\"col_heading level0 col0\" >t_rad</th>\n",
       "      <th id=\"T_03788_level0_col1\" class=\"col_heading level0 col1\" >next_t_rad</th>\n",
       "      <th id=\"T_03788_level0_col2\" class=\"col_heading level0 col2\" >w</th>\n",
       "      <th id=\"T_03788_level0_col3\" class=\"col_heading level0 col3\" >next_w</th>\n",
       "    </tr>\n",
       "  </thead>\n",
       "  <tbody>\n",
       "    <tr>\n",
       "      <th id=\"T_03788_level0_row0\" class=\"row_heading level0 row0\" >0</th>\n",
       "      <td id=\"T_03788_row0_col0\" class=\"data row0 col0\" >1.1e+04 K</td>\n",
       "      <td id=\"T_03788_row0_col1\" class=\"data row0 col1\" >1.11e+04 K</td>\n",
       "      <td id=\"T_03788_row0_col2\" class=\"data row0 col2\" >0.47</td>\n",
       "      <td id=\"T_03788_row0_col3\" class=\"data row0 col3\" >0.472</td>\n",
       "    </tr>\n",
       "    <tr>\n",
       "      <th id=\"T_03788_level0_row1\" class=\"row_heading level0 row1\" >5</th>\n",
       "      <td id=\"T_03788_row1_col0\" class=\"data row1 col0\" >1.13e+04 K</td>\n",
       "      <td id=\"T_03788_row1_col1\" class=\"data row1 col1\" >1.14e+04 K</td>\n",
       "      <td id=\"T_03788_row1_col2\" class=\"data row1 col2\" >0.178</td>\n",
       "      <td id=\"T_03788_row1_col3\" class=\"data row1 col3\" >0.175</td>\n",
       "    </tr>\n",
       "    <tr>\n",
       "      <th id=\"T_03788_level0_row2\" class=\"row_heading level0 row2\" >10</th>\n",
       "      <td id=\"T_03788_row2_col0\" class=\"data row2 col0\" >1.11e+04 K</td>\n",
       "      <td id=\"T_03788_row2_col1\" class=\"data row2 col1\" >1.11e+04 K</td>\n",
       "      <td id=\"T_03788_row2_col2\" class=\"data row2 col2\" >0.112</td>\n",
       "      <td id=\"T_03788_row2_col3\" class=\"data row2 col3\" >0.111</td>\n",
       "    </tr>\n",
       "    <tr>\n",
       "      <th id=\"T_03788_level0_row3\" class=\"row_heading level0 row3\" >15</th>\n",
       "      <td id=\"T_03788_row3_col0\" class=\"data row3 col0\" >1.07e+04 K</td>\n",
       "      <td id=\"T_03788_row3_col1\" class=\"data row3 col1\" >1.07e+04 K</td>\n",
       "      <td id=\"T_03788_row3_col2\" class=\"data row3 col2\" >0.086</td>\n",
       "      <td id=\"T_03788_row3_col3\" class=\"data row3 col3\" >0.084</td>\n",
       "    </tr>\n",
       "  </tbody>\n",
       "</table>\n"
      ],
      "text/plain": [
       "<pandas.io.formats.style.Styler at 0x7f84718669d0>"
      ]
     },
     "metadata": {},
     "output_type": "display_data"
    },
    {
     "name": "stdout",
     "output_type": "stream",
     "text": [
      "[\u001b[1mtardis.simulation.base\u001b[0m][\u001b[1;37mINFO\u001b[0m   ]  \n",
      "\t\n",
      "\tCurrent t_inner = 10642.050 K\n",
      "\tExpected t_inner for next iteration = 10636.106 K\n",
      " (\u001b[1mbase.py\u001b[0m:552)\n"
     ]
    },
    {
     "name": "stdout",
     "output_type": "stream",
     "text": [
      "[\u001b[1mpy.warnings         \u001b[0m][\u001b[1;33mWARNING\u001b[0m]  \n",
      "\t/home/runner/work/tardis/tardis/tardis/plasma/properties/radiative_properties.py:93: RuntimeWarning: invalid value encountered in divide\n",
      "  (g_lower * n_upper) / (g_upper * n_lower)\n",
      " (\u001b[1mwarnings.py\u001b[0m:109)\n"
     ]
    },
    {
     "name": "stdout",
     "output_type": "stream",
     "text": [
      "[\u001b[1mtardis.simulation.base\u001b[0m][\u001b[1;37mINFO\u001b[0m   ]  \n",
      "\t\n",
      "\tStarting iteration 9 of 20 (\u001b[1mbase.py\u001b[0m:382)\n"
     ]
    },
    {
     "name": "stdout",
     "output_type": "stream",
     "text": [
      "[\u001b[1mtardis.simulation.base\u001b[0m][\u001b[1;37mINFO\u001b[0m   ]  \n",
      "\t\n",
      "\tLuminosity emitted   = 1.052e+43 erg / s\n",
      "\tLuminosity absorbed  = 3.411e+42 erg / s\n",
      "\tLuminosity requested = 1.059e+43 erg / s\n",
      " (\u001b[1mbase.py\u001b[0m:557)\n"
     ]
    },
    {
     "name": "stdout",
     "output_type": "stream",
     "text": [
      "[\u001b[1mtardis.simulation.base\u001b[0m][\u001b[1;37mINFO\u001b[0m   ]  \n",
      "\tIteration converged 5/4 consecutive times. (\u001b[1mbase.py\u001b[0m:257)\n"
     ]
    },
    {
     "name": "stdout",
     "output_type": "stream",
     "text": [
      "[\u001b[1mtardis.simulation.base\u001b[0m][\u001b[1;37mINFO\u001b[0m   ]  \n",
      "\t\n",
      "\tPlasma stratification: (\u001b[1mbase.py\u001b[0m:525)\n"
     ]
    },
    {
     "data": {
      "text/html": [
       "<style type=\"text/css\">\n",
       "</style>\n",
       "<table id=\"T_bd4a6\">\n",
       "  <thead>\n",
       "    <tr>\n",
       "      <th class=\"index_name level0\" >Shell No.</th>\n",
       "      <th id=\"T_bd4a6_level0_col0\" class=\"col_heading level0 col0\" >t_rad</th>\n",
       "      <th id=\"T_bd4a6_level0_col1\" class=\"col_heading level0 col1\" >next_t_rad</th>\n",
       "      <th id=\"T_bd4a6_level0_col2\" class=\"col_heading level0 col2\" >w</th>\n",
       "      <th id=\"T_bd4a6_level0_col3\" class=\"col_heading level0 col3\" >next_w</th>\n",
       "    </tr>\n",
       "  </thead>\n",
       "  <tbody>\n",
       "    <tr>\n",
       "      <th id=\"T_bd4a6_level0_row0\" class=\"row_heading level0 row0\" >0</th>\n",
       "      <td id=\"T_bd4a6_row0_col0\" class=\"data row0 col0\" >1.11e+04 K</td>\n",
       "      <td id=\"T_bd4a6_row0_col1\" class=\"data row0 col1\" >1.11e+04 K</td>\n",
       "      <td id=\"T_bd4a6_row0_col2\" class=\"data row0 col2\" >0.472</td>\n",
       "      <td id=\"T_bd4a6_row0_col3\" class=\"data row0 col3\" >0.469</td>\n",
       "    </tr>\n",
       "    <tr>\n",
       "      <th id=\"T_bd4a6_level0_row1\" class=\"row_heading level0 row1\" >5</th>\n",
       "      <td id=\"T_bd4a6_row1_col0\" class=\"data row1 col0\" >1.14e+04 K</td>\n",
       "      <td id=\"T_bd4a6_row1_col1\" class=\"data row1 col1\" >1.15e+04 K</td>\n",
       "      <td id=\"T_bd4a6_row1_col2\" class=\"data row1 col2\" >0.175</td>\n",
       "      <td id=\"T_bd4a6_row1_col3\" class=\"data row1 col3\" >0.17</td>\n",
       "    </tr>\n",
       "    <tr>\n",
       "      <th id=\"T_bd4a6_level0_row2\" class=\"row_heading level0 row2\" >10</th>\n",
       "      <td id=\"T_bd4a6_row2_col0\" class=\"data row2 col0\" >1.11e+04 K</td>\n",
       "      <td id=\"T_bd4a6_row2_col1\" class=\"data row2 col1\" >1.11e+04 K</td>\n",
       "      <td id=\"T_bd4a6_row2_col2\" class=\"data row2 col2\" >0.111</td>\n",
       "      <td id=\"T_bd4a6_row2_col3\" class=\"data row2 col3\" >0.109</td>\n",
       "    </tr>\n",
       "    <tr>\n",
       "      <th id=\"T_bd4a6_level0_row3\" class=\"row_heading level0 row3\" >15</th>\n",
       "      <td id=\"T_bd4a6_row3_col0\" class=\"data row3 col0\" >1.07e+04 K</td>\n",
       "      <td id=\"T_bd4a6_row3_col1\" class=\"data row3 col1\" >1.08e+04 K</td>\n",
       "      <td id=\"T_bd4a6_row3_col2\" class=\"data row3 col2\" >0.084</td>\n",
       "      <td id=\"T_bd4a6_row3_col3\" class=\"data row3 col3\" >0.0822</td>\n",
       "    </tr>\n",
       "  </tbody>\n",
       "</table>\n"
      ],
      "text/plain": [
       "<pandas.io.formats.style.Styler at 0x7f847189e590>"
      ]
     },
     "metadata": {},
     "output_type": "display_data"
    },
    {
     "name": "stdout",
     "output_type": "stream",
     "text": [
      "[\u001b[1mtardis.simulation.base\u001b[0m][\u001b[1;37mINFO\u001b[0m   ]  \n",
      "\t\n",
      "\tCurrent t_inner = 10636.106 K\n",
      "\tExpected t_inner for next iteration = 10654.313 K\n",
      " (\u001b[1mbase.py\u001b[0m:552)\n"
     ]
    },
    {
     "name": "stdout",
     "output_type": "stream",
     "text": [
      "[\u001b[1mpy.warnings         \u001b[0m][\u001b[1;33mWARNING\u001b[0m]  \n",
      "\t/home/runner/work/tardis/tardis/tardis/plasma/properties/radiative_properties.py:93: RuntimeWarning: invalid value encountered in divide\n",
      "  (g_lower * n_upper) / (g_upper * n_lower)\n",
      " (\u001b[1mwarnings.py\u001b[0m:109)\n"
     ]
    },
    {
     "name": "stdout",
     "output_type": "stream",
     "text": [
      "[\u001b[1mtardis.simulation.base\u001b[0m][\u001b[1;37mINFO\u001b[0m   ]  \n",
      "\t\n",
      "\tStarting iteration 10 of 20 (\u001b[1mbase.py\u001b[0m:382)\n"
     ]
    },
    {
     "name": "stdout",
     "output_type": "stream",
     "text": [
      "[\u001b[1mtardis.simulation.base\u001b[0m][\u001b[1;37mINFO\u001b[0m   ]  \n",
      "\t\n",
      "\tLuminosity emitted   = 1.070e+43 erg / s\n",
      "\tLuminosity absorbed  = 3.335e+42 erg / s\n",
      "\tLuminosity requested = 1.059e+43 erg / s\n",
      " (\u001b[1mbase.py\u001b[0m:557)\n"
     ]
    },
    {
     "name": "stdout",
     "output_type": "stream",
     "text": [
      "[\u001b[1mtardis.simulation.base\u001b[0m][\u001b[1;37mINFO\u001b[0m   ]  \n",
      "\t\n",
      "\tPlasma stratification: (\u001b[1mbase.py\u001b[0m:525)\n"
     ]
    },
    {
     "data": {
      "text/html": [
       "<style type=\"text/css\">\n",
       "</style>\n",
       "<table id=\"T_70c38\">\n",
       "  <thead>\n",
       "    <tr>\n",
       "      <th class=\"index_name level0\" >Shell No.</th>\n",
       "      <th id=\"T_70c38_level0_col0\" class=\"col_heading level0 col0\" >t_rad</th>\n",
       "      <th id=\"T_70c38_level0_col1\" class=\"col_heading level0 col1\" >next_t_rad</th>\n",
       "      <th id=\"T_70c38_level0_col2\" class=\"col_heading level0 col2\" >w</th>\n",
       "      <th id=\"T_70c38_level0_col3\" class=\"col_heading level0 col3\" >next_w</th>\n",
       "    </tr>\n",
       "  </thead>\n",
       "  <tbody>\n",
       "    <tr>\n",
       "      <th id=\"T_70c38_level0_row0\" class=\"row_heading level0 row0\" >0</th>\n",
       "      <td id=\"T_70c38_row0_col0\" class=\"data row0 col0\" >1.11e+04 K</td>\n",
       "      <td id=\"T_70c38_row0_col1\" class=\"data row0 col1\" >1.1e+04 K</td>\n",
       "      <td id=\"T_70c38_row0_col2\" class=\"data row0 col2\" >0.469</td>\n",
       "      <td id=\"T_70c38_row0_col3\" class=\"data row0 col3\" >0.475</td>\n",
       "    </tr>\n",
       "    <tr>\n",
       "      <th id=\"T_70c38_level0_row1\" class=\"row_heading level0 row1\" >5</th>\n",
       "      <td id=\"T_70c38_row1_col0\" class=\"data row1 col0\" >1.15e+04 K</td>\n",
       "      <td id=\"T_70c38_row1_col1\" class=\"data row1 col1\" >1.14e+04 K</td>\n",
       "      <td id=\"T_70c38_row1_col2\" class=\"data row1 col2\" >0.17</td>\n",
       "      <td id=\"T_70c38_row1_col3\" class=\"data row1 col3\" >0.177</td>\n",
       "    </tr>\n",
       "    <tr>\n",
       "      <th id=\"T_70c38_level0_row2\" class=\"row_heading level0 row2\" >10</th>\n",
       "      <td id=\"T_70c38_row2_col0\" class=\"data row2 col0\" >1.11e+04 K</td>\n",
       "      <td id=\"T_70c38_row2_col1\" class=\"data row2 col1\" >1.11e+04 K</td>\n",
       "      <td id=\"T_70c38_row2_col2\" class=\"data row2 col2\" >0.109</td>\n",
       "      <td id=\"T_70c38_row2_col3\" class=\"data row2 col3\" >0.112</td>\n",
       "    </tr>\n",
       "    <tr>\n",
       "      <th id=\"T_70c38_level0_row3\" class=\"row_heading level0 row3\" >15</th>\n",
       "      <td id=\"T_70c38_row3_col0\" class=\"data row3 col0\" >1.08e+04 K</td>\n",
       "      <td id=\"T_70c38_row3_col1\" class=\"data row3 col1\" >1.06e+04 K</td>\n",
       "      <td id=\"T_70c38_row3_col2\" class=\"data row3 col2\" >0.0822</td>\n",
       "      <td id=\"T_70c38_row3_col3\" class=\"data row3 col3\" >0.0878</td>\n",
       "    </tr>\n",
       "  </tbody>\n",
       "</table>\n"
      ],
      "text/plain": [
       "<pandas.io.formats.style.Styler at 0x7f8471898210>"
      ]
     },
     "metadata": {},
     "output_type": "display_data"
    },
    {
     "name": "stdout",
     "output_type": "stream",
     "text": [
      "[\u001b[1mtardis.simulation.base\u001b[0m][\u001b[1;37mINFO\u001b[0m   ]  \n",
      "\t\n",
      "\tCurrent t_inner = 10654.313 K\n",
      "\tExpected t_inner for next iteration = 10628.190 K\n",
      " (\u001b[1mbase.py\u001b[0m:552)\n"
     ]
    },
    {
     "name": "stdout",
     "output_type": "stream",
     "text": [
      "[\u001b[1mpy.warnings         \u001b[0m][\u001b[1;33mWARNING\u001b[0m]  \n",
      "\t/home/runner/work/tardis/tardis/tardis/plasma/properties/radiative_properties.py:93: RuntimeWarning: invalid value encountered in divide\n",
      "  (g_lower * n_upper) / (g_upper * n_lower)\n",
      " (\u001b[1mwarnings.py\u001b[0m:109)\n"
     ]
    },
    {
     "name": "stdout",
     "output_type": "stream",
     "text": [
      "[\u001b[1mtardis.simulation.base\u001b[0m][\u001b[1;37mINFO\u001b[0m   ]  \n",
      "\t\n",
      "\tStarting iteration 11 of 20 (\u001b[1mbase.py\u001b[0m:382)\n"
     ]
    },
    {
     "name": "stdout",
     "output_type": "stream",
     "text": [
      "[\u001b[1mtardis.simulation.base\u001b[0m][\u001b[1;37mINFO\u001b[0m   ]  \n",
      "\t\n",
      "\tLuminosity emitted   = 1.053e+43 erg / s\n",
      "\tLuminosity absorbed  = 3.363e+42 erg / s\n",
      "\tLuminosity requested = 1.059e+43 erg / s\n",
      " (\u001b[1mbase.py\u001b[0m:557)\n"
     ]
    },
    {
     "name": "stdout",
     "output_type": "stream",
     "text": [
      "[\u001b[1mtardis.simulation.base\u001b[0m][\u001b[1;37mINFO\u001b[0m   ]  \n",
      "\tIteration converged 1/4 consecutive times. (\u001b[1mbase.py\u001b[0m:257)\n"
     ]
    },
    {
     "name": "stdout",
     "output_type": "stream",
     "text": [
      "[\u001b[1mtardis.simulation.base\u001b[0m][\u001b[1;37mINFO\u001b[0m   ]  \n",
      "\t\n",
      "\tPlasma stratification: (\u001b[1mbase.py\u001b[0m:525)\n"
     ]
    },
    {
     "data": {
      "text/html": [
       "<style type=\"text/css\">\n",
       "</style>\n",
       "<table id=\"T_d9d90\">\n",
       "  <thead>\n",
       "    <tr>\n",
       "      <th class=\"index_name level0\" >Shell No.</th>\n",
       "      <th id=\"T_d9d90_level0_col0\" class=\"col_heading level0 col0\" >t_rad</th>\n",
       "      <th id=\"T_d9d90_level0_col1\" class=\"col_heading level0 col1\" >next_t_rad</th>\n",
       "      <th id=\"T_d9d90_level0_col2\" class=\"col_heading level0 col2\" >w</th>\n",
       "      <th id=\"T_d9d90_level0_col3\" class=\"col_heading level0 col3\" >next_w</th>\n",
       "    </tr>\n",
       "  </thead>\n",
       "  <tbody>\n",
       "    <tr>\n",
       "      <th id=\"T_d9d90_level0_row0\" class=\"row_heading level0 row0\" >0</th>\n",
       "      <td id=\"T_d9d90_row0_col0\" class=\"data row0 col0\" >1.1e+04 K</td>\n",
       "      <td id=\"T_d9d90_row0_col1\" class=\"data row0 col1\" >1.1e+04 K</td>\n",
       "      <td id=\"T_d9d90_row0_col2\" class=\"data row0 col2\" >0.475</td>\n",
       "      <td id=\"T_d9d90_row0_col3\" class=\"data row0 col3\" >0.472</td>\n",
       "    </tr>\n",
       "    <tr>\n",
       "      <th id=\"T_d9d90_level0_row1\" class=\"row_heading level0 row1\" >5</th>\n",
       "      <td id=\"T_d9d90_row1_col0\" class=\"data row1 col0\" >1.14e+04 K</td>\n",
       "      <td id=\"T_d9d90_row1_col1\" class=\"data row1 col1\" >1.12e+04 K</td>\n",
       "      <td id=\"T_d9d90_row1_col2\" class=\"data row1 col2\" >0.177</td>\n",
       "      <td id=\"T_d9d90_row1_col3\" class=\"data row1 col3\" >0.184</td>\n",
       "    </tr>\n",
       "    <tr>\n",
       "      <th id=\"T_d9d90_level0_row2\" class=\"row_heading level0 row2\" >10</th>\n",
       "      <td id=\"T_d9d90_row2_col0\" class=\"data row2 col0\" >1.11e+04 K</td>\n",
       "      <td id=\"T_d9d90_row2_col1\" class=\"data row2 col1\" >1.1e+04 K</td>\n",
       "      <td id=\"T_d9d90_row2_col2\" class=\"data row2 col2\" >0.112</td>\n",
       "      <td id=\"T_d9d90_row2_col3\" class=\"data row2 col3\" >0.114</td>\n",
       "    </tr>\n",
       "    <tr>\n",
       "      <th id=\"T_d9d90_level0_row3\" class=\"row_heading level0 row3\" >15</th>\n",
       "      <td id=\"T_d9d90_row3_col0\" class=\"data row3 col0\" >1.06e+04 K</td>\n",
       "      <td id=\"T_d9d90_row3_col1\" class=\"data row3 col1\" >1.06e+04 K</td>\n",
       "      <td id=\"T_d9d90_row3_col2\" class=\"data row3 col2\" >0.0878</td>\n",
       "      <td id=\"T_d9d90_row3_col3\" class=\"data row3 col3\" >0.0859</td>\n",
       "    </tr>\n",
       "  </tbody>\n",
       "</table>\n"
      ],
      "text/plain": [
       "<pandas.io.formats.style.Styler at 0x7f8473f23350>"
      ]
     },
     "metadata": {},
     "output_type": "display_data"
    },
    {
     "name": "stdout",
     "output_type": "stream",
     "text": [
      "[\u001b[1mtardis.simulation.base\u001b[0m][\u001b[1;37mINFO\u001b[0m   ]  \n",
      "\t\n",
      "\tCurrent t_inner = 10628.190 K\n",
      "\tExpected t_inner for next iteration = 10644.054 K\n",
      " (\u001b[1mbase.py\u001b[0m:552)\n"
     ]
    },
    {
     "name": "stdout",
     "output_type": "stream",
     "text": [
      "[\u001b[1mpy.warnings         \u001b[0m][\u001b[1;33mWARNING\u001b[0m]  \n",
      "\t/home/runner/work/tardis/tardis/tardis/plasma/properties/radiative_properties.py:93: RuntimeWarning: invalid value encountered in divide\n",
      "  (g_lower * n_upper) / (g_upper * n_lower)\n",
      " (\u001b[1mwarnings.py\u001b[0m:109)\n"
     ]
    },
    {
     "name": "stdout",
     "output_type": "stream",
     "text": [
      "[\u001b[1mtardis.simulation.base\u001b[0m][\u001b[1;37mINFO\u001b[0m   ]  \n",
      "\t\n",
      "\tStarting iteration 12 of 20 (\u001b[1mbase.py\u001b[0m:382)\n"
     ]
    },
    {
     "name": "stdout",
     "output_type": "stream",
     "text": [
      "[\u001b[1mtardis.simulation.base\u001b[0m][\u001b[1;37mINFO\u001b[0m   ]  \n",
      "\t\n",
      "\tLuminosity emitted   = 1.056e+43 erg / s\n",
      "\tLuminosity absorbed  = 3.420e+42 erg / s\n",
      "\tLuminosity requested = 1.059e+43 erg / s\n",
      " (\u001b[1mbase.py\u001b[0m:557)\n"
     ]
    },
    {
     "name": "stdout",
     "output_type": "stream",
     "text": [
      "[\u001b[1mtardis.simulation.base\u001b[0m][\u001b[1;37mINFO\u001b[0m   ]  \n",
      "\t\n",
      "\tPlasma stratification: (\u001b[1mbase.py\u001b[0m:525)\n"
     ]
    },
    {
     "data": {
      "text/html": [
       "<style type=\"text/css\">\n",
       "</style>\n",
       "<table id=\"T_3e683\">\n",
       "  <thead>\n",
       "    <tr>\n",
       "      <th class=\"index_name level0\" >Shell No.</th>\n",
       "      <th id=\"T_3e683_level0_col0\" class=\"col_heading level0 col0\" >t_rad</th>\n",
       "      <th id=\"T_3e683_level0_col1\" class=\"col_heading level0 col1\" >next_t_rad</th>\n",
       "      <th id=\"T_3e683_level0_col2\" class=\"col_heading level0 col2\" >w</th>\n",
       "      <th id=\"T_3e683_level0_col3\" class=\"col_heading level0 col3\" >next_w</th>\n",
       "    </tr>\n",
       "  </thead>\n",
       "  <tbody>\n",
       "    <tr>\n",
       "      <th id=\"T_3e683_level0_row0\" class=\"row_heading level0 row0\" >0</th>\n",
       "      <td id=\"T_3e683_row0_col0\" class=\"data row0 col0\" >1.1e+04 K</td>\n",
       "      <td id=\"T_3e683_row0_col1\" class=\"data row0 col1\" >1.11e+04 K</td>\n",
       "      <td id=\"T_3e683_row0_col2\" class=\"data row0 col2\" >0.472</td>\n",
       "      <td id=\"T_3e683_row0_col3\" class=\"data row0 col3\" >0.467</td>\n",
       "    </tr>\n",
       "    <tr>\n",
       "      <th id=\"T_3e683_level0_row1\" class=\"row_heading level0 row1\" >5</th>\n",
       "      <td id=\"T_3e683_row1_col0\" class=\"data row1 col0\" >1.12e+04 K</td>\n",
       "      <td id=\"T_3e683_row1_col1\" class=\"data row1 col1\" >1.13e+04 K</td>\n",
       "      <td id=\"T_3e683_row1_col2\" class=\"data row1 col2\" >0.184</td>\n",
       "      <td id=\"T_3e683_row1_col3\" class=\"data row1 col3\" >0.176</td>\n",
       "    </tr>\n",
       "    <tr>\n",
       "      <th id=\"T_3e683_level0_row2\" class=\"row_heading level0 row2\" >10</th>\n",
       "      <td id=\"T_3e683_row2_col0\" class=\"data row2 col0\" >1.1e+04 K</td>\n",
       "      <td id=\"T_3e683_row2_col1\" class=\"data row2 col1\" >1.11e+04 K</td>\n",
       "      <td id=\"T_3e683_row2_col2\" class=\"data row2 col2\" >0.114</td>\n",
       "      <td id=\"T_3e683_row2_col3\" class=\"data row2 col3\" >0.11</td>\n",
       "    </tr>\n",
       "    <tr>\n",
       "      <th id=\"T_3e683_level0_row3\" class=\"row_heading level0 row3\" >15</th>\n",
       "      <td id=\"T_3e683_row3_col0\" class=\"data row3 col0\" >1.06e+04 K</td>\n",
       "      <td id=\"T_3e683_row3_col1\" class=\"data row3 col1\" >1.08e+04 K</td>\n",
       "      <td id=\"T_3e683_row3_col2\" class=\"data row3 col2\" >0.0859</td>\n",
       "      <td id=\"T_3e683_row3_col3\" class=\"data row3 col3\" >0.0821</td>\n",
       "    </tr>\n",
       "  </tbody>\n",
       "</table>\n"
      ],
      "text/plain": [
       "<pandas.io.formats.style.Styler at 0x7f847189da50>"
      ]
     },
     "metadata": {},
     "output_type": "display_data"
    },
    {
     "name": "stdout",
     "output_type": "stream",
     "text": [
      "[\u001b[1mtardis.simulation.base\u001b[0m][\u001b[1;37mINFO\u001b[0m   ]  \n",
      "\t\n",
      "\tCurrent t_inner = 10644.054 K\n",
      "\tExpected t_inner for next iteration = 10653.543 K\n",
      " (\u001b[1mbase.py\u001b[0m:552)\n"
     ]
    },
    {
     "name": "stdout",
     "output_type": "stream",
     "text": [
      "[\u001b[1mpy.warnings         \u001b[0m][\u001b[1;33mWARNING\u001b[0m]  \n",
      "\t/home/runner/work/tardis/tardis/tardis/plasma/properties/radiative_properties.py:93: RuntimeWarning: invalid value encountered in divide\n",
      "  (g_lower * n_upper) / (g_upper * n_lower)\n",
      " (\u001b[1mwarnings.py\u001b[0m:109)\n"
     ]
    },
    {
     "name": "stdout",
     "output_type": "stream",
     "text": [
      "[\u001b[1mtardis.simulation.base\u001b[0m][\u001b[1;37mINFO\u001b[0m   ]  \n",
      "\t\n",
      "\tStarting iteration 13 of 20 (\u001b[1mbase.py\u001b[0m:382)\n"
     ]
    },
    {
     "name": "stdout",
     "output_type": "stream",
     "text": [
      "[\u001b[1mtardis.simulation.base\u001b[0m][\u001b[1;37mINFO\u001b[0m   ]  \n",
      "\t\n",
      "\tLuminosity emitted   = 1.062e+43 erg / s\n",
      "\tLuminosity absorbed  = 3.406e+42 erg / s\n",
      "\tLuminosity requested = 1.059e+43 erg / s\n",
      " (\u001b[1mbase.py\u001b[0m:557)\n"
     ]
    },
    {
     "name": "stdout",
     "output_type": "stream",
     "text": [
      "[\u001b[1mtardis.simulation.base\u001b[0m][\u001b[1;37mINFO\u001b[0m   ]  \n",
      "\tIteration converged 1/4 consecutive times. (\u001b[1mbase.py\u001b[0m:257)\n"
     ]
    },
    {
     "name": "stdout",
     "output_type": "stream",
     "text": [
      "[\u001b[1mtardis.simulation.base\u001b[0m][\u001b[1;37mINFO\u001b[0m   ]  \n",
      "\t\n",
      "\tPlasma stratification: (\u001b[1mbase.py\u001b[0m:525)\n"
     ]
    },
    {
     "data": {
      "text/html": [
       "<style type=\"text/css\">\n",
       "</style>\n",
       "<table id=\"T_0c02f\">\n",
       "  <thead>\n",
       "    <tr>\n",
       "      <th class=\"index_name level0\" >Shell No.</th>\n",
       "      <th id=\"T_0c02f_level0_col0\" class=\"col_heading level0 col0\" >t_rad</th>\n",
       "      <th id=\"T_0c02f_level0_col1\" class=\"col_heading level0 col1\" >next_t_rad</th>\n",
       "      <th id=\"T_0c02f_level0_col2\" class=\"col_heading level0 col2\" >w</th>\n",
       "      <th id=\"T_0c02f_level0_col3\" class=\"col_heading level0 col3\" >next_w</th>\n",
       "    </tr>\n",
       "  </thead>\n",
       "  <tbody>\n",
       "    <tr>\n",
       "      <th id=\"T_0c02f_level0_row0\" class=\"row_heading level0 row0\" >0</th>\n",
       "      <td id=\"T_0c02f_row0_col0\" class=\"data row0 col0\" >1.11e+04 K</td>\n",
       "      <td id=\"T_0c02f_row0_col1\" class=\"data row0 col1\" >1.11e+04 K</td>\n",
       "      <td id=\"T_0c02f_row0_col2\" class=\"data row0 col2\" >0.467</td>\n",
       "      <td id=\"T_0c02f_row0_col3\" class=\"data row0 col3\" >0.466</td>\n",
       "    </tr>\n",
       "    <tr>\n",
       "      <th id=\"T_0c02f_level0_row1\" class=\"row_heading level0 row1\" >5</th>\n",
       "      <td id=\"T_0c02f_row1_col0\" class=\"data row1 col0\" >1.13e+04 K</td>\n",
       "      <td id=\"T_0c02f_row1_col1\" class=\"data row1 col1\" >1.13e+04 K</td>\n",
       "      <td id=\"T_0c02f_row1_col2\" class=\"data row1 col2\" >0.176</td>\n",
       "      <td id=\"T_0c02f_row1_col3\" class=\"data row1 col3\" >0.18</td>\n",
       "    </tr>\n",
       "    <tr>\n",
       "      <th id=\"T_0c02f_level0_row2\" class=\"row_heading level0 row2\" >10</th>\n",
       "      <td id=\"T_0c02f_row2_col0\" class=\"data row2 col0\" >1.11e+04 K</td>\n",
       "      <td id=\"T_0c02f_row2_col1\" class=\"data row2 col1\" >1.11e+04 K</td>\n",
       "      <td id=\"T_0c02f_row2_col2\" class=\"data row2 col2\" >0.11</td>\n",
       "      <td id=\"T_0c02f_row2_col3\" class=\"data row2 col3\" >0.111</td>\n",
       "    </tr>\n",
       "    <tr>\n",
       "      <th id=\"T_0c02f_level0_row3\" class=\"row_heading level0 row3\" >15</th>\n",
       "      <td id=\"T_0c02f_row3_col0\" class=\"data row3 col0\" >1.08e+04 K</td>\n",
       "      <td id=\"T_0c02f_row3_col1\" class=\"data row3 col1\" >1.08e+04 K</td>\n",
       "      <td id=\"T_0c02f_row3_col2\" class=\"data row3 col2\" >0.0821</td>\n",
       "      <td id=\"T_0c02f_row3_col3\" class=\"data row3 col3\" >0.0841</td>\n",
       "    </tr>\n",
       "  </tbody>\n",
       "</table>\n"
      ],
      "text/plain": [
       "<pandas.io.formats.style.Styler at 0x7f847189da50>"
      ]
     },
     "metadata": {},
     "output_type": "display_data"
    },
    {
     "name": "stdout",
     "output_type": "stream",
     "text": [
      "[\u001b[1mtardis.simulation.base\u001b[0m][\u001b[1;37mINFO\u001b[0m   ]  \n",
      "\t\n",
      "\tCurrent t_inner = 10653.543 K\n",
      "\tExpected t_inner for next iteration = 10647.277 K\n",
      " (\u001b[1mbase.py\u001b[0m:552)\n"
     ]
    },
    {
     "name": "stdout",
     "output_type": "stream",
     "text": [
      "[\u001b[1mpy.warnings         \u001b[0m][\u001b[1;33mWARNING\u001b[0m]  \n",
      "\t/home/runner/work/tardis/tardis/tardis/plasma/properties/radiative_properties.py:93: RuntimeWarning: invalid value encountered in divide\n",
      "  (g_lower * n_upper) / (g_upper * n_lower)\n",
      " (\u001b[1mwarnings.py\u001b[0m:109)\n"
     ]
    },
    {
     "name": "stdout",
     "output_type": "stream",
     "text": [
      "[\u001b[1mtardis.simulation.base\u001b[0m][\u001b[1;37mINFO\u001b[0m   ]  \n",
      "\t\n",
      "\tStarting iteration 14 of 20 (\u001b[1mbase.py\u001b[0m:382)\n"
     ]
    },
    {
     "name": "stdout",
     "output_type": "stream",
     "text": [
      "[\u001b[1mtardis.simulation.base\u001b[0m][\u001b[1;37mINFO\u001b[0m   ]  \n",
      "\t\n",
      "\tLuminosity emitted   = 1.063e+43 erg / s\n",
      "\tLuminosity absorbed  = 3.369e+42 erg / s\n",
      "\tLuminosity requested = 1.059e+43 erg / s\n",
      " (\u001b[1mbase.py\u001b[0m:557)\n"
     ]
    },
    {
     "name": "stdout",
     "output_type": "stream",
     "text": [
      "[\u001b[1mtardis.simulation.base\u001b[0m][\u001b[1;37mINFO\u001b[0m   ]  \n",
      "\tIteration converged 2/4 consecutive times. (\u001b[1mbase.py\u001b[0m:257)\n"
     ]
    },
    {
     "name": "stdout",
     "output_type": "stream",
     "text": [
      "[\u001b[1mtardis.simulation.base\u001b[0m][\u001b[1;37mINFO\u001b[0m   ]  \n",
      "\t\n",
      "\tPlasma stratification: (\u001b[1mbase.py\u001b[0m:525)\n"
     ]
    },
    {
     "data": {
      "text/html": [
       "<style type=\"text/css\">\n",
       "</style>\n",
       "<table id=\"T_c7166\">\n",
       "  <thead>\n",
       "    <tr>\n",
       "      <th class=\"index_name level0\" >Shell No.</th>\n",
       "      <th id=\"T_c7166_level0_col0\" class=\"col_heading level0 col0\" >t_rad</th>\n",
       "      <th id=\"T_c7166_level0_col1\" class=\"col_heading level0 col1\" >next_t_rad</th>\n",
       "      <th id=\"T_c7166_level0_col2\" class=\"col_heading level0 col2\" >w</th>\n",
       "      <th id=\"T_c7166_level0_col3\" class=\"col_heading level0 col3\" >next_w</th>\n",
       "    </tr>\n",
       "  </thead>\n",
       "  <tbody>\n",
       "    <tr>\n",
       "      <th id=\"T_c7166_level0_row0\" class=\"row_heading level0 row0\" >0</th>\n",
       "      <td id=\"T_c7166_row0_col0\" class=\"data row0 col0\" >1.11e+04 K</td>\n",
       "      <td id=\"T_c7166_row0_col1\" class=\"data row0 col1\" >1.11e+04 K</td>\n",
       "      <td id=\"T_c7166_row0_col2\" class=\"data row0 col2\" >0.466</td>\n",
       "      <td id=\"T_c7166_row0_col3\" class=\"data row0 col3\" >0.469</td>\n",
       "    </tr>\n",
       "    <tr>\n",
       "      <th id=\"T_c7166_level0_row1\" class=\"row_heading level0 row1\" >5</th>\n",
       "      <td id=\"T_c7166_row1_col0\" class=\"data row1 col0\" >1.13e+04 K</td>\n",
       "      <td id=\"T_c7166_row1_col1\" class=\"data row1 col1\" >1.13e+04 K</td>\n",
       "      <td id=\"T_c7166_row1_col2\" class=\"data row1 col2\" >0.18</td>\n",
       "      <td id=\"T_c7166_row1_col3\" class=\"data row1 col3\" >0.182</td>\n",
       "    </tr>\n",
       "    <tr>\n",
       "      <th id=\"T_c7166_level0_row2\" class=\"row_heading level0 row2\" >10</th>\n",
       "      <td id=\"T_c7166_row2_col0\" class=\"data row2 col0\" >1.11e+04 K</td>\n",
       "      <td id=\"T_c7166_row2_col1\" class=\"data row2 col1\" >1.1e+04 K</td>\n",
       "      <td id=\"T_c7166_row2_col2\" class=\"data row2 col2\" >0.111</td>\n",
       "      <td id=\"T_c7166_row2_col3\" class=\"data row2 col3\" >0.113</td>\n",
       "    </tr>\n",
       "    <tr>\n",
       "      <th id=\"T_c7166_level0_row3\" class=\"row_heading level0 row3\" >15</th>\n",
       "      <td id=\"T_c7166_row3_col0\" class=\"data row3 col0\" >1.08e+04 K</td>\n",
       "      <td id=\"T_c7166_row3_col1\" class=\"data row3 col1\" >1.07e+04 K</td>\n",
       "      <td id=\"T_c7166_row3_col2\" class=\"data row3 col2\" >0.0841</td>\n",
       "      <td id=\"T_c7166_row3_col3\" class=\"data row3 col3\" >0.0854</td>\n",
       "    </tr>\n",
       "  </tbody>\n",
       "</table>\n"
      ],
      "text/plain": [
       "<pandas.io.formats.style.Styler at 0x7f8471898050>"
      ]
     },
     "metadata": {},
     "output_type": "display_data"
    },
    {
     "name": "stdout",
     "output_type": "stream",
     "text": [
      "[\u001b[1mtardis.simulation.base\u001b[0m][\u001b[1;37mINFO\u001b[0m   ]  \n",
      "\t\n",
      "\tCurrent t_inner = 10647.277 K\n",
      "\tExpected t_inner for next iteration = 10638.875 K\n",
      " (\u001b[1mbase.py\u001b[0m:552)\n"
     ]
    },
    {
     "name": "stdout",
     "output_type": "stream",
     "text": [
      "[\u001b[1mpy.warnings         \u001b[0m][\u001b[1;33mWARNING\u001b[0m]  \n",
      "\t/home/runner/work/tardis/tardis/tardis/plasma/properties/radiative_properties.py:93: RuntimeWarning: invalid value encountered in divide\n",
      "  (g_lower * n_upper) / (g_upper * n_lower)\n",
      " (\u001b[1mwarnings.py\u001b[0m:109)\n"
     ]
    },
    {
     "name": "stdout",
     "output_type": "stream",
     "text": [
      "[\u001b[1mtardis.simulation.base\u001b[0m][\u001b[1;37mINFO\u001b[0m   ]  \n",
      "\t\n",
      "\tStarting iteration 15 of 20 (\u001b[1mbase.py\u001b[0m:382)\n"
     ]
    },
    {
     "name": "stdout",
     "output_type": "stream",
     "text": [
      "[\u001b[1mtardis.simulation.base\u001b[0m][\u001b[1;37mINFO\u001b[0m   ]  \n",
      "\t\n",
      "\tLuminosity emitted   = 1.053e+43 erg / s\n",
      "\tLuminosity absorbed  = 3.417e+42 erg / s\n",
      "\tLuminosity requested = 1.059e+43 erg / s\n",
      " (\u001b[1mbase.py\u001b[0m:557)\n"
     ]
    },
    {
     "name": "stdout",
     "output_type": "stream",
     "text": [
      "[\u001b[1mtardis.simulation.base\u001b[0m][\u001b[1;37mINFO\u001b[0m   ]  \n",
      "\tIteration converged 3/4 consecutive times. (\u001b[1mbase.py\u001b[0m:257)\n"
     ]
    },
    {
     "name": "stdout",
     "output_type": "stream",
     "text": [
      "[\u001b[1mtardis.simulation.base\u001b[0m][\u001b[1;37mINFO\u001b[0m   ]  \n",
      "\t\n",
      "\tPlasma stratification: (\u001b[1mbase.py\u001b[0m:525)\n"
     ]
    },
    {
     "data": {
      "text/html": [
       "<style type=\"text/css\">\n",
       "</style>\n",
       "<table id=\"T_200c2\">\n",
       "  <thead>\n",
       "    <tr>\n",
       "      <th class=\"index_name level0\" >Shell No.</th>\n",
       "      <th id=\"T_200c2_level0_col0\" class=\"col_heading level0 col0\" >t_rad</th>\n",
       "      <th id=\"T_200c2_level0_col1\" class=\"col_heading level0 col1\" >next_t_rad</th>\n",
       "      <th id=\"T_200c2_level0_col2\" class=\"col_heading level0 col2\" >w</th>\n",
       "      <th id=\"T_200c2_level0_col3\" class=\"col_heading level0 col3\" >next_w</th>\n",
       "    </tr>\n",
       "  </thead>\n",
       "  <tbody>\n",
       "    <tr>\n",
       "      <th id=\"T_200c2_level0_row0\" class=\"row_heading level0 row0\" >0</th>\n",
       "      <td id=\"T_200c2_row0_col0\" class=\"data row0 col0\" >1.11e+04 K</td>\n",
       "      <td id=\"T_200c2_row0_col1\" class=\"data row0 col1\" >1.1e+04 K</td>\n",
       "      <td id=\"T_200c2_row0_col2\" class=\"data row0 col2\" >0.469</td>\n",
       "      <td id=\"T_200c2_row0_col3\" class=\"data row0 col3\" >0.484</td>\n",
       "    </tr>\n",
       "    <tr>\n",
       "      <th id=\"T_200c2_level0_row1\" class=\"row_heading level0 row1\" >5</th>\n",
       "      <td id=\"T_200c2_row1_col0\" class=\"data row1 col0\" >1.13e+04 K</td>\n",
       "      <td id=\"T_200c2_row1_col1\" class=\"data row1 col1\" >1.13e+04 K</td>\n",
       "      <td id=\"T_200c2_row1_col2\" class=\"data row1 col2\" >0.182</td>\n",
       "      <td id=\"T_200c2_row1_col3\" class=\"data row1 col3\" >0.181</td>\n",
       "    </tr>\n",
       "    <tr>\n",
       "      <th id=\"T_200c2_level0_row2\" class=\"row_heading level0 row2\" >10</th>\n",
       "      <td id=\"T_200c2_row2_col0\" class=\"data row2 col0\" >1.1e+04 K</td>\n",
       "      <td id=\"T_200c2_row2_col1\" class=\"data row2 col1\" >1.1e+04 K</td>\n",
       "      <td id=\"T_200c2_row2_col2\" class=\"data row2 col2\" >0.113</td>\n",
       "      <td id=\"T_200c2_row2_col3\" class=\"data row2 col3\" >0.113</td>\n",
       "    </tr>\n",
       "    <tr>\n",
       "      <th id=\"T_200c2_level0_row3\" class=\"row_heading level0 row3\" >15</th>\n",
       "      <td id=\"T_200c2_row3_col0\" class=\"data row3 col0\" >1.07e+04 K</td>\n",
       "      <td id=\"T_200c2_row3_col1\" class=\"data row3 col1\" >1.07e+04 K</td>\n",
       "      <td id=\"T_200c2_row3_col2\" class=\"data row3 col2\" >0.0854</td>\n",
       "      <td id=\"T_200c2_row3_col3\" class=\"data row3 col3\" >0.0858</td>\n",
       "    </tr>\n",
       "  </tbody>\n",
       "</table>\n"
      ],
      "text/plain": [
       "<pandas.io.formats.style.Styler at 0x7f847189f090>"
      ]
     },
     "metadata": {},
     "output_type": "display_data"
    },
    {
     "name": "stdout",
     "output_type": "stream",
     "text": [
      "[\u001b[1mtardis.simulation.base\u001b[0m][\u001b[1;37mINFO\u001b[0m   ]  \n",
      "\t\n",
      "\tCurrent t_inner = 10638.875 K\n",
      "\tExpected t_inner for next iteration = 10655.125 K\n",
      " (\u001b[1mbase.py\u001b[0m:552)\n"
     ]
    },
    {
     "name": "stdout",
     "output_type": "stream",
     "text": [
      "[\u001b[1mpy.warnings         \u001b[0m][\u001b[1;33mWARNING\u001b[0m]  \n",
      "\t/home/runner/work/tardis/tardis/tardis/plasma/properties/radiative_properties.py:93: RuntimeWarning: invalid value encountered in divide\n",
      "  (g_lower * n_upper) / (g_upper * n_lower)\n",
      " (\u001b[1mwarnings.py\u001b[0m:109)\n"
     ]
    },
    {
     "name": "stdout",
     "output_type": "stream",
     "text": [
      "[\u001b[1mtardis.simulation.base\u001b[0m][\u001b[1;37mINFO\u001b[0m   ]  \n",
      "\t\n",
      "\tStarting iteration 16 of 20 (\u001b[1mbase.py\u001b[0m:382)\n"
     ]
    },
    {
     "name": "stdout",
     "output_type": "stream",
     "text": [
      "[\u001b[1mtardis.simulation.base\u001b[0m][\u001b[1;37mINFO\u001b[0m   ]  \n",
      "\t\n",
      "\tLuminosity emitted   = 1.059e+43 erg / s\n",
      "\tLuminosity absorbed  = 3.445e+42 erg / s\n",
      "\tLuminosity requested = 1.059e+43 erg / s\n",
      " (\u001b[1mbase.py\u001b[0m:557)\n"
     ]
    },
    {
     "name": "stdout",
     "output_type": "stream",
     "text": [
      "[\u001b[1mtardis.simulation.base\u001b[0m][\u001b[1;37mINFO\u001b[0m   ]  \n",
      "\tIteration converged 4/4 consecutive times. (\u001b[1mbase.py\u001b[0m:257)\n"
     ]
    },
    {
     "name": "stdout",
     "output_type": "stream",
     "text": [
      "[\u001b[1mtardis.simulation.base\u001b[0m][\u001b[1;37mINFO\u001b[0m   ]  \n",
      "\t\n",
      "\tPlasma stratification: (\u001b[1mbase.py\u001b[0m:525)\n"
     ]
    },
    {
     "data": {
      "text/html": [
       "<style type=\"text/css\">\n",
       "</style>\n",
       "<table id=\"T_13774\">\n",
       "  <thead>\n",
       "    <tr>\n",
       "      <th class=\"index_name level0\" >Shell No.</th>\n",
       "      <th id=\"T_13774_level0_col0\" class=\"col_heading level0 col0\" >t_rad</th>\n",
       "      <th id=\"T_13774_level0_col1\" class=\"col_heading level0 col1\" >next_t_rad</th>\n",
       "      <th id=\"T_13774_level0_col2\" class=\"col_heading level0 col2\" >w</th>\n",
       "      <th id=\"T_13774_level0_col3\" class=\"col_heading level0 col3\" >next_w</th>\n",
       "    </tr>\n",
       "  </thead>\n",
       "  <tbody>\n",
       "    <tr>\n",
       "      <th id=\"T_13774_level0_row0\" class=\"row_heading level0 row0\" >0</th>\n",
       "      <td id=\"T_13774_row0_col0\" class=\"data row0 col0\" >1.1e+04 K</td>\n",
       "      <td id=\"T_13774_row0_col1\" class=\"data row0 col1\" >1.1e+04 K</td>\n",
       "      <td id=\"T_13774_row0_col2\" class=\"data row0 col2\" >0.484</td>\n",
       "      <td id=\"T_13774_row0_col3\" class=\"data row0 col3\" >0.472</td>\n",
       "    </tr>\n",
       "    <tr>\n",
       "      <th id=\"T_13774_level0_row1\" class=\"row_heading level0 row1\" >5</th>\n",
       "      <td id=\"T_13774_row1_col0\" class=\"data row1 col0\" >1.13e+04 K</td>\n",
       "      <td id=\"T_13774_row1_col1\" class=\"data row1 col1\" >1.13e+04 K</td>\n",
       "      <td id=\"T_13774_row1_col2\" class=\"data row1 col2\" >0.181</td>\n",
       "      <td id=\"T_13774_row1_col3\" class=\"data row1 col3\" >0.177</td>\n",
       "    </tr>\n",
       "    <tr>\n",
       "      <th id=\"T_13774_level0_row2\" class=\"row_heading level0 row2\" >10</th>\n",
       "      <td id=\"T_13774_row2_col0\" class=\"data row2 col0\" >1.1e+04 K</td>\n",
       "      <td id=\"T_13774_row2_col1\" class=\"data row2 col1\" >1.1e+04 K</td>\n",
       "      <td id=\"T_13774_row2_col2\" class=\"data row2 col2\" >0.113</td>\n",
       "      <td id=\"T_13774_row2_col3\" class=\"data row2 col3\" >0.113</td>\n",
       "    </tr>\n",
       "    <tr>\n",
       "      <th id=\"T_13774_level0_row3\" class=\"row_heading level0 row3\" >15</th>\n",
       "      <td id=\"T_13774_row3_col0\" class=\"data row3 col0\" >1.07e+04 K</td>\n",
       "      <td id=\"T_13774_row3_col1\" class=\"data row3 col1\" >1.06e+04 K</td>\n",
       "      <td id=\"T_13774_row3_col2\" class=\"data row3 col2\" >0.0858</td>\n",
       "      <td id=\"T_13774_row3_col3\" class=\"data row3 col3\" >0.0858</td>\n",
       "    </tr>\n",
       "  </tbody>\n",
       "</table>\n"
      ],
      "text/plain": [
       "<pandas.io.formats.style.Styler at 0x7f847189da50>"
      ]
     },
     "metadata": {},
     "output_type": "display_data"
    },
    {
     "name": "stdout",
     "output_type": "stream",
     "text": [
      "[\u001b[1mtardis.simulation.base\u001b[0m][\u001b[1;37mINFO\u001b[0m   ]  \n",
      "\t\n",
      "\tCurrent t_inner = 10655.125 K\n",
      "\tExpected t_inner for next iteration = 10655.561 K\n",
      " (\u001b[1mbase.py\u001b[0m:552)\n"
     ]
    },
    {
     "name": "stdout",
     "output_type": "stream",
     "text": [
      "[\u001b[1mpy.warnings         \u001b[0m][\u001b[1;33mWARNING\u001b[0m]  \n",
      "\t/home/runner/work/tardis/tardis/tardis/plasma/properties/radiative_properties.py:93: RuntimeWarning: invalid value encountered in divide\n",
      "  (g_lower * n_upper) / (g_upper * n_lower)\n",
      " (\u001b[1mwarnings.py\u001b[0m:109)\n"
     ]
    },
    {
     "name": "stdout",
     "output_type": "stream",
     "text": [
      "[\u001b[1mtardis.simulation.base\u001b[0m][\u001b[1;37mINFO\u001b[0m   ]  \n",
      "\t\n",
      "\tStarting iteration 17 of 20 (\u001b[1mbase.py\u001b[0m:382)\n"
     ]
    },
    {
     "name": "stdout",
     "output_type": "stream",
     "text": [
      "[\u001b[1mtardis.simulation.base\u001b[0m][\u001b[1;37mINFO\u001b[0m   ]  \n",
      "\t\n",
      "\tLuminosity emitted   = 1.067e+43 erg / s\n",
      "\tLuminosity absorbed  = 3.372e+42 erg / s\n",
      "\tLuminosity requested = 1.059e+43 erg / s\n",
      " (\u001b[1mbase.py\u001b[0m:557)\n"
     ]
    },
    {
     "name": "stdout",
     "output_type": "stream",
     "text": [
      "[\u001b[1mtardis.simulation.base\u001b[0m][\u001b[1;37mINFO\u001b[0m   ]  \n",
      "\t\n",
      "\tPlasma stratification: (\u001b[1mbase.py\u001b[0m:525)\n"
     ]
    },
    {
     "data": {
      "text/html": [
       "<style type=\"text/css\">\n",
       "</style>\n",
       "<table id=\"T_59331\">\n",
       "  <thead>\n",
       "    <tr>\n",
       "      <th class=\"index_name level0\" >Shell No.</th>\n",
       "      <th id=\"T_59331_level0_col0\" class=\"col_heading level0 col0\" >t_rad</th>\n",
       "      <th id=\"T_59331_level0_col1\" class=\"col_heading level0 col1\" >next_t_rad</th>\n",
       "      <th id=\"T_59331_level0_col2\" class=\"col_heading level0 col2\" >w</th>\n",
       "      <th id=\"T_59331_level0_col3\" class=\"col_heading level0 col3\" >next_w</th>\n",
       "    </tr>\n",
       "  </thead>\n",
       "  <tbody>\n",
       "    <tr>\n",
       "      <th id=\"T_59331_level0_row0\" class=\"row_heading level0 row0\" >0</th>\n",
       "      <td id=\"T_59331_row0_col0\" class=\"data row0 col0\" >1.1e+04 K</td>\n",
       "      <td id=\"T_59331_row0_col1\" class=\"data row0 col1\" >1.11e+04 K</td>\n",
       "      <td id=\"T_59331_row0_col2\" class=\"data row0 col2\" >0.472</td>\n",
       "      <td id=\"T_59331_row0_col3\" class=\"data row0 col3\" >0.468</td>\n",
       "    </tr>\n",
       "    <tr>\n",
       "      <th id=\"T_59331_level0_row1\" class=\"row_heading level0 row1\" >5</th>\n",
       "      <td id=\"T_59331_row1_col0\" class=\"data row1 col0\" >1.13e+04 K</td>\n",
       "      <td id=\"T_59331_row1_col1\" class=\"data row1 col1\" >1.14e+04 K</td>\n",
       "      <td id=\"T_59331_row1_col2\" class=\"data row1 col2\" >0.177</td>\n",
       "      <td id=\"T_59331_row1_col3\" class=\"data row1 col3\" >0.175</td>\n",
       "    </tr>\n",
       "    <tr>\n",
       "      <th id=\"T_59331_level0_row2\" class=\"row_heading level0 row2\" >10</th>\n",
       "      <td id=\"T_59331_row2_col0\" class=\"data row2 col0\" >1.1e+04 K</td>\n",
       "      <td id=\"T_59331_row2_col1\" class=\"data row2 col1\" >1.11e+04 K</td>\n",
       "      <td id=\"T_59331_row2_col2\" class=\"data row2 col2\" >0.113</td>\n",
       "      <td id=\"T_59331_row2_col3\" class=\"data row2 col3\" >0.11</td>\n",
       "    </tr>\n",
       "    <tr>\n",
       "      <th id=\"T_59331_level0_row3\" class=\"row_heading level0 row3\" >15</th>\n",
       "      <td id=\"T_59331_row3_col0\" class=\"data row3 col0\" >1.06e+04 K</td>\n",
       "      <td id=\"T_59331_row3_col1\" class=\"data row3 col1\" >1.08e+04 K</td>\n",
       "      <td id=\"T_59331_row3_col2\" class=\"data row3 col2\" >0.0858</td>\n",
       "      <td id=\"T_59331_row3_col3\" class=\"data row3 col3\" >0.0816</td>\n",
       "    </tr>\n",
       "  </tbody>\n",
       "</table>\n"
      ],
      "text/plain": [
       "<pandas.io.formats.style.Styler at 0x7f8473f23350>"
      ]
     },
     "metadata": {},
     "output_type": "display_data"
    },
    {
     "name": "stdout",
     "output_type": "stream",
     "text": [
      "[\u001b[1mtardis.simulation.base\u001b[0m][\u001b[1;37mINFO\u001b[0m   ]  \n",
      "\t\n",
      "\tCurrent t_inner = 10655.561 K\n",
      "\tExpected t_inner for next iteration = 10636.536 K\n",
      " (\u001b[1mbase.py\u001b[0m:552)\n"
     ]
    },
    {
     "name": "stdout",
     "output_type": "stream",
     "text": [
      "[\u001b[1mpy.warnings         \u001b[0m][\u001b[1;33mWARNING\u001b[0m]  \n",
      "\t/home/runner/work/tardis/tardis/tardis/plasma/properties/radiative_properties.py:93: RuntimeWarning: invalid value encountered in divide\n",
      "  (g_lower * n_upper) / (g_upper * n_lower)\n",
      " (\u001b[1mwarnings.py\u001b[0m:109)\n"
     ]
    },
    {
     "name": "stdout",
     "output_type": "stream",
     "text": [
      "[\u001b[1mtardis.simulation.base\u001b[0m][\u001b[1;37mINFO\u001b[0m   ]  \n",
      "\t\n",
      "\tStarting iteration 18 of 20 (\u001b[1mbase.py\u001b[0m:382)\n"
     ]
    },
    {
     "name": "stdout",
     "output_type": "stream",
     "text": [
      "[\u001b[1mtardis.simulation.base\u001b[0m][\u001b[1;37mINFO\u001b[0m   ]  \n",
      "\t\n",
      "\tLuminosity emitted   = 1.057e+43 erg / s\n",
      "\tLuminosity absorbed  = 3.365e+42 erg / s\n",
      "\tLuminosity requested = 1.059e+43 erg / s\n",
      " (\u001b[1mbase.py\u001b[0m:557)\n"
     ]
    },
    {
     "name": "stdout",
     "output_type": "stream",
     "text": [
      "[\u001b[1mtardis.simulation.base\u001b[0m][\u001b[1;37mINFO\u001b[0m   ]  \n",
      "\tIteration converged 1/4 consecutive times. (\u001b[1mbase.py\u001b[0m:257)\n"
     ]
    },
    {
     "name": "stdout",
     "output_type": "stream",
     "text": [
      "[\u001b[1mtardis.simulation.base\u001b[0m][\u001b[1;37mINFO\u001b[0m   ]  \n",
      "\t\n",
      "\tPlasma stratification: (\u001b[1mbase.py\u001b[0m:525)\n"
     ]
    },
    {
     "data": {
      "text/html": [
       "<style type=\"text/css\">\n",
       "</style>\n",
       "<table id=\"T_87a39\">\n",
       "  <thead>\n",
       "    <tr>\n",
       "      <th class=\"index_name level0\" >Shell No.</th>\n",
       "      <th id=\"T_87a39_level0_col0\" class=\"col_heading level0 col0\" >t_rad</th>\n",
       "      <th id=\"T_87a39_level0_col1\" class=\"col_heading level0 col1\" >next_t_rad</th>\n",
       "      <th id=\"T_87a39_level0_col2\" class=\"col_heading level0 col2\" >w</th>\n",
       "      <th id=\"T_87a39_level0_col3\" class=\"col_heading level0 col3\" >next_w</th>\n",
       "    </tr>\n",
       "  </thead>\n",
       "  <tbody>\n",
       "    <tr>\n",
       "      <th id=\"T_87a39_level0_row0\" class=\"row_heading level0 row0\" >0</th>\n",
       "      <td id=\"T_87a39_row0_col0\" class=\"data row0 col0\" >1.11e+04 K</td>\n",
       "      <td id=\"T_87a39_row0_col1\" class=\"data row0 col1\" >1.11e+04 K</td>\n",
       "      <td id=\"T_87a39_row0_col2\" class=\"data row0 col2\" >0.468</td>\n",
       "      <td id=\"T_87a39_row0_col3\" class=\"data row0 col3\" >0.464</td>\n",
       "    </tr>\n",
       "    <tr>\n",
       "      <th id=\"T_87a39_level0_row1\" class=\"row_heading level0 row1\" >5</th>\n",
       "      <td id=\"T_87a39_row1_col0\" class=\"data row1 col0\" >1.14e+04 K</td>\n",
       "      <td id=\"T_87a39_row1_col1\" class=\"data row1 col1\" >1.13e+04 K</td>\n",
       "      <td id=\"T_87a39_row1_col2\" class=\"data row1 col2\" >0.175</td>\n",
       "      <td id=\"T_87a39_row1_col3\" class=\"data row1 col3\" >0.177</td>\n",
       "    </tr>\n",
       "    <tr>\n",
       "      <th id=\"T_87a39_level0_row2\" class=\"row_heading level0 row2\" >10</th>\n",
       "      <td id=\"T_87a39_row2_col0\" class=\"data row2 col0\" >1.11e+04 K</td>\n",
       "      <td id=\"T_87a39_row2_col1\" class=\"data row2 col1\" >1.1e+04 K</td>\n",
       "      <td id=\"T_87a39_row2_col2\" class=\"data row2 col2\" >0.11</td>\n",
       "      <td id=\"T_87a39_row2_col3\" class=\"data row2 col3\" >0.113</td>\n",
       "    </tr>\n",
       "    <tr>\n",
       "      <th id=\"T_87a39_level0_row3\" class=\"row_heading level0 row3\" >15</th>\n",
       "      <td id=\"T_87a39_row3_col0\" class=\"data row3 col0\" >1.08e+04 K</td>\n",
       "      <td id=\"T_87a39_row3_col1\" class=\"data row3 col1\" >1.07e+04 K</td>\n",
       "      <td id=\"T_87a39_row3_col2\" class=\"data row3 col2\" >0.0816</td>\n",
       "      <td id=\"T_87a39_row3_col3\" class=\"data row3 col3\" >0.0848</td>\n",
       "    </tr>\n",
       "  </tbody>\n",
       "</table>\n"
      ],
      "text/plain": [
       "<pandas.io.formats.style.Styler at 0x7f8471896b10>"
      ]
     },
     "metadata": {},
     "output_type": "display_data"
    },
    {
     "name": "stdout",
     "output_type": "stream",
     "text": [
      "[\u001b[1mtardis.simulation.base\u001b[0m][\u001b[1;37mINFO\u001b[0m   ]  \n",
      "\t\n",
      "\tCurrent t_inner = 10636.536 K\n",
      "\tExpected t_inner for next iteration = 10641.692 K\n",
      " (\u001b[1mbase.py\u001b[0m:552)\n"
     ]
    },
    {
     "name": "stdout",
     "output_type": "stream",
     "text": [
      "[\u001b[1mpy.warnings         \u001b[0m][\u001b[1;33mWARNING\u001b[0m]  \n",
      "\t/home/runner/work/tardis/tardis/tardis/plasma/properties/radiative_properties.py:93: RuntimeWarning: invalid value encountered in divide\n",
      "  (g_lower * n_upper) / (g_upper * n_lower)\n",
      " (\u001b[1mwarnings.py\u001b[0m:109)\n"
     ]
    },
    {
     "name": "stdout",
     "output_type": "stream",
     "text": [
      "[\u001b[1mtardis.simulation.base\u001b[0m][\u001b[1;37mINFO\u001b[0m   ]  \n",
      "\t\n",
      "\tStarting iteration 19 of 20 (\u001b[1mbase.py\u001b[0m:382)\n"
     ]
    },
    {
     "name": "stdout",
     "output_type": "stream",
     "text": [
      "[\u001b[1mtardis.simulation.base\u001b[0m][\u001b[1;37mINFO\u001b[0m   ]  \n",
      "\t\n",
      "\tLuminosity emitted   = 1.056e+43 erg / s\n",
      "\tLuminosity absorbed  = 3.405e+42 erg / s\n",
      "\tLuminosity requested = 1.059e+43 erg / s\n",
      " (\u001b[1mbase.py\u001b[0m:557)\n"
     ]
    },
    {
     "name": "stdout",
     "output_type": "stream",
     "text": [
      "[\u001b[1mtardis.simulation.base\u001b[0m][\u001b[1;37mINFO\u001b[0m   ]  \n",
      "\tIteration converged 2/4 consecutive times. (\u001b[1mbase.py\u001b[0m:257)\n"
     ]
    },
    {
     "name": "stdout",
     "output_type": "stream",
     "text": [
      "[\u001b[1mtardis.simulation.base\u001b[0m][\u001b[1;37mINFO\u001b[0m   ]  \n",
      "\t\n",
      "\tPlasma stratification: (\u001b[1mbase.py\u001b[0m:525)\n"
     ]
    },
    {
     "data": {
      "text/html": [
       "<style type=\"text/css\">\n",
       "</style>\n",
       "<table id=\"T_6867b\">\n",
       "  <thead>\n",
       "    <tr>\n",
       "      <th class=\"index_name level0\" >Shell No.</th>\n",
       "      <th id=\"T_6867b_level0_col0\" class=\"col_heading level0 col0\" >t_rad</th>\n",
       "      <th id=\"T_6867b_level0_col1\" class=\"col_heading level0 col1\" >next_t_rad</th>\n",
       "      <th id=\"T_6867b_level0_col2\" class=\"col_heading level0 col2\" >w</th>\n",
       "      <th id=\"T_6867b_level0_col3\" class=\"col_heading level0 col3\" >next_w</th>\n",
       "    </tr>\n",
       "  </thead>\n",
       "  <tbody>\n",
       "    <tr>\n",
       "      <th id=\"T_6867b_level0_row0\" class=\"row_heading level0 row0\" >0</th>\n",
       "      <td id=\"T_6867b_row0_col0\" class=\"data row0 col0\" >1.11e+04 K</td>\n",
       "      <td id=\"T_6867b_row0_col1\" class=\"data row0 col1\" >1.11e+04 K</td>\n",
       "      <td id=\"T_6867b_row0_col2\" class=\"data row0 col2\" >0.464</td>\n",
       "      <td id=\"T_6867b_row0_col3\" class=\"data row0 col3\" >0.466</td>\n",
       "    </tr>\n",
       "    <tr>\n",
       "      <th id=\"T_6867b_level0_row1\" class=\"row_heading level0 row1\" >5</th>\n",
       "      <td id=\"T_6867b_row1_col0\" class=\"data row1 col0\" >1.13e+04 K</td>\n",
       "      <td id=\"T_6867b_row1_col1\" class=\"data row1 col1\" >1.13e+04 K</td>\n",
       "      <td id=\"T_6867b_row1_col2\" class=\"data row1 col2\" >0.177</td>\n",
       "      <td id=\"T_6867b_row1_col3\" class=\"data row1 col3\" >0.177</td>\n",
       "    </tr>\n",
       "    <tr>\n",
       "      <th id=\"T_6867b_level0_row2\" class=\"row_heading level0 row2\" >10</th>\n",
       "      <td id=\"T_6867b_row2_col0\" class=\"data row2 col0\" >1.1e+04 K</td>\n",
       "      <td id=\"T_6867b_row2_col1\" class=\"data row2 col1\" >1.11e+04 K</td>\n",
       "      <td id=\"T_6867b_row2_col2\" class=\"data row2 col2\" >0.113</td>\n",
       "      <td id=\"T_6867b_row2_col3\" class=\"data row2 col3\" >0.111</td>\n",
       "    </tr>\n",
       "    <tr>\n",
       "      <th id=\"T_6867b_level0_row3\" class=\"row_heading level0 row3\" >15</th>\n",
       "      <td id=\"T_6867b_row3_col0\" class=\"data row3 col0\" >1.07e+04 K</td>\n",
       "      <td id=\"T_6867b_row3_col1\" class=\"data row3 col1\" >1.07e+04 K</td>\n",
       "      <td id=\"T_6867b_row3_col2\" class=\"data row3 col2\" >0.0848</td>\n",
       "      <td id=\"T_6867b_row3_col3\" class=\"data row3 col3\" >0.0853</td>\n",
       "    </tr>\n",
       "  </tbody>\n",
       "</table>\n"
      ],
      "text/plain": [
       "<pandas.io.formats.style.Styler at 0x7f847180b350>"
      ]
     },
     "metadata": {},
     "output_type": "display_data"
    },
    {
     "name": "stdout",
     "output_type": "stream",
     "text": [
      "[\u001b[1mtardis.simulation.base\u001b[0m][\u001b[1;37mINFO\u001b[0m   ]  \n",
      "\t\n",
      "\tCurrent t_inner = 10641.692 K\n",
      "\tExpected t_inner for next iteration = 10650.463 K\n",
      " (\u001b[1mbase.py\u001b[0m:552)\n"
     ]
    },
    {
     "name": "stdout",
     "output_type": "stream",
     "text": [
      "[\u001b[1mpy.warnings         \u001b[0m][\u001b[1;33mWARNING\u001b[0m]  \n",
      "\t/home/runner/work/tardis/tardis/tardis/plasma/properties/radiative_properties.py:93: RuntimeWarning: invalid value encountered in divide\n",
      "  (g_lower * n_upper) / (g_upper * n_lower)\n",
      " (\u001b[1mwarnings.py\u001b[0m:109)\n"
     ]
    },
    {
     "name": "stdout",
     "output_type": "stream",
     "text": [
      "[\u001b[1mtardis.simulation.base\u001b[0m][\u001b[1;37mINFO\u001b[0m   ]  \n",
      "\t\n",
      "\tSimulation finished in 19 iterations \n",
      "\tSimulation took 48.74 s\n",
      " (\u001b[1mbase.py\u001b[0m:447)\n"
     ]
    },
    {
     "name": "stdout",
     "output_type": "stream",
     "text": [
      "[\u001b[1mtardis.simulation.base\u001b[0m][\u001b[1;37mINFO\u001b[0m   ]  \n",
      "\t\n",
      "\tStarting iteration 20 of 20 (\u001b[1mbase.py\u001b[0m:382)\n"
     ]
    },
    {
     "name": "stdout",
     "output_type": "stream",
     "text": [
      "[\u001b[1mtardis.simulation.base\u001b[0m][\u001b[1;37mINFO\u001b[0m   ]  \n",
      "\t\n",
      "\tLuminosity emitted   = 1.061e+43 erg / s\n",
      "\tLuminosity absorbed  = 3.401e+42 erg / s\n",
      "\tLuminosity requested = 1.059e+43 erg / s\n",
      " (\u001b[1mbase.py\u001b[0m:557)\n"
     ]
    }
   ],
   "source": [
    "from tardis import run_tardis\n",
    "from tardis.io.atom_data.util import download_atom_data\n",
    "\n",
    "# We download the atomic data needed to run the simulation\n",
    "download_atom_data('kurucz_cd23_chianti_H_He')\n",
    "\n",
    "# We run the simulation\n",
    "simulation = run_tardis('tardis_example.yml')"
   ]
  },
  {
   "attachments": {},
   "cell_type": "markdown",
   "metadata": {},
   "source": [
    "You can now use the `to_hdf` method, to save properties to a HDF file.\n",
    "\n",
    "#### Parameters  \n",
    "\n",
    "`file_path`: Path where the HDF file should be stored. (Required)  \n",
    "`path`: Path inside the HDF store to store the elements. (Optional)  \n",
    "`name`: Name of the group inside HDF store, under which properties will be saved.(Optional)\n",
    "`overwrite`: If the HDF file already exists, do you overwrite the existing file (Optional, default `False`)\n",
    "\n",
    "<div class=\"alert alert-info\">\n",
    "\n",
    "Note\n",
    "    \n",
    "Throughout this notebook, we set ``overwrite=True`` so that the notebook can be run repeatedly if needed.\n",
    "\n",
    "</div>"
   ]
  },
  {
   "cell_type": "code",
   "execution_count": 2,
   "metadata": {
    "execution": {
     "iopub.execute_input": "2023-10-17T11:34:04.766597Z",
     "iopub.status.busy": "2023-10-17T11:34:04.765811Z",
     "iopub.status.idle": "2023-10-17T11:34:05.421994Z",
     "shell.execute_reply": "2023-10-17T11:34:05.421106Z"
    }
   },
   "outputs": [
    {
     "name": "stdout",
     "output_type": "stream",
     "text": [
      "[\u001b[1mpy.warnings         \u001b[0m][\u001b[1;33mWARNING\u001b[0m]  \n",
      "\t/home/runner/work/tardis/tardis/tardis/io/util.py:274: PerformanceWarning: \n",
      "your performance may suffer as PyTables will pickle object types that it cannot\n",
      "map directly to c-types [inferred_type->mixed,key->block0_values] [items->Index([0], dtype='int64')]\n",
      "\n",
      "  pd.DataFrame(value).to_hdf(buf, os.path.join(path, key))\n",
      " (\u001b[1mwarnings.py\u001b[0m:109)\n"
     ]
    },
    {
     "name": "stdout",
     "output_type": "stream",
     "text": [
      "[\u001b[1mpy.warnings         \u001b[0m][\u001b[1;33mWARNING\u001b[0m]  \n",
      "\t/home/runner/work/tardis/tardis/tardis/io/util.py:288: PerformanceWarning: \n",
      "your performance may suffer as PyTables will pickle object types that it cannot\n",
      "map directly to c-types [inferred_type->mixed,key->values] [items->None]\n",
      "\n",
      "  pd.Series(scalars).to_hdf(buf, os.path.join(path, \"scalars\"))\n",
      " (\u001b[1mwarnings.py\u001b[0m:109)\n"
     ]
    }
   ],
   "source": [
    "simulation.to_hdf('/tmp/full_example.hdf', overwrite=True)\n",
    "\n",
    "# The commented out code below shows an example of to_hdf with more parameters\n",
    "#simulation.to_hdf(file_path='/tmp/full_example.hdf', path='/', name='simulation')"
   ]
  },
  {
   "attachments": {},
   "cell_type": "markdown",
   "metadata": {},
   "source": [
    "Open the stored HDF file with pandas and print a list of its entries using the `keys()` method:"
   ]
  },
  {
   "cell_type": "code",
   "execution_count": 3,
   "metadata": {
    "execution": {
     "iopub.execute_input": "2023-10-17T11:34:05.425665Z",
     "iopub.status.busy": "2023-10-17T11:34:05.425340Z",
     "iopub.status.idle": "2023-10-17T11:34:05.496476Z",
     "shell.execute_reply": "2023-10-17T11:34:05.495514Z"
    },
    "scrolled": false
   },
   "outputs": [
    {
     "data": {
      "text/plain": [
       "['/simulation/iterations_electron_densities',\n",
       " '/simulation/iterations_t_inner',\n",
       " '/simulation/iterations_t_rad',\n",
       " '/simulation/iterations_w',\n",
       " '/simulation/transport/emitted_packet_mask',\n",
       " '/simulation/transport/j_estimator',\n",
       " '/simulation/transport/last_interaction_in_nu',\n",
       " '/simulation/transport/last_interaction_type',\n",
       " '/simulation/transport/last_line_interaction_in_id',\n",
       " '/simulation/transport/last_line_interaction_out_id',\n",
       " '/simulation/transport/last_line_interaction_shell_id',\n",
       " '/simulation/transport/montecarlo_virtual_luminosity',\n",
       " '/simulation/transport/nu_bar_estimator',\n",
       " '/simulation/transport/output_energy',\n",
       " '/simulation/transport/output_nu',\n",
       " '/simulation/transport/packet_luminosity',\n",
       " '/simulation/transport/scalars',\n",
       " '/simulation/transport/spectrum_virtual/_frequency',\n",
       " '/simulation/transport/spectrum_virtual/luminosity',\n",
       " '/simulation/transport/spectrum_virtual/luminosity_density_lambda',\n",
       " '/simulation/transport/spectrum_virtual/scalars',\n",
       " '/simulation/transport/spectrum_virtual/wavelength',\n",
       " '/simulation/transport/spectrum_reabsorbed/_frequency',\n",
       " '/simulation/transport/spectrum_reabsorbed/luminosity',\n",
       " '/simulation/transport/spectrum_reabsorbed/luminosity_density_lambda',\n",
       " '/simulation/transport/spectrum_reabsorbed/scalars',\n",
       " '/simulation/transport/spectrum_reabsorbed/wavelength',\n",
       " '/simulation/transport/spectrum/_frequency',\n",
       " '/simulation/transport/spectrum/luminosity',\n",
       " '/simulation/transport/spectrum/luminosity_density_lambda',\n",
       " '/simulation/transport/spectrum/scalars',\n",
       " '/simulation/transport/spectrum/wavelength',\n",
       " '/simulation/simulation_state/density',\n",
       " '/simulation/simulation_state/r_inner',\n",
       " '/simulation/simulation_state/scalars',\n",
       " '/simulation/simulation_state/t_radiative',\n",
       " '/simulation/simulation_state/v_inner',\n",
       " '/simulation/simulation_state/v_outer',\n",
       " '/simulation/simulation_state/w',\n",
       " '/simulation/plasma/abundance',\n",
       " '/simulation/plasma/atomic_mass',\n",
       " '/simulation/plasma/beta_rad',\n",
       " '/simulation/plasma/beta_sobolev',\n",
       " '/simulation/plasma/continuum_interaction_species',\n",
       " '/simulation/plasma/density',\n",
       " '/simulation/plasma/electron_densities',\n",
       " '/simulation/plasma/excitation_energy',\n",
       " '/simulation/plasma/f_lu',\n",
       " '/simulation/plasma/g',\n",
       " '/simulation/plasma/g_electron',\n",
       " '/simulation/plasma/general_level_boltzmann_factor',\n",
       " '/simulation/plasma/ion_number_density',\n",
       " '/simulation/plasma/ionization_data',\n",
       " '/simulation/plasma/j_blues',\n",
       " '/simulation/plasma/level_boltzmann_factor',\n",
       " '/simulation/plasma/level_number_density',\n",
       " '/simulation/plasma/levels',\n",
       " '/simulation/plasma/lines',\n",
       " '/simulation/plasma/lines_lower_level_index',\n",
       " '/simulation/plasma/lines_upper_level_index',\n",
       " '/simulation/plasma/macro_atom_data',\n",
       " '/simulation/plasma/metastability',\n",
       " '/simulation/plasma/nlte_excitation_species',\n",
       " '/simulation/plasma/nlte_ionization_species',\n",
       " '/simulation/plasma/nu',\n",
       " '/simulation/plasma/number_density',\n",
       " '/simulation/plasma/partition_function',\n",
       " '/simulation/plasma/phi',\n",
       " '/simulation/plasma/scalars',\n",
       " '/simulation/plasma/selected_atoms',\n",
       " '/simulation/plasma/stimulated_emission_factor',\n",
       " '/simulation/plasma/t_electrons',\n",
       " '/simulation/plasma/t_rad',\n",
       " '/simulation/plasma/tau_sobolevs',\n",
       " '/simulation/plasma/transition_probabilities',\n",
       " '/simulation/plasma/w',\n",
       " '/simulation/plasma/wavelength_cm']"
      ]
     },
     "execution_count": 3,
     "metadata": {},
     "output_type": "execute_result"
    }
   ],
   "source": [
    "import pandas as pd\n",
    "\n",
    "data = pd.HDFStore('/tmp/full_example.hdf', overwrite=True)\n",
    "\n",
    "data.keys()"
   ]
  },
  {
   "attachments": {},
   "cell_type": "markdown",
   "metadata": {},
   "source": [
    "Access `model.density` under simulation, which is a one-dimensional array"
   ]
  },
  {
   "cell_type": "code",
   "execution_count": 4,
   "metadata": {
    "execution": {
     "iopub.execute_input": "2023-10-17T11:34:05.500097Z",
     "iopub.status.busy": "2023-10-17T11:34:05.499516Z",
     "iopub.status.idle": "2023-10-17T11:34:05.509082Z",
     "shell.execute_reply": "2023-10-17T11:34:05.508401Z"
    }
   },
   "outputs": [
    {
     "name": "stdout",
     "output_type": "stream",
     "text": [
      "0     7.542804e-14\n",
      "1     5.728475e-14\n",
      "2     4.396074e-14\n",
      "3     3.406287e-14\n",
      "4     2.663135e-14\n",
      "5     2.099596e-14\n",
      "6     1.668287e-14\n",
      "7     1.335311e-14\n",
      "8     1.076154e-14\n",
      "9     8.729085e-15\n",
      "10    7.123652e-15\n",
      "11    5.846921e-15\n",
      "12    4.825093e-15\n",
      "13    4.002324e-15\n",
      "14    3.336039e-15\n",
      "15    2.793540e-15\n",
      "16    2.349550e-15\n",
      "17    1.984397e-15\n",
      "18    1.682677e-15\n",
      "19    1.432260e-15\n",
      "dtype: float64\n"
     ]
    }
   ],
   "source": [
    "print(data['/simulation/simulation_state/density'])"
   ]
  },
  {
   "attachments": {},
   "cell_type": "markdown",
   "metadata": {
    "collapsed": true
   },
   "source": [
    "Scalars are stored in a `scalars` `pandas.Series` for every module. For example to access `model.t_inner` under simulation, one would need to do the following."
   ]
  },
  {
   "cell_type": "code",
   "execution_count": 5,
   "metadata": {
    "execution": {
     "iopub.execute_input": "2023-10-17T11:34:05.512889Z",
     "iopub.status.busy": "2023-10-17T11:34:05.512624Z",
     "iopub.status.idle": "2023-10-17T11:34:05.520106Z",
     "shell.execute_reply": "2023-10-17T11:34:05.519171Z"
    }
   },
   "outputs": [
    {
     "name": "stdout",
     "output_type": "stream",
     "text": [
      "10650.463255529794\n"
     ]
    }
   ],
   "source": [
    "print(data['/simulation/simulation_state/scalars']['t_inner'])"
   ]
  },
  {
   "attachments": {},
   "cell_type": "markdown",
   "metadata": {},
   "source": [
    "## Breakdown of the various to_hdf methods\n",
    "Every module in TARDIS has its own `to_hdf` method responsible to store its own data to an HDF file."
   ]
  },
  {
   "attachments": {},
   "cell_type": "markdown",
   "metadata": {},
   "source": [
    "### Plasma\n",
    "The following call will store every plasma property to `/tmp/plasma_output.hdf` under `/parent/plasma`"
   ]
  },
  {
   "cell_type": "code",
   "execution_count": 6,
   "metadata": {
    "execution": {
     "iopub.execute_input": "2023-10-17T11:34:05.523756Z",
     "iopub.status.busy": "2023-10-17T11:34:05.523521Z",
     "iopub.status.idle": "2023-10-17T11:34:05.895237Z",
     "shell.execute_reply": "2023-10-17T11:34:05.894427Z"
    }
   },
   "outputs": [
    {
     "name": "stdout",
     "output_type": "stream",
     "text": [
      "[\u001b[1mpy.warnings         \u001b[0m][\u001b[1;33mWARNING\u001b[0m]  \n",
      "\t/home/runner/work/tardis/tardis/tardis/io/util.py:274: PerformanceWarning: \n",
      "your performance may suffer as PyTables will pickle object types that it cannot\n",
      "map directly to c-types [inferred_type->mixed,key->block0_values] [items->Index([0], dtype='int64')]\n",
      "\n",
      "  pd.DataFrame(value).to_hdf(buf, os.path.join(path, key))\n",
      " (\u001b[1mwarnings.py\u001b[0m:109)\n"
     ]
    },
    {
     "name": "stdout",
     "output_type": "stream",
     "text": [
      "[\u001b[1mpy.warnings         \u001b[0m][\u001b[1;33mWARNING\u001b[0m]  \n",
      "\t/home/runner/work/tardis/tardis/tardis/io/util.py:288: PerformanceWarning: \n",
      "your performance may suffer as PyTables will pickle object types that it cannot\n",
      "map directly to c-types [inferred_type->mixed,key->values] [items->None]\n",
      "\n",
      "  pd.Series(scalars).to_hdf(buf, os.path.join(path, \"scalars\"))\n",
      " (\u001b[1mwarnings.py\u001b[0m:109)\n"
     ]
    }
   ],
   "source": [
    "simulation.plasma.to_hdf('/tmp/plasma_output.hdf', path='parent', overwrite=True)"
   ]
  },
  {
   "cell_type": "code",
   "execution_count": 7,
   "metadata": {
    "execution": {
     "iopub.execute_input": "2023-10-17T11:34:05.898048Z",
     "iopub.status.busy": "2023-10-17T11:34:05.897827Z",
     "iopub.status.idle": "2023-10-17T11:34:05.938097Z",
     "shell.execute_reply": "2023-10-17T11:34:05.937204Z"
    },
    "scrolled": false
   },
   "outputs": [
    {
     "data": {
      "text/plain": [
       "['/parent/plasma/abundance',\n",
       " '/parent/plasma/atomic_mass',\n",
       " '/parent/plasma/beta_rad',\n",
       " '/parent/plasma/beta_sobolev',\n",
       " '/parent/plasma/continuum_interaction_species',\n",
       " '/parent/plasma/density',\n",
       " '/parent/plasma/electron_densities',\n",
       " '/parent/plasma/excitation_energy',\n",
       " '/parent/plasma/f_lu',\n",
       " '/parent/plasma/g',\n",
       " '/parent/plasma/g_electron',\n",
       " '/parent/plasma/general_level_boltzmann_factor',\n",
       " '/parent/plasma/ion_number_density',\n",
       " '/parent/plasma/ionization_data',\n",
       " '/parent/plasma/j_blues',\n",
       " '/parent/plasma/level_boltzmann_factor',\n",
       " '/parent/plasma/level_number_density',\n",
       " '/parent/plasma/levels',\n",
       " '/parent/plasma/lines',\n",
       " '/parent/plasma/lines_lower_level_index',\n",
       " '/parent/plasma/lines_upper_level_index',\n",
       " '/parent/plasma/macro_atom_data',\n",
       " '/parent/plasma/metastability',\n",
       " '/parent/plasma/nlte_excitation_species',\n",
       " '/parent/plasma/nlte_ionization_species',\n",
       " '/parent/plasma/nu',\n",
       " '/parent/plasma/number_density',\n",
       " '/parent/plasma/partition_function',\n",
       " '/parent/plasma/phi',\n",
       " '/parent/plasma/scalars',\n",
       " '/parent/plasma/selected_atoms',\n",
       " '/parent/plasma/stimulated_emission_factor',\n",
       " '/parent/plasma/t_electrons',\n",
       " '/parent/plasma/t_rad',\n",
       " '/parent/plasma/tau_sobolevs',\n",
       " '/parent/plasma/transition_probabilities',\n",
       " '/parent/plasma/w',\n",
       " '/parent/plasma/wavelength_cm']"
      ]
     },
     "execution_count": 7,
     "metadata": {},
     "output_type": "execute_result"
    }
   ],
   "source": [
    "import pandas\n",
    "\n",
    "plasma_data = pandas.HDFStore('/tmp/plasma_output.hdf')\n",
    "\n",
    "plasma_data.keys()"
   ]
  },
  {
   "attachments": {},
   "cell_type": "markdown",
   "metadata": {},
   "source": [
    "Plasma's `to_hdf` method can also accept a `collection` parameter which can specify which types of plasma properties will be stored. For example if we wanted to only store Input plasma properties, we would do the following:"
   ]
  },
  {
   "cell_type": "code",
   "execution_count": 8,
   "metadata": {
    "execution": {
     "iopub.execute_input": "2023-10-17T11:34:05.942315Z",
     "iopub.status.busy": "2023-10-17T11:34:05.941568Z",
     "iopub.status.idle": "2023-10-17T11:34:05.992951Z",
     "shell.execute_reply": "2023-10-17T11:34:05.992010Z"
    }
   },
   "outputs": [],
   "source": [
    "from tardis.plasma.properties.base import Input\n",
    "simulation.plasma.to_hdf('/tmp/plasma_input_output.hdf', collection=[Input], overwrite=True)"
   ]
  },
  {
   "cell_type": "code",
   "execution_count": 9,
   "metadata": {
    "execution": {
     "iopub.execute_input": "2023-10-17T11:34:05.996563Z",
     "iopub.status.busy": "2023-10-17T11:34:05.996311Z",
     "iopub.status.idle": "2023-10-17T11:34:06.009608Z",
     "shell.execute_reply": "2023-10-17T11:34:06.008824Z"
    }
   },
   "outputs": [
    {
     "data": {
      "text/plain": [
       "['/plasma/abundance',\n",
       " '/plasma/continuum_interaction_species',\n",
       " '/plasma/density',\n",
       " '/plasma/nlte_excitation_species',\n",
       " '/plasma/nlte_ionization_species',\n",
       " '/plasma/scalars',\n",
       " '/plasma/t_rad',\n",
       " '/plasma/w']"
      ]
     },
     "execution_count": 9,
     "metadata": {},
     "output_type": "execute_result"
    }
   ],
   "source": [
    "import pandas\n",
    "\n",
    "plasma_input_data = pandas.HDFStore('/tmp/plasma_input_output.hdf')\n",
    "\n",
    "plasma_input_data.keys()"
   ]
  },
  {
   "attachments": {},
   "cell_type": "markdown",
   "metadata": {},
   "source": [
    "### Model\n",
    "The following call will store properties of the `SimulationState` to `/tmp/model_output.hdf` under `/simulation_state`."
   ]
  },
  {
   "cell_type": "code",
   "execution_count": 10,
   "metadata": {
    "execution": {
     "iopub.execute_input": "2023-10-17T11:34:06.013103Z",
     "iopub.status.busy": "2023-10-17T11:34:06.012618Z",
     "iopub.status.idle": "2023-10-17T11:34:06.066824Z",
     "shell.execute_reply": "2023-10-17T11:34:06.065869Z"
    }
   },
   "outputs": [],
   "source": [
    "simulation.simulation_state.to_hdf('/tmp/model_output.hdf', overwrite=True)"
   ]
  },
  {
   "cell_type": "code",
   "execution_count": 11,
   "metadata": {
    "execution": {
     "iopub.execute_input": "2023-10-17T11:34:06.070923Z",
     "iopub.status.busy": "2023-10-17T11:34:06.070640Z",
     "iopub.status.idle": "2023-10-17T11:34:06.083741Z",
     "shell.execute_reply": "2023-10-17T11:34:06.082954Z"
    }
   },
   "outputs": [
    {
     "data": {
      "text/plain": [
       "['/model/density',\n",
       " '/model/r_inner',\n",
       " '/model/scalars',\n",
       " '/model/t_radiative',\n",
       " '/model/v_inner',\n",
       " '/model/v_outer',\n",
       " '/model/w']"
      ]
     },
     "execution_count": 11,
     "metadata": {},
     "output_type": "execute_result"
    }
   ],
   "source": [
    "import pandas\n",
    "\n",
    "model_data = pandas.HDFStore('/tmp/model_output.hdf')\n",
    "\n",
    "model_data.keys()"
   ]
  },
  {
   "attachments": {},
   "cell_type": "markdown",
   "metadata": {},
   "source": [
    "### MontecarloTransport\n",
    "The following call will store properties of the `MontecarloTransport` to `/tmp/transport_output.hdf` under `/transport`."
   ]
  },
  {
   "cell_type": "code",
   "execution_count": 12,
   "metadata": {
    "execution": {
     "iopub.execute_input": "2023-10-17T11:34:06.087105Z",
     "iopub.status.busy": "2023-10-17T11:34:06.086812Z",
     "iopub.status.idle": "2023-10-17T11:34:06.282853Z",
     "shell.execute_reply": "2023-10-17T11:34:06.281939Z"
    }
   },
   "outputs": [],
   "source": [
    "simulation.transport.to_hdf('/tmp/transport_output.hdf', overwrite=True)"
   ]
  },
  {
   "cell_type": "code",
   "execution_count": 13,
   "metadata": {
    "execution": {
     "iopub.execute_input": "2023-10-17T11:34:06.286829Z",
     "iopub.status.busy": "2023-10-17T11:34:06.285949Z",
     "iopub.status.idle": "2023-10-17T11:34:06.320336Z",
     "shell.execute_reply": "2023-10-17T11:34:06.318536Z"
    }
   },
   "outputs": [
    {
     "data": {
      "text/plain": [
       "['/transport/emitted_packet_mask',\n",
       " '/transport/j_estimator',\n",
       " '/transport/last_interaction_in_nu',\n",
       " '/transport/last_interaction_type',\n",
       " '/transport/last_line_interaction_in_id',\n",
       " '/transport/last_line_interaction_out_id',\n",
       " '/transport/last_line_interaction_shell_id',\n",
       " '/transport/montecarlo_virtual_luminosity',\n",
       " '/transport/nu_bar_estimator',\n",
       " '/transport/output_energy',\n",
       " '/transport/output_nu',\n",
       " '/transport/packet_luminosity',\n",
       " '/transport/scalars',\n",
       " '/transport/spectrum_virtual/_frequency',\n",
       " '/transport/spectrum_virtual/luminosity',\n",
       " '/transport/spectrum_virtual/luminosity_density_lambda',\n",
       " '/transport/spectrum_virtual/scalars',\n",
       " '/transport/spectrum_virtual/wavelength',\n",
       " '/transport/spectrum_reabsorbed/_frequency',\n",
       " '/transport/spectrum_reabsorbed/luminosity',\n",
       " '/transport/spectrum_reabsorbed/luminosity_density_lambda',\n",
       " '/transport/spectrum_reabsorbed/scalars',\n",
       " '/transport/spectrum_reabsorbed/wavelength',\n",
       " '/transport/spectrum/_frequency',\n",
       " '/transport/spectrum/luminosity',\n",
       " '/transport/spectrum/luminosity_density_lambda',\n",
       " '/transport/spectrum/scalars',\n",
       " '/transport/spectrum/wavelength']"
      ]
     },
     "execution_count": 13,
     "metadata": {},
     "output_type": "execute_result"
    }
   ],
   "source": [
    "import pandas\n",
    "\n",
    "transport_data = pandas.HDFStore('/tmp/transport_output.hdf')\n",
    "\n",
    "transport_data.keys()"
   ]
  }
 ],
 "metadata": {
  "celltoolbar": "Raw Cell Format",
  "kernelspec": {
   "display_name": "Python 3",
   "language": "python",
   "name": "python3"
  },
  "language_info": {
   "codemirror_mode": {
    "name": "ipython",
    "version": 3
   },
   "file_extension": ".py",
   "mimetype": "text/x-python",
   "name": "python",
   "nbconvert_exporter": "python",
   "pygments_lexer": "ipython3",
   "version": "3.11.5"
  },
  "widgets": {
   "application/vnd.jupyter.widget-state+json": {
    "state": {
     "01effeaa58294b82868ddee347218831": {
      "model_module": "@jupyter-widgets/controls",
      "model_module_version": "1.5.0",
      "model_name": "HTMLModel",
      "state": {
       "_dom_classes": [],
       "_model_module": "@jupyter-widgets/controls",
       "_model_module_version": "1.5.0",
       "_model_name": "HTMLModel",
       "_view_count": null,
       "_view_module": "@jupyter-widgets/controls",
       "_view_module_version": "1.5.0",
       "_view_name": "HTMLView",
       "description": "",
       "description_tooltip": null,
       "layout": "IPY_MODEL_ed5ac024551b4226b9ac96fdd47c94c7",
       "placeholder": "​",
       "style": "IPY_MODEL_b42fd9835c88433a9de78a35ee3a744f",
       "value": "0/? [00:00&lt;?, ?it/s]"
      }
     },
     "0e729bbeb05047858cc67fe7a8350600": {
      "model_module": "@jupyter-widgets/base",
      "model_module_version": "1.2.0",
      "model_name": "LayoutModel",
      "state": {
       "_model_module": "@jupyter-widgets/base",
       "_model_module_version": "1.2.0",
       "_model_name": "LayoutModel",
       "_view_count": null,
       "_view_module": "@jupyter-widgets/base",
       "_view_module_version": "1.2.0",
       "_view_name": "LayoutView",
       "align_content": null,
       "align_items": null,
       "align_self": null,
       "border": null,
       "bottom": null,
       "display": null,
       "flex": null,
       "flex_flow": null,
       "grid_area": null,
       "grid_auto_columns": null,
       "grid_auto_flow": null,
       "grid_auto_rows": null,
       "grid_column": null,
       "grid_gap": null,
       "grid_row": null,
       "grid_template_areas": null,
       "grid_template_columns": null,
       "grid_template_rows": null,
       "height": null,
       "justify_content": null,
       "justify_items": null,
       "left": null,
       "margin": null,
       "max_height": null,
       "max_width": null,
       "min_height": null,
       "min_width": null,
       "object_fit": null,
       "object_position": null,
       "order": null,
       "overflow": null,
       "overflow_x": null,
       "overflow_y": null,
       "padding": null,
       "right": null,
       "top": null,
       "visibility": null,
       "width": null
      }
     },
     "1332662de47a40bcac0cb1f6723ea6a7": {
      "model_module": "@jupyter-widgets/controls",
      "model_module_version": "1.5.0",
      "model_name": "FloatProgressModel",
      "state": {
       "_dom_classes": [],
       "_model_module": "@jupyter-widgets/controls",
       "_model_module_version": "1.5.0",
       "_model_name": "FloatProgressModel",
       "_view_count": null,
       "_view_module": "@jupyter-widgets/controls",
       "_view_module_version": "1.5.0",
       "_view_name": "ProgressView",
       "bar_style": "info",
       "description": "",
       "description_tooltip": null,
       "layout": "IPY_MODEL_64a0fd1132474dedaa063e603c7a7d3f",
       "max": 1.0,
       "min": 0.0,
       "orientation": "horizontal",
       "style": "IPY_MODEL_9116e57f7b9d4c4f8f0ea4dfea9f88ce",
       "value": 0.0
      }
     },
     "33c146bef7114ac6b216a625a9d181cb": {
      "model_module": "@jupyter-widgets/output",
      "model_module_version": "1.0.0",
      "model_name": "OutputModel",
      "state": {
       "_dom_classes": [],
       "_model_module": "@jupyter-widgets/output",
       "_model_module_version": "1.0.0",
       "_model_name": "OutputModel",
       "_view_count": null,
       "_view_module": "@jupyter-widgets/output",
       "_view_module_version": "1.0.0",
       "_view_name": "OutputView",
       "layout": "IPY_MODEL_a7c4245d9a704655b807cc7ba34dc498",
       "msg_id": "",
       "outputs": []
      }
     },
     "35e3da19e00844c3adb433c1cb852eca": {
      "model_module": "@jupyter-widgets/controls",
      "model_module_version": "1.5.0",
      "model_name": "DescriptionStyleModel",
      "state": {
       "_model_module": "@jupyter-widgets/controls",
       "_model_module_version": "1.5.0",
       "_model_name": "DescriptionStyleModel",
       "_view_count": null,
       "_view_module": "@jupyter-widgets/base",
       "_view_module_version": "1.2.0",
       "_view_name": "StyleView",
       "description_width": ""
      }
     },
     "379caa41028a409db81a2a4658cab188": {
      "model_module": "@jupyter-widgets/base",
      "model_module_version": "1.2.0",
      "model_name": "LayoutModel",
      "state": {
       "_model_module": "@jupyter-widgets/base",
       "_model_module_version": "1.2.0",
       "_model_name": "LayoutModel",
       "_view_count": null,
       "_view_module": "@jupyter-widgets/base",
       "_view_module_version": "1.2.0",
       "_view_name": "LayoutView",
       "align_content": null,
       "align_items": null,
       "align_self": null,
       "border": null,
       "bottom": null,
       "display": null,
       "flex": null,
       "flex_flow": null,
       "grid_area": null,
       "grid_auto_columns": null,
       "grid_auto_flow": null,
       "grid_auto_rows": null,
       "grid_column": null,
       "grid_gap": null,
       "grid_row": null,
       "grid_template_areas": null,
       "grid_template_columns": null,
       "grid_template_rows": null,
       "height": null,
       "justify_content": null,
       "justify_items": null,
       "left": null,
       "margin": null,
       "max_height": null,
       "max_width": null,
       "min_height": null,
       "min_width": null,
       "object_fit": null,
       "object_position": null,
       "order": null,
       "overflow": null,
       "overflow_x": null,
       "overflow_y": null,
       "padding": null,
       "right": null,
       "top": null,
       "visibility": null,
       "width": "60%"
      }
     },
     "3a1b3518b7b648c8a5924a904f70b7a2": {
      "model_module": "@jupyter-widgets/controls",
      "model_module_version": "1.5.0",
      "model_name": "HBoxModel",
      "state": {
       "_dom_classes": [],
       "_model_module": "@jupyter-widgets/controls",
       "_model_module_version": "1.5.0",
       "_model_name": "HBoxModel",
       "_view_count": null,
       "_view_module": "@jupyter-widgets/controls",
       "_view_module_version": "1.5.0",
       "_view_name": "HBoxView",
       "box_style": "",
       "children": [
        "IPY_MODEL_db4eba24dbb74e52b8edaabf2ed16c94",
        "IPY_MODEL_4c7cbdfe2e334efd9cf692c19a020e15",
        "IPY_MODEL_cee0ec03de144b90b23ae53904963914"
       ],
       "layout": "IPY_MODEL_702c7c1f735b4aec94aacfbe328fdb90"
      }
     },
     "4493ddcfab4847b3812b440ca1d516b0": {
      "model_module": "@jupyter-widgets/base",
      "model_module_version": "1.2.0",
      "model_name": "LayoutModel",
      "state": {
       "_model_module": "@jupyter-widgets/base",
       "_model_module_version": "1.2.0",
       "_model_name": "LayoutModel",
       "_view_count": null,
       "_view_module": "@jupyter-widgets/base",
       "_view_module_version": "1.2.0",
       "_view_name": "LayoutView",
       "align_content": null,
       "align_items": null,
       "align_self": null,
       "border": null,
       "bottom": null,
       "display": null,
       "flex": null,
       "flex_flow": null,
       "grid_area": null,
       "grid_auto_columns": null,
       "grid_auto_flow": null,
       "grid_auto_rows": null,
       "grid_column": null,
       "grid_gap": null,
       "grid_row": null,
       "grid_template_areas": null,
       "grid_template_columns": null,
       "grid_template_rows": null,
       "height": null,
       "justify_content": null,
       "justify_items": null,
       "left": null,
       "margin": null,
       "max_height": null,
       "max_width": null,
       "min_height": null,
       "min_width": null,
       "object_fit": null,
       "object_position": null,
       "order": null,
       "overflow": null,
       "overflow_x": null,
       "overflow_y": null,
       "padding": null,
       "right": null,
       "top": null,
       "visibility": null,
       "width": "6%"
      }
     },
     "4baf013b5fea487ea6cd060ab51e6bf4": {
      "model_module": "@jupyter-widgets/base",
      "model_module_version": "1.2.0",
      "model_name": "LayoutModel",
      "state": {
       "_model_module": "@jupyter-widgets/base",
       "_model_module_version": "1.2.0",
       "_model_name": "LayoutModel",
       "_view_count": null,
       "_view_module": "@jupyter-widgets/base",
       "_view_module_version": "1.2.0",
       "_view_name": "LayoutView",
       "align_content": null,
       "align_items": null,
       "align_self": null,
       "border": null,
       "bottom": null,
       "display": null,
       "flex": null,
       "flex_flow": null,
       "grid_area": null,
       "grid_auto_columns": null,
       "grid_auto_flow": null,
       "grid_auto_rows": null,
       "grid_column": null,
       "grid_gap": null,
       "grid_row": null,
       "grid_template_areas": null,
       "grid_template_columns": null,
       "grid_template_rows": null,
       "height": null,
       "justify_content": null,
       "justify_items": null,
       "left": null,
       "margin": null,
       "max_height": null,
       "max_width": null,
       "min_height": null,
       "min_width": null,
       "object_fit": null,
       "object_position": null,
       "order": null,
       "overflow": null,
       "overflow_x": null,
       "overflow_y": null,
       "padding": null,
       "right": null,
       "top": null,
       "visibility": null,
       "width": null
      }
     },
     "4c7cbdfe2e334efd9cf692c19a020e15": {
      "model_module": "@jupyter-widgets/controls",
      "model_module_version": "1.5.0",
      "model_name": "FloatProgressModel",
      "state": {
       "_dom_classes": [],
       "_model_module": "@jupyter-widgets/controls",
       "_model_module_version": "1.5.0",
       "_model_name": "FloatProgressModel",
       "_view_count": null,
       "_view_module": "@jupyter-widgets/controls",
       "_view_module_version": "1.5.0",
       "_view_name": "ProgressView",
       "bar_style": "info",
       "description": "",
       "description_tooltip": null,
       "layout": "IPY_MODEL_a3a117b02fc342af8e3a7f8e640ded8d",
       "max": 1.0,
       "min": 0.0,
       "orientation": "horizontal",
       "style": "IPY_MODEL_7a67c0a456e24fe99f11fdf441475323",
       "value": 0.0
      }
     },
     "58a443d791cb43d697f36fc01800026e": {
      "model_module": "@jupyter-widgets/base",
      "model_module_version": "1.2.0",
      "model_name": "LayoutModel",
      "state": {
       "_model_module": "@jupyter-widgets/base",
       "_model_module_version": "1.2.0",
       "_model_name": "LayoutModel",
       "_view_count": null,
       "_view_module": "@jupyter-widgets/base",
       "_view_module_version": "1.2.0",
       "_view_name": "LayoutView",
       "align_content": null,
       "align_items": null,
       "align_self": null,
       "border": null,
       "bottom": null,
       "display": null,
       "flex": null,
       "flex_flow": null,
       "grid_area": null,
       "grid_auto_columns": null,
       "grid_auto_flow": null,
       "grid_auto_rows": null,
       "grid_column": null,
       "grid_gap": null,
       "grid_row": null,
       "grid_template_areas": null,
       "grid_template_columns": null,
       "grid_template_rows": null,
       "height": null,
       "justify_content": null,
       "justify_items": null,
       "left": null,
       "margin": null,
       "max_height": null,
       "max_width": null,
       "min_height": null,
       "min_width": null,
       "object_fit": null,
       "object_position": null,
       "order": null,
       "overflow": null,
       "overflow_x": null,
       "overflow_y": null,
       "padding": null,
       "right": null,
       "top": null,
       "visibility": null,
       "width": "60%"
      }
     },
     "614f09db5bcb49ba9c9614ae27455201": {
      "model_module": "@jupyter-widgets/controls",
      "model_module_version": "1.5.0",
      "model_name": "HBoxModel",
      "state": {
       "_dom_classes": [],
       "_model_module": "@jupyter-widgets/controls",
       "_model_module_version": "1.5.0",
       "_model_name": "HBoxModel",
       "_view_count": null,
       "_view_module": "@jupyter-widgets/controls",
       "_view_module_version": "1.5.0",
       "_view_name": "HBoxView",
       "box_style": "",
       "children": [
        "IPY_MODEL_ef647dda35ed4a18a060c97e5ad0e5b6",
        "IPY_MODEL_1332662de47a40bcac0cb1f6723ea6a7",
        "IPY_MODEL_01effeaa58294b82868ddee347218831"
       ],
       "layout": "IPY_MODEL_0e729bbeb05047858cc67fe7a8350600"
      }
     },
     "64a0fd1132474dedaa063e603c7a7d3f": {
      "model_module": "@jupyter-widgets/base",
      "model_module_version": "1.2.0",
      "model_name": "LayoutModel",
      "state": {
       "_model_module": "@jupyter-widgets/base",
       "_model_module_version": "1.2.0",
       "_model_name": "LayoutModel",
       "_view_count": null,
       "_view_module": "@jupyter-widgets/base",
       "_view_module_version": "1.2.0",
       "_view_name": "LayoutView",
       "align_content": null,
       "align_items": null,
       "align_self": null,
       "border": null,
       "bottom": null,
       "display": null,
       "flex": null,
       "flex_flow": null,
       "grid_area": null,
       "grid_auto_columns": null,
       "grid_auto_flow": null,
       "grid_auto_rows": null,
       "grid_column": null,
       "grid_gap": null,
       "grid_row": null,
       "grid_template_areas": null,
       "grid_template_columns": null,
       "grid_template_rows": null,
       "height": null,
       "justify_content": null,
       "justify_items": null,
       "left": null,
       "margin": null,
       "max_height": null,
       "max_width": null,
       "min_height": null,
       "min_width": null,
       "object_fit": null,
       "object_position": null,
       "order": null,
       "overflow": null,
       "overflow_x": null,
       "overflow_y": null,
       "padding": null,
       "right": null,
       "top": null,
       "visibility": null,
       "width": "20px"
      }
     },
     "67d98cad46954dd998e4933cab9e7238": {
      "model_module": "@jupyter-widgets/controls",
      "model_module_version": "1.5.0",
      "model_name": "DescriptionStyleModel",
      "state": {
       "_model_module": "@jupyter-widgets/controls",
       "_model_module_version": "1.5.0",
       "_model_name": "DescriptionStyleModel",
       "_view_count": null,
       "_view_module": "@jupyter-widgets/base",
       "_view_module_version": "1.2.0",
       "_view_name": "StyleView",
       "description_width": ""
      }
     },
     "6e850611e4344457998001b41183a8ae": {
      "model_module": "@jupyter-widgets/base",
      "model_module_version": "1.2.0",
      "model_name": "LayoutModel",
      "state": {
       "_model_module": "@jupyter-widgets/base",
       "_model_module_version": "1.2.0",
       "_model_name": "LayoutModel",
       "_view_count": null,
       "_view_module": "@jupyter-widgets/base",
       "_view_module_version": "1.2.0",
       "_view_name": "LayoutView",
       "align_content": null,
       "align_items": null,
       "align_self": null,
       "border": null,
       "bottom": null,
       "display": null,
       "flex": null,
       "flex_flow": null,
       "grid_area": null,
       "grid_auto_columns": null,
       "grid_auto_flow": null,
       "grid_auto_rows": null,
       "grid_column": null,
       "grid_gap": null,
       "grid_row": null,
       "grid_template_areas": null,
       "grid_template_columns": null,
       "grid_template_rows": null,
       "height": null,
       "justify_content": null,
       "justify_items": null,
       "left": null,
       "margin": null,
       "max_height": null,
       "max_width": null,
       "min_height": null,
       "min_width": null,
       "object_fit": null,
       "object_position": null,
       "order": null,
       "overflow": null,
       "overflow_x": null,
       "overflow_y": null,
       "padding": null,
       "right": null,
       "top": null,
       "visibility": null,
       "width": "6%"
      }
     },
     "702c7c1f735b4aec94aacfbe328fdb90": {
      "model_module": "@jupyter-widgets/base",
      "model_module_version": "1.2.0",
      "model_name": "LayoutModel",
      "state": {
       "_model_module": "@jupyter-widgets/base",
       "_model_module_version": "1.2.0",
       "_model_name": "LayoutModel",
       "_view_count": null,
       "_view_module": "@jupyter-widgets/base",
       "_view_module_version": "1.2.0",
       "_view_name": "LayoutView",
       "align_content": null,
       "align_items": null,
       "align_self": null,
       "border": null,
       "bottom": null,
       "display": null,
       "flex": null,
       "flex_flow": null,
       "grid_area": null,
       "grid_auto_columns": null,
       "grid_auto_flow": null,
       "grid_auto_rows": null,
       "grid_column": null,
       "grid_gap": null,
       "grid_row": null,
       "grid_template_areas": null,
       "grid_template_columns": null,
       "grid_template_rows": null,
       "height": null,
       "justify_content": null,
       "justify_items": null,
       "left": null,
       "margin": null,
       "max_height": null,
       "max_width": null,
       "min_height": null,
       "min_width": null,
       "object_fit": null,
       "object_position": null,
       "order": null,
       "overflow": null,
       "overflow_x": null,
       "overflow_y": null,
       "padding": null,
       "right": null,
       "top": null,
       "visibility": null,
       "width": null
      }
     },
     "70b2c0183a114d33b4e945cf12c29ee8": {
      "model_module": "@jupyter-widgets/controls",
      "model_module_version": "1.5.0",
      "model_name": "DescriptionStyleModel",
      "state": {
       "_model_module": "@jupyter-widgets/controls",
       "_model_module_version": "1.5.0",
       "_model_name": "DescriptionStyleModel",
       "_view_count": null,
       "_view_module": "@jupyter-widgets/base",
       "_view_module_version": "1.2.0",
       "_view_name": "StyleView",
       "description_width": ""
      }
     },
     "78edfd9d6e8b4d7dbc966b9a1150c4f3": {
      "model_module": "@jupyter-widgets/base",
      "model_module_version": "1.2.0",
      "model_name": "LayoutModel",
      "state": {
       "_model_module": "@jupyter-widgets/base",
       "_model_module_version": "1.2.0",
       "_model_name": "LayoutModel",
       "_view_count": null,
       "_view_module": "@jupyter-widgets/base",
       "_view_module_version": "1.2.0",
       "_view_name": "LayoutView",
       "align_content": null,
       "align_items": null,
       "align_self": null,
       "border": null,
       "bottom": null,
       "display": null,
       "flex": null,
       "flex_flow": null,
       "grid_area": null,
       "grid_auto_columns": null,
       "grid_auto_flow": null,
       "grid_auto_rows": null,
       "grid_column": null,
       "grid_gap": null,
       "grid_row": null,
       "grid_template_areas": null,
       "grid_template_columns": null,
       "grid_template_rows": null,
       "height": null,
       "justify_content": null,
       "justify_items": null,
       "left": null,
       "margin": null,
       "max_height": null,
       "max_width": null,
       "min_height": null,
       "min_width": null,
       "object_fit": null,
       "object_position": null,
       "order": null,
       "overflow": null,
       "overflow_x": null,
       "overflow_y": null,
       "padding": null,
       "right": null,
       "top": null,
       "visibility": null,
       "width": null
      }
     },
     "7a67c0a456e24fe99f11fdf441475323": {
      "model_module": "@jupyter-widgets/controls",
      "model_module_version": "1.5.0",
      "model_name": "ProgressStyleModel",
      "state": {
       "_model_module": "@jupyter-widgets/controls",
       "_model_module_version": "1.5.0",
       "_model_name": "ProgressStyleModel",
       "_view_count": null,
       "_view_module": "@jupyter-widgets/base",
       "_view_module_version": "1.2.0",
       "_view_name": "StyleView",
       "bar_color": null,
       "description_width": ""
      }
     },
     "7b715f6490464a56a153166000823320": {
      "model_module": "@jupyter-widgets/controls",
      "model_module_version": "1.5.0",
      "model_name": "HTMLModel",
      "state": {
       "_dom_classes": [],
       "_model_module": "@jupyter-widgets/controls",
       "_model_module_version": "1.5.0",
       "_model_name": "HTMLModel",
       "_view_count": null,
       "_view_module": "@jupyter-widgets/controls",
       "_view_module_version": "1.5.0",
       "_view_name": "HTMLView",
       "description": "",
       "description_tooltip": null,
       "layout": "IPY_MODEL_6e850611e4344457998001b41183a8ae",
       "placeholder": "​",
       "style": "IPY_MODEL_a96067afd7dd4ae58ef46145599cf3d1",
       "value": "Packets:   "
      }
     },
     "862d15bf633d4517ad726410b17dcace": {
      "model_module": "@jupyter-widgets/controls",
      "model_module_version": "1.5.0",
      "model_name": "ProgressStyleModel",
      "state": {
       "_model_module": "@jupyter-widgets/controls",
       "_model_module_version": "1.5.0",
       "_model_name": "ProgressStyleModel",
       "_view_count": null,
       "_view_module": "@jupyter-widgets/base",
       "_view_module_version": "1.2.0",
       "_view_name": "StyleView",
       "bar_color": null,
       "description_width": ""
      }
     },
     "877434ce93444651b26d0ed169967c5d": {
      "model_module": "@jupyter-widgets/base",
      "model_module_version": "1.2.0",
      "model_name": "LayoutModel",
      "state": {
       "_model_module": "@jupyter-widgets/base",
       "_model_module_version": "1.2.0",
       "_model_name": "LayoutModel",
       "_view_count": null,
       "_view_module": "@jupyter-widgets/base",
       "_view_module_version": "1.2.0",
       "_view_name": "LayoutView",
       "align_content": null,
       "align_items": null,
       "align_self": null,
       "border": null,
       "bottom": null,
       "display": null,
       "flex": null,
       "flex_flow": null,
       "grid_area": null,
       "grid_auto_columns": null,
       "grid_auto_flow": null,
       "grid_auto_rows": null,
       "grid_column": null,
       "grid_gap": null,
       "grid_row": null,
       "grid_template_areas": null,
       "grid_template_columns": null,
       "grid_template_rows": null,
       "height": null,
       "justify_content": null,
       "justify_items": null,
       "left": null,
       "margin": null,
       "max_height": null,
       "max_width": null,
       "min_height": null,
       "min_width": null,
       "object_fit": null,
       "object_position": null,
       "order": null,
       "overflow": null,
       "overflow_x": null,
       "overflow_y": null,
       "padding": null,
       "right": null,
       "top": null,
       "visibility": null,
       "width": null
      }
     },
     "8c048934864d4335a770c349e091677a": {
      "model_module": "@jupyter-widgets/controls",
      "model_module_version": "1.5.0",
      "model_name": "HBoxModel",
      "state": {
       "_dom_classes": [],
       "_model_module": "@jupyter-widgets/controls",
       "_model_module_version": "1.5.0",
       "_model_name": "HBoxModel",
       "_view_count": null,
       "_view_module": "@jupyter-widgets/controls",
       "_view_module_version": "1.5.0",
       "_view_name": "HBoxView",
       "box_style": "",
       "children": [
        "IPY_MODEL_fa7ebf98199d42b6b9b5b39dd2c0436a",
        "IPY_MODEL_acdf832d77574b10854e88ebb6ef0ddc",
        "IPY_MODEL_a0b03aef80ed4507b907714f6a4b91c2"
       ],
       "layout": "IPY_MODEL_cc0b71a28c9e41eb89020aec4892c9ba"
      }
     },
     "9116e57f7b9d4c4f8f0ea4dfea9f88ce": {
      "model_module": "@jupyter-widgets/controls",
      "model_module_version": "1.5.0",
      "model_name": "ProgressStyleModel",
      "state": {
       "_model_module": "@jupyter-widgets/controls",
       "_model_module_version": "1.5.0",
       "_model_name": "ProgressStyleModel",
       "_view_count": null,
       "_view_module": "@jupyter-widgets/base",
       "_view_module_version": "1.2.0",
       "_view_name": "StyleView",
       "bar_color": null,
       "description_width": ""
      }
     },
     "952b9fbf03a448e6b82323f236dda775": {
      "model_module": "@jupyter-widgets/base",
      "model_module_version": "1.2.0",
      "model_name": "LayoutModel",
      "state": {
       "_model_module": "@jupyter-widgets/base",
       "_model_module_version": "1.2.0",
       "_model_name": "LayoutModel",
       "_view_count": null,
       "_view_module": "@jupyter-widgets/base",
       "_view_module_version": "1.2.0",
       "_view_name": "LayoutView",
       "align_content": null,
       "align_items": null,
       "align_self": null,
       "border": null,
       "bottom": null,
       "display": null,
       "flex": null,
       "flex_flow": null,
       "grid_area": null,
       "grid_auto_columns": null,
       "grid_auto_flow": null,
       "grid_auto_rows": null,
       "grid_column": null,
       "grid_gap": null,
       "grid_row": null,
       "grid_template_areas": null,
       "grid_template_columns": null,
       "grid_template_rows": null,
       "height": null,
       "justify_content": null,
       "justify_items": null,
       "left": null,
       "margin": null,
       "max_height": null,
       "max_width": null,
       "min_height": null,
       "min_width": null,
       "object_fit": null,
       "object_position": null,
       "order": null,
       "overflow": null,
       "overflow_x": null,
       "overflow_y": null,
       "padding": null,
       "right": null,
       "top": null,
       "visibility": null,
       "width": null
      }
     },
     "98d0ea5859be4c9a89a39971b1ded4cc": {
      "model_module": "@jupyter-widgets/controls",
      "model_module_version": "1.5.0",
      "model_name": "DescriptionStyleModel",
      "state": {
       "_model_module": "@jupyter-widgets/controls",
       "_model_module_version": "1.5.0",
       "_model_name": "DescriptionStyleModel",
       "_view_count": null,
       "_view_module": "@jupyter-widgets/base",
       "_view_module_version": "1.2.0",
       "_view_name": "StyleView",
       "description_width": ""
      }
     },
     "9d449df547e14f76b5788b91121d7491": {
      "model_module": "@jupyter-widgets/output",
      "model_module_version": "1.0.0",
      "model_name": "OutputModel",
      "state": {
       "_dom_classes": [],
       "_model_module": "@jupyter-widgets/output",
       "_model_module_version": "1.0.0",
       "_model_name": "OutputModel",
       "_view_count": null,
       "_view_module": "@jupyter-widgets/output",
       "_view_module_version": "1.0.0",
       "_view_name": "OutputView",
       "layout": "IPY_MODEL_952b9fbf03a448e6b82323f236dda775",
       "msg_id": "",
       "outputs": []
      }
     },
     "a0b03aef80ed4507b907714f6a4b91c2": {
      "model_module": "@jupyter-widgets/controls",
      "model_module_version": "1.5.0",
      "model_name": "HTMLModel",
      "state": {
       "_dom_classes": [],
       "_model_module": "@jupyter-widgets/controls",
       "_model_module_version": "1.5.0",
       "_model_name": "HTMLModel",
       "_view_count": null,
       "_view_module": "@jupyter-widgets/controls",
       "_view_module_version": "1.5.0",
       "_view_name": "HTMLView",
       "description": "",
       "description_tooltip": null,
       "layout": "IPY_MODEL_d1aee99717aa493488b5f248ad23346b",
       "placeholder": "​",
       "style": "IPY_MODEL_70b2c0183a114d33b4e945cf12c29ee8",
       "value": "20/20 [00:26&lt;00:00,  3.64s/it]"
      }
     },
     "a3a117b02fc342af8e3a7f8e640ded8d": {
      "model_module": "@jupyter-widgets/base",
      "model_module_version": "1.2.0",
      "model_name": "LayoutModel",
      "state": {
       "_model_module": "@jupyter-widgets/base",
       "_model_module_version": "1.2.0",
       "_model_name": "LayoutModel",
       "_view_count": null,
       "_view_module": "@jupyter-widgets/base",
       "_view_module_version": "1.2.0",
       "_view_name": "LayoutView",
       "align_content": null,
       "align_items": null,
       "align_self": null,
       "border": null,
       "bottom": null,
       "display": null,
       "flex": null,
       "flex_flow": null,
       "grid_area": null,
       "grid_auto_columns": null,
       "grid_auto_flow": null,
       "grid_auto_rows": null,
       "grid_column": null,
       "grid_gap": null,
       "grid_row": null,
       "grid_template_areas": null,
       "grid_template_columns": null,
       "grid_template_rows": null,
       "height": null,
       "justify_content": null,
       "justify_items": null,
       "left": null,
       "margin": null,
       "max_height": null,
       "max_width": null,
       "min_height": null,
       "min_width": null,
       "object_fit": null,
       "object_position": null,
       "order": null,
       "overflow": null,
       "overflow_x": null,
       "overflow_y": null,
       "padding": null,
       "right": null,
       "top": null,
       "visibility": null,
       "width": "20px"
      }
     },
     "a7c4245d9a704655b807cc7ba34dc498": {
      "model_module": "@jupyter-widgets/base",
      "model_module_version": "1.2.0",
      "model_name": "LayoutModel",
      "state": {
       "_model_module": "@jupyter-widgets/base",
       "_model_module_version": "1.2.0",
       "_model_name": "LayoutModel",
       "_view_count": null,
       "_view_module": "@jupyter-widgets/base",
       "_view_module_version": "1.2.0",
       "_view_name": "LayoutView",
       "align_content": null,
       "align_items": null,
       "align_self": null,
       "border": null,
       "bottom": null,
       "display": null,
       "flex": null,
       "flex_flow": null,
       "grid_area": null,
       "grid_auto_columns": null,
       "grid_auto_flow": null,
       "grid_auto_rows": null,
       "grid_column": null,
       "grid_gap": null,
       "grid_row": null,
       "grid_template_areas": null,
       "grid_template_columns": null,
       "grid_template_rows": null,
       "height": null,
       "justify_content": null,
       "justify_items": null,
       "left": null,
       "margin": null,
       "max_height": null,
       "max_width": null,
       "min_height": null,
       "min_width": null,
       "object_fit": null,
       "object_position": null,
       "order": null,
       "overflow": null,
       "overflow_x": null,
       "overflow_y": null,
       "padding": null,
       "right": null,
       "top": null,
       "visibility": null,
       "width": null
      }
     },
     "a96067afd7dd4ae58ef46145599cf3d1": {
      "model_module": "@jupyter-widgets/controls",
      "model_module_version": "1.5.0",
      "model_name": "DescriptionStyleModel",
      "state": {
       "_model_module": "@jupyter-widgets/controls",
       "_model_module_version": "1.5.0",
       "_model_name": "DescriptionStyleModel",
       "_view_count": null,
       "_view_module": "@jupyter-widgets/base",
       "_view_module_version": "1.2.0",
       "_view_name": "StyleView",
       "description_width": ""
      }
     },
     "acdf832d77574b10854e88ebb6ef0ddc": {
      "model_module": "@jupyter-widgets/controls",
      "model_module_version": "1.5.0",
      "model_name": "FloatProgressModel",
      "state": {
       "_dom_classes": [],
       "_model_module": "@jupyter-widgets/controls",
       "_model_module_version": "1.5.0",
       "_model_name": "FloatProgressModel",
       "_view_count": null,
       "_view_module": "@jupyter-widgets/controls",
       "_view_module_version": "1.5.0",
       "_view_name": "ProgressView",
       "bar_style": "",
       "description": "",
       "description_tooltip": null,
       "layout": "IPY_MODEL_379caa41028a409db81a2a4658cab188",
       "max": 20.0,
       "min": 0.0,
       "orientation": "horizontal",
       "style": "IPY_MODEL_bb617d488f53488d9e5a5e0b9c8f6973",
       "value": 20.0
      }
     },
     "acfbb4363c8d4083a4a3aae7691c7744": {
      "model_module": "@jupyter-widgets/controls",
      "model_module_version": "1.5.0",
      "model_name": "DescriptionStyleModel",
      "state": {
       "_model_module": "@jupyter-widgets/controls",
       "_model_module_version": "1.5.0",
       "_model_name": "DescriptionStyleModel",
       "_view_count": null,
       "_view_module": "@jupyter-widgets/base",
       "_view_module_version": "1.2.0",
       "_view_name": "StyleView",
       "description_width": ""
      }
     },
     "b4126e03ad2947f8ae3c6d520a4db90f": {
      "model_module": "@jupyter-widgets/base",
      "model_module_version": "1.2.0",
      "model_name": "LayoutModel",
      "state": {
       "_model_module": "@jupyter-widgets/base",
       "_model_module_version": "1.2.0",
       "_model_name": "LayoutModel",
       "_view_count": null,
       "_view_module": "@jupyter-widgets/base",
       "_view_module_version": "1.2.0",
       "_view_name": "LayoutView",
       "align_content": null,
       "align_items": null,
       "align_self": null,
       "border": null,
       "bottom": null,
       "display": null,
       "flex": null,
       "flex_flow": null,
       "grid_area": null,
       "grid_auto_columns": null,
       "grid_auto_flow": null,
       "grid_auto_rows": null,
       "grid_column": null,
       "grid_gap": null,
       "grid_row": null,
       "grid_template_areas": null,
       "grid_template_columns": null,
       "grid_template_rows": null,
       "height": null,
       "justify_content": null,
       "justify_items": null,
       "left": null,
       "margin": null,
       "max_height": null,
       "max_width": null,
       "min_height": null,
       "min_width": null,
       "object_fit": null,
       "object_position": null,
       "order": null,
       "overflow": null,
       "overflow_x": null,
       "overflow_y": null,
       "padding": null,
       "right": null,
       "top": null,
       "visibility": null,
       "width": null
      }
     },
     "b42fd9835c88433a9de78a35ee3a744f": {
      "model_module": "@jupyter-widgets/controls",
      "model_module_version": "1.5.0",
      "model_name": "DescriptionStyleModel",
      "state": {
       "_model_module": "@jupyter-widgets/controls",
       "_model_module_version": "1.5.0",
       "_model_name": "DescriptionStyleModel",
       "_view_count": null,
       "_view_module": "@jupyter-widgets/base",
       "_view_module_version": "1.2.0",
       "_view_name": "StyleView",
       "description_width": ""
      }
     },
     "bb617d488f53488d9e5a5e0b9c8f6973": {
      "model_module": "@jupyter-widgets/controls",
      "model_module_version": "1.5.0",
      "model_name": "ProgressStyleModel",
      "state": {
       "_model_module": "@jupyter-widgets/controls",
       "_model_module_version": "1.5.0",
       "_model_name": "ProgressStyleModel",
       "_view_count": null,
       "_view_module": "@jupyter-widgets/base",
       "_view_module_version": "1.2.0",
       "_view_name": "StyleView",
       "bar_color": null,
       "description_width": ""
      }
     },
     "c3ff694ac4eb463286a7766ab44b05f8": {
      "model_module": "@jupyter-widgets/controls",
      "model_module_version": "1.5.0",
      "model_name": "HBoxModel",
      "state": {
       "_dom_classes": [],
       "_model_module": "@jupyter-widgets/controls",
       "_model_module_version": "1.5.0",
       "_model_name": "HBoxModel",
       "_view_count": null,
       "_view_module": "@jupyter-widgets/controls",
       "_view_module_version": "1.5.0",
       "_view_name": "HBoxView",
       "box_style": "",
       "children": [
        "IPY_MODEL_7b715f6490464a56a153166000823320",
        "IPY_MODEL_d4890f6129c841fe85a499b98485f6be",
        "IPY_MODEL_f05df4fbbbee4c3980c53e912e6bf756"
       ],
       "layout": "IPY_MODEL_78edfd9d6e8b4d7dbc966b9a1150c4f3"
      }
     },
     "c8f83f3fa0864c16b65cabe5d243833f": {
      "model_module": "@jupyter-widgets/base",
      "model_module_version": "1.2.0",
      "model_name": "LayoutModel",
      "state": {
       "_model_module": "@jupyter-widgets/base",
       "_model_module_version": "1.2.0",
       "_model_name": "LayoutModel",
       "_view_count": null,
       "_view_module": "@jupyter-widgets/base",
       "_view_module_version": "1.2.0",
       "_view_name": "LayoutView",
       "align_content": null,
       "align_items": null,
       "align_self": null,
       "border": null,
       "bottom": null,
       "display": null,
       "flex": null,
       "flex_flow": null,
       "grid_area": null,
       "grid_auto_columns": null,
       "grid_auto_flow": null,
       "grid_auto_rows": null,
       "grid_column": null,
       "grid_gap": null,
       "grid_row": null,
       "grid_template_areas": null,
       "grid_template_columns": null,
       "grid_template_rows": null,
       "height": null,
       "justify_content": null,
       "justify_items": null,
       "left": null,
       "margin": null,
       "max_height": null,
       "max_width": null,
       "min_height": null,
       "min_width": null,
       "object_fit": null,
       "object_position": null,
       "order": null,
       "overflow": null,
       "overflow_x": null,
       "overflow_y": null,
       "padding": null,
       "right": null,
       "top": null,
       "visibility": null,
       "width": null
      }
     },
     "cc0b71a28c9e41eb89020aec4892c9ba": {
      "model_module": "@jupyter-widgets/base",
      "model_module_version": "1.2.0",
      "model_name": "LayoutModel",
      "state": {
       "_model_module": "@jupyter-widgets/base",
       "_model_module_version": "1.2.0",
       "_model_name": "LayoutModel",
       "_view_count": null,
       "_view_module": "@jupyter-widgets/base",
       "_view_module_version": "1.2.0",
       "_view_name": "LayoutView",
       "align_content": null,
       "align_items": null,
       "align_self": null,
       "border": null,
       "bottom": null,
       "display": null,
       "flex": null,
       "flex_flow": null,
       "grid_area": null,
       "grid_auto_columns": null,
       "grid_auto_flow": null,
       "grid_auto_rows": null,
       "grid_column": null,
       "grid_gap": null,
       "grid_row": null,
       "grid_template_areas": null,
       "grid_template_columns": null,
       "grid_template_rows": null,
       "height": null,
       "justify_content": null,
       "justify_items": null,
       "left": null,
       "margin": null,
       "max_height": null,
       "max_width": null,
       "min_height": null,
       "min_width": null,
       "object_fit": null,
       "object_position": null,
       "order": null,
       "overflow": null,
       "overflow_x": null,
       "overflow_y": null,
       "padding": null,
       "right": null,
       "top": null,
       "visibility": null,
       "width": null
      }
     },
     "cee0ec03de144b90b23ae53904963914": {
      "model_module": "@jupyter-widgets/controls",
      "model_module_version": "1.5.0",
      "model_name": "HTMLModel",
      "state": {
       "_dom_classes": [],
       "_model_module": "@jupyter-widgets/controls",
       "_model_module_version": "1.5.0",
       "_model_name": "HTMLModel",
       "_view_count": null,
       "_view_module": "@jupyter-widgets/controls",
       "_view_module_version": "1.5.0",
       "_view_name": "HTMLView",
       "description": "",
       "description_tooltip": null,
       "layout": "IPY_MODEL_4baf013b5fea487ea6cd060ab51e6bf4",
       "placeholder": "​",
       "style": "IPY_MODEL_acfbb4363c8d4083a4a3aae7691c7744",
       "value": "0/? [00:00&lt;?, ?it/s]"
      }
     },
     "d1aee99717aa493488b5f248ad23346b": {
      "model_module": "@jupyter-widgets/base",
      "model_module_version": "1.2.0",
      "model_name": "LayoutModel",
      "state": {
       "_model_module": "@jupyter-widgets/base",
       "_model_module_version": "1.2.0",
       "_model_name": "LayoutModel",
       "_view_count": null,
       "_view_module": "@jupyter-widgets/base",
       "_view_module_version": "1.2.0",
       "_view_name": "LayoutView",
       "align_content": null,
       "align_items": null,
       "align_self": null,
       "border": null,
       "bottom": null,
       "display": null,
       "flex": null,
       "flex_flow": null,
       "grid_area": null,
       "grid_auto_columns": null,
       "grid_auto_flow": null,
       "grid_auto_rows": null,
       "grid_column": null,
       "grid_gap": null,
       "grid_row": null,
       "grid_template_areas": null,
       "grid_template_columns": null,
       "grid_template_rows": null,
       "height": null,
       "justify_content": null,
       "justify_items": null,
       "left": null,
       "margin": null,
       "max_height": null,
       "max_width": null,
       "min_height": null,
       "min_width": null,
       "object_fit": null,
       "object_position": null,
       "order": null,
       "overflow": null,
       "overflow_x": null,
       "overflow_y": null,
       "padding": null,
       "right": null,
       "top": null,
       "visibility": null,
       "width": null
      }
     },
     "d4890f6129c841fe85a499b98485f6be": {
      "model_module": "@jupyter-widgets/controls",
      "model_module_version": "1.5.0",
      "model_name": "FloatProgressModel",
      "state": {
       "_dom_classes": [],
       "_model_module": "@jupyter-widgets/controls",
       "_model_module_version": "1.5.0",
       "_model_name": "FloatProgressModel",
       "_view_count": null,
       "_view_module": "@jupyter-widgets/controls",
       "_view_module_version": "1.5.0",
       "_view_name": "ProgressView",
       "bar_style": "",
       "description": "",
       "description_tooltip": null,
       "layout": "IPY_MODEL_58a443d791cb43d697f36fc01800026e",
       "max": 100000.0,
       "min": 0.0,
       "orientation": "horizontal",
       "style": "IPY_MODEL_862d15bf633d4517ad726410b17dcace",
       "value": 100000.0
      }
     },
     "db4eba24dbb74e52b8edaabf2ed16c94": {
      "model_module": "@jupyter-widgets/controls",
      "model_module_version": "1.5.0",
      "model_name": "HTMLModel",
      "state": {
       "_dom_classes": [],
       "_model_module": "@jupyter-widgets/controls",
       "_model_module_version": "1.5.0",
       "_model_name": "HTMLModel",
       "_view_count": null,
       "_view_module": "@jupyter-widgets/controls",
       "_view_module_version": "1.5.0",
       "_view_name": "HTMLView",
       "description": "",
       "description_tooltip": null,
       "layout": "IPY_MODEL_c8f83f3fa0864c16b65cabe5d243833f",
       "placeholder": "​",
       "style": "IPY_MODEL_e1b9e53a2d254f7fac5a28fea82ef3bd",
       "value": "Packets:   "
      }
     },
     "e1b9e53a2d254f7fac5a28fea82ef3bd": {
      "model_module": "@jupyter-widgets/controls",
      "model_module_version": "1.5.0",
      "model_name": "DescriptionStyleModel",
      "state": {
       "_model_module": "@jupyter-widgets/controls",
       "_model_module_version": "1.5.0",
       "_model_name": "DescriptionStyleModel",
       "_view_count": null,
       "_view_module": "@jupyter-widgets/base",
       "_view_module_version": "1.2.0",
       "_view_name": "StyleView",
       "description_width": ""
      }
     },
     "ed5ac024551b4226b9ac96fdd47c94c7": {
      "model_module": "@jupyter-widgets/base",
      "model_module_version": "1.2.0",
      "model_name": "LayoutModel",
      "state": {
       "_model_module": "@jupyter-widgets/base",
       "_model_module_version": "1.2.0",
       "_model_name": "LayoutModel",
       "_view_count": null,
       "_view_module": "@jupyter-widgets/base",
       "_view_module_version": "1.2.0",
       "_view_name": "LayoutView",
       "align_content": null,
       "align_items": null,
       "align_self": null,
       "border": null,
       "bottom": null,
       "display": null,
       "flex": null,
       "flex_flow": null,
       "grid_area": null,
       "grid_auto_columns": null,
       "grid_auto_flow": null,
       "grid_auto_rows": null,
       "grid_column": null,
       "grid_gap": null,
       "grid_row": null,
       "grid_template_areas": null,
       "grid_template_columns": null,
       "grid_template_rows": null,
       "height": null,
       "justify_content": null,
       "justify_items": null,
       "left": null,
       "margin": null,
       "max_height": null,
       "max_width": null,
       "min_height": null,
       "min_width": null,
       "object_fit": null,
       "object_position": null,
       "order": null,
       "overflow": null,
       "overflow_x": null,
       "overflow_y": null,
       "padding": null,
       "right": null,
       "top": null,
       "visibility": null,
       "width": null
      }
     },
     "ef647dda35ed4a18a060c97e5ad0e5b6": {
      "model_module": "@jupyter-widgets/controls",
      "model_module_version": "1.5.0",
      "model_name": "HTMLModel",
      "state": {
       "_dom_classes": [],
       "_model_module": "@jupyter-widgets/controls",
       "_model_module_version": "1.5.0",
       "_model_name": "HTMLModel",
       "_view_count": null,
       "_view_module": "@jupyter-widgets/controls",
       "_view_module_version": "1.5.0",
       "_view_name": "HTMLView",
       "description": "",
       "description_tooltip": null,
       "layout": "IPY_MODEL_877434ce93444651b26d0ed169967c5d",
       "placeholder": "​",
       "style": "IPY_MODEL_98d0ea5859be4c9a89a39971b1ded4cc",
       "value": "Iterations:"
      }
     },
     "f05df4fbbbee4c3980c53e912e6bf756": {
      "model_module": "@jupyter-widgets/controls",
      "model_module_version": "1.5.0",
      "model_name": "HTMLModel",
      "state": {
       "_dom_classes": [],
       "_model_module": "@jupyter-widgets/controls",
       "_model_module_version": "1.5.0",
       "_model_name": "HTMLModel",
       "_view_count": null,
       "_view_module": "@jupyter-widgets/controls",
       "_view_module_version": "1.5.0",
       "_view_name": "HTMLView",
       "description": "",
       "description_tooltip": null,
       "layout": "IPY_MODEL_b4126e03ad2947f8ae3c6d520a4db90f",
       "placeholder": "​",
       "style": "IPY_MODEL_35e3da19e00844c3adb433c1cb852eca",
       "value": "100000/100000 [00:09&lt;00:00, 10921.10it/s]"
      }
     },
     "fa7ebf98199d42b6b9b5b39dd2c0436a": {
      "model_module": "@jupyter-widgets/controls",
      "model_module_version": "1.5.0",
      "model_name": "HTMLModel",
      "state": {
       "_dom_classes": [],
       "_model_module": "@jupyter-widgets/controls",
       "_model_module_version": "1.5.0",
       "_model_name": "HTMLModel",
       "_view_count": null,
       "_view_module": "@jupyter-widgets/controls",
       "_view_module_version": "1.5.0",
       "_view_name": "HTMLView",
       "description": "",
       "description_tooltip": null,
       "layout": "IPY_MODEL_4493ddcfab4847b3812b440ca1d516b0",
       "placeholder": "​",
       "style": "IPY_MODEL_67d98cad46954dd998e4933cab9e7238",
       "value": "Iterations:"
      }
     }
    },
    "version_major": 2,
    "version_minor": 0
   }
  }
 },
 "nbformat": 4,
 "nbformat_minor": 1
}
